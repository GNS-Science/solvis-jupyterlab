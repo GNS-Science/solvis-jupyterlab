{
 "cells": [
  {
   "cell_type": "code",
   "execution_count": 147,
   "id": "da14d7f4-4537-4c32-a363-0e98b1986b2f",
   "metadata": {},
   "outputs": [
    {
     "name": "stdout",
     "output_type": "stream",
     "text": [
      "The autoreload extension is already loaded. To reload it, use:\n",
      "  %reload_ext autoreload\n",
      "env: ANYWIDGET_HMR=1\n"
     ]
    }
   ],
   "source": [
    "%load_ext autoreload\n",
    "%autoreload 2\n",
    "%env ANYWIDGET_HMR=1"
   ]
  },
  {
   "cell_type": "code",
   "execution_count": 155,
   "id": "b5a39acf-5944-4d8e-89e6-bea3b057d307",
   "metadata": {},
   "outputs": [],
   "source": [
    "import json\n",
    "from IPython.display import GeoJSON\n",
    "from solvis_graphql_api.color_scale import ColourScaleNormaliseEnum, get_colour_values, get_colour_scale"
   ]
  },
  {
   "cell_type": "code",
   "execution_count": 149,
   "id": "832e9f7a-b784-4176-847c-d4205b4b2233",
   "metadata": {},
   "outputs": [],
   "source": [
    "from map_3d_widget import show_3d"
   ]
  },
  {
   "cell_type": "code",
   "execution_count": 184,
   "id": "0aa81751-bdc9-40ad-9e4d-368108180e37",
   "metadata": {},
   "outputs": [],
   "source": [
    "#with open('bruceNewCrustal.geojson') as json_file:\n",
    "#    bruce_crustal = json.load(json_file)\n",
    "#    json_file.close()\n",
    "\n",
    "#with open('puysegur_polys.geojson') as json_file:\n",
    "#    opensha_puysegur = json.load(json_file)\n",
    "#    json_file.close()\n",
    "\n",
    "#with open('hikurangi_polys.geojson') as json_file:\n",
    "#    opensha_hikurangi = json.load(json_file)\n",
    "#    json_file.close()\n",
    "\n",
    "#with open('bruceNewPuysegur.geojson') as json_file:\n",
    "#    bruce_puysegur = json.load(json_file)\n",
    "#    json_file.close()\n",
    "\n",
    "#with open('bruceNewHikurangi.geojson') as json_file:\n",
    "#    bruce_hikurangi = json.load(json_file)\n",
    "#    json_file.close()\n",
    "\n",
    "with open('bruce5883participation.geojson') as json_file:\n",
    "    participation = json.load(json_file)\n",
    "    json_file.close()\n",
    "\n",
    "with open('bruce5883participationCrustal.geojson') as json_file:\n",
    "    participationCrustal = json.load(json_file)\n",
    "    json_file.close()\n",
    "\n",
    "with open('BruceRuptures5883.json') as json_file:\n",
    "    ruptures = json.load(json_file)\n",
    "    json_file.close()\n",
    "\n",
    "with open('BruceRupturesOnly5883.json') as json_file:\n",
    "    ruptures_only = json.load(json_file)\n",
    "    json_file.close()\n",
    "\n"
   ]
  },
  {
   "cell_type": "code",
   "execution_count": 195,
   "id": "3715471b-d8b2-4099-8479-9c4bd5b35f88",
   "metadata": {},
   "outputs": [],
   "source": [
    "def barchart_map(gj, property, height = 500000.0, color_scale = \"inferno\"):\n",
    "    values = [feature[\"properties\"][property] for feature in gj[\"features\"]]\n",
    "    color_values = get_colour_values(\n",
    "                    color_scale=color_scale,\n",
    "                    color_scale_vmax=max(values),\n",
    "                    color_scale_vmin=max(min(values), 1e-20),\n",
    "                    color_scale_normalise= ColourScaleNormaliseEnum.LIN.value,\n",
    "                    values=tuple(values),\n",
    "                )\n",
    "    for idx, feature in enumerate(gj[\"features\"]):\n",
    "        try:\n",
    "            color = color_values[idx]\n",
    "        except (ValueError):\n",
    "            print(f\"warning no rate found for index: {feature['properties']['FaultID']} faultname: `{feature['properties']['FaultName']}`\")\n",
    "            color = 'cyan'\n",
    "        feature[\"properties\"][\"style\"] = {\n",
    "            \"color\": color,\n",
    "            \"weight\": 1,\n",
    "            \"fillColor\": color,\n",
    "            \"fillOpacity\": 1,\n",
    "        }\n",
    "    scale = height / max(values)\n",
    "    return show_3d(gj, -1, scale)"
   ]
  },
  {
   "cell_type": "code",
   "execution_count": 196,
   "id": "deabe823-a977-4e19-89d7-0d6426ff119d",
   "metadata": {},
   "outputs": [
    {
     "data": {
      "application/vnd.jupyter.widget-view+json": {
       "model_id": "b9918a8538384d0a861882b26bf9cdf4",
       "version_major": 2,
       "version_minor": 1
      },
      "text/plain": [
       "Map3DWidget(data=[{'type': 'FeatureCollection', 'features': [{'type': 'Feature', 'properties': {'FaultID': 0, …"
      ]
     },
     "execution_count": 196,
     "metadata": {},
     "output_type": "execute_result"
    }
   ],
   "source": [
    "barchart_map(participation, \"participation\")"
   ]
  },
  {
   "cell_type": "code",
   "execution_count": 197,
   "id": "59503198-dd58-4bfa-8df1-c115617dd167",
   "metadata": {},
   "outputs": [
    {
     "data": {
      "application/vnd.jupyter.widget-view+json": {
       "model_id": "152076bcd714496fa56f99c7e673d5ed",
       "version_major": 2,
       "version_minor": 1
      },
      "text/plain": [
       "Map3DWidget(data=[{'type': 'FeatureCollection', 'features': [{'type': 'Feature', 'properties': {'FaultID': 6, …"
      ]
     },
     "execution_count": 197,
     "metadata": {},
     "output_type": "execute_result"
    }
   ],
   "source": [
    "barchart_map(participationCrustal, \"participation\")"
   ]
  },
  {
   "cell_type": "code",
   "execution_count": 77,
   "id": "755f79ee-05e0-4931-856e-fc4fd8c319a7",
   "metadata": {},
   "outputs": [],
   "source": [
    "#show_3d(ruptures_only)"
   ]
  },
  {
   "cell_type": "code",
   "execution_count": 42,
   "id": "7079f041-a706-4d2c-80cd-113a74d24ef0",
   "metadata": {},
   "outputs": [],
   "source": [
    "def falls_in(gj, lat_min, lat_max, lon_min, lon_max):\n",
    "    p = gj['features'][0]['geometry']['coordinates'][0][0]\n",
    "    lon = p[0]\n",
    "    lat = p[1]\n",
    "    return lat <= lat_max and lat >= lat_min and lon <= lon_max and lon >= lon_min\n",
    "\n",
    "def cc_in (cc, lat_min, lat_max, lon_min, lon_max):\n",
    "    lon = cc[0]\n",
    "    lat = cc[1]\n",
    "    return lon >= lon_min and lon <= lon_max and lat >= lat_min and lat <= lat_max\n",
    "\n",
    "def feature_in(feature, lat_min, lat_max, lon_min, lon_max):\n",
    "    geometry = feature['geometry']\n",
    "    if geometry['type'] == 'Polygon':\n",
    "        return all([cc_in(c, lat_min, lat_max, lon_min, lon_max) for c in geometry['coordinates'][0]]) \n",
    "    else:\n",
    "        return False\n",
    "\n",
    "def filter_gj(gj, lat_min, lat_max, lon_min, lon_max):\n",
    "    return {'type':'FeatureCollection', 'features': [f for f in gj['features'] if feature_in(f, lat_min, lat_max, lon_min, lon_max)]}\n",
    "\n",
    "def filter_list_of_gj(gjs, lat_min, lat_max, lon_min, lon_max):\n",
    "    return [g for g in [filter_gj(gj, lat_min, lat_max, lon_min, lon_max) for gj in gjs] if len(g['features']) > 0]\n",
    "\n",
    "\n",
    "\n",
    "    "
   ]
  },
  {
   "cell_type": "code",
   "execution_count": 33,
   "id": "37b5f054-603c-475c-937c-9ab66ddfe8d1",
   "metadata": {},
   "outputs": [],
   "source": [
    "#show_3d( bruceData[800:1300] + [bruce_hikurangi], -1)\n",
    "#show_3d(bruce_puysegur,-1)"
   ]
  },
  {
   "cell_type": "code",
   "execution_count": 38,
   "id": "aadfc01e-2de4-47f6-bab3-86dd8edaa521",
   "metadata": {},
   "outputs": [],
   "source": [
    "#features = [f for f in bruce_crustal if falls_in(f, -90, -43, 0, 170)]\n",
    "#features = [f for f in features if f['features'][0]['geometry']['coordinates'][0][0][0] < 170]\n",
    "#show_3d(features, -1)"
   ]
  },
  {
   "cell_type": "code",
   "execution_count": 9,
   "id": "88c46c1b-712f-4050-aabd-13835868c54c",
   "metadata": {},
   "outputs": [],
   "source": [
    "hikurangi =filter_gj(bruce_hikurangi,  -90, -36, 0, 180)"
   ]
  },
  {
   "cell_type": "code",
   "execution_count": 10,
   "id": "db59a6ff-e62b-4bdf-b94f-eedfec4816e2",
   "metadata": {},
   "outputs": [
    {
     "data": {
      "text/plain": [
       "78449"
      ]
     },
     "execution_count": 10,
     "metadata": {},
     "output_type": "execute_result"
    }
   ],
   "source": [
    "len(hikurangi['features'])"
   ]
  },
  {
   "cell_type": "code",
   "execution_count": 11,
   "id": "58bdcd09-4613-4706-8033-15cbcddc79ef",
   "metadata": {},
   "outputs": [
    {
     "data": {
      "text/plain": [
       "191800"
      ]
     },
     "execution_count": 11,
     "metadata": {},
     "output_type": "execute_result"
    }
   ],
   "source": [
    "len(bruce_hikurangi['features'])"
   ]
  },
  {
   "cell_type": "code",
   "execution_count": 13,
   "id": "58d99720-309f-4c27-b8b1-5f737bf70d36",
   "metadata": {},
   "outputs": [],
   "source": [
    "#show_3d([hikurangi, opensha_hikurangi], -1)"
   ]
  },
  {
   "cell_type": "code",
   "execution_count": null,
   "id": "30f85b87-f6b2-4786-9894-ac110fccd93c",
   "metadata": {},
   "outputs": [],
   "source": []
  }
 ],
 "metadata": {
  "kernelspec": {
   "display_name": "Python 3 (ipykernel)",
   "language": "python",
   "name": "python3"
  },
  "language_info": {
   "codemirror_mode": {
    "name": "ipython",
    "version": 3
   },
   "file_extension": ".py",
   "mimetype": "text/x-python",
   "name": "python",
   "nbconvert_exporter": "python",
   "pygments_lexer": "ipython3",
   "version": "3.11.9"
  }
 },
 "nbformat": 4,
 "nbformat_minor": 5
}
