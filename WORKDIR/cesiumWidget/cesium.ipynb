{
 "cells": [
  {
   "cell_type": "code",
   "execution_count": 1,
   "id": "85eecae7-e0ab-4903-89f9-5b596f5d6a45",
   "metadata": {},
   "outputs": [],
   "source": [
    "import anywidget\n",
    "import traitlets"
   ]
  },
  {
   "cell_type": "code",
   "execution_count": 2,
   "id": "3b29e6f9-25a5-4b97-8701-f708ed2db975",
   "metadata": {},
   "outputs": [],
   "source": [
    "import json\n",
    "\n",
    "with open('../arcgisWidget/andy.geojson') as json_file:\n",
    "    rupture = json.load(json_file)\n",
    "    json_file.close()\n",
    "\n",
    "with open('rupture2.geojson') as json_file:\n",
    "    rupture2 = json.load(json_file)\n",
    "    json_file.close()\n",
    "\n",
    "with open('../arcgisWidget/puysegur_patchmatches.json') as json_file:\n",
    "    patches = json.load(json_file)\n",
    "    json_file.close()\n",
    "\n",
    "with open('../arcgisWidget/crustal_polys.geojson') as json_file:\n",
    "    crustal = json.load(json_file)\n",
    "    json_file.close()"
   ]
  },
  {
   "cell_type": "code",
   "execution_count": 2,
   "id": "f4a958ff-ffec-4b43-b5b4-e91ca6e578c4",
   "metadata": {},
   "outputs": [],
   "source": [
    "class CesiumWidget(anywidget.AnyWidget):\n",
    "    _esm = 'cesium.js'\n",
    "    _css = 'cesium.css'\n",
    "    _camera = traitlets.Dict().tag(sync=True)\n",
    "    data = traitlets.List().tag(sync=True)\n",
    "    width = traitlets.Unicode('100%').tag(sync=True, o=True)\n",
    "    height = traitlets.Unicode('400px').tag(sync=True, o=True)\n",
    "    selection = traitlets.Int(0).tag(sync=True)\n",
    "\n",
    "    def addData(self, data):\n",
    "        self.data.append(data)\n",
    "        self.data = self.data\n",
    "\n",
    "    def select(self, selection):\n",
    "        self.selection = selection\n",
    "\n",
    "def show3D(data, selection=0):\n",
    "    if type(data) == list:\n",
    "        map = CesiumWidget(data=data, selection=selection)\n",
    "    else:\n",
    "        map = CesiumWidget(data=[data], selection=selection)\n",
    "    return map\n",
    "\n",
    "#show3D(crustal, -1)\n"
   ]
  },
  {
   "cell_type": "code",
   "execution_count": 4,
   "id": "414d10ed-504c-4628-9d8c-74ac3b6a3060",
   "metadata": {},
   "outputs": [],
   "source": [
    "map.addGeoJson(rupture)"
   ]
  },
  {
   "cell_type": "code",
   "execution_count": 5,
   "id": "1a4fa9f4-1e54-4a25-86ab-0c0e62e63fb9",
   "metadata": {},
   "outputs": [],
   "source": [
    "map.addGeoJson(rupture2)"
   ]
  },
  {
   "cell_type": "code",
   "execution_count": 55,
   "id": "eb303f0f-bdea-437b-93df-d22a296dc1d5",
   "metadata": {},
   "outputs": [],
   "source": [
    "with open('../arcgisWidget/puysegur_patchmatches.json') as json_file:\n",
    "    patches = json.load(json_file)\n",
    "    json_file.close()\n",
    "\n",
    "#show3D(patches)"
   ]
  },
  {
   "cell_type": "code",
   "execution_count": 3,
   "id": "c176e5e6-f247-417c-988c-8d4f62597949",
   "metadata": {},
   "outputs": [
    {
     "name": "stderr",
     "output_type": "stream",
     "text": [
      "warning openquake module dependency not available, maybe you want to install\n",
      "                with nzshm-model[openquake]\n"
     ]
    },
    {
     "name": "stdout",
     "output_type": "stream",
     "text": [
      "WARNING: optional `toshi` dependencies are not installed.\n",
      "Running without `toshi` options\n",
      "WARNING: geometry.section_distance() uses the optional dependency pyvista.\n"
     ]
    }
   ],
   "source": [
    "import json\n",
    "from IPython.display import GeoJSON\n",
    "\n",
    "# NSHM libraries ..\n",
    "import nzshm_model as nm\n",
    "import solvis\n",
    "\n",
    "# we need a matching source_logic_tree (CBC do we really ???)\n",
    "slt = nm.get_model_version(\"NSHM_v1.0.4\").source_logic_tree\n",
    "\n",
    "# load the composite_solution using the source logic tree\n",
    "csol = solvis.CompositeSolution.from_archive(\"../NSHM_v1.0.4_CompositeSolution.zip\", slt)\n",
    "\n",
    "# get the the Crustal FaultSystemSolution\n",
    "fss = csol._solutions['CRU']"
   ]
  },
  {
   "cell_type": "code",
   "execution_count": 4,
   "id": "0b587f3d-1b86-4801-8b0b-96652408ee5f",
   "metadata": {},
   "outputs": [
    {
     "data": {
      "application/vnd.jupyter.widget-view+json": {
       "model_id": "c71539cb5cb14489a3828cb69493b5b2",
       "version_major": 2,
       "version_minor": 1
      },
      "text/plain": [
       "CesiumWidget(data=[{'type': 'FeatureCollection', 'features': [{'id': '0', 'type': 'Feature', 'properties': {'F…"
      ]
     },
     "execution_count": 4,
     "metadata": {},
     "output_type": "execute_result"
    }
   ],
   "source": [
    "fss = csol._solutions['CRU']\n",
    "gj = json.loads(fss.fault_surfaces().to_json())\n",
    "show3D(gj) # to view the surfaces in a cell...."
   ]
  },
  {
   "cell_type": "code",
   "execution_count": null,
   "id": "cdc31ba6-cb2c-421d-ad90-422e581fb49a",
   "metadata": {},
   "outputs": [],
   "source": []
  }
 ],
 "metadata": {
  "kernelspec": {
   "display_name": "Python 3 (ipykernel)",
   "language": "python",
   "name": "python3"
  },
  "language_info": {
   "codemirror_mode": {
    "name": "ipython",
    "version": 3
   },
   "file_extension": ".py",
   "mimetype": "text/x-python",
   "name": "python",
   "nbconvert_exporter": "python",
   "pygments_lexer": "ipython3",
   "version": "3.11.9"
  }
 },
 "nbformat": 4,
 "nbformat_minor": 5
}
