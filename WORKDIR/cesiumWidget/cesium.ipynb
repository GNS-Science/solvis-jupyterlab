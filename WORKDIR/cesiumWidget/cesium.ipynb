{
 "cells": [
  {
   "cell_type": "code",
   "execution_count": 4,
   "id": "85eecae7-e0ab-4903-89f9-5b596f5d6a45",
   "metadata": {},
   "outputs": [],
   "source": [
    "import anywidget\n",
    "import traitlets"
   ]
  },
  {
   "cell_type": "code",
   "execution_count": 13,
   "id": "3b29e6f9-25a5-4b97-8701-f708ed2db975",
   "metadata": {},
   "outputs": [],
   "source": [
    "import json\n",
    "\n",
    "rupture = None\n",
    "\n",
    "with open('rupture.geojson') as json_file:\n",
    "    rupture = json_file.read()\n",
    "    json_file.close()\n",
    "    "
   ]
  },
  {
   "cell_type": "code",
   "execution_count": 84,
   "id": "f4a958ff-ffec-4b43-b5b4-e91ca6e578c4",
   "metadata": {},
   "outputs": [],
   "source": [
    "class CesiumWidget(anywidget.AnyWidget):\n",
    "    _esm = 'cesium.js'\n",
    "    _css = 'cesium.css'\n",
    "    geojson = traitlets.Unicode('').tag(sync=True)\n",
    "    width = traitlets.Unicode('100%').tag(sync=True, o=True)\n",
    "    height = traitlets.Unicode('600px').tag(sync=True, o=True)\n",
    "\n",
    "    def addGeoJson(self, data):\n",
    "        self.send({\"geojson\":data})"
   ]
  },
  {
   "cell_type": "code",
   "execution_count": 88,
   "id": "d5f06e16-939a-4bf0-80cf-cab5e8d5e487",
   "metadata": {},
   "outputs": [],
   "source": [
    "with open('rupture2.geojson') as json_file:\n",
    "    rupture2 = json_file.read()\n",
    "    json_file.close()"
   ]
  },
  {
   "cell_type": "code",
   "execution_count": 85,
   "id": "99470cea-dc9f-45dc-afe6-275eef8ef8e5",
   "metadata": {},
   "outputs": [],
   "source": [
    "widget = CesiumWidget()\n"
   ]
  },
  {
   "cell_type": "code",
   "execution_count": 86,
   "id": "4b77a751-1d09-4169-a458-d6c183364b31",
   "metadata": {},
   "outputs": [
    {
     "data": {
      "application/vnd.jupyter.widget-view+json": {
       "model_id": "a59ce216c97c42c2a6d07621add98642",
       "version_major": 2,
       "version_minor": 1
      },
      "text/plain": [
       "CesiumWidget()"
      ]
     },
     "execution_count": 86,
     "metadata": {},
     "output_type": "execute_result"
    }
   ],
   "source": [
    "widget"
   ]
  },
  {
   "cell_type": "code",
   "execution_count": 87,
   "id": "414d10ed-504c-4628-9d8c-74ac3b6a3060",
   "metadata": {},
   "outputs": [],
   "source": [
    "widget.addGeoJson(rupture)"
   ]
  },
  {
   "cell_type": "code",
   "execution_count": 89,
   "id": "1a4fa9f4-1e54-4a25-86ab-0c0e62e63fb9",
   "metadata": {},
   "outputs": [],
   "source": [
    "widget.addGeoJson(rupture2)"
   ]
  },
  {
   "cell_type": "code",
   "execution_count": null,
   "id": "161a784a-2a55-4a20-b4e8-99728fd249cf",
   "metadata": {},
   "outputs": [],
   "source": []
  }
 ],
 "metadata": {
  "kernelspec": {
   "display_name": "Python 3 (ipykernel)",
   "language": "python",
   "name": "python3"
  },
  "language_info": {
   "codemirror_mode": {
    "name": "ipython",
    "version": 3
   },
   "file_extension": ".py",
   "mimetype": "text/x-python",
   "name": "python",
   "nbconvert_exporter": "python",
   "pygments_lexer": "ipython3",
   "version": "3.11.9"
  }
 },
 "nbformat": 4,
 "nbformat_minor": 5
}
