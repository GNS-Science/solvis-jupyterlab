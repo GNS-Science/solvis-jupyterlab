{
 "cells": [
  {
   "cell_type": "code",
   "execution_count": 4,
   "id": "85eecae7-e0ab-4903-89f9-5b596f5d6a45",
   "metadata": {},
   "outputs": [],
   "source": [
    "import anywidget\n",
    "import traitlets"
   ]
  },
  {
   "cell_type": "code",
   "execution_count": 13,
   "id": "3b29e6f9-25a5-4b97-8701-f708ed2db975",
   "metadata": {},
   "outputs": [],
   "source": [
    "import json\n",
    "\n",
    "rupture = None\n",
    "\n",
    "with open('rupture.geojson') as json_file:\n",
    "    rupture = json_file.read()\n",
    "    json_file.close()\n",
    "    "
   ]
  },
  {
   "cell_type": "code",
   "execution_count": 78,
   "id": "f4a958ff-ffec-4b43-b5b4-e91ca6e578c4",
   "metadata": {},
   "outputs": [],
   "source": [
    "class CesiumWidget(anywidget.AnyWidget):\n",
    "    _esm = 'cesium.js'\n",
    "    _css = 'cesium.css'\n",
    "    geojson = traitlets.Unicode('').tag(sync=True)\n",
    "    width = traitlets.Unicode('100%').tag(sync=True, o=True)\n",
    "    height = traitlets.Unicode('600px').tag(sync=True, o=True)"
   ]
  },
  {
   "cell_type": "code",
   "execution_count": 79,
   "id": "99470cea-dc9f-45dc-afe6-275eef8ef8e5",
   "metadata": {},
   "outputs": [
    {
     "data": {
      "application/vnd.jupyter.widget-view+json": {
       "model_id": "a495906ac15d40a2882db6735803037b",
       "version_major": 2,
       "version_minor": 1
      },
      "text/plain": [
       "CesiumWidget(geojson=' {\\n                \"type\": \"FeatureCollection\",\\n                \"features\": [\\n       …"
      ]
     },
     "execution_count": 79,
     "metadata": {},
     "output_type": "execute_result"
    }
   ],
   "source": [
    "CesiumWidget(geojson=rupture)\n"
   ]
  },
  {
   "cell_type": "code",
   "execution_count": null,
   "id": "4b77a751-1d09-4169-a458-d6c183364b31",
   "metadata": {},
   "outputs": [],
   "source": []
  }
 ],
 "metadata": {
  "kernelspec": {
   "display_name": "Python 3 (ipykernel)",
   "language": "python",
   "name": "python3"
  },
  "language_info": {
   "codemirror_mode": {
    "name": "ipython",
    "version": 3
   },
   "file_extension": ".py",
   "mimetype": "text/x-python",
   "name": "python",
   "nbconvert_exporter": "python",
   "pygments_lexer": "ipython3",
   "version": "3.11.9"
  }
 },
 "nbformat": 4,
 "nbformat_minor": 5
}
