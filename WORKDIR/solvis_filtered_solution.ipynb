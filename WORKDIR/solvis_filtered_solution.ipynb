{
 "cells": [
  {
   "cell_type": "code",
   "execution_count": 1,
   "id": "d99bcfce-30f6-42e5-87cf-73d8d16349f9",
   "metadata": {},
   "outputs": [
    {
     "name": "stderr",
     "output_type": "stream",
     "text": [
      "warning openquake module dependency not available, maybe you want to install\n",
      "                with nzshm-model[openquake]\n"
     ]
    },
    {
     "name": "stdout",
     "output_type": "stream",
     "text": [
      "WARNING: optional `toshi` dependencies are not installed.\n",
      "Running without `toshi` options\n",
      "WARNING: geometry.section_distance() uses the optional dependency pyvista.\n"
     ]
    }
   ],
   "source": [
    "#import pathlib\n",
    "import json\n",
    "import nzshm_model as nm\n",
    "import solvis\n",
    "\n",
    "from solvis.filter import FilterRuptureIds, FilterParentFaultIds, FilterSubsectionIds"
   ]
  },
  {
   "cell_type": "code",
   "execution_count": 2,
   "id": "45771fde-6362-4e5c-9403-ded74c66b83c",
   "metadata": {},
   "outputs": [],
   "source": [
    "solution = solvis.InversionSolution.from_archive(\"NZSHM22_ScaledInversionSolution-QXV0b21hdGlvblRhc2s6MTEzMTM0.zip\")"
   ]
  },
  {
   "cell_type": "code",
   "execution_count": 138,
   "id": "bfeba4a1-599a-430d-9383-7c2cc3e1d444",
   "metadata": {},
   "outputs": [
    {
     "data": {
      "text/plain": [
       "[305289,\n",
       " 287882,\n",
       " 287883,\n",
       " 307466,\n",
       " 398713,\n",
       " 287886,\n",
       " 305295,\n",
       " 303633,\n",
       " 303637,\n",
       " 396573,\n",
       " 303645,\n",
       " 305956,\n",
       " 303144,\n",
       " 287935,\n",
       " 304457,\n",
       " 273738,\n",
       " 365792,\n",
       " 304481,\n",
       " 332519,\n",
       " 93817]"
      ]
     },
     "execution_count": 138,
     "metadata": {},
     "output_type": "execute_result"
    }
   ],
   "source": [
    "TARGET_FAULTS = ['Masterton', 'Ohariu']\n",
    "ruptures = FilterRuptureIds(solution)\\\n",
    "    .for_parent_fault_names(TARGET_FAULTS)\n",
    "list(ruptures)"
   ]
  },
  {
   "cell_type": "code",
   "execution_count": 139,
   "id": "e8da480b-4091-4b4d-98f3-1f704a2f8f68",
   "metadata": {},
   "outputs": [
    {
     "data": {
      "text/plain": [
       "(87, 14)"
      ]
     },
     "execution_count": 139,
     "metadata": {},
     "output_type": "execute_result"
    }
   ],
   "source": [
    "surfaces_all = solution.fault_surfaces()\n",
    "subsections = FilterSubsectionIds(solution).for_rupture_ids(ruptures)\n",
    "surfaces = surfaces_all[surfaces_all[\"FaultID\"].isin(subsections)]\n",
    "surfaces.shape"
   ]
  },
  {
   "cell_type": "code",
   "execution_count": 140,
   "id": "ef4559d6-2202-441f-a50d-14550be33bc8",
   "metadata": {},
   "outputs": [
    {
     "data": {
      "application/geo+json": {
       "features": [
        {
         "geometry": {
          "coordinates": [
           [
            [
             173.7222889067262,
             -41.816345683856916,
             0
            ],
            [
             173.82338433117926,
             -41.755418786172626,
             0
            ],
            [
             173.78279320635113,
             -41.71476116923573,
             21.040000000000003
            ],
            [
             173.68165924510254,
             -41.77568805161591,
             21.040000000000003
            ],
            [
             173.7222889067262,
             -41.816345683856916,
             0
            ]
           ]
          ],
          "type": "Polygon"
         },
         "id": "132",
         "properties": {
          "AseismicSlipFactor": 0,
          "CouplingCoeff": 1,
          "DipDeg": 75,
          "DipDir": 323.3,
          "FaultID": 132,
          "FaultName": "Awatere: Northeast 1, Subsection 5",
          "LowDepth": 21.040000000000003,
          "ParentID": 30,
          "ParentName": "Awatere: Northeast 1",
          "Rake": 160,
          "Target Slip Rate": 0.0053774999999999,
          "Target Slip Rate StdDev": 0.00069359,
          "UpDepth": 0
         },
         "type": "Feature"
        },
        {
         "geometry": {
          "coordinates": [
           [
            [
             173.82338433117926,
             -41.755418786172626,
             0
            ],
            [
             173.92428786307576,
             -41.69440343925775,
             0
            ],
            [
             173.88373521188305,
             -41.65374583761812,
             21.040000000000003
            ],
            [
             173.78279320635113,
             -41.71476116923573,
             21.040000000000003
            ],
            [
             173.82338433117926,
             -41.755418786172626,
             0
            ]
           ]
          ],
          "type": "Polygon"
         },
         "id": "133",
         "properties": {
          "AseismicSlipFactor": 0,
          "CouplingCoeff": 1,
          "DipDeg": 75,
          "DipDir": 323.3,
          "FaultID": 133,
          "FaultName": "Awatere: Northeast 1, Subsection 6",
          "LowDepth": 21.040000000000003,
          "ParentID": 30,
          "ParentName": "Awatere: Northeast 1",
          "Rake": 160,
          "Target Slip Rate": 0.0053774999999999,
          "Target Slip Rate StdDev": 0.00069359,
          "UpDepth": 0
         },
         "type": "Feature"
        },
        {
         "geometry": {
          "coordinates": [
           [
            [
             173.92428786307576,
             -41.69440343925775,
             0
            ],
            [
             174.025,
             -41.6333,
             0
            ],
            [
             173.98448575896683,
             -41.592642413650715,
             21.040000000000003
            ],
            [
             173.88373521188305,
             -41.65374583761812,
             21.040000000000003
            ],
            [
             173.92428786307576,
             -41.69440343925775,
             0
            ]
           ]
          ],
          "type": "Polygon"
         },
         "id": "134",
         "properties": {
          "AseismicSlipFactor": 0,
          "CouplingCoeff": 1,
          "DipDeg": 75,
          "DipDir": 323.3,
          "FaultID": 134,
          "FaultName": "Awatere: Northeast 1, Subsection 7",
          "LowDepth": 21.040000000000003,
          "ParentID": 30,
          "ParentName": "Awatere: Northeast 1",
          "Rake": 160,
          "Target Slip Rate": 0.004095,
          "Target Slip Rate StdDev": 0.00079421,
          "UpDepth": 0
         },
         "type": "Feature"
        },
        {
         "geometry": {
          "coordinates": [
           [
            [
             174.025,
             -41.6333,
             0
            ],
            [
             174.13933705466923,
             -41.58415655034172,
             0
            ],
            [
             174.11542867784334,
             -41.552008621946946,
             23.200000000000003
            ],
            [
             174.001073424646,
             -41.601152067323476,
             23.200000000000003
            ],
            [
             174.025,
             -41.6333,
             0
            ]
           ]
          ],
          "type": "Polygon"
         },
         "id": "135",
         "properties": {
          "AseismicSlipFactor": 0,
          "CouplingCoeff": 1,
          "DipDeg": 80,
          "DipDir": 330.9,
          "FaultID": 135,
          "FaultName": "Awatere: Northeast 2, Subsection 0",
          "LowDepth": 23.200000000000003,
          "ParentID": 31,
          "ParentName": "Awatere: Northeast 2",
          "Rake": 180,
          "Target Slip Rate": 0.005805,
          "Target Slip Rate StdDev": 0.0012018,
          "UpDepth": 0
         },
         "type": "Feature"
        },
        {
         "geometry": {
          "coordinates": [
           [
            [
             174.13933705466923,
             -41.58415655034172,
             0
            ],
            [
             174.2535,
             -41.5349,
             0
            ],
            [
             174.2296098182043,
             -41.50275207589029,
             23.200000000000003
            ],
            [
             174.11542867784334,
             -41.552008621946946,
             23.200000000000003
            ],
            [
             174.13933705466923,
             -41.58415655034172,
             0
            ]
           ]
          ],
          "type": "Polygon"
         },
         "id": "136",
         "properties": {
          "AseismicSlipFactor": 0,
          "CouplingCoeff": 1,
          "DipDeg": 80,
          "DipDir": 330.9,
          "FaultID": 136,
          "FaultName": "Awatere: Northeast 2, Subsection 1",
          "LowDepth": 23.200000000000003,
          "ParentID": 31,
          "ParentName": "Awatere: Northeast 2",
          "Rake": 180,
          "Target Slip Rate": 0.007245,
          "Target Slip Rate StdDev": 0.0014046,
          "UpDepth": 0
         },
         "type": "Feature"
        },
        {
         "geometry": {
          "coordinates": [
           [
            [
             174.3259,
             -41.4656,
             0
            ],
            [
             174.3028510843706,
             -41.46865230065417,
             0
            ],
            [
             174.31795620962598,
             -41.54003507015504,
             22.080000000000002
            ],
            [
             174.3410044123772,
             -41.53698276960693,
             22.080000000000002
            ],
            [
             174.3259,
             -41.4656,
             0
            ]
           ]
          ],
          "type": "Polygon"
         },
         "id": "453",
         "properties": {
          "AseismicSlipFactor": 0,
          "CouplingCoeff": 1,
          "DipDeg": 70,
          "DipDir": 171,
          "FaultID": 453,
          "FaultName": "Cloudy 2, Subsection 0",
          "LowDepth": 22.080000000000002,
          "ParentID": 86,
          "ParentName": "Cloudy 2",
          "Rake": -110,
          "Target Slip Rate": 0.00441,
          "Target Slip Rate StdDev": 0.00221,
          "UpDepth": 0
         },
         "type": "Feature"
        },
        {
         "geometry": {
          "coordinates": [
           [
            [
             174.3028510843706,
             -41.46865230065417,
             0
            ],
            [
             174.2798,
             -41.47169999999999,
             0
            ],
            [
             174.29490583716876,
             -41.54308276939494,
             22.080000000000002
            ],
            [
             174.31795620962598,
             -41.54003507015504,
             22.080000000000002
            ],
            [
             174.3028510843706,
             -41.46865230065417,
             0
            ]
           ]
          ],
          "type": "Polygon"
         },
         "id": "454",
         "properties": {
          "AseismicSlipFactor": 0,
          "CouplingCoeff": 1,
          "DipDeg": 70,
          "DipDir": 171,
          "FaultID": 454,
          "FaultName": "Cloudy 2, Subsection 1",
          "LowDepth": 22.080000000000002,
          "ParentID": 86,
          "ParentName": "Cloudy 2",
          "Rake": -110,
          "Target Slip Rate": 0.00441,
          "Target Slip Rate StdDev": 0.00221,
          "UpDepth": 0
         },
         "type": "Feature"
        },
        {
         "geometry": {
          "coordinates": [
           [
            [
             175.60881796773072,
             -40.96057042440613,
             0
            ],
            [
             175.5877,
             -40.9682,
             0
            ],
            [
             175.54348275532178,
             -40.9708403543804,
             0
            ],
            [
             175.5632165738695,
             -41.02275985636053,
             12.880000000000003
            ],
            [
             175.6074330274443,
             -41.02011950213672,
             12.880000000000003
            ],
            [
             175.62854870979223,
             -41.012489926995286,
             12.880000000000003
            ],
            [
             175.60881796773072,
             -40.96057042440613,
             0
            ]
           ]
          ],
          "type": "Polygon"
         },
         "id": "1127",
         "properties": {
          "AseismicSlipFactor": 0,
          "CouplingCoeff": 1,
          "DipDeg": 65,
          "DipDir": 164,
          "FaultID": 1127,
          "FaultName": "Masterton, Subsection 2",
          "LowDepth": 12.880000000000003,
          "ParentID": 257,
          "ParentName": "Masterton",
          "Rake": -160,
          "Target Slip Rate": 0.0006525,
          "Target Slip Rate StdDev": 0.00053003,
          "UpDepth": 0
         },
         "type": "Feature"
        },
        {
         "geometry": {
          "coordinates": [
           [
            [
             175.54348275532178,
             -40.9708403543804,
             0
            ],
            [
             175.5408,
             -40.971,
             0
            ],
            [
             175.48280000000005,
             -40.99329999999999,
             0
            ],
            [
             175.5025405521713,
             -41.04521950064752,
             12.880000000000003
            ],
            [
             175.56053386638416,
             -41.02291950197065,
             12.880000000000003
            ],
            [
             175.5632165738695,
             -41.02275985636053,
             12.880000000000003
            ],
            [
             175.54348275532178,
             -40.9708403543804,
             0
            ]
           ]
          ],
          "type": "Polygon"
         },
         "id": "1128",
         "properties": {
          "AseismicSlipFactor": 0,
          "CouplingCoeff": 1,
          "DipDeg": 65,
          "DipDir": 164,
          "FaultID": 1128,
          "FaultName": "Masterton, Subsection 3",
          "LowDepth": 12.880000000000003,
          "ParentID": 257,
          "ParentName": "Masterton",
          "Rake": -160,
          "Target Slip Rate": 0.0005175000000000001,
          "Target Slip Rate StdDev": 0.0004681000000000001,
          "UpDepth": 0
         },
         "type": "Feature"
        },
        {
         "geometry": {
          "coordinates": [
           [
            [
             175.7942,
             -40.3671,
             0
            ],
            [
             175.827,
             -40.3378,
             0
            ],
            [
             175.87215100755003,
             -40.287526389272,
             0
            ],
            [
             175.83274162756234,
             -40.26909276435021,
             22.240000000000002
            ],
            [
             175.78756128965264,
             -40.31936636317711,
             22.240000000000002
            ],
            [
             175.75474416143993,
             -40.34866635623284,
             22.240000000000002
            ],
            [
             175.7942,
             -40.3671,
             0
            ]
           ]
          ],
          "type": "Polygon"
         },
         "id": "1190",
         "properties": {
          "AseismicSlipFactor": 0,
          "CouplingCoeff": 1,
          "DipDeg": 80,
          "DipDir": 301.5,
          "FaultID": 1190,
          "FaultName": "Mohaka: South, Subsection 0",
          "LowDepth": 22.240000000000002,
          "ParentID": 269,
          "ParentName": "Mohaka: South",
          "Rake": 160,
          "Target Slip Rate": 0.005445,
          "Target Slip Rate StdDev": 0.0010736,
          "UpDepth": 0
         },
         "type": "Feature"
        },
        {
         "geometry": {
          "coordinates": [
           [
            [
             175.87215100755003,
             -40.287526389272,
             0
            ],
            [
             175.8911,
             -40.2664,
             0
            ],
            [
             175.9358,
             -40.2303,
             0
            ],
            [
             175.95286581293553,
             -40.20993651817644,
             0
            ],
            [
             175.91350155506902,
             -40.19150291158756,
             22.240000000000002
            ],
            [
             175.8964239168121,
             -40.2118663886037,
             22.240000000000002
            ],
            [
             175.8517029233953,
             -40.247966380074104,
             22.240000000000002
            ],
            [
             175.83274162756234,
             -40.26909276435021,
             22.240000000000002
            ],
            [
             175.87215100755003,
             -40.287526389272,
             0
            ]
           ]
          ],
          "type": "Polygon"
         },
         "id": "1191",
         "properties": {
          "AseismicSlipFactor": 0,
          "CouplingCoeff": 1,
          "DipDeg": 80,
          "DipDir": 301.5,
          "FaultID": 1191,
          "FaultName": "Mohaka: South, Subsection 1",
          "LowDepth": 22.240000000000002,
          "ParentID": 269,
          "ParentName": "Mohaka: South",
          "Rake": 160,
          "Target Slip Rate": 0.00523503,
          "Target Slip Rate StdDev": 0.0010603,
          "UpDepth": 0
         },
         "type": "Feature"
        },
        {
         "geometry": {
          "coordinates": [
           [
            [
             175.95286581293553,
             -40.20993651817644,
             0
            ],
            [
             175.9601,
             -40.2013,
             0
            ],
            [
             175.9707,
             -40.181,
             0
            ],
            [
             175.9866,
             -40.1621,
             0
            ],
            [
             176.01778995227204,
             -40.12408889469149,
             0
            ],
            [
             175.97847541462784,
             -40.10565530833782,
             22.240000000000002
            ],
            [
             175.94726347392523,
             -40.143666404693015,
             22.240000000000002
            ],
            [
             175.93135252516296,
             -40.16256640023748,
             22.240000000000002
            ],
            [
             175.92074075381873,
             -40.18286639544915,
             22.240000000000002
            ],
            [
             175.91350155506902,
             -40.19150291158756,
             22.240000000000002
            ],
            [
             175.95286581293553,
             -40.20993651817644,
             0
            ]
           ]
          ],
          "type": "Polygon"
         },
         "id": "1192",
         "properties": {
          "AseismicSlipFactor": 0,
          "CouplingCoeff": 1,
          "DipDeg": 80,
          "DipDir": 301.5,
          "FaultID": 1192,
          "FaultName": "Mohaka: South, Subsection 2",
          "LowDepth": 22.240000000000002,
          "ParentID": 269,
          "ParentName": "Mohaka: South",
          "Rake": 160,
          "Target Slip Rate": 0.00504,
          "Target Slip Rate StdDev": 0.0010639,
          "UpDepth": 0
         },
         "type": "Feature"
        },
        {
         "geometry": {
          "coordinates": [
           [
            [
             176.01778995227204,
             -40.12408889469149,
             0
            ],
            [
             176.0603,
             -40.0722,
             0
            ],
            [
             176.0825839407859,
             -40.038008264965995,
             0
            ],
            [
             176.0433190439643,
             -40.01957469885127,
             22.240000000000002
            ],
            [
             176.0210154111799,
             -40.05376642585237,
             22.240000000000002
            ],
            [
             175.97847541462784,
             -40.10565530833782,
             22.240000000000002
            ],
            [
             176.01778995227204,
             -40.12408889469149,
             0
            ]
           ]
          ],
          "type": "Polygon"
         },
         "id": "1193",
         "properties": {
          "AseismicSlipFactor": 0,
          "CouplingCoeff": 1,
          "DipDeg": 80,
          "DipDir": 301.5,
          "FaultID": 1193,
          "FaultName": "Mohaka: South, Subsection 3",
          "LowDepth": 22.240000000000002,
          "ParentID": 269,
          "ParentName": "Mohaka: South",
          "Rake": 160,
          "Target Slip Rate": 0.00513,
          "Target Slip Rate StdDev": 0.00091433,
          "UpDepth": 0
         },
         "type": "Feature"
        },
        {
         "geometry": {
          "coordinates": [
           [
            [
             176.0825839407859,
             -40.038008264965995,
             0
            ],
            [
             176.0975,
             -40.0151,
             0
            ],
            [
             176.14996506295185,
             -39.95315213159975,
             0
            ],
            [
             176.1107488917386,
             -39.93471858538615,
             22.240000000000002
            ],
            [
             176.05824827784588,
             -39.99666643926277,
             22.240000000000002
            ],
            [
             176.0433190439643,
             -40.01957469885127,
             22.240000000000002
            ],
            [
             176.0825839407859,
             -40.038008264965995,
             0
            ]
           ]
          ],
          "type": "Polygon"
         },
         "id": "1194",
         "properties": {
          "AseismicSlipFactor": 0,
          "CouplingCoeff": 1,
          "DipDeg": 80,
          "DipDir": 301.5,
          "FaultID": 1194,
          "FaultName": "Mohaka: South, Subsection 4",
          "LowDepth": 22.240000000000002,
          "ParentID": 269,
          "ParentName": "Mohaka: South",
          "Rake": 160,
          "Target Slip Rate": 0.00522,
          "Target Slip Rate StdDev": 0.00089689,
          "UpDepth": 0
         },
         "type": "Feature"
        },
        {
         "geometry": {
          "coordinates": [
           [
            [
             176.14996506295185,
             -39.95315213159975,
             0
            ],
            [
             176.155,
             -39.9472,
             0
            ],
            [
             176.1912,
             -39.8983,
             0
            ],
            [
             176.21157449805304,
             -39.86573817978839,
             0
            ],
            [
             176.17240830517372,
             -39.84730465402424,
             22.240000000000002
            ],
            [
             176.1520152156746,
             -39.8798664666245,
             22.240000000000002
            ],
            [
             176.11578723882107,
             -39.92876645518049,
             22.240000000000002
            ],
            [
             176.1107488917386,
             -39.93471858538615,
             22.240000000000002
            ],
            [
             176.14996506295185,
             -39.95315213159975,
             0
            ]
           ]
          ],
          "type": "Polygon"
         },
         "id": "1195",
         "properties": {
          "AseismicSlipFactor": 0,
          "CouplingCoeff": 1,
          "DipDeg": 80,
          "DipDir": 301.5,
          "FaultID": 1195,
          "FaultName": "Mohaka: South, Subsection 5",
          "LowDepth": 22.240000000000002,
          "ParentID": 269,
          "ParentName": "Mohaka: South",
          "Rake": 160,
          "Target Slip Rate": 0.00541503,
          "Target Slip Rate StdDev": 0.00086775,
          "UpDepth": 0
         },
         "type": "Feature"
        },
        {
         "geometry": {
          "coordinates": [
           [
            [
             176.21157449805304,
             -39.86573817978839,
             0
            ],
            [
             176.2557,
             -39.7951,
             0
            ],
            [
             176.2631,
             -39.7749,
             0
            ],
            [
             176.26315624134813,
             -39.77479284682109,
             0
            ],
            [
             176.2240418143043,
             -39.756359342277335,
             22.240000000000002
            ],
            [
             176.22398551210335,
             -39.75646649543127,
             22.240000000000002
            ],
            [
             176.2165740345956,
             -39.77666649072282,
             22.240000000000002
            ],
            [
             176.17240830517372,
             -39.84730465402424,
             22.240000000000002
            ],
            [
             176.21157449805304,
             -39.86573817978839,
             0
            ]
           ]
          ],
          "type": "Polygon"
         },
         "id": "1196",
         "properties": {
          "AseismicSlipFactor": 0,
          "CouplingCoeff": 1,
          "DipDeg": 80,
          "DipDir": 301.5,
          "FaultID": 1196,
          "FaultName": "Mohaka: South, Subsection 6",
          "LowDepth": 22.240000000000002,
          "ParentID": 269,
          "ParentName": "Mohaka: South",
          "Rake": 160,
          "Target Slip Rate": 0.00529497,
          "Target Slip Rate StdDev": 0.00095867,
          "UpDepth": 0
         },
         "type": "Feature"
        },
        {
         "geometry": {
          "coordinates": [
           [
            [
             176.26315624134813,
             -39.77479284682109,
             0
            ],
            [
             176.302,
             -39.7007,
             0
            ],
            [
             176.3142106157979,
             -39.68354576928166,
             0
            ],
            [
             176.27514789022635,
             -39.66511228597245,
             22.240000000000002
            ],
            [
             176.26292757267285,
             -39.682266512703016,
             22.240000000000002
            ],
            [
             176.2240418143043,
             -39.756359342277335,
             22.240000000000002
            ],
            [
             176.26315624134813,
             -39.77479284682109,
             0
            ]
           ]
          ],
          "type": "Polygon"
         },
         "id": "1197",
         "properties": {
          "AseismicSlipFactor": 0,
          "CouplingCoeff": 1,
          "DipDeg": 80,
          "DipDir": 301.5,
          "FaultID": 1197,
          "FaultName": "Mohaka: South, Subsection 7",
          "LowDepth": 22.240000000000002,
          "ParentID": 269,
          "ParentName": "Mohaka: South",
          "Rake": 160,
          "Target Slip Rate": 0.00513,
          "Target Slip Rate StdDev": 0.00090976,
          "UpDepth": 0
         },
         "type": "Feature"
        },
        {
         "geometry": {
          "coordinates": [
           [
            [
             176.3142106157979,
             -39.68354576928166,
             0
            ],
            [
             176.3564,
             -39.6242,
             0
            ],
            [
             176.37745322448305,
             -39.59685594945448,
             0
            ],
            [
             176.33843940020492,
             -39.57842248626739,
             22.240000000000002
            ],
            [
             176.3173707739489,
             -39.60576653047136,
             22.240000000000002
            ],
            [
             176.27514789022635,
             -39.66511228597245,
             22.240000000000002
            ],
            [
             176.3142106157979,
             -39.68354576928166,
             0
            ]
           ]
          ],
          "type": "Polygon"
         },
         "id": "1198",
         "properties": {
          "AseismicSlipFactor": 0,
          "CouplingCoeff": 1,
          "DipDeg": 80,
          "DipDir": 301.5,
          "FaultID": 1198,
          "FaultName": "Mohaka: South, Subsection 8",
          "LowDepth": 22.240000000000002,
          "ParentID": 269,
          "ParentName": "Mohaka: South",
          "Rake": 160,
          "Target Slip Rate": 0.004995,
          "Target Slip Rate StdDev": 0.00087297,
          "UpDepth": 0
         },
         "type": "Feature"
        },
        {
         "geometry": {
          "coordinates": [
           [
            [
             176.37745322448305,
             -39.59685594945448,
             0
            ],
            [
             176.4432,
             -39.5113,
             0
            ],
            [
             176.40423423015778,
             -39.492866556622545,
             22.240000000000002
            ],
            [
             176.33843940020492,
             -39.57842248626739,
             22.240000000000002
            ],
            [
             176.37745322448305,
             -39.59685594945448,
             0
            ]
           ]
          ],
          "type": "Polygon"
         },
         "id": "1199",
         "properties": {
          "AseismicSlipFactor": 0,
          "CouplingCoeff": 1,
          "DipDeg": 80,
          "DipDir": 301.5,
          "FaultID": 1199,
          "FaultName": "Mohaka: South, Subsection 9",
          "LowDepth": 22.240000000000002,
          "ParentID": 269,
          "ParentName": "Mohaka: South",
          "Rake": 160,
          "Target Slip Rate": 0.004455,
          "Target Slip Rate StdDev": 0.00091495,
          "UpDepth": 0
         },
         "type": "Feature"
        },
        {
         "geometry": {
          "coordinates": [
           [
            [
             176.075,
             -40.7617,
             0
            ],
            [
             176.00688452412265,
             -40.78494946015483,
             0
            ],
            [
             176.02198703428553,
             -40.82280181928106,
             12.08
            ],
            [
             176.09009721920438,
             -40.799552359933635,
             12.08
            ],
            [
             176.075,
             -40.7617,
             0
            ]
           ]
          ],
          "type": "Polygon"
         },
         "id": "1200",
         "properties": {
          "AseismicSlipFactor": 0,
          "CouplingCoeff": 1,
          "DipDeg": 70,
          "DipDir": 163.2,
          "FaultID": 1200,
          "FaultName": "Mokonui Northeast, Subsection 0",
          "LowDepth": 12.08,
          "ParentID": 270,
          "ParentName": "Mokonui Northeast",
          "Rake": -160,
          "Target Slip Rate": 0.0022275,
          "Target Slip Rate StdDev": 0.00058888,
          "UpDepth": 0
         },
         "type": "Feature"
        },
        {
         "geometry": {
          "coordinates": [
           [
            [
             176.00688452412265,
             -40.78494946015483,
             0
            ],
            [
             175.9387213818272,
             -40.80815884056372,
             0
            ],
            [
             175.95382918000976,
             -40.846011198883396,
             12.08
            ],
            [
             176.02198703428553,
             -40.82280181928106,
             12.08
            ],
            [
             176.00688452412265,
             -40.78494946015483,
             0
            ]
           ]
          ],
          "type": "Polygon"
         },
         "id": "1201",
         "properties": {
          "AseismicSlipFactor": 0,
          "CouplingCoeff": 1,
          "DipDeg": 70,
          "DipDir": 163.2,
          "FaultID": 1201,
          "FaultName": "Mokonui Northeast, Subsection 1",
          "LowDepth": 12.08,
          "ParentID": 270,
          "ParentName": "Mokonui Northeast",
          "Rake": -160,
          "Target Slip Rate": 0.0022275,
          "Target Slip Rate StdDev": 0.00058888,
          "UpDepth": 0
         },
         "type": "Feature"
        },
        {
         "geometry": {
          "coordinates": [
           [
            [
             175.9387213818272,
             -40.80815884056372,
             0
            ],
            [
             175.9236,
             -40.8133,
             0
            ],
            [
             175.86662775740743,
             -40.822246081629494,
             0
            ],
            [
             175.8817387682395,
             -40.86009843945935,
             12.08
            ],
            [
             175.93870897037957,
             -40.85115235814093,
             12.08
            ],
            [
             175.95382918000976,
             -40.846011198883396,
             12.08
            ],
            [
             175.9387213818272,
             -40.80815884056372,
             0
            ]
           ]
          ],
          "type": "Polygon"
         },
         "id": "1202",
         "properties": {
          "AseismicSlipFactor": 0,
          "CouplingCoeff": 1,
          "DipDeg": 70,
          "DipDir": 163.2,
          "FaultID": 1202,
          "FaultName": "Mokonui Northeast, Subsection 2",
          "LowDepth": 12.08,
          "ParentID": 270,
          "ParentName": "Mokonui Northeast",
          "Rake": -160,
          "Target Slip Rate": 0.0020925,
          "Target Slip Rate StdDev": 0.00056059,
          "UpDepth": 0
         },
         "type": "Feature"
        },
        {
         "geometry": {
          "coordinates": [
           [
            [
             175.86662775740743,
             -40.822246081629494,
             0
            ],
            [
             175.79340000000005,
             -40.833699999999986,
             0
            ],
            [
             175.8085136246231,
             -40.87155235743142,
             12.08
            ],
            [
             175.8817387682395,
             -40.86009843945935,
             12.08
            ],
            [
             175.86662775740743,
             -40.822246081629494,
             0
            ]
           ]
          ],
          "type": "Polygon"
         },
         "id": "1203",
         "properties": {
          "AseismicSlipFactor": 0,
          "CouplingCoeff": 1,
          "DipDeg": 70,
          "DipDir": 163.2,
          "FaultID": 1203,
          "FaultName": "Mokonui Northeast, Subsection 3",
          "LowDepth": 12.08,
          "ParentID": 270,
          "ParentName": "Mokonui Northeast",
          "Rake": -160,
          "Target Slip Rate": 0.0020925,
          "Target Slip Rate StdDev": 0.00056059,
          "UpDepth": 0
         },
         "type": "Feature"
        },
        {
         "geometry": {
          "coordinates": [
           [
            [
             175.7934,
             -40.8337,
             0
            ],
            [
             175.7625,
             -40.8484,
             0
            ],
            [
             175.72582369450686,
             -40.861212224144516,
             0
            ],
            [
             175.72582369450686,
             -40.861212224144516,
             14.719999999999999
            ],
            [
             175.7625,
             -40.8484,
             14.719999999999999
            ],
            [
             175.7934,
             -40.83370000000001,
             14.719999999999999
            ],
            [
             175.7934,
             -40.8337,
             0
            ]
           ]
          ],
          "type": "Polygon"
         },
         "id": "1204",
         "properties": {
          "AseismicSlipFactor": 0,
          "CouplingCoeff": 1,
          "DipDeg": 90,
          "DipDir": 152.6,
          "FaultID": 1204,
          "FaultName": "Mokonui Southwest, Subsection 0",
          "LowDepth": 14.719999999999999,
          "ParentID": 271,
          "ParentName": "Mokonui Southwest",
          "Rake": 180,
          "Target Slip Rate": 0.0015075,
          "Target Slip Rate StdDev": 0.00048957,
          "UpDepth": 0
         },
         "type": "Feature"
        },
        {
         "geometry": {
          "coordinates": [
           [
            [
             175.72582369450686,
             -40.861212224144516,
             0
            ],
            [
             175.65596327212657,
             -40.885570914194375,
             0
            ],
            [
             175.6559632721266,
             -40.885570914194375,
             14.719999999999999
            ],
            [
             175.72582369450686,
             -40.861212224144516,
             14.719999999999999
            ],
            [
             175.72582369450686,
             -40.861212224144516,
             0
            ]
           ]
          ],
          "type": "Polygon"
         },
         "id": "1205",
         "properties": {
          "AseismicSlipFactor": 0,
          "CouplingCoeff": 1,
          "DipDeg": 90,
          "DipDir": 152.6,
          "FaultID": 1205,
          "FaultName": "Mokonui Southwest, Subsection 1",
          "LowDepth": 14.719999999999999,
          "ParentID": 271,
          "ParentName": "Mokonui Southwest",
          "Rake": 180,
          "Target Slip Rate": 0.0015075,
          "Target Slip Rate StdDev": 0.00048957,
          "UpDepth": 0
         },
         "type": "Feature"
        },
        {
         "geometry": {
          "coordinates": [
           [
            [
             175.65596327212657,
             -40.885570914194375,
             0
            ],
            [
             175.6487,
             -40.8881,
             0
            ],
            [
             175.608,
             -40.9133,
             0
            ],
            [
             175.59377765924785,
             -40.91940205261107,
             0
            ],
            [
             175.59377765924785,
             -40.91940205261107,
             14.719999999999999
            ],
            [
             175.608,
             -40.9133,
             14.719999999999999
            ],
            [
             175.6487,
             -40.8881,
             14.719999999999999
            ],
            [
             175.6559632721266,
             -40.885570914194375,
             14.719999999999999
            ],
            [
             175.65596327212657,
             -40.885570914194375,
             0
            ]
           ]
          ],
          "type": "Polygon"
         },
         "id": "1206",
         "properties": {
          "AseismicSlipFactor": 0,
          "CouplingCoeff": 1,
          "DipDeg": 90,
          "DipDir": 152.6,
          "FaultID": 1206,
          "FaultName": "Mokonui Southwest, Subsection 2",
          "LowDepth": 14.719999999999999,
          "ParentID": 271,
          "ParentName": "Mokonui Southwest",
          "Rake": 180,
          "Target Slip Rate": 0.0007875,
          "Target Slip Rate StdDev": 0.00042024,
          "UpDepth": 0
         },
         "type": "Feature"
        },
        {
         "geometry": {
          "coordinates": [
           [
            [
             175.59377765924785,
             -40.91940205261107,
             0
            ],
            [
             175.52680000000004,
             -40.94809999999998,
             0
            ],
            [
             175.52680000000004,
             -40.94809999999998,
             14.719999999999999
            ],
            [
             175.59377765924785,
             -40.91940205261107,
             14.719999999999999
            ],
            [
             175.59377765924785,
             -40.91940205261107,
             0
            ]
           ]
          ],
          "type": "Polygon"
         },
         "id": "1207",
         "properties": {
          "AseismicSlipFactor": 0,
          "CouplingCoeff": 1,
          "DipDeg": 90,
          "DipDir": 152.6,
          "FaultID": 1207,
          "FaultName": "Mokonui Southwest, Subsection 3",
          "LowDepth": 14.719999999999999,
          "ParentID": 271,
          "ParentName": "Mokonui Southwest",
          "Rake": 180,
          "Target Slip Rate": 0.0007875,
          "Target Slip Rate StdDev": 0.00042024,
          "UpDepth": 0
         },
         "type": "Feature"
        },
        {
         "geometry": {
          "coordinates": [
           [
            [
             175.6078,
             -40.4689,
             0
            ],
            [
             175.59,
             -40.4897,
             0
            ],
            [
             175.53944754718836,
             -40.53409218616337,
             0
            ],
            [
             175.53944754718836,
             -40.53409218616337,
             21.680000000000003
            ],
            [
             175.59000000000003,
             -40.4897,
             21.680000000000003
            ],
            [
             175.6078,
             -40.4689,
             21.680000000000003
            ],
            [
             175.6078,
             -40.4689,
             0
            ]
           ]
          ],
          "type": "Polygon"
         },
         "id": "1341",
         "properties": {
          "AseismicSlipFactor": 0,
          "CouplingCoeff": 1,
          "DipDeg": 90,
          "DipDir": 139.9,
          "FaultID": 1341,
          "FaultName": "Northern Ohariu, Subsection 0",
          "LowDepth": 21.680000000000003,
          "ParentID": 307,
          "ParentName": "Northern Ohariu",
          "Rake": 180,
          "Target Slip Rate": 0.0007537500000000001,
          "Target Slip Rate StdDev": 0.00065148,
          "UpDepth": 0
         },
         "type": "Feature"
        },
        {
         "geometry": {
          "coordinates": [
           [
            [
             175.53944754718836,
             -40.53409218616337,
             0
            ],
            [
             175.46741247363852,
             -40.59720966504646,
             0
            ],
            [
             175.46741247363852,
             -40.59720966504646,
             21.680000000000003
            ],
            [
             175.53944754718836,
             -40.53409218616337,
             21.680000000000003
            ],
            [
             175.53944754718836,
             -40.53409218616337,
             0
            ]
           ]
          ],
          "type": "Polygon"
         },
         "id": "1342",
         "properties": {
          "AseismicSlipFactor": 0,
          "CouplingCoeff": 1,
          "DipDeg": 90,
          "DipDir": 139.9,
          "FaultID": 1342,
          "FaultName": "Northern Ohariu, Subsection 1",
          "LowDepth": 21.680000000000003,
          "ParentID": 307,
          "ParentName": "Northern Ohariu",
          "Rake": 180,
          "Target Slip Rate": 0.003375,
          "Target Slip Rate StdDev": 0.00078868,
          "UpDepth": 0
         },
         "type": "Feature"
        },
        {
         "geometry": {
          "coordinates": [
           [
            [
             175.46741247363852,
             -40.59720966504646,
             0
            ],
            [
             175.4425,
             -40.619,
             0
            ],
            [
             175.4018,
             -40.632,
             0
            ],
            [
             175.37835191160397,
             -40.643467251732346,
             0
            ],
            [
             175.37835191160397,
             -40.643467251732346,
             21.680000000000003
            ],
            [
             175.40180000000004,
             -40.632,
             21.680000000000003
            ],
            [
             175.4425,
             -40.619,
             21.680000000000003
            ],
            [
             175.46741247363852,
             -40.59720966504646,
             21.680000000000003
            ],
            [
             175.46741247363852,
             -40.59720966504646,
             0
            ]
           ]
          ],
          "type": "Polygon"
         },
         "id": "1343",
         "properties": {
          "AseismicSlipFactor": 0,
          "CouplingCoeff": 1,
          "DipDeg": 90,
          "DipDir": 139.9,
          "FaultID": 1343,
          "FaultName": "Northern Ohariu, Subsection 2",
          "LowDepth": 21.680000000000003,
          "ParentID": 307,
          "ParentName": "Northern Ohariu",
          "Rake": 180,
          "Target Slip Rate": 0.00330003,
          "Target Slip Rate StdDev": 0.0007315,
          "UpDepth": 0
         },
         "type": "Feature"
        },
        {
         "geometry": {
          "coordinates": [
           [
            [
             175.37835191160397,
             -40.643467251732346,
             0
            ],
            [
             175.28574071143632,
             -40.68867381373384,
             0
            ],
            [
             175.28574071143632,
             -40.68867381373384,
             21.680000000000003
            ],
            [
             175.37835191160397,
             -40.643467251732346,
             21.680000000000003
            ],
            [
             175.37835191160397,
             -40.643467251732346,
             0
            ]
           ]
          ],
          "type": "Polygon"
         },
         "id": "1344",
         "properties": {
          "AseismicSlipFactor": 0,
          "CouplingCoeff": 1,
          "DipDeg": 90,
          "DipDir": 139.9,
          "FaultID": 1344,
          "FaultName": "Northern Ohariu, Subsection 3",
          "LowDepth": 21.680000000000003,
          "ParentID": 307,
          "ParentName": "Northern Ohariu",
          "Rake": 180,
          "Target Slip Rate": 0.0034425,
          "Target Slip Rate StdDev": 0.00068559,
          "UpDepth": 0
         },
         "type": "Feature"
        },
        {
         "geometry": {
          "coordinates": [
           [
            [
             175.28574071143632,
             -40.68867381373384,
             0
            ],
            [
             175.2783,
             -40.6923,
             0
            ],
            [
             175.21408368371758,
             -40.75174905817963,
             0
            ],
            [
             175.21408368371758,
             -40.75174905817963,
             21.680000000000003
            ],
            [
             175.2783,
             -40.692299999999996,
             21.680000000000003
            ],
            [
             175.28574071143632,
             -40.68867381373384,
             21.680000000000003
            ],
            [
             175.28574071143632,
             -40.68867381373384,
             0
            ]
           ]
          ],
          "type": "Polygon"
         },
         "id": "1345",
         "properties": {
          "AseismicSlipFactor": 0,
          "CouplingCoeff": 1,
          "DipDeg": 90,
          "DipDir": 139.9,
          "FaultID": 1345,
          "FaultName": "Northern Ohariu, Subsection 4",
          "LowDepth": 21.680000000000003,
          "ParentID": 307,
          "ParentName": "Northern Ohariu",
          "Rake": 180,
          "Target Slip Rate": 0.0037575,
          "Target Slip Rate StdDev": 0.0006025700000000001,
          "UpDepth": 0
         },
         "type": "Feature"
        },
        {
         "geometry": {
          "coordinates": [
           [
            [
             175.21408368371758,
             -40.75174905817963,
             0
            ],
            [
             175.1991,
             -40.7656,
             0
            ],
            [
             175.1642,
             -40.7846,
             0
            ],
            [
             175.1256,
             -40.8001,
             0
            ],
            [
             175.1256,
             -40.80009999999999,
             21.680000000000003
            ],
            [
             175.1642,
             -40.7846,
             21.680000000000003
            ],
            [
             175.1991,
             -40.7656,
             21.680000000000003
            ],
            [
             175.21408368371758,
             -40.75174905817963,
             21.680000000000003
            ],
            [
             175.21408368371758,
             -40.75174905817963,
             0
            ]
           ]
          ],
          "type": "Polygon"
         },
         "id": "1346",
         "properties": {
          "AseismicSlipFactor": 0,
          "CouplingCoeff": 1,
          "DipDeg": 90,
          "DipDir": 139.9,
          "FaultID": 1346,
          "FaultName": "Northern Ohariu, Subsection 5",
          "LowDepth": 21.680000000000003,
          "ParentID": 307,
          "ParentName": "Northern Ohariu",
          "Rake": 180,
          "Target Slip Rate": 0.00300753,
          "Target Slip Rate StdDev": 0.00059834,
          "UpDepth": 0
         },
         "type": "Feature"
        },
        {
         "geometry": {
          "coordinates": [
           [
            [
             175.1039,
             -40.8353,
             0
            ],
            [
             175.0915,
             -40.8617,
             0
            ],
            [
             175.0489,
             -40.9054,
             0
            ],
            [
             175.03706109729342,
             -40.9121370018929,
             0
            ],
            [
             175.03706109729345,
             -40.9121370018929,
             21.040000000000003
            ],
            [
             175.0489,
             -40.90540000000001,
             21.040000000000003
            ],
            [
             175.0915,
             -40.8617,
             21.040000000000003
            ],
            [
             175.10390000000004,
             -40.8353,
             21.040000000000003
            ],
            [
             175.1039,
             -40.8353,
             0
            ]
           ]
          ],
          "type": "Polygon"
         },
         "id": "1365",
         "properties": {
          "AseismicSlipFactor": 0,
          "CouplingCoeff": 1,
          "DipDeg": 90,
          "DipDir": 125.8,
          "FaultID": 1365,
          "FaultName": "Ohariu, Subsection 0",
          "LowDepth": 21.040000000000003,
          "ParentID": 313,
          "ParentName": "Ohariu",
          "Rake": 180,
          "Target Slip Rate": 0.00359253,
          "Target Slip Rate StdDev": 0.0006082300000000001,
          "UpDepth": 0
         },
         "type": "Feature"
        },
        {
         "geometry": {
          "coordinates": [
           [
            [
             175.03706109729342,
             -40.9121370018929,
             0
            ],
            [
             175.0206,
             -40.9215,
             0
            ],
            [
             175.0127,
             -40.9439,
             0
            ],
            [
             174.9824,
             -40.9713,
             0
            ],
            [
             174.9720992335781,
             -40.98869536595697,
             0
            ],
            [
             174.9720992335781,
             -40.98869536595697,
             21.040000000000003
            ],
            [
             174.9824,
             -40.9713,
             21.040000000000003
            ],
            [
             175.0127,
             -40.94389999999999,
             21.040000000000003
            ],
            [
             175.0206,
             -40.9215,
             21.040000000000003
            ],
            [
             175.03706109729345,
             -40.9121370018929,
             21.040000000000003
            ],
            [
             175.03706109729342,
             -40.9121370018929,
             0
            ]
           ]
          ],
          "type": "Polygon"
         },
         "id": "1366",
         "properties": {
          "AseismicSlipFactor": 0,
          "CouplingCoeff": 1,
          "DipDeg": 90,
          "DipDir": 125.8,
          "FaultID": 1366,
          "FaultName": "Ohariu, Subsection 1",
          "LowDepth": 21.040000000000003,
          "ParentID": 313,
          "ParentName": "Ohariu",
          "Rake": 180,
          "Target Slip Rate": 0.0033525,
          "Target Slip Rate StdDev": 0.00063452,
          "UpDepth": 0
         },
         "type": "Feature"
        },
        {
         "geometry": {
          "coordinates": [
           [
            [
             174.9720992335781,
             -40.98869536595697,
             0
            ],
            [
             174.9558,
             -41.0162,
             0
            ],
            [
             174.9375,
             -41.0287,
             0
            ],
            [
             174.90895526777396,
             -41.06793058606418,
             0
            ],
            [
             174.90895526777396,
             -41.06793058606418,
             21.040000000000003
            ],
            [
             174.9375,
             -41.02870000000001,
             21.040000000000003
            ],
            [
             174.9558,
             -41.0162,
             21.040000000000003
            ],
            [
             174.9720992335781,
             -40.98869536595697,
             21.040000000000003
            ],
            [
             174.9720992335781,
             -40.98869536595697,
             0
            ]
           ]
          ],
          "type": "Polygon"
         },
         "id": "1367",
         "properties": {
          "AseismicSlipFactor": 0,
          "CouplingCoeff": 1,
          "DipDeg": 90,
          "DipDir": 125.8,
          "FaultID": 1367,
          "FaultName": "Ohariu, Subsection 2",
          "LowDepth": 21.040000000000003,
          "ParentID": 313,
          "ParentName": "Ohariu",
          "Rake": 180,
          "Target Slip Rate": 0.00323253,
          "Target Slip Rate StdDev": 0.00066251,
          "UpDepth": 0
         },
         "type": "Feature"
        },
        {
         "geometry": {
          "coordinates": [
           [
            [
             174.90895526777396,
             -41.06793058606418,
             0
            ],
            [
             174.899,
             -41.0816,
             0
            ],
            [
             174.866,
             -41.105,
             0
            ],
            [
             174.8391,
             -41.128,
             0
            ],
            [
             174.8297309836115,
             -41.139044839188905,
             0
            ],
            [
             174.8297309836115,
             -41.139044839188905,
             21.040000000000003
            ],
            [
             174.8391,
             -41.12800000000001,
             21.040000000000003
            ],
            [
             174.866,
             -41.105,
             21.040000000000003
            ],
            [
             174.899,
             -41.08160000000001,
             21.040000000000003
            ],
            [
             174.90895526777396,
             -41.06793058606418,
             21.040000000000003
            ],
            [
             174.90895526777396,
             -41.06793058606418,
             0
            ]
           ]
          ],
          "type": "Polygon"
         },
         "id": "1368",
         "properties": {
          "AseismicSlipFactor": 0,
          "CouplingCoeff": 1,
          "DipDeg": 90,
          "DipDir": 125.8,
          "FaultID": 1368,
          "FaultName": "Ohariu, Subsection 3",
          "LowDepth": 21.040000000000003,
          "ParentID": 313,
          "ParentName": "Ohariu",
          "Rake": 180,
          "Target Slip Rate": 0.0027225,
          "Target Slip Rate StdDev": 0.0005954500000000001,
          "UpDepth": 0
         },
         "type": "Feature"
        },
        {
         "geometry": {
          "coordinates": [
           [
            [
             174.8297309836115,
             -41.139044839188905,
             0
            ],
            [
             174.7629,
             -41.2177,
             0
            ],
            [
             174.76278788611728,
             -41.21781065283859,
             0
            ],
            [
             174.76278788611728,
             -41.217810652838594,
             21.040000000000003
            ],
            [
             174.7629,
             -41.217699999999994,
             21.040000000000003
            ],
            [
             174.8297309836115,
             -41.139044839188905,
             21.040000000000003
            ],
            [
             174.8297309836115,
             -41.139044839188905,
             0
            ]
           ]
          ],
          "type": "Polygon"
         },
         "id": "1369",
         "properties": {
          "AseismicSlipFactor": 0,
          "CouplingCoeff": 1,
          "DipDeg": 90,
          "DipDir": 125.8,
          "FaultID": 1369,
          "FaultName": "Ohariu, Subsection 4",
          "LowDepth": 21.040000000000003,
          "ParentID": 313,
          "ParentName": "Ohariu",
          "Rake": 180,
          "Target Slip Rate": 0.0028125,
          "Target Slip Rate StdDev": 0.00058704,
          "UpDepth": 0
         },
         "type": "Feature"
        },
        {
         "geometry": {
          "coordinates": [
           [
            [
             174.76278788611728,
             -41.21781065283859,
             0
            ],
            [
             174.68735317311857,
             -41.29215288424625,
             0
            ],
            [
             174.68735317311857,
             -41.29215288424625,
             21.040000000000003
            ],
            [
             174.76278788611728,
             -41.217810652838594,
             21.040000000000003
            ],
            [
             174.76278788611728,
             -41.21781065283859,
             0
            ]
           ]
          ],
          "type": "Polygon"
         },
         "id": "1370",
         "properties": {
          "AseismicSlipFactor": 0,
          "CouplingCoeff": 1,
          "DipDeg": 90,
          "DipDir": 125.8,
          "FaultID": 1370,
          "FaultName": "Ohariu, Subsection 5",
          "LowDepth": 21.040000000000003,
          "ParentID": 313,
          "ParentName": "Ohariu",
          "Rake": 180,
          "Target Slip Rate": 0.0024075,
          "Target Slip Rate StdDev": 0.00065963,
          "UpDepth": 0
         },
         "type": "Feature"
        },
        {
         "geometry": {
          "coordinates": [
           [
            [
             174.68735317311857,
             -41.29215288424625,
             0
            ],
            [
             174.6626,
             -41.3165,
             0
            ],
            [
             174.6544,
             -41.3324,
             0
            ],
            [
             174.6244,
             -41.3723,
             0
            ],
            [
             174.6244,
             -41.3723,
             21.040000000000003
            ],
            [
             174.6544,
             -41.3324,
             21.040000000000003
            ],
            [
             174.6626,
             -41.3165,
             21.040000000000003
            ],
            [
             174.68735317311857,
             -41.29215288424625,
             21.040000000000003
            ],
            [
             174.68735317311857,
             -41.29215288424625,
             0
            ]
           ]
          ],
          "type": "Polygon"
         },
         "id": "1371",
         "properties": {
          "AseismicSlipFactor": 0,
          "CouplingCoeff": 1,
          "DipDeg": 90,
          "DipDir": 125.8,
          "FaultID": 1371,
          "FaultName": "Ohariu, Subsection 6",
          "LowDepth": 21.040000000000003,
          "ParentID": 313,
          "ParentName": "Ohariu",
          "Rake": 180,
          "Target Slip Rate": 0.0025875,
          "Target Slip Rate StdDev": 0.00066724,
          "UpDepth": 0
         },
         "type": "Feature"
        },
        {
         "geometry": {
          "coordinates": [
           [
            [
             174.59086081263607,
             -41.39325487249448,
             0
            ],
            [
             174.6244,
             -41.37230000000001,
             0
            ],
            [
             174.56262807189245,
             -41.314163009041344,
             22.72
            ],
            [
             174.5290690166113,
             -41.33511786935344,
             22.72
            ],
            [
             174.59086081263607,
             -41.39325487249448,
             0
            ]
           ]
          ],
          "type": "Polygon"
         },
         "id": "1375",
         "properties": {
          "AseismicSlipFactor": 0,
          "CouplingCoeff": 1,
          "DipDeg": 70,
          "DipDir": 321.4,
          "FaultID": 1375,
          "FaultName": "Ohariu South 2, Subsection 1",
          "LowDepth": 22.72,
          "ParentID": 315,
          "ParentName": "Ohariu South 2",
          "Rake": -160,
          "Target Slip Rate": 0.003915,
          "Target Slip Rate StdDev": 0.0013704,
          "UpDepth": 0
         },
         "type": "Feature"
        },
        {
         "geometry": {
          "coordinates": [
           [
            [
             175.1189,
             -41.0108,
             0
            ],
            [
             175.1463,
             -40.9964,
             0
            ],
            [
             175.17461037556177,
             -40.94956491647533,
             0
            ],
            [
             175.1187623471888,
             -40.923591140226875,
             20.560000000000002
            ],
            [
             175.09041234727022,
             -40.970426201486696,
             20.560000000000002
            ],
            [
             175.06300014547898,
             -40.98482619463476,
             20.560000000000002
            ],
            [
             175.1189,
             -41.0108,
             0
            ]
           ]
          ],
          "type": "Polygon"
         },
         "id": "1469",
         "properties": {
          "AseismicSlipFactor": 0,
          "CouplingCoeff": 1,
          "DipDeg": 75,
          "DipDir": 301.6,
          "FaultID": 1469,
          "FaultName": "Otaki Forks: 1, Subsection 0",
          "LowDepth": 20.560000000000002,
          "ParentID": 338,
          "ParentName": "Otaki Forks: 1",
          "Rake": 160,
          "Target Slip Rate": 0.0026775,
          "Target Slip Rate StdDev": 0.00060991,
          "UpDepth": 0
         },
         "type": "Feature"
        },
        {
         "geometry": {
          "coordinates": [
           [
            [
             175.17461037556177,
             -40.94956491647533,
             0
            ],
            [
             175.1927,
             -40.9196,
             0
            ],
            [
             175.225,
             -40.8833,
             0
            ],
            [
             175.1692078748817,
             -40.85732625519925,
             20.560000000000002
            ],
            [
             175.13687727413017,
             -40.893626237979966,
             20.560000000000002
            ],
            [
             175.1187623471888,
             -40.923591140226875,
             20.560000000000002
            ],
            [
             175.17461037556177,
             -40.94956491647533,
             0
            ]
           ]
          ],
          "type": "Polygon"
         },
         "id": "1470",
         "properties": {
          "AseismicSlipFactor": 0,
          "CouplingCoeff": 1,
          "DipDeg": 75,
          "DipDir": 301.6,
          "FaultID": 1470,
          "FaultName": "Otaki Forks: 1, Subsection 1",
          "LowDepth": 20.560000000000002,
          "ParentID": 338,
          "ParentName": "Otaki Forks: 1",
          "Rake": 160,
          "Target Slip Rate": 0.0028125,
          "Target Slip Rate StdDev": 0.00070711,
          "UpDepth": 0
         },
         "type": "Feature"
        },
        {
         "geometry": {
          "coordinates": [
           [
            [
             175.4392,
             -40.6889,
             0
            ],
            [
             175.3891,
             -40.7354,
             0
            ],
            [
             175.37311445715193,
             -40.757646209136226,
             0
            ],
            [
             175.37311445715196,
             -40.757646209136226,
             19.28
            ],
            [
             175.3891,
             -40.7354,
             19.28
            ],
            [
             175.4392,
             -40.6889,
             19.28
            ],
            [
             175.4392,
             -40.6889,
             0
            ]
           ]
          ],
          "type": "Polygon"
         },
         "id": "1471",
         "properties": {
          "AseismicSlipFactor": 0,
          "CouplingCoeff": 1,
          "DipDeg": 90,
          "DipDir": 130.8,
          "FaultID": 1471,
          "FaultName": "Otaki Forks: 2, Subsection 0",
          "LowDepth": 19.28,
          "ParentID": 339,
          "ParentName": "Otaki Forks: 2",
          "Rake": 180,
          "Target Slip Rate": 0.0037575,
          "Target Slip Rate StdDev": 0.00064605,
          "UpDepth": 0
         },
         "type": "Feature"
        },
        {
         "geometry": {
          "coordinates": [
           [
            [
             175.37311445715193,
             -40.757646209136226,
             0
            ],
            [
             175.3497,
             -40.7902,
             0
            ],
            [
             175.30861846572114,
             -40.827154653201475,
             0
            ],
            [
             175.30861846572114,
             -40.827154653201475,
             19.28
            ],
            [
             175.3497,
             -40.7902,
             19.28
            ],
            [
             175.37311445715196,
             -40.757646209136226,
             19.28
            ],
            [
             175.37311445715193,
             -40.757646209136226,
             0
            ]
           ]
          ],
          "type": "Polygon"
         },
         "id": "1472",
         "properties": {
          "AseismicSlipFactor": 0,
          "CouplingCoeff": 1,
          "DipDeg": 90,
          "DipDir": 130.8,
          "FaultID": 1472,
          "FaultName": "Otaki Forks: 2, Subsection 1",
          "LowDepth": 19.28,
          "ParentID": 339,
          "ParentName": "Otaki Forks: 2",
          "Rake": 180,
          "Target Slip Rate": 0.0038025,
          "Target Slip Rate StdDev": 0.00062674,
          "UpDepth": 0
         },
         "type": "Feature"
        },
        {
         "geometry": {
          "coordinates": [
           [
            [
             175.30861846572114,
             -40.827154653201475,
             0
            ],
            [
             175.2823,
             -40.8508,
             0
            ],
            [
             175.24,
             -40.8716,
             0
            ],
            [
             175.22500000000002,
             -40.88329999999999,
             0
            ],
            [
             175.22500000000002,
             -40.88329999999999,
             19.28
            ],
            [
             175.24,
             -40.871599999999994,
             19.28
            ],
            [
             175.2823,
             -40.8508,
             19.28
            ],
            [
             175.30861846572114,
             -40.827154653201475,
             19.28
            ],
            [
             175.30861846572114,
             -40.827154653201475,
             0
            ]
           ]
          ],
          "type": "Polygon"
         },
         "id": "1473",
         "properties": {
          "AseismicSlipFactor": 0,
          "CouplingCoeff": 1,
          "DipDeg": 90,
          "DipDir": 130.8,
          "FaultID": 1473,
          "FaultName": "Otaki Forks: 2, Subsection 2",
          "LowDepth": 19.28,
          "ParentID": 339,
          "ParentName": "Otaki Forks: 2",
          "Rake": 180,
          "Target Slip Rate": 0.0038475,
          "Target Slip Rate StdDev": 0.0006074300000000001,
          "UpDepth": 0
         },
         "type": "Feature"
        },
        {
         "geometry": {
          "coordinates": [
           [
            [
             174.6728,
             -41.2633,
             0
            ],
            [
             174.6454594518617,
             -41.28585323647141,
             0
            ],
            [
             174.6454594518617,
             -41.28585323647141,
             21.76
            ],
            [
             174.6728,
             -41.2633,
             21.76
            ],
            [
             174.6728,
             -41.2633,
             0
            ]
           ]
          ],
          "type": "Polygon"
         },
         "id": "1601",
         "properties": {
          "AseismicSlipFactor": 0,
          "CouplingCoeff": 1,
          "DipDeg": 90,
          "DipDir": 133.5,
          "FaultID": 1601,
          "FaultName": "Pukerua - Shepherds Gully: 1, Subsection 0",
          "LowDepth": 21.76,
          "ParentID": 373,
          "ParentName": "Pukerua - Shepherds Gully: 1",
          "Rake": 180,
          "Target Slip Rate": 0.0018225,
          "Target Slip Rate StdDev": 0.0006600200000000001,
          "UpDepth": 0
         },
         "type": "Feature"
        },
        {
         "geometry": {
          "coordinates": [
           [
            [
             174.6454594518617,
             -41.28585323647141,
             0
            ],
            [
             174.6181,
             -41.30839999999999,
             0
            ],
            [
             174.6181,
             -41.30839999999999,
             21.76
            ],
            [
             174.6454594518617,
             -41.28585323647141,
             21.76
            ],
            [
             174.6454594518617,
             -41.28585323647141,
             0
            ]
           ]
          ],
          "type": "Polygon"
         },
         "id": "1602",
         "properties": {
          "AseismicSlipFactor": 0,
          "CouplingCoeff": 1,
          "DipDeg": 90,
          "DipDir": 133.5,
          "FaultID": 1602,
          "FaultName": "Pukerua - Shepherds Gully: 1, Subsection 1",
          "LowDepth": 21.76,
          "ParentID": 373,
          "ParentName": "Pukerua - Shepherds Gully: 1",
          "Rake": 180,
          "Target Slip Rate": 0.0018225,
          "Target Slip Rate StdDev": 0.0006600200000000001,
          "UpDepth": 0
         },
         "type": "Feature"
        },
        {
         "geometry": {
          "coordinates": [
           [
            [
             174.7144,
             -41.2047,
             0
            ],
            [
             174.69360932291363,
             -41.23400187145994,
             0
            ],
            [
             174.69360932291366,
             -41.23400187145994,
             21.680000000000003
            ],
            [
             174.7144,
             -41.2047,
             21.680000000000003
            ],
            [
             174.7144,
             -41.2047,
             0
            ]
           ]
          ],
          "type": "Polygon"
         },
         "id": "1603",
         "properties": {
          "AseismicSlipFactor": 0,
          "CouplingCoeff": 1,
          "DipDeg": 90,
          "DipDir": 119.3,
          "FaultID": 1603,
          "FaultName": "Pukerua - Shepherds Gully: 2, Subsection 0",
          "LowDepth": 21.680000000000003,
          "ParentID": 374,
          "ParentName": "Pukerua - Shepherds Gully: 2",
          "Rake": 180,
          "Target Slip Rate": 0.0011925,
          "Target Slip Rate StdDev": 0.00054145,
          "UpDepth": 0
         },
         "type": "Feature"
        },
        {
         "geometry": {
          "coordinates": [
           [
            [
             174.69360932291363,
             -41.23400187145994,
             0
            ],
            [
             174.6728,
             -41.26329999999999,
             0
            ],
            [
             174.6728,
             -41.26329999999999,
             21.680000000000003
            ],
            [
             174.69360932291366,
             -41.23400187145994,
             21.680000000000003
            ],
            [
             174.69360932291363,
             -41.23400187145994,
             0
            ]
           ]
          ],
          "type": "Polygon"
         },
         "id": "1604",
         "properties": {
          "AseismicSlipFactor": 0,
          "CouplingCoeff": 1,
          "DipDeg": 90,
          "DipDir": 119.3,
          "FaultID": 1604,
          "FaultName": "Pukerua - Shepherds Gully: 2, Subsection 1",
          "LowDepth": 21.680000000000003,
          "ParentID": 374,
          "ParentName": "Pukerua - Shepherds Gully: 2",
          "Rake": 180,
          "Target Slip Rate": 0.0011925,
          "Target Slip Rate StdDev": 0.00054145,
          "UpDepth": 0
         },
         "type": "Feature"
        },
        {
         "geometry": {
          "coordinates": [
           [
            [
             174.9001,
             -41.0206,
             0
            ],
            [
             174.83831565534356,
             -41.081999774110976,
             0
            ],
            [
             174.83831565534356,
             -41.08199977411098,
             21.840000000000003
            ],
            [
             174.9001,
             -41.0206,
             21.840000000000003
            ],
            [
             174.9001,
             -41.0206,
             0
            ]
           ]
          ],
          "type": "Polygon"
         },
         "id": "1605",
         "properties": {
          "AseismicSlipFactor": 0,
          "CouplingCoeff": 1,
          "DipDeg": 90,
          "DipDir": 128.5,
          "FaultID": 1605,
          "FaultName": "Pukerua - Shepherds Gully: 3, Subsection 0",
          "LowDepth": 21.840000000000003,
          "ParentID": 375,
          "ParentName": "Pukerua - Shepherds Gully: 3",
          "Rake": 180,
          "Target Slip Rate": 0.0009225,
          "Target Slip Rate StdDev": 0.00045556,
          "UpDepth": 0
         },
         "type": "Feature"
        },
        {
         "geometry": {
          "coordinates": [
           [
            [
             174.83831565534356,
             -41.081999774110976,
             0
            ],
            [
             174.77641579003006,
             -41.143366485298245,
             0
            ],
            [
             174.77641579003006,
             -41.143366485298245,
             21.840000000000003
            ],
            [
             174.83831565534356,
             -41.08199977411098,
             21.840000000000003
            ],
            [
             174.83831565534356,
             -41.081999774110976,
             0
            ]
           ]
          ],
          "type": "Polygon"
         },
         "id": "1606",
         "properties": {
          "AseismicSlipFactor": 0,
          "CouplingCoeff": 1,
          "DipDeg": 90,
          "DipDir": 128.5,
          "FaultID": 1606,
          "FaultName": "Pukerua - Shepherds Gully: 3, Subsection 1",
          "LowDepth": 21.840000000000003,
          "ParentID": 375,
          "ParentName": "Pukerua - Shepherds Gully: 3",
          "Rake": 180,
          "Target Slip Rate": 0.0013725,
          "Target Slip Rate StdDev": 0.00049915,
          "UpDepth": 0
         },
         "type": "Feature"
        },
        {
         "geometry": {
          "coordinates": [
           [
            [
             174.77641579003006,
             -41.143366485298245,
             0
            ],
            [
             174.7144,
             -41.2047,
             0
            ],
            [
             174.7144,
             -41.2047,
             21.840000000000003
            ],
            [
             174.77641579003006,
             -41.143366485298245,
             21.840000000000003
            ],
            [
             174.77641579003006,
             -41.143366485298245,
             0
            ]
           ]
          ],
          "type": "Polygon"
         },
         "id": "1607",
         "properties": {
          "AseismicSlipFactor": 0,
          "CouplingCoeff": 1,
          "DipDeg": 90,
          "DipDir": 128.5,
          "FaultID": 1607,
          "FaultName": "Pukerua - Shepherds Gully: 3, Subsection 2",
          "LowDepth": 21.840000000000003,
          "ParentID": 375,
          "ParentName": "Pukerua - Shepherds Gully: 3",
          "Rake": 180,
          "Target Slip Rate": 0.0013725,
          "Target Slip Rate StdDev": 0.00049915,
          "UpDepth": 0
         },
         "type": "Feature"
        },
        {
         "geometry": {
          "coordinates": [
           [
            [
             176.6195,
             -39.0343,
             0
            ],
            [
             176.5748,
             -39.0922,
             0
            ],
            [
             176.55773515162926,
             -39.131588235359075,
             0
            ],
            [
             176.5088932079686,
             -39.11533606781971,
             26
            ],
            [
             176.5259853314487,
             -39.07594784676389,
             26
            ],
            [
             176.57072532829756,
             -39.01804786776043,
             26
            ],
            [
             176.6195,
             -39.0343,
             0
            ]
           ]
          ],
          "type": "Polygon"
         },
         "id": "1696",
         "properties": {
          "AseismicSlipFactor": 0,
          "CouplingCoeff": 1,
          "DipDeg": 80,
          "DipDir": 293.2,
          "FaultID": 1696,
          "FaultName": "Ruahine: North, Subsection 0",
          "LowDepth": 26,
          "ParentID": 407,
          "ParentName": "Ruahine: North",
          "Rake": 160,
          "Target Slip Rate": 0.00324,
          "Target Slip Rate StdDev": 0.00067752,
          "UpDepth": 0
         },
         "type": "Feature"
        },
        {
         "geometry": {
          "coordinates": [
           [
            [
             176.55773515162926,
             -39.131588235359075,
             0
            ],
            [
             176.5576,
             -39.1319,
             0
            ],
            [
             176.516,
             -39.1937,
             0
            ],
            [
             176.4965248101446,
             -39.22968423732109,
             0
            ],
            [
             176.4476147048543,
             -39.213432034090026,
             26
            ],
            [
             176.46711493694445,
             -39.17744780987317,
             26
            ],
            [
             176.5087578402385,
             -39.11564783234736,
             26
            ],
            [
             176.5088932079686,
             -39.11533606781971,
             26
            ],
            [
             176.55773515162926,
             -39.131588235359075,
             0
            ]
           ]
          ],
          "type": "Polygon"
         },
         "id": "1697",
         "properties": {
          "AseismicSlipFactor": 0,
          "CouplingCoeff": 1,
          "DipDeg": 80,
          "DipDir": 293.2,
          "FaultID": 1697,
          "FaultName": "Ruahine: North, Subsection 1",
          "LowDepth": 26,
          "ParentID": 407,
          "ParentName": "Ruahine: North",
          "Rake": 160,
          "Target Slip Rate": 0.00379503,
          "Target Slip Rate StdDev": 0.00069511,
          "UpDepth": 0
         },
         "type": "Feature"
        },
        {
         "geometry": {
          "coordinates": [
           [
            [
             176.4965248101446,
             -39.22968423732109,
             0
            ],
            [
             176.4596,
             -39.2978,
             0
            ],
            [
             176.4556,
             -39.317,
             0
            ],
            [
             176.45313049590402,
             -39.3326236551515,
             0
            ],
            [
             176.40414850407532,
             -39.31637141435909,
             26
            ],
            [
             176.40662894254584,
             -39.30074776491557,
             26
            ],
            [
             176.4106423681934,
             -39.28154777192667,
             26
            ],
            [
             176.4476147048543,
             -39.213432034090026,
             26
            ],
            [
             176.4965248101446,
             -39.22968423732109,
             0
            ]
           ]
          ],
          "type": "Polygon"
         },
         "id": "1698",
         "properties": {
          "AseismicSlipFactor": 0,
          "CouplingCoeff": 1,
          "DipDeg": 80,
          "DipDir": 293.2,
          "FaultID": 1698,
          "FaultName": "Ruahine: North, Subsection 2",
          "LowDepth": 26,
          "ParentID": 407,
          "ParentName": "Ruahine: North",
          "Rake": 160,
          "Target Slip Rate": 0.00444753,
          "Target Slip Rate StdDev": 0.00083379,
          "UpDepth": 0
         },
         "type": "Feature"
        },
        {
         "geometry": {
          "coordinates": [
           [
            [
             176.45313049590402,
             -39.3326236551515,
             0
            ],
            [
             176.4513,
             -39.3442,
             0
            ],
            [
             176.41410529741052,
             -39.43725873840457,
             0
            ],
            [
             176.3650498554875,
             -39.42100645931861,
             26
            ],
            [
             176.4023099008484,
             -39.32794775497659,
             26
            ],
            [
             176.40414850407532,
             -39.31637141435909,
             26
            ],
            [
             176.45313049590402,
             -39.3326236551515,
             0
            ]
           ]
          ],
          "type": "Polygon"
         },
         "id": "1699",
         "properties": {
          "AseismicSlipFactor": 0,
          "CouplingCoeff": 1,
          "DipDeg": 80,
          "DipDir": 293.2,
          "FaultID": 1699,
          "FaultName": "Ruahine: North, Subsection 3",
          "LowDepth": 26,
          "ParentID": 407,
          "ParentName": "Ruahine: North",
          "Rake": 160,
          "Target Slip Rate": 0.00500625,
          "Target Slip Rate StdDev": 0.00084702,
          "UpDepth": 0
         },
         "type": "Feature"
        },
        {
         "geometry": {
          "coordinates": [
           [
            [
             176.41410529741052,
             -39.43725873840457,
             0
            ],
            [
             176.405,
             -39.46,
             0
            ],
            [
             176.3622,
             -39.5386,
             0
            ],
            [
             176.3130730534155,
             -39.522347683716205,
             26
            ],
            [
             176.35592854370745,
             -39.44374771257618,
             26
            ],
            [
             176.3650498554875,
             -39.42100645931861,
             26
            ],
            [
             176.41410529741052,
             -39.43725873840457,
             0
            ]
           ]
          ],
          "type": "Polygon"
         },
         "id": "1700",
         "properties": {
          "AseismicSlipFactor": 0,
          "CouplingCoeff": 1,
          "DipDeg": 80,
          "DipDir": 293.2,
          "FaultID": 1700,
          "FaultName": "Ruahine: North, Subsection 4",
          "LowDepth": 26,
          "ParentID": 407,
          "ParentName": "Ruahine: North",
          "Rake": 160,
          "Target Slip Rate": 0.00523125,
          "Target Slip Rate StdDev": 0.0007899500000000001,
          "UpDepth": 0
         },
         "type": "Feature"
        },
        {
         "geometry": {
          "coordinates": [
           [
            [
             175.5511,
             -40.4095,
             0
            ],
            [
             175.51139427226065,
             -40.46440580271026,
             0
            ],
            [
             175.59683268018887,
             -40.50053472309558,
             14.32
            ],
            [
             175.63646857555145,
             -40.44562898138029,
             14.32
            ],
            [
             175.5511,
             -40.4095,
             0
            ]
           ]
          ],
          "type": "Polygon"
         },
         "id": "1897",
         "properties": {
          "AseismicSlipFactor": 0,
          "CouplingCoeff": 1,
          "DipDeg": 60,
          "DipDir": 119.1,
          "FaultID": 1897,
          "FaultName": "Tokomaru, Subsection 0",
          "LowDepth": 14.32,
          "ParentID": 459,
          "ParentName": "Tokomaru",
          "Rake": 110,
          "Target Slip Rate": 0.0020655,
          "Target Slip Rate StdDev": 0.00028831,
          "UpDepth": 0
         },
         "type": "Feature"
        },
        {
         "geometry": {
          "coordinates": [
           [
            [
             175.51139427226065,
             -40.46440580271026,
             0
            ],
            [
             175.47162358651732,
             -40.5192979973122,
             0
            ],
            [
             175.55713200237136,
             -40.55542685661777,
             14.32
            ],
            [
             175.59683268018887,
             -40.50053472309558,
             14.32
            ],
            [
             175.51139427226065,
             -40.46440580271026,
             0
            ]
           ]
          ],
          "type": "Polygon"
         },
         "id": "1898",
         "properties": {
          "AseismicSlipFactor": 0,
          "CouplingCoeff": 1,
          "DipDeg": 60,
          "DipDir": 119.1,
          "FaultID": 1898,
          "FaultName": "Tokomaru, Subsection 1",
          "LowDepth": 14.32,
          "ParentID": 459,
          "ParentName": "Tokomaru",
          "Rake": 110,
          "Target Slip Rate": 0.0020655,
          "Target Slip Rate StdDev": 0.00028831,
          "UpDepth": 0
         },
         "type": "Feature"
        },
        {
         "geometry": {
          "coordinates": [
           [
            [
             175.47162358651732,
             -40.5192979973122,
             0
            ],
            [
             175.4664,
             -40.5265,
             0
            ],
            [
             175.43541794657685,
             -40.57559728336568,
             0
            ],
            [
             175.5209983658632,
             -40.611726079921695,
             14.32
            ],
            [
             175.55191761542264,
             -40.562628851284316,
             14.32
            ],
            [
             175.55713200237136,
             -40.55542685661777,
             14.32
            ],
            [
             175.47162358651732,
             -40.5192979973122,
             0
            ]
           ]
          ],
          "type": "Polygon"
         },
         "id": "1899",
         "properties": {
          "AseismicSlipFactor": 0,
          "CouplingCoeff": 1,
          "DipDeg": 60,
          "DipDir": 119.1,
          "FaultID": 1899,
          "FaultName": "Tokomaru, Subsection 2",
          "LowDepth": 14.32,
          "ParentID": 459,
          "ParentName": "Tokomaru",
          "Rake": 110,
          "Target Slip Rate": 0.0010125,
          "Target Slip Rate StdDev": 0.00031911,
          "UpDepth": 0
         },
         "type": "Feature"
        },
        {
         "geometry": {
          "coordinates": [
           [
            [
             175.43541794657685,
             -40.57559728336568,
             0
            ],
            [
             175.3997,
             -40.63209999999999,
             0
            ],
            [
             175.48535288813642,
             -40.66822873347328,
             14.32
            ],
            [
             175.5209983658632,
             -40.611726079921695,
             14.32
            ],
            [
             175.43541794657685,
             -40.57559728336568,
             0
            ]
           ]
          ],
          "type": "Polygon"
         },
         "id": "1900",
         "properties": {
          "AseismicSlipFactor": 0,
          "CouplingCoeff": 1,
          "DipDeg": 60,
          "DipDir": 119.1,
          "FaultID": 1900,
          "FaultName": "Tokomaru, Subsection 3",
          "LowDepth": 14.32,
          "ParentID": 459,
          "ParentName": "Tokomaru",
          "Rake": 110,
          "Target Slip Rate": 0.0010125,
          "Target Slip Rate StdDev": 0.00031911,
          "UpDepth": 0
         },
         "type": "Feature"
        },
        {
         "geometry": {
          "coordinates": [
           [
            [
             174.8733049401744,
             -41.467181022515476,
             0
            ],
            [
             174.8767,
             -41.465,
             0
            ],
            [
             174.9372838842802,
             -41.41099323807189,
             0
            ],
            [
             174.88061805676182,
             -41.370199179278515,
             18
            ],
            [
             174.81998706768107,
             -41.42420591477181,
             18
            ],
            [
             174.81659010285935,
             -41.426386936218826,
             18
            ],
            [
             174.8733049401744,
             -41.467181022515476,
             0
            ]
           ]
          ],
          "type": "Polygon"
         },
         "id": "2100",
         "properties": {
          "AseismicSlipFactor": 0,
          "CouplingCoeff": 1,
          "DipDeg": 70,
          "DipDir": 313.8,
          "FaultID": 2100,
          "FaultName": "Wairarapa: 1, Subsection 2",
          "LowDepth": 18,
          "ParentID": 506,
          "ParentName": "Wairarapa: 1",
          "Rake": 160,
          "Target Slip Rate": 0.00522,
          "Target Slip Rate StdDev": 0.00059712,
          "UpDepth": 0
         },
         "type": "Feature"
        },
        {
         "geometry": {
          "coordinates": [
           [
            [
             174.9372838842802,
             -41.41099323807189,
             0
            ],
            [
             175.00063679620996,
             -41.354387803810454,
             0
            ],
            [
             174.9440202021992,
             -41.3135937726768,
             18
            ],
            [
             174.88061805676182,
             -41.370199179278515,
             18
            ],
            [
             174.9372838842802,
             -41.41099323807189,
             0
            ]
           ]
          ],
          "type": "Polygon"
         },
         "id": "2101",
         "properties": {
          "AseismicSlipFactor": 0,
          "CouplingCoeff": 1,
          "DipDeg": 70,
          "DipDir": 313.8,
          "FaultID": 2101,
          "FaultName": "Wairarapa: 1, Subsection 3",
          "LowDepth": 18,
          "ParentID": 506,
          "ParentName": "Wairarapa: 1",
          "Rake": 160,
          "Target Slip Rate": 0.0043425,
          "Target Slip Rate StdDev": 0.00051415,
          "UpDepth": 0
         },
         "type": "Feature"
        },
        {
         "geometry": {
          "coordinates": [
           [
            [
             175.00063679620996,
             -41.354387803810454,
             0
            ],
            [
             175.0501,
             -41.3101,
             0
            ],
            [
             175.06171830865475,
             -41.29655173940322,
             0
            ],
            [
             175.00515187325385,
             -41.255757736481044,
             18
            ],
            [
             174.99352182794632,
             -41.26930599047368,
             18
            ],
            [
             174.9440202021992,
             -41.3135937726768,
             18
            ],
            [
             175.00063679620996,
             -41.354387803810454,
             0
            ]
           ]
          ],
          "type": "Polygon"
         },
         "id": "2102",
         "properties": {
          "AseismicSlipFactor": 0,
          "CouplingCoeff": 1,
          "DipDeg": 70,
          "DipDir": 313.8,
          "FaultID": 2102,
          "FaultName": "Wairarapa: 1, Subsection 4",
          "LowDepth": 18,
          "ParentID": 506,
          "ParentName": "Wairarapa: 1",
          "Rake": 160,
          "Target Slip Rate": 0.0045225,
          "Target Slip Rate StdDev": 0.00053318,
          "UpDepth": 0
         },
         "type": "Feature"
        },
        {
         "geometry": {
          "coordinates": [
           [
            [
             175.06171830865475,
             -41.29655173940322,
             0
            ],
            [
             175.0837,
             -41.2709,
             0
            ],
            [
             175.12689999999998,
             -41.24210000000002,
             0
            ],
            [
             175.07038065438925,
             -41.20130602359289,
             18
            ],
            [
             175.0271557643227,
             -41.23010600957433,
             18
            ],
            [
             175.00515187325385,
             -41.255757736481044,
             18
            ],
            [
             175.06171830865475,
             -41.29655173940322,
             0
            ]
           ]
          ],
          "type": "Polygon"
         },
         "id": "2103",
         "properties": {
          "AseismicSlipFactor": 0,
          "CouplingCoeff": 1,
          "DipDeg": 70,
          "DipDir": 313.8,
          "FaultID": 2103,
          "FaultName": "Wairarapa: 1, Subsection 5",
          "LowDepth": 18,
          "ParentID": 506,
          "ParentName": "Wairarapa: 1",
          "Rake": 160,
          "Target Slip Rate": 0.0048825,
          "Target Slip Rate StdDev": 0.00055985,
          "UpDepth": 0
         },
         "type": "Feature"
        },
        {
         "geometry": {
          "coordinates": [
           [
            [
             175.1269,
             -41.2421,
             0
            ],
            [
             175.1448,
             -41.2406,
             0
            ],
            [
             175.1999,
             -41.2081,
             0
            ],
            [
             175.21088076595865,
             -41.19834065328985,
             0
            ],
            [
             175.16177143779927,
             -41.15797984525554,
             16.72
            ],
            [
             175.1507833579302,
             -41.167739188380295,
             16.72
            ],
            [
             175.09565897557923,
             -41.20023917643268,
             16.72
            ],
            [
             175.0777578492737,
             -41.20173917588098,
             16.72
            ],
            [
             175.1269,
             -41.2421,
             0
            ]
           ]
          ],
          "type": "Polygon"
         },
         "id": "2104",
         "properties": {
          "AseismicSlipFactor": 0,
          "CouplingCoeff": 1,
          "DipDeg": 70,
          "DipDir": 317.5,
          "FaultID": 2104,
          "FaultName": "Wairarapa: 2, Subsection 0",
          "LowDepth": 16.72,
          "ParentID": 507,
          "ParentName": "Wairarapa: 2",
          "Rake": 160,
          "Target Slip Rate": 0.0049725,
          "Target Slip Rate StdDev": 0.0005151099999999999,
          "UpDepth": 0
         },
         "type": "Feature"
        },
        {
         "geometry": {
          "coordinates": [
           [
            [
             175.21088076595865,
             -41.19834065328985,
             0
            ],
            [
             175.2551,
             -41.159,
             0
            ],
            [
             175.28060121506388,
             -41.139362472373996,
             0
            ],
            [
             175.23153601010893,
             -41.09900168598449,
             16.72
            ],
            [
             175.20602011825065,
             -41.118639206407906,
             16.72
            ],
            [
             175.16177143779927,
             -41.15797984525554,
             16.72
            ],
            [
             175.21088076595865,
             -41.19834065328985,
             0
            ]
           ]
          ],
          "type": "Polygon"
         },
         "id": "2105",
         "properties": {
          "AseismicSlipFactor": 0,
          "CouplingCoeff": 1,
          "DipDeg": 70,
          "DipDir": 317.5,
          "FaultID": 2105,
          "FaultName": "Wairarapa: 2, Subsection 1",
          "LowDepth": 16.72,
          "ParentID": 507,
          "ParentName": "Wairarapa: 2",
          "Rake": 160,
          "Target Slip Rate": 0.0051525,
          "Target Slip Rate StdDev": 0.0004950999999999999,
          "UpDepth": 0
         },
         "type": "Feature"
        },
        {
         "geometry": {
          "coordinates": [
           [
            [
             175.28060121506388,
             -41.139362472373996,
             0
            ],
            [
             175.3538620781445,
             -41.082850233333595,
             0
            ],
            [
             175.30483902854604,
             -41.04248946764746,
             16.72
            ],
            [
             175.23153601010893,
             -41.09900168598449,
             16.72
            ],
            [
             175.28060121506388,
             -41.139362472373996,
             0
            ]
           ]
          ],
          "type": "Polygon"
         },
         "id": "2106",
         "properties": {
          "AseismicSlipFactor": 0,
          "CouplingCoeff": 1,
          "DipDeg": 70,
          "DipDir": 317.5,
          "FaultID": 2106,
          "FaultName": "Wairarapa: 2, Subsection 2",
          "LowDepth": 16.72,
          "ParentID": 507,
          "ParentName": "Wairarapa: 2",
          "Rake": 160,
          "Target Slip Rate": 0.0053325,
          "Target Slip Rate StdDev": 0.0005425100000000001,
          "UpDepth": 0
         },
         "type": "Feature"
        },
        {
         "geometry": {
          "coordinates": [
           [
            [
             175.3538620781445,
             -41.082850233333595,
             0
            ],
            [
             175.3604,
             -41.0778,
             0
            ],
            [
             175.3734,
             -41.0708,
             0
            ],
            [
             175.4313,
             -41.0298,
             0
            ],
            [
             175.38231641408032,
             -40.9894392537166,
             16.72
            ],
            [
             175.3243859237509,
             -41.030439238723886,
             16.72
            ],
            [
             175.31138071178165,
             -41.03743923616231,
             16.72
            ],
            [
             175.30483902854604,
             -41.04248946764746,
             16.72
            ],
            [
             175.3538620781445,
             -41.082850233333595,
             0
            ]
           ]
          ],
          "type": "Polygon"
         },
         "id": "2107",
         "properties": {
          "AseismicSlipFactor": 0,
          "CouplingCoeff": 1,
          "DipDeg": 70,
          "DipDir": 317.5,
          "FaultID": 2107,
          "FaultName": "Wairarapa: 2, Subsection 3",
          "LowDepth": 16.72,
          "ParentID": 507,
          "ParentName": "Wairarapa: 2",
          "Rake": 160,
          "Target Slip Rate": 0.0055125,
          "Target Slip Rate StdDev": 0.0005561300000000001,
          "UpDepth": 0
         },
         "type": "Feature"
        },
        {
         "geometry": {
          "coordinates": [
           [
            [
             174.4881,
             -41.3729,
             0
            ],
            [
             174.42174204645917,
             -41.36511905434656,
             0
            ],
            [
             174.40063662156996,
             -41.45669127440914,
             22.16
            ],
            [
             174.466992042688,
             -41.46447221953463,
             22.16
            ],
            [
             174.4881,
             -41.3729,
             0
            ]
           ]
          ],
          "type": "Polygon"
         },
         "id": "2131",
         "properties": {
          "AseismicSlipFactor": 0,
          "CouplingCoeff": 1,
          "DipDeg": 65,
          "DipDir": 189.8,
          "FaultID": 2131,
          "FaultName": "Wairau 3, Subsection 0",
          "LowDepth": 22.16,
          "ParentID": 513,
          "ParentName": "Wairau 3",
          "Rake": -110,
          "Target Slip Rate": 0.003825,
          "Target Slip Rate StdDev": 0.0011403,
          "UpDepth": 0
         },
         "type": "Feature"
        },
        {
         "geometry": {
          "coordinates": [
           [
            [
             174.42174204645917,
             -41.36511905434656,
             0
            ],
            [
             174.3554,
             -41.3573,
             0
            ],
            [
             174.33429711893254,
             -41.448872220593,
             22.16
            ],
            [
             174.40063662156996,
             -41.45669127440914,
             22.16
            ],
            [
             174.42174204645917,
             -41.36511905434656,
             0
            ]
           ]
          ],
          "type": "Polygon"
         },
         "id": "2132",
         "properties": {
          "AseismicSlipFactor": 0,
          "CouplingCoeff": 1,
          "DipDeg": 65,
          "DipDir": 189.8,
          "FaultID": 2132,
          "FaultName": "Wairau 3, Subsection 1",
          "LowDepth": 22.16,
          "ParentID": 513,
          "ParentName": "Wairau 3",
          "Rake": -110,
          "Target Slip Rate": 0.003825,
          "Target Slip Rate StdDev": 0.0011403,
          "UpDepth": 0
         },
         "type": "Feature"
        },
        {
         "geometry": {
          "coordinates": [
           [
            [
             176.138,
             -40.6267,
             0
            ],
            [
             176.107,
             -40.6517,
             0
            ],
            [
             176.0965334174614,
             -40.6591289242437,
             0
            ],
            [
             176.1320254871747,
             -40.6888036010727,
             12.240000000000002
            ],
            [
             176.14248811378206,
             -40.68137467825415,
             12.240000000000002
            ],
            [
             176.173474812038,
             -40.65637468304783,
             12.240000000000002
            ],
            [
             176.138,
             -40.6267,
             0
            ]
           ]
          ],
          "type": "Polygon"
         },
         "id": "2146",
         "properties": {
          "AseismicSlipFactor": 0,
          "CouplingCoeff": 1,
          "DipDeg": 70,
          "DipDir": 137.8,
          "FaultID": 2146,
          "FaultName": "Waitawhiti, Subsection 0",
          "LowDepth": 12.240000000000002,
          "ParentID": 519,
          "ParentName": "Waitawhiti",
          "Rake": 160,
          "Target Slip Rate": 0.0002025,
          "Target Slip Rate StdDev": 0.00051166,
          "UpDepth": 0
         },
         "type": "Feature"
        },
        {
         "geometry": {
          "coordinates": [
           [
            [
             176.0965334174614,
             -40.6591289242437,
             0
            ],
            [
             176.053,
             -40.69,
             0
            ],
            [
             176.08850852453068,
             -40.719674670903295,
             12.240000000000002
            ],
            [
             176.1320254871747,
             -40.6888036010727,
             12.240000000000002
            ],
            [
             176.0965334174614,
             -40.6591289242437,
             0
            ]
           ]
          ],
          "type": "Polygon"
         },
         "id": "2147",
         "properties": {
          "AseismicSlipFactor": 0,
          "CouplingCoeff": 1,
          "DipDeg": 70,
          "DipDir": 137.8,
          "FaultID": 2147,
          "FaultName": "Waitawhiti, Subsection 1",
          "LowDepth": 12.240000000000002,
          "ParentID": 519,
          "ParentName": "Waitawhiti",
          "Rake": 160,
          "Target Slip Rate": 0.0002025,
          "Target Slip Rate StdDev": 0.00051166,
          "UpDepth": 0
         },
         "type": "Feature"
        },
        {
         "geometry": {
          "coordinates": [
           [
            [
             174.5186,
             -41.475,
             0
            ],
            [
             174.57867526752764,
             -41.44771561334809,
             0
            ],
            [
             174.529840893343,
             -41.384498057378636,
             22.32
            ],
            [
             174.4697451207746,
             -41.411782434116006,
             22.32
            ],
            [
             174.5186,
             -41.475,
             0
            ]
           ]
          ],
          "type": "Polygon"
         },
         "id": "2199",
         "properties": {
          "AseismicSlipFactor": 0,
          "CouplingCoeff": 1,
          "DipDeg": 70,
          "DipDir": 329.9,
          "FaultID": 2199,
          "FaultName": "Wellington Hutt Valley: 1, Subsection 0",
          "LowDepth": 22.32,
          "ParentID": 528,
          "ParentName": "Wellington Hutt Valley: 1",
          "Rake": -160,
          "Target Slip Rate": 0.002745,
          "Target Slip Rate StdDev": 0.001039,
          "UpDepth": 0
         },
         "type": "Feature"
        },
        {
         "geometry": {
          "coordinates": [
           [
            [
             174.57867526752764,
             -41.44771561334809,
             0
            ],
            [
             174.6387,
             -41.4204,
             0
            ],
            [
             174.58988612600527,
             -41.357182453948106,
             22.32
            ],
            [
             174.529840893343,
             -41.384498057378636,
             22.32
            ],
            [
             174.57867526752764,
             -41.44771561334809,
             0
            ]
           ]
          ],
          "type": "Polygon"
         },
         "id": "2200",
         "properties": {
          "AseismicSlipFactor": 0,
          "CouplingCoeff": 1,
          "DipDeg": 70,
          "DipDir": 329.9,
          "FaultID": 2200,
          "FaultName": "Wellington Hutt Valley: 1, Subsection 1",
          "LowDepth": 22.32,
          "ParentID": 528,
          "ParentName": "Wellington Hutt Valley: 1",
          "Rake": -160,
          "Target Slip Rate": 0.002745,
          "Target Slip Rate StdDev": 0.001039,
          "UpDepth": 0
         },
         "type": "Feature"
        },
        {
         "geometry": {
          "coordinates": [
           [
            [
             174.6387,
             -41.4204,
             0
            ],
            [
             174.66826699524862,
             -41.38300377973609,
             0
            ],
            [
             174.63023889631435,
             -41.36523258971267,
             21.200000000000003
            ],
            [
             174.60065002497262,
             -41.40262880173498,
             21.200000000000003
            ],
            [
             174.6387,
             -41.4204,
             0
            ]
           ]
          ],
          "type": "Polygon"
         },
         "id": "2201",
         "properties": {
          "AseismicSlipFactor": 0,
          "CouplingCoeff": 1,
          "DipDeg": 80,
          "DipDir": 301.9,
          "FaultID": 2201,
          "FaultName": "Wellington Hutt Valley: 2, Subsection 0",
          "LowDepth": 21.200000000000003,
          "ParentID": 529,
          "ParentName": "Wellington Hutt Valley: 2",
          "Rake": 160,
          "Target Slip Rate": 0.0023625,
          "Target Slip Rate StdDev": 0.00066562,
          "UpDepth": 0
         },
         "type": "Feature"
        },
        {
         "geometry": {
          "coordinates": [
           [
            [
             174.66826699524862,
             -41.38300377973609,
             0
            ],
            [
             174.6978,
             -41.345600000000005,
             0
            ],
            [
             174.65979374024704,
             -41.32782881821037,
             21.200000000000003
            ],
            [
             174.63023889631435,
             -41.36523258971267,
             21.200000000000003
            ],
            [
             174.66826699524862,
             -41.38300377973609,
             0
            ]
           ]
          ],
          "type": "Polygon"
         },
         "id": "2202",
         "properties": {
          "AseismicSlipFactor": 0,
          "CouplingCoeff": 1,
          "DipDeg": 80,
          "DipDir": 301.9,
          "FaultID": 2202,
          "FaultName": "Wellington Hutt Valley: 2, Subsection 1",
          "LowDepth": 21.200000000000003,
          "ParentID": 529,
          "ParentName": "Wellington Hutt Valley: 2",
          "Rake": 160,
          "Target Slip Rate": 0.0023625,
          "Target Slip Rate StdDev": 0.00066562,
          "UpDepth": 0
         },
         "type": "Feature"
        },
        {
         "geometry": {
          "coordinates": [
           [
            [
             174.7808,
             -41.2682,
             0
            ],
            [
             174.7392,
             -41.3031,
             0
            ],
            [
             174.73691921963152,
             -41.30544321025075,
             0
            ],
            [
             174.73691921963152,
             -41.30544321025075,
             20.240000000000002
            ],
            [
             174.7392,
             -41.3031,
             20.240000000000002
            ],
            [
             174.7808,
             -41.2682,
             20.240000000000002
            ],
            [
             174.7808,
             -41.2682,
             0
            ]
           ]
          ],
          "type": "Polygon"
         },
         "id": "2203",
         "properties": {
          "AseismicSlipFactor": 0,
          "CouplingCoeff": 1,
          "DipDeg": 90,
          "DipDir": 310,
          "FaultID": 2203,
          "FaultName": "Wellington Hutt Valley: 3, Subsection 0",
          "LowDepth": 20.240000000000002,
          "ParentID": 530,
          "ParentName": "Wellington Hutt Valley: 3",
          "Rake": 180,
          "Target Slip Rate": 0.0018675,
          "Target Slip Rate StdDev": 0.00058349,
          "UpDepth": 0
         },
         "type": "Feature"
        },
        {
         "geometry": {
          "coordinates": [
           [
            [
             174.73691921963152,
             -41.30544321025075,
             0
            ],
            [
             174.6978,
             -41.3456,
             0
            ],
            [
             174.6978,
             -41.3456,
             20.240000000000002
            ],
            [
             174.73691921963152,
             -41.30544321025075,
             20.240000000000002
            ],
            [
             174.73691921963152,
             -41.30544321025075,
             0
            ]
           ]
          ],
          "type": "Polygon"
         },
         "id": "2204",
         "properties": {
          "AseismicSlipFactor": 0,
          "CouplingCoeff": 1,
          "DipDeg": 90,
          "DipDir": 310,
          "FaultID": 2204,
          "FaultName": "Wellington Hutt Valley: 3, Subsection 1",
          "LowDepth": 20.240000000000002,
          "ParentID": 530,
          "ParentName": "Wellington Hutt Valley: 3",
          "Rake": 180,
          "Target Slip Rate": 0.0018675,
          "Target Slip Rate StdDev": 0.00058349,
          "UpDepth": 0
         },
         "type": "Feature"
        },
        {
         "geometry": {
          "coordinates": [
           [
            [
             175.7942,
             -40.3671,
             0
            ],
            [
             175.73392509292535,
             -40.42817117416799,
             0
            ],
            [
             175.69762200905322,
             -40.40993888467854,
             20.880000000000003
            ],
            [
             175.75792980944306,
             -40.348867722758236,
             20.880000000000003
            ],
            [
             175.7942,
             -40.3671,
             0
            ]
           ]
          ],
          "type": "Polygon"
         },
         "id": "2210",
         "properties": {
          "AseismicSlipFactor": 0,
          "CouplingCoeff": 1,
          "DipDeg": 80,
          "DipDir": 303.4,
          "FaultID": 2210,
          "FaultName": "Wellington: Pahiatua, Subsection 0",
          "LowDepth": 20.880000000000003,
          "ParentID": 533,
          "ParentName": "Wellington: Pahiatua",
          "Rake": 160,
          "Target Slip Rate": 0.0053325,
          "Target Slip Rate StdDev": 0.00073378,
          "UpDepth": 0
         },
         "type": "Feature"
        },
        {
         "geometry": {
          "coordinates": [
           [
            [
             175.73392509292535,
             -40.42817117416799,
             0
            ],
            [
             175.7165,
             -40.4458,
             0
            ],
            [
             175.68105161924245,
             -40.49297422187355,
             0
            ],
            [
             175.64471352155158,
             -40.47474191936365,
             20.880000000000003
            ],
            [
             175.68018740235587,
             -40.42756770697098,
             20.880000000000003
            ],
            [
             175.69762200905322,
             -40.40993888467854,
             20.880000000000003
            ],
            [
             175.73392509292535,
             -40.42817117416799,
             0
            ]
           ]
          ],
          "type": "Polygon"
         },
         "id": "2211",
         "properties": {
          "AseismicSlipFactor": 0,
          "CouplingCoeff": 1,
          "DipDeg": 80,
          "DipDir": 303.4,
          "FaultID": 2211,
          "FaultName": "Wellington: Pahiatua, Subsection 1",
          "LowDepth": 20.880000000000003,
          "ParentID": 533,
          "ParentName": "Wellington: Pahiatua",
          "Rake": 160,
          "Target Slip Rate": 0.0047925,
          "Target Slip Rate StdDev": 0.0007025,
          "UpDepth": 0
         },
         "type": "Feature"
        },
        {
         "geometry": {
          "coordinates": [
           [
            [
             176.58140829460393,
             -38.7727187176275,
             0
            ],
            [
             176.5809,
             -38.8194,
             0
            ],
            [
             176.5896447339804,
             -38.859441889028126,
             0
            ],
            [
             176.54778852101785,
             -38.85438841219441,
             20.8
            ],
            [
             176.53906732832775,
             -38.81434653384489,
             20.8
            ],
            [
             176.53960300846134,
             -38.76766526390649,
             20.8
            ],
            [
             176.58140829460393,
             -38.7727187176275,
             0
            ]
           ]
          ],
          "type": "Polygon"
         },
         "id": "2295",
         "properties": {
          "AseismicSlipFactor": 0,
          "CouplingCoeff": 1,
          "DipDeg": 80,
          "DipDir": 278.8,
          "FaultID": 2295,
          "FaultName": "Wheao: South, Subsection 3",
          "LowDepth": 20.8,
          "ParentID": 549,
          "ParentName": "Wheao: South",
          "Rake": -160,
          "Target Slip Rate": 0.0007524999999999999,
          "Target Slip Rate StdDev": 0.00048215,
          "UpDepth": 0
         },
         "type": "Feature"
        },
        {
         "geometry": {
          "coordinates": [
           [
            [
             176.5896447339804,
             -38.859441889028126,
             0
            ],
            [
             176.5993,
             -38.9036,
             0
            ],
            [
             176.59360913895657,
             -38.94587565063203,
             0
            ],
            [
             176.55170194987306,
             -38.94082215070658,
             20.8
            ],
            [
             176.5574177712795,
             -38.898546511375976,
             20.8
            ],
            [
             176.54778852101785,
             -38.85438841219441,
             20.8
            ],
            [
             176.5896447339804,
             -38.859441889028126,
             0
            ]
           ]
          ],
          "type": "Polygon"
         },
         "id": "2296",
         "properties": {
          "AseismicSlipFactor": 0,
          "CouplingCoeff": 1,
          "DipDeg": 80,
          "DipDir": 278.8,
          "FaultID": 2296,
          "FaultName": "Wheao: South, Subsection 4",
          "LowDepth": 20.8,
          "ParentID": 549,
          "ParentName": "Wheao: South",
          "Rake": -160,
          "Target Slip Rate": 0.00108,
          "Target Slip Rate StdDev": 0.00051221,
          "UpDepth": 0
         },
         "type": "Feature"
        },
        {
         "geometry": {
          "coordinates": [
           [
            [
             176.59360913895657,
             -38.94587565063203,
             0
            ],
            [
             176.5819,
             -39.0327,
             0
            ],
            [
             176.53994138302352,
             -39.02764647682172,
             20.8
            ],
            [
             176.55170194987306,
             -38.94082215070658,
             20.8
            ],
            [
             176.59360913895657,
             -38.94587565063203,
             0
            ]
           ]
          ],
          "type": "Polygon"
         },
         "id": "2297",
         "properties": {
          "AseismicSlipFactor": 0,
          "CouplingCoeff": 1,
          "DipDeg": 80,
          "DipDir": 278.8,
          "FaultID": 2297,
          "FaultName": "Wheao: South, Subsection 5",
          "LowDepth": 20.8,
          "ParentID": 549,
          "ParentName": "Wheao: South",
          "Rake": -160,
          "Target Slip Rate": 0.0011474999999999,
          "Target Slip Rate StdDev": 0.0005335600000000001,
          "UpDepth": 0
         },
         "type": "Feature"
        },
        {
         "geometry": {
          "coordinates": [
           [
            [
             174.9360024151462,
             -41.2985545083867,
             0
            ],
            [
             174.947,
             -41.2817,
             0
            ],
            [
             174.968,
             -41.2583,
             0
            ],
            [
             174.98896193554762,
             -41.22574694015119,
             0
            ],
            [
             174.86420563815088,
             -41.17490563535433,
             20.560000000000002
            ],
            [
             174.84318165460527,
             -41.20745861799603,
             20.560000000000002
            ],
            [
             174.82213698981215,
             -41.230858562450045,
             20.560000000000002
            ],
            [
             174.81110720116536,
             -41.24771303080356,
             20.560000000000002
            ],
            [
             174.9360024151462,
             -41.2985545083867,
             0
            ]
           ]
          ],
          "type": "Polygon"
         },
         "id": "2321",
         "properties": {
          "AseismicSlipFactor": 0,
          "CouplingCoeff": 1,
          "DipDeg": 60,
          "DipDir": 298.4,
          "FaultID": 2321,
          "FaultName": "Whitemans Valley, Subsection 1",
          "LowDepth": 20.560000000000002,
          "ParentID": 555,
          "ParentName": "Whitemans Valley",
          "Rake": 110,
          "Target Slip Rate": 0.000213003,
          "Target Slip Rate StdDev": 0.00021322,
          "UpDepth": 0
         },
         "type": "Feature"
        },
        {
         "geometry": {
          "coordinates": [
           [
            [
             174.98896193554762,
             -41.22574694015119,
             0
            ],
            [
             174.998,
             -41.2117,
             0
            ],
            [
             175.015,
             -41.195,
             0
            ],
            [
             175.018,
             -41.1767,
             0
            ],
            [
             175.035,
             -41.1517,
             0
            ],
            [
             174.91038446114501,
             -41.100858870537174,
             20.560000000000002
            ],
            [
             174.89333699653724,
             -41.12585881138451,
             20.560000000000002
            ],
            [
             174.8903022144632,
             -41.14415876805617,
             20.560000000000002
            ],
            [
             174.8732704453959,
             -41.160858728495,
             20.560000000000002
            ],
            [
             174.86420563815088,
             -41.17490563535433,
             20.560000000000002
            ],
            [
             174.98896193554762,
             -41.22574694015119,
             0
            ]
           ]
          ],
          "type": "Polygon"
         },
         "id": "2322",
         "properties": {
          "AseismicSlipFactor": 0,
          "CouplingCoeff": 1,
          "DipDeg": 60,
          "DipDir": 298.4,
          "FaultID": 2322,
          "FaultName": "Whitemans Valley, Subsection 2",
          "LowDepth": 20.560000000000002,
          "ParentID": 555,
          "ParentName": "Whitemans Valley",
          "Rake": 110,
          "Target Slip Rate": 0.000153,
          "Target Slip Rate StdDev": 0.00021087,
          "UpDepth": 0
         },
         "type": "Feature"
        }
       ],
       "type": "FeatureCollection"
      },
      "text/plain": [
       "<IPython.display.GeoJSON object>"
      ]
     },
     "metadata": {
      "application/geo+json": {
       "expanded": false,
       "root": "root"
      }
     },
     "output_type": "display_data"
    }
   ],
   "source": [
    "from IPython.display import GeoJSON\n",
    "GeoJSON(json.loads(surfaces.to_json()))"
   ]
  },
  {
   "cell_type": "code",
   "execution_count": 142,
   "id": "dcca8c46-f7f9-4ae9-9952-868b47ea2462",
   "metadata": {},
   "outputs": [
    {
     "name": "stdout",
     "output_type": "stream",
     "text": [
      "CPU times: user 12.2 s, sys: 227 ms, total: 12.5 s\n",
      "Wall time: 12.5 s\n"
     ]
    }
   ],
   "source": [
    "## new solution\n",
    "%time new_solution = solution.filter_solution(solution, rupture_ids=ruptures)"
   ]
  },
  {
   "cell_type": "code",
   "execution_count": 143,
   "id": "3725296c-128c-4037-8216-c43358b5d98c",
   "metadata": {},
   "outputs": [
    {
     "data": {
      "text/plain": [
       "(87, 14)"
      ]
     },
     "execution_count": 143,
     "metadata": {},
     "output_type": "execute_result"
    }
   ],
   "source": [
    "new_surfaces_all = new_solution.fault_surfaces()\n",
    "\n",
    "new_ruptures = FilterRuptureIds(new_solution)\\\n",
    "    .for_parent_fault_names(TARGET_FAULTS)\n",
    "\n",
    "assert list(new_ruptures) == list(ruptures)\n",
    "\n",
    "new_subsections = FilterSubsectionIds(new_solution).for_rupture_ids(new_ruptures)\n",
    "new_surfaces = new_surfaces_all[new_surfaces_all[\"FaultID\"].isin(new_subsections)]\n",
    "new_surfaces.shape"
   ]
  },
  {
   "cell_type": "code",
   "execution_count": 144,
   "id": "e64ec912-569f-4013-93e2-a649f7f5c264",
   "metadata": {},
   "outputs": [
    {
     "data": {
      "application/geo+json": {
       "features": [
        {
         "geometry": {
          "coordinates": [
           [
            [
             173.7222889067262,
             -41.816345683856916,
             0
            ],
            [
             173.82338433117926,
             -41.755418786172626,
             0
            ],
            [
             173.78279320635113,
             -41.71476116923573,
             21.040000000000003
            ],
            [
             173.68165924510254,
             -41.77568805161591,
             21.040000000000003
            ],
            [
             173.7222889067262,
             -41.816345683856916,
             0
            ]
           ]
          ],
          "type": "Polygon"
         },
         "id": "132",
         "properties": {
          "AseismicSlipFactor": 0,
          "CouplingCoeff": 1,
          "DipDeg": 75,
          "DipDir": 323.3,
          "FaultID": 132,
          "FaultName": "Awatere: Northeast 1, Subsection 5",
          "LowDepth": 21.040000000000003,
          "ParentID": 30,
          "ParentName": "Awatere: Northeast 1",
          "Rake": 160,
          "Target Slip Rate": 0.0053774999999999,
          "Target Slip Rate StdDev": 0.00069359,
          "UpDepth": 0
         },
         "type": "Feature"
        },
        {
         "geometry": {
          "coordinates": [
           [
            [
             173.82338433117926,
             -41.755418786172626,
             0
            ],
            [
             173.92428786307576,
             -41.69440343925775,
             0
            ],
            [
             173.88373521188305,
             -41.65374583761812,
             21.040000000000003
            ],
            [
             173.78279320635113,
             -41.71476116923573,
             21.040000000000003
            ],
            [
             173.82338433117926,
             -41.755418786172626,
             0
            ]
           ]
          ],
          "type": "Polygon"
         },
         "id": "133",
         "properties": {
          "AseismicSlipFactor": 0,
          "CouplingCoeff": 1,
          "DipDeg": 75,
          "DipDir": 323.3,
          "FaultID": 133,
          "FaultName": "Awatere: Northeast 1, Subsection 6",
          "LowDepth": 21.040000000000003,
          "ParentID": 30,
          "ParentName": "Awatere: Northeast 1",
          "Rake": 160,
          "Target Slip Rate": 0.0053774999999999,
          "Target Slip Rate StdDev": 0.00069359,
          "UpDepth": 0
         },
         "type": "Feature"
        },
        {
         "geometry": {
          "coordinates": [
           [
            [
             173.92428786307576,
             -41.69440343925775,
             0
            ],
            [
             174.025,
             -41.6333,
             0
            ],
            [
             173.98448575896683,
             -41.592642413650715,
             21.040000000000003
            ],
            [
             173.88373521188305,
             -41.65374583761812,
             21.040000000000003
            ],
            [
             173.92428786307576,
             -41.69440343925775,
             0
            ]
           ]
          ],
          "type": "Polygon"
         },
         "id": "134",
         "properties": {
          "AseismicSlipFactor": 0,
          "CouplingCoeff": 1,
          "DipDeg": 75,
          "DipDir": 323.3,
          "FaultID": 134,
          "FaultName": "Awatere: Northeast 1, Subsection 7",
          "LowDepth": 21.040000000000003,
          "ParentID": 30,
          "ParentName": "Awatere: Northeast 1",
          "Rake": 160,
          "Target Slip Rate": 0.004095,
          "Target Slip Rate StdDev": 0.00079421,
          "UpDepth": 0
         },
         "type": "Feature"
        },
        {
         "geometry": {
          "coordinates": [
           [
            [
             174.025,
             -41.6333,
             0
            ],
            [
             174.13933705466923,
             -41.58415655034172,
             0
            ],
            [
             174.11542867784334,
             -41.552008621946946,
             23.200000000000003
            ],
            [
             174.001073424646,
             -41.601152067323476,
             23.200000000000003
            ],
            [
             174.025,
             -41.6333,
             0
            ]
           ]
          ],
          "type": "Polygon"
         },
         "id": "135",
         "properties": {
          "AseismicSlipFactor": 0,
          "CouplingCoeff": 1,
          "DipDeg": 80,
          "DipDir": 330.9,
          "FaultID": 135,
          "FaultName": "Awatere: Northeast 2, Subsection 0",
          "LowDepth": 23.200000000000003,
          "ParentID": 31,
          "ParentName": "Awatere: Northeast 2",
          "Rake": 180,
          "Target Slip Rate": 0.005805,
          "Target Slip Rate StdDev": 0.0012018,
          "UpDepth": 0
         },
         "type": "Feature"
        },
        {
         "geometry": {
          "coordinates": [
           [
            [
             174.13933705466923,
             -41.58415655034172,
             0
            ],
            [
             174.2535,
             -41.5349,
             0
            ],
            [
             174.2296098182043,
             -41.50275207589029,
             23.200000000000003
            ],
            [
             174.11542867784334,
             -41.552008621946946,
             23.200000000000003
            ],
            [
             174.13933705466923,
             -41.58415655034172,
             0
            ]
           ]
          ],
          "type": "Polygon"
         },
         "id": "136",
         "properties": {
          "AseismicSlipFactor": 0,
          "CouplingCoeff": 1,
          "DipDeg": 80,
          "DipDir": 330.9,
          "FaultID": 136,
          "FaultName": "Awatere: Northeast 2, Subsection 1",
          "LowDepth": 23.200000000000003,
          "ParentID": 31,
          "ParentName": "Awatere: Northeast 2",
          "Rake": 180,
          "Target Slip Rate": 0.007245,
          "Target Slip Rate StdDev": 0.0014046,
          "UpDepth": 0
         },
         "type": "Feature"
        },
        {
         "geometry": {
          "coordinates": [
           [
            [
             174.3259,
             -41.4656,
             0
            ],
            [
             174.3028510843706,
             -41.46865230065417,
             0
            ],
            [
             174.31795620962598,
             -41.54003507015504,
             22.080000000000002
            ],
            [
             174.3410044123772,
             -41.53698276960693,
             22.080000000000002
            ],
            [
             174.3259,
             -41.4656,
             0
            ]
           ]
          ],
          "type": "Polygon"
         },
         "id": "453",
         "properties": {
          "AseismicSlipFactor": 0,
          "CouplingCoeff": 1,
          "DipDeg": 70,
          "DipDir": 171,
          "FaultID": 453,
          "FaultName": "Cloudy 2, Subsection 0",
          "LowDepth": 22.080000000000002,
          "ParentID": 86,
          "ParentName": "Cloudy 2",
          "Rake": -110,
          "Target Slip Rate": 0.00441,
          "Target Slip Rate StdDev": 0.00221,
          "UpDepth": 0
         },
         "type": "Feature"
        },
        {
         "geometry": {
          "coordinates": [
           [
            [
             174.3028510843706,
             -41.46865230065417,
             0
            ],
            [
             174.2798,
             -41.47169999999999,
             0
            ],
            [
             174.29490583716876,
             -41.54308276939494,
             22.080000000000002
            ],
            [
             174.31795620962598,
             -41.54003507015504,
             22.080000000000002
            ],
            [
             174.3028510843706,
             -41.46865230065417,
             0
            ]
           ]
          ],
          "type": "Polygon"
         },
         "id": "454",
         "properties": {
          "AseismicSlipFactor": 0,
          "CouplingCoeff": 1,
          "DipDeg": 70,
          "DipDir": 171,
          "FaultID": 454,
          "FaultName": "Cloudy 2, Subsection 1",
          "LowDepth": 22.080000000000002,
          "ParentID": 86,
          "ParentName": "Cloudy 2",
          "Rake": -110,
          "Target Slip Rate": 0.00441,
          "Target Slip Rate StdDev": 0.00221,
          "UpDepth": 0
         },
         "type": "Feature"
        },
        {
         "geometry": {
          "coordinates": [
           [
            [
             175.60881796773072,
             -40.96057042440613,
             0
            ],
            [
             175.5877,
             -40.9682,
             0
            ],
            [
             175.54348275532178,
             -40.9708403543804,
             0
            ],
            [
             175.5632165738695,
             -41.02275985636053,
             12.880000000000003
            ],
            [
             175.6074330274443,
             -41.02011950213672,
             12.880000000000003
            ],
            [
             175.62854870979223,
             -41.012489926995286,
             12.880000000000003
            ],
            [
             175.60881796773072,
             -40.96057042440613,
             0
            ]
           ]
          ],
          "type": "Polygon"
         },
         "id": "1127",
         "properties": {
          "AseismicSlipFactor": 0,
          "CouplingCoeff": 1,
          "DipDeg": 65,
          "DipDir": 164,
          "FaultID": 1127,
          "FaultName": "Masterton, Subsection 2",
          "LowDepth": 12.880000000000003,
          "ParentID": 257,
          "ParentName": "Masterton",
          "Rake": -160,
          "Target Slip Rate": 0.0006525,
          "Target Slip Rate StdDev": 0.00053003,
          "UpDepth": 0
         },
         "type": "Feature"
        },
        {
         "geometry": {
          "coordinates": [
           [
            [
             175.54348275532178,
             -40.9708403543804,
             0
            ],
            [
             175.5408,
             -40.971,
             0
            ],
            [
             175.48280000000005,
             -40.99329999999999,
             0
            ],
            [
             175.5025405521713,
             -41.04521950064752,
             12.880000000000003
            ],
            [
             175.56053386638416,
             -41.02291950197065,
             12.880000000000003
            ],
            [
             175.5632165738695,
             -41.02275985636053,
             12.880000000000003
            ],
            [
             175.54348275532178,
             -40.9708403543804,
             0
            ]
           ]
          ],
          "type": "Polygon"
         },
         "id": "1128",
         "properties": {
          "AseismicSlipFactor": 0,
          "CouplingCoeff": 1,
          "DipDeg": 65,
          "DipDir": 164,
          "FaultID": 1128,
          "FaultName": "Masterton, Subsection 3",
          "LowDepth": 12.880000000000003,
          "ParentID": 257,
          "ParentName": "Masterton",
          "Rake": -160,
          "Target Slip Rate": 0.0005175000000000001,
          "Target Slip Rate StdDev": 0.0004681000000000001,
          "UpDepth": 0
         },
         "type": "Feature"
        },
        {
         "geometry": {
          "coordinates": [
           [
            [
             175.7942,
             -40.3671,
             0
            ],
            [
             175.827,
             -40.3378,
             0
            ],
            [
             175.87215100755003,
             -40.287526389272,
             0
            ],
            [
             175.83274162756234,
             -40.26909276435021,
             22.240000000000002
            ],
            [
             175.78756128965264,
             -40.31936636317711,
             22.240000000000002
            ],
            [
             175.75474416143993,
             -40.34866635623284,
             22.240000000000002
            ],
            [
             175.7942,
             -40.3671,
             0
            ]
           ]
          ],
          "type": "Polygon"
         },
         "id": "1190",
         "properties": {
          "AseismicSlipFactor": 0,
          "CouplingCoeff": 1,
          "DipDeg": 80,
          "DipDir": 301.5,
          "FaultID": 1190,
          "FaultName": "Mohaka: South, Subsection 0",
          "LowDepth": 22.240000000000002,
          "ParentID": 269,
          "ParentName": "Mohaka: South",
          "Rake": 160,
          "Target Slip Rate": 0.005445,
          "Target Slip Rate StdDev": 0.0010736,
          "UpDepth": 0
         },
         "type": "Feature"
        },
        {
         "geometry": {
          "coordinates": [
           [
            [
             175.87215100755003,
             -40.287526389272,
             0
            ],
            [
             175.8911,
             -40.2664,
             0
            ],
            [
             175.9358,
             -40.2303,
             0
            ],
            [
             175.95286581293553,
             -40.20993651817644,
             0
            ],
            [
             175.91350155506902,
             -40.19150291158756,
             22.240000000000002
            ],
            [
             175.8964239168121,
             -40.2118663886037,
             22.240000000000002
            ],
            [
             175.8517029233953,
             -40.247966380074104,
             22.240000000000002
            ],
            [
             175.83274162756234,
             -40.26909276435021,
             22.240000000000002
            ],
            [
             175.87215100755003,
             -40.287526389272,
             0
            ]
           ]
          ],
          "type": "Polygon"
         },
         "id": "1191",
         "properties": {
          "AseismicSlipFactor": 0,
          "CouplingCoeff": 1,
          "DipDeg": 80,
          "DipDir": 301.5,
          "FaultID": 1191,
          "FaultName": "Mohaka: South, Subsection 1",
          "LowDepth": 22.240000000000002,
          "ParentID": 269,
          "ParentName": "Mohaka: South",
          "Rake": 160,
          "Target Slip Rate": 0.00523503,
          "Target Slip Rate StdDev": 0.0010603,
          "UpDepth": 0
         },
         "type": "Feature"
        },
        {
         "geometry": {
          "coordinates": [
           [
            [
             175.95286581293553,
             -40.20993651817644,
             0
            ],
            [
             175.9601,
             -40.2013,
             0
            ],
            [
             175.9707,
             -40.181,
             0
            ],
            [
             175.9866,
             -40.1621,
             0
            ],
            [
             176.01778995227204,
             -40.12408889469149,
             0
            ],
            [
             175.97847541462784,
             -40.10565530833782,
             22.240000000000002
            ],
            [
             175.94726347392523,
             -40.143666404693015,
             22.240000000000002
            ],
            [
             175.93135252516296,
             -40.16256640023748,
             22.240000000000002
            ],
            [
             175.92074075381873,
             -40.18286639544915,
             22.240000000000002
            ],
            [
             175.91350155506902,
             -40.19150291158756,
             22.240000000000002
            ],
            [
             175.95286581293553,
             -40.20993651817644,
             0
            ]
           ]
          ],
          "type": "Polygon"
         },
         "id": "1192",
         "properties": {
          "AseismicSlipFactor": 0,
          "CouplingCoeff": 1,
          "DipDeg": 80,
          "DipDir": 301.5,
          "FaultID": 1192,
          "FaultName": "Mohaka: South, Subsection 2",
          "LowDepth": 22.240000000000002,
          "ParentID": 269,
          "ParentName": "Mohaka: South",
          "Rake": 160,
          "Target Slip Rate": 0.00504,
          "Target Slip Rate StdDev": 0.0010639,
          "UpDepth": 0
         },
         "type": "Feature"
        },
        {
         "geometry": {
          "coordinates": [
           [
            [
             176.01778995227204,
             -40.12408889469149,
             0
            ],
            [
             176.0603,
             -40.0722,
             0
            ],
            [
             176.0825839407859,
             -40.038008264965995,
             0
            ],
            [
             176.0433190439643,
             -40.01957469885127,
             22.240000000000002
            ],
            [
             176.0210154111799,
             -40.05376642585237,
             22.240000000000002
            ],
            [
             175.97847541462784,
             -40.10565530833782,
             22.240000000000002
            ],
            [
             176.01778995227204,
             -40.12408889469149,
             0
            ]
           ]
          ],
          "type": "Polygon"
         },
         "id": "1193",
         "properties": {
          "AseismicSlipFactor": 0,
          "CouplingCoeff": 1,
          "DipDeg": 80,
          "DipDir": 301.5,
          "FaultID": 1193,
          "FaultName": "Mohaka: South, Subsection 3",
          "LowDepth": 22.240000000000002,
          "ParentID": 269,
          "ParentName": "Mohaka: South",
          "Rake": 160,
          "Target Slip Rate": 0.00513,
          "Target Slip Rate StdDev": 0.00091433,
          "UpDepth": 0
         },
         "type": "Feature"
        },
        {
         "geometry": {
          "coordinates": [
           [
            [
             176.0825839407859,
             -40.038008264965995,
             0
            ],
            [
             176.0975,
             -40.0151,
             0
            ],
            [
             176.14996506295185,
             -39.95315213159975,
             0
            ],
            [
             176.1107488917386,
             -39.93471858538615,
             22.240000000000002
            ],
            [
             176.05824827784588,
             -39.99666643926277,
             22.240000000000002
            ],
            [
             176.0433190439643,
             -40.01957469885127,
             22.240000000000002
            ],
            [
             176.0825839407859,
             -40.038008264965995,
             0
            ]
           ]
          ],
          "type": "Polygon"
         },
         "id": "1194",
         "properties": {
          "AseismicSlipFactor": 0,
          "CouplingCoeff": 1,
          "DipDeg": 80,
          "DipDir": 301.5,
          "FaultID": 1194,
          "FaultName": "Mohaka: South, Subsection 4",
          "LowDepth": 22.240000000000002,
          "ParentID": 269,
          "ParentName": "Mohaka: South",
          "Rake": 160,
          "Target Slip Rate": 0.00522,
          "Target Slip Rate StdDev": 0.00089689,
          "UpDepth": 0
         },
         "type": "Feature"
        },
        {
         "geometry": {
          "coordinates": [
           [
            [
             176.14996506295185,
             -39.95315213159975,
             0
            ],
            [
             176.155,
             -39.9472,
             0
            ],
            [
             176.1912,
             -39.8983,
             0
            ],
            [
             176.21157449805304,
             -39.86573817978839,
             0
            ],
            [
             176.17240830517372,
             -39.84730465402424,
             22.240000000000002
            ],
            [
             176.1520152156746,
             -39.8798664666245,
             22.240000000000002
            ],
            [
             176.11578723882107,
             -39.92876645518049,
             22.240000000000002
            ],
            [
             176.1107488917386,
             -39.93471858538615,
             22.240000000000002
            ],
            [
             176.14996506295185,
             -39.95315213159975,
             0
            ]
           ]
          ],
          "type": "Polygon"
         },
         "id": "1195",
         "properties": {
          "AseismicSlipFactor": 0,
          "CouplingCoeff": 1,
          "DipDeg": 80,
          "DipDir": 301.5,
          "FaultID": 1195,
          "FaultName": "Mohaka: South, Subsection 5",
          "LowDepth": 22.240000000000002,
          "ParentID": 269,
          "ParentName": "Mohaka: South",
          "Rake": 160,
          "Target Slip Rate": 0.00541503,
          "Target Slip Rate StdDev": 0.00086775,
          "UpDepth": 0
         },
         "type": "Feature"
        },
        {
         "geometry": {
          "coordinates": [
           [
            [
             176.21157449805304,
             -39.86573817978839,
             0
            ],
            [
             176.2557,
             -39.7951,
             0
            ],
            [
             176.2631,
             -39.7749,
             0
            ],
            [
             176.26315624134813,
             -39.77479284682109,
             0
            ],
            [
             176.2240418143043,
             -39.756359342277335,
             22.240000000000002
            ],
            [
             176.22398551210335,
             -39.75646649543127,
             22.240000000000002
            ],
            [
             176.2165740345956,
             -39.77666649072282,
             22.240000000000002
            ],
            [
             176.17240830517372,
             -39.84730465402424,
             22.240000000000002
            ],
            [
             176.21157449805304,
             -39.86573817978839,
             0
            ]
           ]
          ],
          "type": "Polygon"
         },
         "id": "1196",
         "properties": {
          "AseismicSlipFactor": 0,
          "CouplingCoeff": 1,
          "DipDeg": 80,
          "DipDir": 301.5,
          "FaultID": 1196,
          "FaultName": "Mohaka: South, Subsection 6",
          "LowDepth": 22.240000000000002,
          "ParentID": 269,
          "ParentName": "Mohaka: South",
          "Rake": 160,
          "Target Slip Rate": 0.00529497,
          "Target Slip Rate StdDev": 0.00095867,
          "UpDepth": 0
         },
         "type": "Feature"
        },
        {
         "geometry": {
          "coordinates": [
           [
            [
             176.26315624134813,
             -39.77479284682109,
             0
            ],
            [
             176.302,
             -39.7007,
             0
            ],
            [
             176.3142106157979,
             -39.68354576928166,
             0
            ],
            [
             176.27514789022635,
             -39.66511228597245,
             22.240000000000002
            ],
            [
             176.26292757267285,
             -39.682266512703016,
             22.240000000000002
            ],
            [
             176.2240418143043,
             -39.756359342277335,
             22.240000000000002
            ],
            [
             176.26315624134813,
             -39.77479284682109,
             0
            ]
           ]
          ],
          "type": "Polygon"
         },
         "id": "1197",
         "properties": {
          "AseismicSlipFactor": 0,
          "CouplingCoeff": 1,
          "DipDeg": 80,
          "DipDir": 301.5,
          "FaultID": 1197,
          "FaultName": "Mohaka: South, Subsection 7",
          "LowDepth": 22.240000000000002,
          "ParentID": 269,
          "ParentName": "Mohaka: South",
          "Rake": 160,
          "Target Slip Rate": 0.00513,
          "Target Slip Rate StdDev": 0.00090976,
          "UpDepth": 0
         },
         "type": "Feature"
        },
        {
         "geometry": {
          "coordinates": [
           [
            [
             176.3142106157979,
             -39.68354576928166,
             0
            ],
            [
             176.3564,
             -39.6242,
             0
            ],
            [
             176.37745322448305,
             -39.59685594945448,
             0
            ],
            [
             176.33843940020492,
             -39.57842248626739,
             22.240000000000002
            ],
            [
             176.3173707739489,
             -39.60576653047136,
             22.240000000000002
            ],
            [
             176.27514789022635,
             -39.66511228597245,
             22.240000000000002
            ],
            [
             176.3142106157979,
             -39.68354576928166,
             0
            ]
           ]
          ],
          "type": "Polygon"
         },
         "id": "1198",
         "properties": {
          "AseismicSlipFactor": 0,
          "CouplingCoeff": 1,
          "DipDeg": 80,
          "DipDir": 301.5,
          "FaultID": 1198,
          "FaultName": "Mohaka: South, Subsection 8",
          "LowDepth": 22.240000000000002,
          "ParentID": 269,
          "ParentName": "Mohaka: South",
          "Rake": 160,
          "Target Slip Rate": 0.004995,
          "Target Slip Rate StdDev": 0.00087297,
          "UpDepth": 0
         },
         "type": "Feature"
        },
        {
         "geometry": {
          "coordinates": [
           [
            [
             176.37745322448305,
             -39.59685594945448,
             0
            ],
            [
             176.4432,
             -39.5113,
             0
            ],
            [
             176.40423423015778,
             -39.492866556622545,
             22.240000000000002
            ],
            [
             176.33843940020492,
             -39.57842248626739,
             22.240000000000002
            ],
            [
             176.37745322448305,
             -39.59685594945448,
             0
            ]
           ]
          ],
          "type": "Polygon"
         },
         "id": "1199",
         "properties": {
          "AseismicSlipFactor": 0,
          "CouplingCoeff": 1,
          "DipDeg": 80,
          "DipDir": 301.5,
          "FaultID": 1199,
          "FaultName": "Mohaka: South, Subsection 9",
          "LowDepth": 22.240000000000002,
          "ParentID": 269,
          "ParentName": "Mohaka: South",
          "Rake": 160,
          "Target Slip Rate": 0.004455,
          "Target Slip Rate StdDev": 0.00091495,
          "UpDepth": 0
         },
         "type": "Feature"
        },
        {
         "geometry": {
          "coordinates": [
           [
            [
             176.075,
             -40.7617,
             0
            ],
            [
             176.00688452412265,
             -40.78494946015483,
             0
            ],
            [
             176.02198703428553,
             -40.82280181928106,
             12.08
            ],
            [
             176.09009721920438,
             -40.799552359933635,
             12.08
            ],
            [
             176.075,
             -40.7617,
             0
            ]
           ]
          ],
          "type": "Polygon"
         },
         "id": "1200",
         "properties": {
          "AseismicSlipFactor": 0,
          "CouplingCoeff": 1,
          "DipDeg": 70,
          "DipDir": 163.2,
          "FaultID": 1200,
          "FaultName": "Mokonui Northeast, Subsection 0",
          "LowDepth": 12.08,
          "ParentID": 270,
          "ParentName": "Mokonui Northeast",
          "Rake": -160,
          "Target Slip Rate": 0.0022275,
          "Target Slip Rate StdDev": 0.00058888,
          "UpDepth": 0
         },
         "type": "Feature"
        },
        {
         "geometry": {
          "coordinates": [
           [
            [
             176.00688452412265,
             -40.78494946015483,
             0
            ],
            [
             175.9387213818272,
             -40.80815884056372,
             0
            ],
            [
             175.95382918000976,
             -40.846011198883396,
             12.08
            ],
            [
             176.02198703428553,
             -40.82280181928106,
             12.08
            ],
            [
             176.00688452412265,
             -40.78494946015483,
             0
            ]
           ]
          ],
          "type": "Polygon"
         },
         "id": "1201",
         "properties": {
          "AseismicSlipFactor": 0,
          "CouplingCoeff": 1,
          "DipDeg": 70,
          "DipDir": 163.2,
          "FaultID": 1201,
          "FaultName": "Mokonui Northeast, Subsection 1",
          "LowDepth": 12.08,
          "ParentID": 270,
          "ParentName": "Mokonui Northeast",
          "Rake": -160,
          "Target Slip Rate": 0.0022275,
          "Target Slip Rate StdDev": 0.00058888,
          "UpDepth": 0
         },
         "type": "Feature"
        },
        {
         "geometry": {
          "coordinates": [
           [
            [
             175.9387213818272,
             -40.80815884056372,
             0
            ],
            [
             175.9236,
             -40.8133,
             0
            ],
            [
             175.86662775740743,
             -40.822246081629494,
             0
            ],
            [
             175.8817387682395,
             -40.86009843945935,
             12.08
            ],
            [
             175.93870897037957,
             -40.85115235814093,
             12.08
            ],
            [
             175.95382918000976,
             -40.846011198883396,
             12.08
            ],
            [
             175.9387213818272,
             -40.80815884056372,
             0
            ]
           ]
          ],
          "type": "Polygon"
         },
         "id": "1202",
         "properties": {
          "AseismicSlipFactor": 0,
          "CouplingCoeff": 1,
          "DipDeg": 70,
          "DipDir": 163.2,
          "FaultID": 1202,
          "FaultName": "Mokonui Northeast, Subsection 2",
          "LowDepth": 12.08,
          "ParentID": 270,
          "ParentName": "Mokonui Northeast",
          "Rake": -160,
          "Target Slip Rate": 0.0020925,
          "Target Slip Rate StdDev": 0.00056059,
          "UpDepth": 0
         },
         "type": "Feature"
        },
        {
         "geometry": {
          "coordinates": [
           [
            [
             175.86662775740743,
             -40.822246081629494,
             0
            ],
            [
             175.79340000000005,
             -40.833699999999986,
             0
            ],
            [
             175.8085136246231,
             -40.87155235743142,
             12.08
            ],
            [
             175.8817387682395,
             -40.86009843945935,
             12.08
            ],
            [
             175.86662775740743,
             -40.822246081629494,
             0
            ]
           ]
          ],
          "type": "Polygon"
         },
         "id": "1203",
         "properties": {
          "AseismicSlipFactor": 0,
          "CouplingCoeff": 1,
          "DipDeg": 70,
          "DipDir": 163.2,
          "FaultID": 1203,
          "FaultName": "Mokonui Northeast, Subsection 3",
          "LowDepth": 12.08,
          "ParentID": 270,
          "ParentName": "Mokonui Northeast",
          "Rake": -160,
          "Target Slip Rate": 0.0020925,
          "Target Slip Rate StdDev": 0.00056059,
          "UpDepth": 0
         },
         "type": "Feature"
        },
        {
         "geometry": {
          "coordinates": [
           [
            [
             175.7934,
             -40.8337,
             0
            ],
            [
             175.7625,
             -40.8484,
             0
            ],
            [
             175.72582369450686,
             -40.861212224144516,
             0
            ],
            [
             175.72582369450686,
             -40.861212224144516,
             14.719999999999999
            ],
            [
             175.7625,
             -40.8484,
             14.719999999999999
            ],
            [
             175.7934,
             -40.83370000000001,
             14.719999999999999
            ],
            [
             175.7934,
             -40.8337,
             0
            ]
           ]
          ],
          "type": "Polygon"
         },
         "id": "1204",
         "properties": {
          "AseismicSlipFactor": 0,
          "CouplingCoeff": 1,
          "DipDeg": 90,
          "DipDir": 152.6,
          "FaultID": 1204,
          "FaultName": "Mokonui Southwest, Subsection 0",
          "LowDepth": 14.719999999999999,
          "ParentID": 271,
          "ParentName": "Mokonui Southwest",
          "Rake": 180,
          "Target Slip Rate": 0.0015075,
          "Target Slip Rate StdDev": 0.00048957,
          "UpDepth": 0
         },
         "type": "Feature"
        },
        {
         "geometry": {
          "coordinates": [
           [
            [
             175.72582369450686,
             -40.861212224144516,
             0
            ],
            [
             175.65596327212657,
             -40.885570914194375,
             0
            ],
            [
             175.6559632721266,
             -40.885570914194375,
             14.719999999999999
            ],
            [
             175.72582369450686,
             -40.861212224144516,
             14.719999999999999
            ],
            [
             175.72582369450686,
             -40.861212224144516,
             0
            ]
           ]
          ],
          "type": "Polygon"
         },
         "id": "1205",
         "properties": {
          "AseismicSlipFactor": 0,
          "CouplingCoeff": 1,
          "DipDeg": 90,
          "DipDir": 152.6,
          "FaultID": 1205,
          "FaultName": "Mokonui Southwest, Subsection 1",
          "LowDepth": 14.719999999999999,
          "ParentID": 271,
          "ParentName": "Mokonui Southwest",
          "Rake": 180,
          "Target Slip Rate": 0.0015075,
          "Target Slip Rate StdDev": 0.00048957,
          "UpDepth": 0
         },
         "type": "Feature"
        },
        {
         "geometry": {
          "coordinates": [
           [
            [
             175.65596327212657,
             -40.885570914194375,
             0
            ],
            [
             175.6487,
             -40.8881,
             0
            ],
            [
             175.608,
             -40.9133,
             0
            ],
            [
             175.59377765924785,
             -40.91940205261107,
             0
            ],
            [
             175.59377765924785,
             -40.91940205261107,
             14.719999999999999
            ],
            [
             175.608,
             -40.9133,
             14.719999999999999
            ],
            [
             175.6487,
             -40.8881,
             14.719999999999999
            ],
            [
             175.6559632721266,
             -40.885570914194375,
             14.719999999999999
            ],
            [
             175.65596327212657,
             -40.885570914194375,
             0
            ]
           ]
          ],
          "type": "Polygon"
         },
         "id": "1206",
         "properties": {
          "AseismicSlipFactor": 0,
          "CouplingCoeff": 1,
          "DipDeg": 90,
          "DipDir": 152.6,
          "FaultID": 1206,
          "FaultName": "Mokonui Southwest, Subsection 2",
          "LowDepth": 14.719999999999999,
          "ParentID": 271,
          "ParentName": "Mokonui Southwest",
          "Rake": 180,
          "Target Slip Rate": 0.0007875,
          "Target Slip Rate StdDev": 0.00042024,
          "UpDepth": 0
         },
         "type": "Feature"
        },
        {
         "geometry": {
          "coordinates": [
           [
            [
             175.59377765924785,
             -40.91940205261107,
             0
            ],
            [
             175.52680000000004,
             -40.94809999999998,
             0
            ],
            [
             175.52680000000004,
             -40.94809999999998,
             14.719999999999999
            ],
            [
             175.59377765924785,
             -40.91940205261107,
             14.719999999999999
            ],
            [
             175.59377765924785,
             -40.91940205261107,
             0
            ]
           ]
          ],
          "type": "Polygon"
         },
         "id": "1207",
         "properties": {
          "AseismicSlipFactor": 0,
          "CouplingCoeff": 1,
          "DipDeg": 90,
          "DipDir": 152.6,
          "FaultID": 1207,
          "FaultName": "Mokonui Southwest, Subsection 3",
          "LowDepth": 14.719999999999999,
          "ParentID": 271,
          "ParentName": "Mokonui Southwest",
          "Rake": 180,
          "Target Slip Rate": 0.0007875,
          "Target Slip Rate StdDev": 0.00042024,
          "UpDepth": 0
         },
         "type": "Feature"
        },
        {
         "geometry": {
          "coordinates": [
           [
            [
             175.6078,
             -40.4689,
             0
            ],
            [
             175.59,
             -40.4897,
             0
            ],
            [
             175.53944754718836,
             -40.53409218616337,
             0
            ],
            [
             175.53944754718836,
             -40.53409218616337,
             21.680000000000003
            ],
            [
             175.59000000000003,
             -40.4897,
             21.680000000000003
            ],
            [
             175.6078,
             -40.4689,
             21.680000000000003
            ],
            [
             175.6078,
             -40.4689,
             0
            ]
           ]
          ],
          "type": "Polygon"
         },
         "id": "1341",
         "properties": {
          "AseismicSlipFactor": 0,
          "CouplingCoeff": 1,
          "DipDeg": 90,
          "DipDir": 139.9,
          "FaultID": 1341,
          "FaultName": "Northern Ohariu, Subsection 0",
          "LowDepth": 21.680000000000003,
          "ParentID": 307,
          "ParentName": "Northern Ohariu",
          "Rake": 180,
          "Target Slip Rate": 0.0007537500000000001,
          "Target Slip Rate StdDev": 0.00065148,
          "UpDepth": 0
         },
         "type": "Feature"
        },
        {
         "geometry": {
          "coordinates": [
           [
            [
             175.53944754718836,
             -40.53409218616337,
             0
            ],
            [
             175.46741247363852,
             -40.59720966504646,
             0
            ],
            [
             175.46741247363852,
             -40.59720966504646,
             21.680000000000003
            ],
            [
             175.53944754718836,
             -40.53409218616337,
             21.680000000000003
            ],
            [
             175.53944754718836,
             -40.53409218616337,
             0
            ]
           ]
          ],
          "type": "Polygon"
         },
         "id": "1342",
         "properties": {
          "AseismicSlipFactor": 0,
          "CouplingCoeff": 1,
          "DipDeg": 90,
          "DipDir": 139.9,
          "FaultID": 1342,
          "FaultName": "Northern Ohariu, Subsection 1",
          "LowDepth": 21.680000000000003,
          "ParentID": 307,
          "ParentName": "Northern Ohariu",
          "Rake": 180,
          "Target Slip Rate": 0.003375,
          "Target Slip Rate StdDev": 0.00078868,
          "UpDepth": 0
         },
         "type": "Feature"
        },
        {
         "geometry": {
          "coordinates": [
           [
            [
             175.46741247363852,
             -40.59720966504646,
             0
            ],
            [
             175.4425,
             -40.619,
             0
            ],
            [
             175.4018,
             -40.632,
             0
            ],
            [
             175.37835191160397,
             -40.643467251732346,
             0
            ],
            [
             175.37835191160397,
             -40.643467251732346,
             21.680000000000003
            ],
            [
             175.40180000000004,
             -40.632,
             21.680000000000003
            ],
            [
             175.4425,
             -40.619,
             21.680000000000003
            ],
            [
             175.46741247363852,
             -40.59720966504646,
             21.680000000000003
            ],
            [
             175.46741247363852,
             -40.59720966504646,
             0
            ]
           ]
          ],
          "type": "Polygon"
         },
         "id": "1343",
         "properties": {
          "AseismicSlipFactor": 0,
          "CouplingCoeff": 1,
          "DipDeg": 90,
          "DipDir": 139.9,
          "FaultID": 1343,
          "FaultName": "Northern Ohariu, Subsection 2",
          "LowDepth": 21.680000000000003,
          "ParentID": 307,
          "ParentName": "Northern Ohariu",
          "Rake": 180,
          "Target Slip Rate": 0.00330003,
          "Target Slip Rate StdDev": 0.0007315,
          "UpDepth": 0
         },
         "type": "Feature"
        },
        {
         "geometry": {
          "coordinates": [
           [
            [
             175.37835191160397,
             -40.643467251732346,
             0
            ],
            [
             175.28574071143632,
             -40.68867381373384,
             0
            ],
            [
             175.28574071143632,
             -40.68867381373384,
             21.680000000000003
            ],
            [
             175.37835191160397,
             -40.643467251732346,
             21.680000000000003
            ],
            [
             175.37835191160397,
             -40.643467251732346,
             0
            ]
           ]
          ],
          "type": "Polygon"
         },
         "id": "1344",
         "properties": {
          "AseismicSlipFactor": 0,
          "CouplingCoeff": 1,
          "DipDeg": 90,
          "DipDir": 139.9,
          "FaultID": 1344,
          "FaultName": "Northern Ohariu, Subsection 3",
          "LowDepth": 21.680000000000003,
          "ParentID": 307,
          "ParentName": "Northern Ohariu",
          "Rake": 180,
          "Target Slip Rate": 0.0034425,
          "Target Slip Rate StdDev": 0.00068559,
          "UpDepth": 0
         },
         "type": "Feature"
        },
        {
         "geometry": {
          "coordinates": [
           [
            [
             175.28574071143632,
             -40.68867381373384,
             0
            ],
            [
             175.2783,
             -40.6923,
             0
            ],
            [
             175.21408368371758,
             -40.75174905817963,
             0
            ],
            [
             175.21408368371758,
             -40.75174905817963,
             21.680000000000003
            ],
            [
             175.2783,
             -40.692299999999996,
             21.680000000000003
            ],
            [
             175.28574071143632,
             -40.68867381373384,
             21.680000000000003
            ],
            [
             175.28574071143632,
             -40.68867381373384,
             0
            ]
           ]
          ],
          "type": "Polygon"
         },
         "id": "1345",
         "properties": {
          "AseismicSlipFactor": 0,
          "CouplingCoeff": 1,
          "DipDeg": 90,
          "DipDir": 139.9,
          "FaultID": 1345,
          "FaultName": "Northern Ohariu, Subsection 4",
          "LowDepth": 21.680000000000003,
          "ParentID": 307,
          "ParentName": "Northern Ohariu",
          "Rake": 180,
          "Target Slip Rate": 0.0037575,
          "Target Slip Rate StdDev": 0.0006025700000000001,
          "UpDepth": 0
         },
         "type": "Feature"
        },
        {
         "geometry": {
          "coordinates": [
           [
            [
             175.21408368371758,
             -40.75174905817963,
             0
            ],
            [
             175.1991,
             -40.7656,
             0
            ],
            [
             175.1642,
             -40.7846,
             0
            ],
            [
             175.1256,
             -40.8001,
             0
            ],
            [
             175.1256,
             -40.80009999999999,
             21.680000000000003
            ],
            [
             175.1642,
             -40.7846,
             21.680000000000003
            ],
            [
             175.1991,
             -40.7656,
             21.680000000000003
            ],
            [
             175.21408368371758,
             -40.75174905817963,
             21.680000000000003
            ],
            [
             175.21408368371758,
             -40.75174905817963,
             0
            ]
           ]
          ],
          "type": "Polygon"
         },
         "id": "1346",
         "properties": {
          "AseismicSlipFactor": 0,
          "CouplingCoeff": 1,
          "DipDeg": 90,
          "DipDir": 139.9,
          "FaultID": 1346,
          "FaultName": "Northern Ohariu, Subsection 5",
          "LowDepth": 21.680000000000003,
          "ParentID": 307,
          "ParentName": "Northern Ohariu",
          "Rake": 180,
          "Target Slip Rate": 0.00300753,
          "Target Slip Rate StdDev": 0.00059834,
          "UpDepth": 0
         },
         "type": "Feature"
        },
        {
         "geometry": {
          "coordinates": [
           [
            [
             175.1039,
             -40.8353,
             0
            ],
            [
             175.0915,
             -40.8617,
             0
            ],
            [
             175.0489,
             -40.9054,
             0
            ],
            [
             175.03706109729342,
             -40.9121370018929,
             0
            ],
            [
             175.03706109729345,
             -40.9121370018929,
             21.040000000000003
            ],
            [
             175.0489,
             -40.90540000000001,
             21.040000000000003
            ],
            [
             175.0915,
             -40.8617,
             21.040000000000003
            ],
            [
             175.10390000000004,
             -40.8353,
             21.040000000000003
            ],
            [
             175.1039,
             -40.8353,
             0
            ]
           ]
          ],
          "type": "Polygon"
         },
         "id": "1365",
         "properties": {
          "AseismicSlipFactor": 0,
          "CouplingCoeff": 1,
          "DipDeg": 90,
          "DipDir": 125.8,
          "FaultID": 1365,
          "FaultName": "Ohariu, Subsection 0",
          "LowDepth": 21.040000000000003,
          "ParentID": 313,
          "ParentName": "Ohariu",
          "Rake": 180,
          "Target Slip Rate": 0.00359253,
          "Target Slip Rate StdDev": 0.0006082300000000001,
          "UpDepth": 0
         },
         "type": "Feature"
        },
        {
         "geometry": {
          "coordinates": [
           [
            [
             175.03706109729342,
             -40.9121370018929,
             0
            ],
            [
             175.0206,
             -40.9215,
             0
            ],
            [
             175.0127,
             -40.9439,
             0
            ],
            [
             174.9824,
             -40.9713,
             0
            ],
            [
             174.9720992335781,
             -40.98869536595697,
             0
            ],
            [
             174.9720992335781,
             -40.98869536595697,
             21.040000000000003
            ],
            [
             174.9824,
             -40.9713,
             21.040000000000003
            ],
            [
             175.0127,
             -40.94389999999999,
             21.040000000000003
            ],
            [
             175.0206,
             -40.9215,
             21.040000000000003
            ],
            [
             175.03706109729345,
             -40.9121370018929,
             21.040000000000003
            ],
            [
             175.03706109729342,
             -40.9121370018929,
             0
            ]
           ]
          ],
          "type": "Polygon"
         },
         "id": "1366",
         "properties": {
          "AseismicSlipFactor": 0,
          "CouplingCoeff": 1,
          "DipDeg": 90,
          "DipDir": 125.8,
          "FaultID": 1366,
          "FaultName": "Ohariu, Subsection 1",
          "LowDepth": 21.040000000000003,
          "ParentID": 313,
          "ParentName": "Ohariu",
          "Rake": 180,
          "Target Slip Rate": 0.0033525,
          "Target Slip Rate StdDev": 0.00063452,
          "UpDepth": 0
         },
         "type": "Feature"
        },
        {
         "geometry": {
          "coordinates": [
           [
            [
             174.9720992335781,
             -40.98869536595697,
             0
            ],
            [
             174.9558,
             -41.0162,
             0
            ],
            [
             174.9375,
             -41.0287,
             0
            ],
            [
             174.90895526777396,
             -41.06793058606418,
             0
            ],
            [
             174.90895526777396,
             -41.06793058606418,
             21.040000000000003
            ],
            [
             174.9375,
             -41.02870000000001,
             21.040000000000003
            ],
            [
             174.9558,
             -41.0162,
             21.040000000000003
            ],
            [
             174.9720992335781,
             -40.98869536595697,
             21.040000000000003
            ],
            [
             174.9720992335781,
             -40.98869536595697,
             0
            ]
           ]
          ],
          "type": "Polygon"
         },
         "id": "1367",
         "properties": {
          "AseismicSlipFactor": 0,
          "CouplingCoeff": 1,
          "DipDeg": 90,
          "DipDir": 125.8,
          "FaultID": 1367,
          "FaultName": "Ohariu, Subsection 2",
          "LowDepth": 21.040000000000003,
          "ParentID": 313,
          "ParentName": "Ohariu",
          "Rake": 180,
          "Target Slip Rate": 0.00323253,
          "Target Slip Rate StdDev": 0.00066251,
          "UpDepth": 0
         },
         "type": "Feature"
        },
        {
         "geometry": {
          "coordinates": [
           [
            [
             174.90895526777396,
             -41.06793058606418,
             0
            ],
            [
             174.899,
             -41.0816,
             0
            ],
            [
             174.866,
             -41.105,
             0
            ],
            [
             174.8391,
             -41.128,
             0
            ],
            [
             174.8297309836115,
             -41.139044839188905,
             0
            ],
            [
             174.8297309836115,
             -41.139044839188905,
             21.040000000000003
            ],
            [
             174.8391,
             -41.12800000000001,
             21.040000000000003
            ],
            [
             174.866,
             -41.105,
             21.040000000000003
            ],
            [
             174.899,
             -41.08160000000001,
             21.040000000000003
            ],
            [
             174.90895526777396,
             -41.06793058606418,
             21.040000000000003
            ],
            [
             174.90895526777396,
             -41.06793058606418,
             0
            ]
           ]
          ],
          "type": "Polygon"
         },
         "id": "1368",
         "properties": {
          "AseismicSlipFactor": 0,
          "CouplingCoeff": 1,
          "DipDeg": 90,
          "DipDir": 125.8,
          "FaultID": 1368,
          "FaultName": "Ohariu, Subsection 3",
          "LowDepth": 21.040000000000003,
          "ParentID": 313,
          "ParentName": "Ohariu",
          "Rake": 180,
          "Target Slip Rate": 0.0027225,
          "Target Slip Rate StdDev": 0.0005954500000000001,
          "UpDepth": 0
         },
         "type": "Feature"
        },
        {
         "geometry": {
          "coordinates": [
           [
            [
             174.8297309836115,
             -41.139044839188905,
             0
            ],
            [
             174.7629,
             -41.2177,
             0
            ],
            [
             174.76278788611728,
             -41.21781065283859,
             0
            ],
            [
             174.76278788611728,
             -41.217810652838594,
             21.040000000000003
            ],
            [
             174.7629,
             -41.217699999999994,
             21.040000000000003
            ],
            [
             174.8297309836115,
             -41.139044839188905,
             21.040000000000003
            ],
            [
             174.8297309836115,
             -41.139044839188905,
             0
            ]
           ]
          ],
          "type": "Polygon"
         },
         "id": "1369",
         "properties": {
          "AseismicSlipFactor": 0,
          "CouplingCoeff": 1,
          "DipDeg": 90,
          "DipDir": 125.8,
          "FaultID": 1369,
          "FaultName": "Ohariu, Subsection 4",
          "LowDepth": 21.040000000000003,
          "ParentID": 313,
          "ParentName": "Ohariu",
          "Rake": 180,
          "Target Slip Rate": 0.0028125,
          "Target Slip Rate StdDev": 0.00058704,
          "UpDepth": 0
         },
         "type": "Feature"
        },
        {
         "geometry": {
          "coordinates": [
           [
            [
             174.76278788611728,
             -41.21781065283859,
             0
            ],
            [
             174.68735317311857,
             -41.29215288424625,
             0
            ],
            [
             174.68735317311857,
             -41.29215288424625,
             21.040000000000003
            ],
            [
             174.76278788611728,
             -41.217810652838594,
             21.040000000000003
            ],
            [
             174.76278788611728,
             -41.21781065283859,
             0
            ]
           ]
          ],
          "type": "Polygon"
         },
         "id": "1370",
         "properties": {
          "AseismicSlipFactor": 0,
          "CouplingCoeff": 1,
          "DipDeg": 90,
          "DipDir": 125.8,
          "FaultID": 1370,
          "FaultName": "Ohariu, Subsection 5",
          "LowDepth": 21.040000000000003,
          "ParentID": 313,
          "ParentName": "Ohariu",
          "Rake": 180,
          "Target Slip Rate": 0.0024075,
          "Target Slip Rate StdDev": 0.00065963,
          "UpDepth": 0
         },
         "type": "Feature"
        },
        {
         "geometry": {
          "coordinates": [
           [
            [
             174.68735317311857,
             -41.29215288424625,
             0
            ],
            [
             174.6626,
             -41.3165,
             0
            ],
            [
             174.6544,
             -41.3324,
             0
            ],
            [
             174.6244,
             -41.3723,
             0
            ],
            [
             174.6244,
             -41.3723,
             21.040000000000003
            ],
            [
             174.6544,
             -41.3324,
             21.040000000000003
            ],
            [
             174.6626,
             -41.3165,
             21.040000000000003
            ],
            [
             174.68735317311857,
             -41.29215288424625,
             21.040000000000003
            ],
            [
             174.68735317311857,
             -41.29215288424625,
             0
            ]
           ]
          ],
          "type": "Polygon"
         },
         "id": "1371",
         "properties": {
          "AseismicSlipFactor": 0,
          "CouplingCoeff": 1,
          "DipDeg": 90,
          "DipDir": 125.8,
          "FaultID": 1371,
          "FaultName": "Ohariu, Subsection 6",
          "LowDepth": 21.040000000000003,
          "ParentID": 313,
          "ParentName": "Ohariu",
          "Rake": 180,
          "Target Slip Rate": 0.0025875,
          "Target Slip Rate StdDev": 0.00066724,
          "UpDepth": 0
         },
         "type": "Feature"
        },
        {
         "geometry": {
          "coordinates": [
           [
            [
             174.59086081263607,
             -41.39325487249448,
             0
            ],
            [
             174.6244,
             -41.37230000000001,
             0
            ],
            [
             174.56262807189245,
             -41.314163009041344,
             22.72
            ],
            [
             174.5290690166113,
             -41.33511786935344,
             22.72
            ],
            [
             174.59086081263607,
             -41.39325487249448,
             0
            ]
           ]
          ],
          "type": "Polygon"
         },
         "id": "1375",
         "properties": {
          "AseismicSlipFactor": 0,
          "CouplingCoeff": 1,
          "DipDeg": 70,
          "DipDir": 321.4,
          "FaultID": 1375,
          "FaultName": "Ohariu South 2, Subsection 1",
          "LowDepth": 22.72,
          "ParentID": 315,
          "ParentName": "Ohariu South 2",
          "Rake": -160,
          "Target Slip Rate": 0.003915,
          "Target Slip Rate StdDev": 0.0013704,
          "UpDepth": 0
         },
         "type": "Feature"
        },
        {
         "geometry": {
          "coordinates": [
           [
            [
             175.1189,
             -41.0108,
             0
            ],
            [
             175.1463,
             -40.9964,
             0
            ],
            [
             175.17461037556177,
             -40.94956491647533,
             0
            ],
            [
             175.1187623471888,
             -40.923591140226875,
             20.560000000000002
            ],
            [
             175.09041234727022,
             -40.970426201486696,
             20.560000000000002
            ],
            [
             175.06300014547898,
             -40.98482619463476,
             20.560000000000002
            ],
            [
             175.1189,
             -41.0108,
             0
            ]
           ]
          ],
          "type": "Polygon"
         },
         "id": "1469",
         "properties": {
          "AseismicSlipFactor": 0,
          "CouplingCoeff": 1,
          "DipDeg": 75,
          "DipDir": 301.6,
          "FaultID": 1469,
          "FaultName": "Otaki Forks: 1, Subsection 0",
          "LowDepth": 20.560000000000002,
          "ParentID": 338,
          "ParentName": "Otaki Forks: 1",
          "Rake": 160,
          "Target Slip Rate": 0.0026775,
          "Target Slip Rate StdDev": 0.00060991,
          "UpDepth": 0
         },
         "type": "Feature"
        },
        {
         "geometry": {
          "coordinates": [
           [
            [
             175.17461037556177,
             -40.94956491647533,
             0
            ],
            [
             175.1927,
             -40.9196,
             0
            ],
            [
             175.225,
             -40.8833,
             0
            ],
            [
             175.1692078748817,
             -40.85732625519925,
             20.560000000000002
            ],
            [
             175.13687727413017,
             -40.893626237979966,
             20.560000000000002
            ],
            [
             175.1187623471888,
             -40.923591140226875,
             20.560000000000002
            ],
            [
             175.17461037556177,
             -40.94956491647533,
             0
            ]
           ]
          ],
          "type": "Polygon"
         },
         "id": "1470",
         "properties": {
          "AseismicSlipFactor": 0,
          "CouplingCoeff": 1,
          "DipDeg": 75,
          "DipDir": 301.6,
          "FaultID": 1470,
          "FaultName": "Otaki Forks: 1, Subsection 1",
          "LowDepth": 20.560000000000002,
          "ParentID": 338,
          "ParentName": "Otaki Forks: 1",
          "Rake": 160,
          "Target Slip Rate": 0.0028125,
          "Target Slip Rate StdDev": 0.00070711,
          "UpDepth": 0
         },
         "type": "Feature"
        },
        {
         "geometry": {
          "coordinates": [
           [
            [
             175.4392,
             -40.6889,
             0
            ],
            [
             175.3891,
             -40.7354,
             0
            ],
            [
             175.37311445715193,
             -40.757646209136226,
             0
            ],
            [
             175.37311445715196,
             -40.757646209136226,
             19.28
            ],
            [
             175.3891,
             -40.7354,
             19.28
            ],
            [
             175.4392,
             -40.6889,
             19.28
            ],
            [
             175.4392,
             -40.6889,
             0
            ]
           ]
          ],
          "type": "Polygon"
         },
         "id": "1471",
         "properties": {
          "AseismicSlipFactor": 0,
          "CouplingCoeff": 1,
          "DipDeg": 90,
          "DipDir": 130.8,
          "FaultID": 1471,
          "FaultName": "Otaki Forks: 2, Subsection 0",
          "LowDepth": 19.28,
          "ParentID": 339,
          "ParentName": "Otaki Forks: 2",
          "Rake": 180,
          "Target Slip Rate": 0.0037575,
          "Target Slip Rate StdDev": 0.00064605,
          "UpDepth": 0
         },
         "type": "Feature"
        },
        {
         "geometry": {
          "coordinates": [
           [
            [
             175.37311445715193,
             -40.757646209136226,
             0
            ],
            [
             175.3497,
             -40.7902,
             0
            ],
            [
             175.30861846572114,
             -40.827154653201475,
             0
            ],
            [
             175.30861846572114,
             -40.827154653201475,
             19.28
            ],
            [
             175.3497,
             -40.7902,
             19.28
            ],
            [
             175.37311445715196,
             -40.757646209136226,
             19.28
            ],
            [
             175.37311445715193,
             -40.757646209136226,
             0
            ]
           ]
          ],
          "type": "Polygon"
         },
         "id": "1472",
         "properties": {
          "AseismicSlipFactor": 0,
          "CouplingCoeff": 1,
          "DipDeg": 90,
          "DipDir": 130.8,
          "FaultID": 1472,
          "FaultName": "Otaki Forks: 2, Subsection 1",
          "LowDepth": 19.28,
          "ParentID": 339,
          "ParentName": "Otaki Forks: 2",
          "Rake": 180,
          "Target Slip Rate": 0.0038025,
          "Target Slip Rate StdDev": 0.00062674,
          "UpDepth": 0
         },
         "type": "Feature"
        },
        {
         "geometry": {
          "coordinates": [
           [
            [
             175.30861846572114,
             -40.827154653201475,
             0
            ],
            [
             175.2823,
             -40.8508,
             0
            ],
            [
             175.24,
             -40.8716,
             0
            ],
            [
             175.22500000000002,
             -40.88329999999999,
             0
            ],
            [
             175.22500000000002,
             -40.88329999999999,
             19.28
            ],
            [
             175.24,
             -40.871599999999994,
             19.28
            ],
            [
             175.2823,
             -40.8508,
             19.28
            ],
            [
             175.30861846572114,
             -40.827154653201475,
             19.28
            ],
            [
             175.30861846572114,
             -40.827154653201475,
             0
            ]
           ]
          ],
          "type": "Polygon"
         },
         "id": "1473",
         "properties": {
          "AseismicSlipFactor": 0,
          "CouplingCoeff": 1,
          "DipDeg": 90,
          "DipDir": 130.8,
          "FaultID": 1473,
          "FaultName": "Otaki Forks: 2, Subsection 2",
          "LowDepth": 19.28,
          "ParentID": 339,
          "ParentName": "Otaki Forks: 2",
          "Rake": 180,
          "Target Slip Rate": 0.0038475,
          "Target Slip Rate StdDev": 0.0006074300000000001,
          "UpDepth": 0
         },
         "type": "Feature"
        },
        {
         "geometry": {
          "coordinates": [
           [
            [
             174.6728,
             -41.2633,
             0
            ],
            [
             174.6454594518617,
             -41.28585323647141,
             0
            ],
            [
             174.6454594518617,
             -41.28585323647141,
             21.76
            ],
            [
             174.6728,
             -41.2633,
             21.76
            ],
            [
             174.6728,
             -41.2633,
             0
            ]
           ]
          ],
          "type": "Polygon"
         },
         "id": "1601",
         "properties": {
          "AseismicSlipFactor": 0,
          "CouplingCoeff": 1,
          "DipDeg": 90,
          "DipDir": 133.5,
          "FaultID": 1601,
          "FaultName": "Pukerua - Shepherds Gully: 1, Subsection 0",
          "LowDepth": 21.76,
          "ParentID": 373,
          "ParentName": "Pukerua - Shepherds Gully: 1",
          "Rake": 180,
          "Target Slip Rate": 0.0018225,
          "Target Slip Rate StdDev": 0.0006600200000000001,
          "UpDepth": 0
         },
         "type": "Feature"
        },
        {
         "geometry": {
          "coordinates": [
           [
            [
             174.6454594518617,
             -41.28585323647141,
             0
            ],
            [
             174.6181,
             -41.30839999999999,
             0
            ],
            [
             174.6181,
             -41.30839999999999,
             21.76
            ],
            [
             174.6454594518617,
             -41.28585323647141,
             21.76
            ],
            [
             174.6454594518617,
             -41.28585323647141,
             0
            ]
           ]
          ],
          "type": "Polygon"
         },
         "id": "1602",
         "properties": {
          "AseismicSlipFactor": 0,
          "CouplingCoeff": 1,
          "DipDeg": 90,
          "DipDir": 133.5,
          "FaultID": 1602,
          "FaultName": "Pukerua - Shepherds Gully: 1, Subsection 1",
          "LowDepth": 21.76,
          "ParentID": 373,
          "ParentName": "Pukerua - Shepherds Gully: 1",
          "Rake": 180,
          "Target Slip Rate": 0.0018225,
          "Target Slip Rate StdDev": 0.0006600200000000001,
          "UpDepth": 0
         },
         "type": "Feature"
        },
        {
         "geometry": {
          "coordinates": [
           [
            [
             174.7144,
             -41.2047,
             0
            ],
            [
             174.69360932291363,
             -41.23400187145994,
             0
            ],
            [
             174.69360932291366,
             -41.23400187145994,
             21.680000000000003
            ],
            [
             174.7144,
             -41.2047,
             21.680000000000003
            ],
            [
             174.7144,
             -41.2047,
             0
            ]
           ]
          ],
          "type": "Polygon"
         },
         "id": "1603",
         "properties": {
          "AseismicSlipFactor": 0,
          "CouplingCoeff": 1,
          "DipDeg": 90,
          "DipDir": 119.3,
          "FaultID": 1603,
          "FaultName": "Pukerua - Shepherds Gully: 2, Subsection 0",
          "LowDepth": 21.680000000000003,
          "ParentID": 374,
          "ParentName": "Pukerua - Shepherds Gully: 2",
          "Rake": 180,
          "Target Slip Rate": 0.0011925,
          "Target Slip Rate StdDev": 0.00054145,
          "UpDepth": 0
         },
         "type": "Feature"
        },
        {
         "geometry": {
          "coordinates": [
           [
            [
             174.69360932291363,
             -41.23400187145994,
             0
            ],
            [
             174.6728,
             -41.26329999999999,
             0
            ],
            [
             174.6728,
             -41.26329999999999,
             21.680000000000003
            ],
            [
             174.69360932291366,
             -41.23400187145994,
             21.680000000000003
            ],
            [
             174.69360932291363,
             -41.23400187145994,
             0
            ]
           ]
          ],
          "type": "Polygon"
         },
         "id": "1604",
         "properties": {
          "AseismicSlipFactor": 0,
          "CouplingCoeff": 1,
          "DipDeg": 90,
          "DipDir": 119.3,
          "FaultID": 1604,
          "FaultName": "Pukerua - Shepherds Gully: 2, Subsection 1",
          "LowDepth": 21.680000000000003,
          "ParentID": 374,
          "ParentName": "Pukerua - Shepherds Gully: 2",
          "Rake": 180,
          "Target Slip Rate": 0.0011925,
          "Target Slip Rate StdDev": 0.00054145,
          "UpDepth": 0
         },
         "type": "Feature"
        },
        {
         "geometry": {
          "coordinates": [
           [
            [
             174.9001,
             -41.0206,
             0
            ],
            [
             174.83831565534356,
             -41.081999774110976,
             0
            ],
            [
             174.83831565534356,
             -41.08199977411098,
             21.840000000000003
            ],
            [
             174.9001,
             -41.0206,
             21.840000000000003
            ],
            [
             174.9001,
             -41.0206,
             0
            ]
           ]
          ],
          "type": "Polygon"
         },
         "id": "1605",
         "properties": {
          "AseismicSlipFactor": 0,
          "CouplingCoeff": 1,
          "DipDeg": 90,
          "DipDir": 128.5,
          "FaultID": 1605,
          "FaultName": "Pukerua - Shepherds Gully: 3, Subsection 0",
          "LowDepth": 21.840000000000003,
          "ParentID": 375,
          "ParentName": "Pukerua - Shepherds Gully: 3",
          "Rake": 180,
          "Target Slip Rate": 0.0009225,
          "Target Slip Rate StdDev": 0.00045556,
          "UpDepth": 0
         },
         "type": "Feature"
        },
        {
         "geometry": {
          "coordinates": [
           [
            [
             174.83831565534356,
             -41.081999774110976,
             0
            ],
            [
             174.77641579003006,
             -41.143366485298245,
             0
            ],
            [
             174.77641579003006,
             -41.143366485298245,
             21.840000000000003
            ],
            [
             174.83831565534356,
             -41.08199977411098,
             21.840000000000003
            ],
            [
             174.83831565534356,
             -41.081999774110976,
             0
            ]
           ]
          ],
          "type": "Polygon"
         },
         "id": "1606",
         "properties": {
          "AseismicSlipFactor": 0,
          "CouplingCoeff": 1,
          "DipDeg": 90,
          "DipDir": 128.5,
          "FaultID": 1606,
          "FaultName": "Pukerua - Shepherds Gully: 3, Subsection 1",
          "LowDepth": 21.840000000000003,
          "ParentID": 375,
          "ParentName": "Pukerua - Shepherds Gully: 3",
          "Rake": 180,
          "Target Slip Rate": 0.0013725,
          "Target Slip Rate StdDev": 0.00049915,
          "UpDepth": 0
         },
         "type": "Feature"
        },
        {
         "geometry": {
          "coordinates": [
           [
            [
             174.77641579003006,
             -41.143366485298245,
             0
            ],
            [
             174.7144,
             -41.2047,
             0
            ],
            [
             174.7144,
             -41.2047,
             21.840000000000003
            ],
            [
             174.77641579003006,
             -41.143366485298245,
             21.840000000000003
            ],
            [
             174.77641579003006,
             -41.143366485298245,
             0
            ]
           ]
          ],
          "type": "Polygon"
         },
         "id": "1607",
         "properties": {
          "AseismicSlipFactor": 0,
          "CouplingCoeff": 1,
          "DipDeg": 90,
          "DipDir": 128.5,
          "FaultID": 1607,
          "FaultName": "Pukerua - Shepherds Gully: 3, Subsection 2",
          "LowDepth": 21.840000000000003,
          "ParentID": 375,
          "ParentName": "Pukerua - Shepherds Gully: 3",
          "Rake": 180,
          "Target Slip Rate": 0.0013725,
          "Target Slip Rate StdDev": 0.00049915,
          "UpDepth": 0
         },
         "type": "Feature"
        },
        {
         "geometry": {
          "coordinates": [
           [
            [
             176.6195,
             -39.0343,
             0
            ],
            [
             176.5748,
             -39.0922,
             0
            ],
            [
             176.55773515162926,
             -39.131588235359075,
             0
            ],
            [
             176.5088932079686,
             -39.11533606781971,
             26
            ],
            [
             176.5259853314487,
             -39.07594784676389,
             26
            ],
            [
             176.57072532829756,
             -39.01804786776043,
             26
            ],
            [
             176.6195,
             -39.0343,
             0
            ]
           ]
          ],
          "type": "Polygon"
         },
         "id": "1696",
         "properties": {
          "AseismicSlipFactor": 0,
          "CouplingCoeff": 1,
          "DipDeg": 80,
          "DipDir": 293.2,
          "FaultID": 1696,
          "FaultName": "Ruahine: North, Subsection 0",
          "LowDepth": 26,
          "ParentID": 407,
          "ParentName": "Ruahine: North",
          "Rake": 160,
          "Target Slip Rate": 0.00324,
          "Target Slip Rate StdDev": 0.00067752,
          "UpDepth": 0
         },
         "type": "Feature"
        },
        {
         "geometry": {
          "coordinates": [
           [
            [
             176.55773515162926,
             -39.131588235359075,
             0
            ],
            [
             176.5576,
             -39.1319,
             0
            ],
            [
             176.516,
             -39.1937,
             0
            ],
            [
             176.4965248101446,
             -39.22968423732109,
             0
            ],
            [
             176.4476147048543,
             -39.213432034090026,
             26
            ],
            [
             176.46711493694445,
             -39.17744780987317,
             26
            ],
            [
             176.5087578402385,
             -39.11564783234736,
             26
            ],
            [
             176.5088932079686,
             -39.11533606781971,
             26
            ],
            [
             176.55773515162926,
             -39.131588235359075,
             0
            ]
           ]
          ],
          "type": "Polygon"
         },
         "id": "1697",
         "properties": {
          "AseismicSlipFactor": 0,
          "CouplingCoeff": 1,
          "DipDeg": 80,
          "DipDir": 293.2,
          "FaultID": 1697,
          "FaultName": "Ruahine: North, Subsection 1",
          "LowDepth": 26,
          "ParentID": 407,
          "ParentName": "Ruahine: North",
          "Rake": 160,
          "Target Slip Rate": 0.00379503,
          "Target Slip Rate StdDev": 0.00069511,
          "UpDepth": 0
         },
         "type": "Feature"
        },
        {
         "geometry": {
          "coordinates": [
           [
            [
             176.4965248101446,
             -39.22968423732109,
             0
            ],
            [
             176.4596,
             -39.2978,
             0
            ],
            [
             176.4556,
             -39.317,
             0
            ],
            [
             176.45313049590402,
             -39.3326236551515,
             0
            ],
            [
             176.40414850407532,
             -39.31637141435909,
             26
            ],
            [
             176.40662894254584,
             -39.30074776491557,
             26
            ],
            [
             176.4106423681934,
             -39.28154777192667,
             26
            ],
            [
             176.4476147048543,
             -39.213432034090026,
             26
            ],
            [
             176.4965248101446,
             -39.22968423732109,
             0
            ]
           ]
          ],
          "type": "Polygon"
         },
         "id": "1698",
         "properties": {
          "AseismicSlipFactor": 0,
          "CouplingCoeff": 1,
          "DipDeg": 80,
          "DipDir": 293.2,
          "FaultID": 1698,
          "FaultName": "Ruahine: North, Subsection 2",
          "LowDepth": 26,
          "ParentID": 407,
          "ParentName": "Ruahine: North",
          "Rake": 160,
          "Target Slip Rate": 0.00444753,
          "Target Slip Rate StdDev": 0.00083379,
          "UpDepth": 0
         },
         "type": "Feature"
        },
        {
         "geometry": {
          "coordinates": [
           [
            [
             176.45313049590402,
             -39.3326236551515,
             0
            ],
            [
             176.4513,
             -39.3442,
             0
            ],
            [
             176.41410529741052,
             -39.43725873840457,
             0
            ],
            [
             176.3650498554875,
             -39.42100645931861,
             26
            ],
            [
             176.4023099008484,
             -39.32794775497659,
             26
            ],
            [
             176.40414850407532,
             -39.31637141435909,
             26
            ],
            [
             176.45313049590402,
             -39.3326236551515,
             0
            ]
           ]
          ],
          "type": "Polygon"
         },
         "id": "1699",
         "properties": {
          "AseismicSlipFactor": 0,
          "CouplingCoeff": 1,
          "DipDeg": 80,
          "DipDir": 293.2,
          "FaultID": 1699,
          "FaultName": "Ruahine: North, Subsection 3",
          "LowDepth": 26,
          "ParentID": 407,
          "ParentName": "Ruahine: North",
          "Rake": 160,
          "Target Slip Rate": 0.00500625,
          "Target Slip Rate StdDev": 0.00084702,
          "UpDepth": 0
         },
         "type": "Feature"
        },
        {
         "geometry": {
          "coordinates": [
           [
            [
             176.41410529741052,
             -39.43725873840457,
             0
            ],
            [
             176.405,
             -39.46,
             0
            ],
            [
             176.3622,
             -39.5386,
             0
            ],
            [
             176.3130730534155,
             -39.522347683716205,
             26
            ],
            [
             176.35592854370745,
             -39.44374771257618,
             26
            ],
            [
             176.3650498554875,
             -39.42100645931861,
             26
            ],
            [
             176.41410529741052,
             -39.43725873840457,
             0
            ]
           ]
          ],
          "type": "Polygon"
         },
         "id": "1700",
         "properties": {
          "AseismicSlipFactor": 0,
          "CouplingCoeff": 1,
          "DipDeg": 80,
          "DipDir": 293.2,
          "FaultID": 1700,
          "FaultName": "Ruahine: North, Subsection 4",
          "LowDepth": 26,
          "ParentID": 407,
          "ParentName": "Ruahine: North",
          "Rake": 160,
          "Target Slip Rate": 0.00523125,
          "Target Slip Rate StdDev": 0.0007899500000000001,
          "UpDepth": 0
         },
         "type": "Feature"
        },
        {
         "geometry": {
          "coordinates": [
           [
            [
             175.5511,
             -40.4095,
             0
            ],
            [
             175.51139427226065,
             -40.46440580271026,
             0
            ],
            [
             175.59683268018887,
             -40.50053472309558,
             14.32
            ],
            [
             175.63646857555145,
             -40.44562898138029,
             14.32
            ],
            [
             175.5511,
             -40.4095,
             0
            ]
           ]
          ],
          "type": "Polygon"
         },
         "id": "1897",
         "properties": {
          "AseismicSlipFactor": 0,
          "CouplingCoeff": 1,
          "DipDeg": 60,
          "DipDir": 119.1,
          "FaultID": 1897,
          "FaultName": "Tokomaru, Subsection 0",
          "LowDepth": 14.32,
          "ParentID": 459,
          "ParentName": "Tokomaru",
          "Rake": 110,
          "Target Slip Rate": 0.0020655,
          "Target Slip Rate StdDev": 0.00028831,
          "UpDepth": 0
         },
         "type": "Feature"
        },
        {
         "geometry": {
          "coordinates": [
           [
            [
             175.51139427226065,
             -40.46440580271026,
             0
            ],
            [
             175.47162358651732,
             -40.5192979973122,
             0
            ],
            [
             175.55713200237136,
             -40.55542685661777,
             14.32
            ],
            [
             175.59683268018887,
             -40.50053472309558,
             14.32
            ],
            [
             175.51139427226065,
             -40.46440580271026,
             0
            ]
           ]
          ],
          "type": "Polygon"
         },
         "id": "1898",
         "properties": {
          "AseismicSlipFactor": 0,
          "CouplingCoeff": 1,
          "DipDeg": 60,
          "DipDir": 119.1,
          "FaultID": 1898,
          "FaultName": "Tokomaru, Subsection 1",
          "LowDepth": 14.32,
          "ParentID": 459,
          "ParentName": "Tokomaru",
          "Rake": 110,
          "Target Slip Rate": 0.0020655,
          "Target Slip Rate StdDev": 0.00028831,
          "UpDepth": 0
         },
         "type": "Feature"
        },
        {
         "geometry": {
          "coordinates": [
           [
            [
             175.47162358651732,
             -40.5192979973122,
             0
            ],
            [
             175.4664,
             -40.5265,
             0
            ],
            [
             175.43541794657685,
             -40.57559728336568,
             0
            ],
            [
             175.5209983658632,
             -40.611726079921695,
             14.32
            ],
            [
             175.55191761542264,
             -40.562628851284316,
             14.32
            ],
            [
             175.55713200237136,
             -40.55542685661777,
             14.32
            ],
            [
             175.47162358651732,
             -40.5192979973122,
             0
            ]
           ]
          ],
          "type": "Polygon"
         },
         "id": "1899",
         "properties": {
          "AseismicSlipFactor": 0,
          "CouplingCoeff": 1,
          "DipDeg": 60,
          "DipDir": 119.1,
          "FaultID": 1899,
          "FaultName": "Tokomaru, Subsection 2",
          "LowDepth": 14.32,
          "ParentID": 459,
          "ParentName": "Tokomaru",
          "Rake": 110,
          "Target Slip Rate": 0.0010125,
          "Target Slip Rate StdDev": 0.00031911,
          "UpDepth": 0
         },
         "type": "Feature"
        },
        {
         "geometry": {
          "coordinates": [
           [
            [
             175.43541794657685,
             -40.57559728336568,
             0
            ],
            [
             175.3997,
             -40.63209999999999,
             0
            ],
            [
             175.48535288813642,
             -40.66822873347328,
             14.32
            ],
            [
             175.5209983658632,
             -40.611726079921695,
             14.32
            ],
            [
             175.43541794657685,
             -40.57559728336568,
             0
            ]
           ]
          ],
          "type": "Polygon"
         },
         "id": "1900",
         "properties": {
          "AseismicSlipFactor": 0,
          "CouplingCoeff": 1,
          "DipDeg": 60,
          "DipDir": 119.1,
          "FaultID": 1900,
          "FaultName": "Tokomaru, Subsection 3",
          "LowDepth": 14.32,
          "ParentID": 459,
          "ParentName": "Tokomaru",
          "Rake": 110,
          "Target Slip Rate": 0.0010125,
          "Target Slip Rate StdDev": 0.00031911,
          "UpDepth": 0
         },
         "type": "Feature"
        },
        {
         "geometry": {
          "coordinates": [
           [
            [
             174.8733049401744,
             -41.467181022515476,
             0
            ],
            [
             174.8767,
             -41.465,
             0
            ],
            [
             174.9372838842802,
             -41.41099323807189,
             0
            ],
            [
             174.88061805676182,
             -41.370199179278515,
             18
            ],
            [
             174.81998706768107,
             -41.42420591477181,
             18
            ],
            [
             174.81659010285935,
             -41.426386936218826,
             18
            ],
            [
             174.8733049401744,
             -41.467181022515476,
             0
            ]
           ]
          ],
          "type": "Polygon"
         },
         "id": "2100",
         "properties": {
          "AseismicSlipFactor": 0,
          "CouplingCoeff": 1,
          "DipDeg": 70,
          "DipDir": 313.8,
          "FaultID": 2100,
          "FaultName": "Wairarapa: 1, Subsection 2",
          "LowDepth": 18,
          "ParentID": 506,
          "ParentName": "Wairarapa: 1",
          "Rake": 160,
          "Target Slip Rate": 0.00522,
          "Target Slip Rate StdDev": 0.00059712,
          "UpDepth": 0
         },
         "type": "Feature"
        },
        {
         "geometry": {
          "coordinates": [
           [
            [
             174.9372838842802,
             -41.41099323807189,
             0
            ],
            [
             175.00063679620996,
             -41.354387803810454,
             0
            ],
            [
             174.9440202021992,
             -41.3135937726768,
             18
            ],
            [
             174.88061805676182,
             -41.370199179278515,
             18
            ],
            [
             174.9372838842802,
             -41.41099323807189,
             0
            ]
           ]
          ],
          "type": "Polygon"
         },
         "id": "2101",
         "properties": {
          "AseismicSlipFactor": 0,
          "CouplingCoeff": 1,
          "DipDeg": 70,
          "DipDir": 313.8,
          "FaultID": 2101,
          "FaultName": "Wairarapa: 1, Subsection 3",
          "LowDepth": 18,
          "ParentID": 506,
          "ParentName": "Wairarapa: 1",
          "Rake": 160,
          "Target Slip Rate": 0.0043425,
          "Target Slip Rate StdDev": 0.00051415,
          "UpDepth": 0
         },
         "type": "Feature"
        },
        {
         "geometry": {
          "coordinates": [
           [
            [
             175.00063679620996,
             -41.354387803810454,
             0
            ],
            [
             175.0501,
             -41.3101,
             0
            ],
            [
             175.06171830865475,
             -41.29655173940322,
             0
            ],
            [
             175.00515187325385,
             -41.255757736481044,
             18
            ],
            [
             174.99352182794632,
             -41.26930599047368,
             18
            ],
            [
             174.9440202021992,
             -41.3135937726768,
             18
            ],
            [
             175.00063679620996,
             -41.354387803810454,
             0
            ]
           ]
          ],
          "type": "Polygon"
         },
         "id": "2102",
         "properties": {
          "AseismicSlipFactor": 0,
          "CouplingCoeff": 1,
          "DipDeg": 70,
          "DipDir": 313.8,
          "FaultID": 2102,
          "FaultName": "Wairarapa: 1, Subsection 4",
          "LowDepth": 18,
          "ParentID": 506,
          "ParentName": "Wairarapa: 1",
          "Rake": 160,
          "Target Slip Rate": 0.0045225,
          "Target Slip Rate StdDev": 0.00053318,
          "UpDepth": 0
         },
         "type": "Feature"
        },
        {
         "geometry": {
          "coordinates": [
           [
            [
             175.06171830865475,
             -41.29655173940322,
             0
            ],
            [
             175.0837,
             -41.2709,
             0
            ],
            [
             175.12689999999998,
             -41.24210000000002,
             0
            ],
            [
             175.07038065438925,
             -41.20130602359289,
             18
            ],
            [
             175.0271557643227,
             -41.23010600957433,
             18
            ],
            [
             175.00515187325385,
             -41.255757736481044,
             18
            ],
            [
             175.06171830865475,
             -41.29655173940322,
             0
            ]
           ]
          ],
          "type": "Polygon"
         },
         "id": "2103",
         "properties": {
          "AseismicSlipFactor": 0,
          "CouplingCoeff": 1,
          "DipDeg": 70,
          "DipDir": 313.8,
          "FaultID": 2103,
          "FaultName": "Wairarapa: 1, Subsection 5",
          "LowDepth": 18,
          "ParentID": 506,
          "ParentName": "Wairarapa: 1",
          "Rake": 160,
          "Target Slip Rate": 0.0048825,
          "Target Slip Rate StdDev": 0.00055985,
          "UpDepth": 0
         },
         "type": "Feature"
        },
        {
         "geometry": {
          "coordinates": [
           [
            [
             175.1269,
             -41.2421,
             0
            ],
            [
             175.1448,
             -41.2406,
             0
            ],
            [
             175.1999,
             -41.2081,
             0
            ],
            [
             175.21088076595865,
             -41.19834065328985,
             0
            ],
            [
             175.16177143779927,
             -41.15797984525554,
             16.72
            ],
            [
             175.1507833579302,
             -41.167739188380295,
             16.72
            ],
            [
             175.09565897557923,
             -41.20023917643268,
             16.72
            ],
            [
             175.0777578492737,
             -41.20173917588098,
             16.72
            ],
            [
             175.1269,
             -41.2421,
             0
            ]
           ]
          ],
          "type": "Polygon"
         },
         "id": "2104",
         "properties": {
          "AseismicSlipFactor": 0,
          "CouplingCoeff": 1,
          "DipDeg": 70,
          "DipDir": 317.5,
          "FaultID": 2104,
          "FaultName": "Wairarapa: 2, Subsection 0",
          "LowDepth": 16.72,
          "ParentID": 507,
          "ParentName": "Wairarapa: 2",
          "Rake": 160,
          "Target Slip Rate": 0.0049725,
          "Target Slip Rate StdDev": 0.0005151099999999999,
          "UpDepth": 0
         },
         "type": "Feature"
        },
        {
         "geometry": {
          "coordinates": [
           [
            [
             175.21088076595865,
             -41.19834065328985,
             0
            ],
            [
             175.2551,
             -41.159,
             0
            ],
            [
             175.28060121506388,
             -41.139362472373996,
             0
            ],
            [
             175.23153601010893,
             -41.09900168598449,
             16.72
            ],
            [
             175.20602011825065,
             -41.118639206407906,
             16.72
            ],
            [
             175.16177143779927,
             -41.15797984525554,
             16.72
            ],
            [
             175.21088076595865,
             -41.19834065328985,
             0
            ]
           ]
          ],
          "type": "Polygon"
         },
         "id": "2105",
         "properties": {
          "AseismicSlipFactor": 0,
          "CouplingCoeff": 1,
          "DipDeg": 70,
          "DipDir": 317.5,
          "FaultID": 2105,
          "FaultName": "Wairarapa: 2, Subsection 1",
          "LowDepth": 16.72,
          "ParentID": 507,
          "ParentName": "Wairarapa: 2",
          "Rake": 160,
          "Target Slip Rate": 0.0051525,
          "Target Slip Rate StdDev": 0.0004950999999999999,
          "UpDepth": 0
         },
         "type": "Feature"
        },
        {
         "geometry": {
          "coordinates": [
           [
            [
             175.28060121506388,
             -41.139362472373996,
             0
            ],
            [
             175.3538620781445,
             -41.082850233333595,
             0
            ],
            [
             175.30483902854604,
             -41.04248946764746,
             16.72
            ],
            [
             175.23153601010893,
             -41.09900168598449,
             16.72
            ],
            [
             175.28060121506388,
             -41.139362472373996,
             0
            ]
           ]
          ],
          "type": "Polygon"
         },
         "id": "2106",
         "properties": {
          "AseismicSlipFactor": 0,
          "CouplingCoeff": 1,
          "DipDeg": 70,
          "DipDir": 317.5,
          "FaultID": 2106,
          "FaultName": "Wairarapa: 2, Subsection 2",
          "LowDepth": 16.72,
          "ParentID": 507,
          "ParentName": "Wairarapa: 2",
          "Rake": 160,
          "Target Slip Rate": 0.0053325,
          "Target Slip Rate StdDev": 0.0005425100000000001,
          "UpDepth": 0
         },
         "type": "Feature"
        },
        {
         "geometry": {
          "coordinates": [
           [
            [
             175.3538620781445,
             -41.082850233333595,
             0
            ],
            [
             175.3604,
             -41.0778,
             0
            ],
            [
             175.3734,
             -41.0708,
             0
            ],
            [
             175.4313,
             -41.0298,
             0
            ],
            [
             175.38231641408032,
             -40.9894392537166,
             16.72
            ],
            [
             175.3243859237509,
             -41.030439238723886,
             16.72
            ],
            [
             175.31138071178165,
             -41.03743923616231,
             16.72
            ],
            [
             175.30483902854604,
             -41.04248946764746,
             16.72
            ],
            [
             175.3538620781445,
             -41.082850233333595,
             0
            ]
           ]
          ],
          "type": "Polygon"
         },
         "id": "2107",
         "properties": {
          "AseismicSlipFactor": 0,
          "CouplingCoeff": 1,
          "DipDeg": 70,
          "DipDir": 317.5,
          "FaultID": 2107,
          "FaultName": "Wairarapa: 2, Subsection 3",
          "LowDepth": 16.72,
          "ParentID": 507,
          "ParentName": "Wairarapa: 2",
          "Rake": 160,
          "Target Slip Rate": 0.0055125,
          "Target Slip Rate StdDev": 0.0005561300000000001,
          "UpDepth": 0
         },
         "type": "Feature"
        },
        {
         "geometry": {
          "coordinates": [
           [
            [
             174.4881,
             -41.3729,
             0
            ],
            [
             174.42174204645917,
             -41.36511905434656,
             0
            ],
            [
             174.40063662156996,
             -41.45669127440914,
             22.16
            ],
            [
             174.466992042688,
             -41.46447221953463,
             22.16
            ],
            [
             174.4881,
             -41.3729,
             0
            ]
           ]
          ],
          "type": "Polygon"
         },
         "id": "2131",
         "properties": {
          "AseismicSlipFactor": 0,
          "CouplingCoeff": 1,
          "DipDeg": 65,
          "DipDir": 189.8,
          "FaultID": 2131,
          "FaultName": "Wairau 3, Subsection 0",
          "LowDepth": 22.16,
          "ParentID": 513,
          "ParentName": "Wairau 3",
          "Rake": -110,
          "Target Slip Rate": 0.003825,
          "Target Slip Rate StdDev": 0.0011403,
          "UpDepth": 0
         },
         "type": "Feature"
        },
        {
         "geometry": {
          "coordinates": [
           [
            [
             174.42174204645917,
             -41.36511905434656,
             0
            ],
            [
             174.3554,
             -41.3573,
             0
            ],
            [
             174.33429711893254,
             -41.448872220593,
             22.16
            ],
            [
             174.40063662156996,
             -41.45669127440914,
             22.16
            ],
            [
             174.42174204645917,
             -41.36511905434656,
             0
            ]
           ]
          ],
          "type": "Polygon"
         },
         "id": "2132",
         "properties": {
          "AseismicSlipFactor": 0,
          "CouplingCoeff": 1,
          "DipDeg": 65,
          "DipDir": 189.8,
          "FaultID": 2132,
          "FaultName": "Wairau 3, Subsection 1",
          "LowDepth": 22.16,
          "ParentID": 513,
          "ParentName": "Wairau 3",
          "Rake": -110,
          "Target Slip Rate": 0.003825,
          "Target Slip Rate StdDev": 0.0011403,
          "UpDepth": 0
         },
         "type": "Feature"
        },
        {
         "geometry": {
          "coordinates": [
           [
            [
             176.138,
             -40.6267,
             0
            ],
            [
             176.107,
             -40.6517,
             0
            ],
            [
             176.0965334174614,
             -40.6591289242437,
             0
            ],
            [
             176.1320254871747,
             -40.6888036010727,
             12.240000000000002
            ],
            [
             176.14248811378206,
             -40.68137467825415,
             12.240000000000002
            ],
            [
             176.173474812038,
             -40.65637468304783,
             12.240000000000002
            ],
            [
             176.138,
             -40.6267,
             0
            ]
           ]
          ],
          "type": "Polygon"
         },
         "id": "2146",
         "properties": {
          "AseismicSlipFactor": 0,
          "CouplingCoeff": 1,
          "DipDeg": 70,
          "DipDir": 137.8,
          "FaultID": 2146,
          "FaultName": "Waitawhiti, Subsection 0",
          "LowDepth": 12.240000000000002,
          "ParentID": 519,
          "ParentName": "Waitawhiti",
          "Rake": 160,
          "Target Slip Rate": 0.0002025,
          "Target Slip Rate StdDev": 0.00051166,
          "UpDepth": 0
         },
         "type": "Feature"
        },
        {
         "geometry": {
          "coordinates": [
           [
            [
             176.0965334174614,
             -40.6591289242437,
             0
            ],
            [
             176.053,
             -40.69,
             0
            ],
            [
             176.08850852453068,
             -40.719674670903295,
             12.240000000000002
            ],
            [
             176.1320254871747,
             -40.6888036010727,
             12.240000000000002
            ],
            [
             176.0965334174614,
             -40.6591289242437,
             0
            ]
           ]
          ],
          "type": "Polygon"
         },
         "id": "2147",
         "properties": {
          "AseismicSlipFactor": 0,
          "CouplingCoeff": 1,
          "DipDeg": 70,
          "DipDir": 137.8,
          "FaultID": 2147,
          "FaultName": "Waitawhiti, Subsection 1",
          "LowDepth": 12.240000000000002,
          "ParentID": 519,
          "ParentName": "Waitawhiti",
          "Rake": 160,
          "Target Slip Rate": 0.0002025,
          "Target Slip Rate StdDev": 0.00051166,
          "UpDepth": 0
         },
         "type": "Feature"
        },
        {
         "geometry": {
          "coordinates": [
           [
            [
             174.5186,
             -41.475,
             0
            ],
            [
             174.57867526752764,
             -41.44771561334809,
             0
            ],
            [
             174.529840893343,
             -41.384498057378636,
             22.32
            ],
            [
             174.4697451207746,
             -41.411782434116006,
             22.32
            ],
            [
             174.5186,
             -41.475,
             0
            ]
           ]
          ],
          "type": "Polygon"
         },
         "id": "2199",
         "properties": {
          "AseismicSlipFactor": 0,
          "CouplingCoeff": 1,
          "DipDeg": 70,
          "DipDir": 329.9,
          "FaultID": 2199,
          "FaultName": "Wellington Hutt Valley: 1, Subsection 0",
          "LowDepth": 22.32,
          "ParentID": 528,
          "ParentName": "Wellington Hutt Valley: 1",
          "Rake": -160,
          "Target Slip Rate": 0.002745,
          "Target Slip Rate StdDev": 0.001039,
          "UpDepth": 0
         },
         "type": "Feature"
        },
        {
         "geometry": {
          "coordinates": [
           [
            [
             174.57867526752764,
             -41.44771561334809,
             0
            ],
            [
             174.6387,
             -41.4204,
             0
            ],
            [
             174.58988612600527,
             -41.357182453948106,
             22.32
            ],
            [
             174.529840893343,
             -41.384498057378636,
             22.32
            ],
            [
             174.57867526752764,
             -41.44771561334809,
             0
            ]
           ]
          ],
          "type": "Polygon"
         },
         "id": "2200",
         "properties": {
          "AseismicSlipFactor": 0,
          "CouplingCoeff": 1,
          "DipDeg": 70,
          "DipDir": 329.9,
          "FaultID": 2200,
          "FaultName": "Wellington Hutt Valley: 1, Subsection 1",
          "LowDepth": 22.32,
          "ParentID": 528,
          "ParentName": "Wellington Hutt Valley: 1",
          "Rake": -160,
          "Target Slip Rate": 0.002745,
          "Target Slip Rate StdDev": 0.001039,
          "UpDepth": 0
         },
         "type": "Feature"
        },
        {
         "geometry": {
          "coordinates": [
           [
            [
             174.6387,
             -41.4204,
             0
            ],
            [
             174.66826699524862,
             -41.38300377973609,
             0
            ],
            [
             174.63023889631435,
             -41.36523258971267,
             21.200000000000003
            ],
            [
             174.60065002497262,
             -41.40262880173498,
             21.200000000000003
            ],
            [
             174.6387,
             -41.4204,
             0
            ]
           ]
          ],
          "type": "Polygon"
         },
         "id": "2201",
         "properties": {
          "AseismicSlipFactor": 0,
          "CouplingCoeff": 1,
          "DipDeg": 80,
          "DipDir": 301.9,
          "FaultID": 2201,
          "FaultName": "Wellington Hutt Valley: 2, Subsection 0",
          "LowDepth": 21.200000000000003,
          "ParentID": 529,
          "ParentName": "Wellington Hutt Valley: 2",
          "Rake": 160,
          "Target Slip Rate": 0.0023625,
          "Target Slip Rate StdDev": 0.00066562,
          "UpDepth": 0
         },
         "type": "Feature"
        },
        {
         "geometry": {
          "coordinates": [
           [
            [
             174.66826699524862,
             -41.38300377973609,
             0
            ],
            [
             174.6978,
             -41.345600000000005,
             0
            ],
            [
             174.65979374024704,
             -41.32782881821037,
             21.200000000000003
            ],
            [
             174.63023889631435,
             -41.36523258971267,
             21.200000000000003
            ],
            [
             174.66826699524862,
             -41.38300377973609,
             0
            ]
           ]
          ],
          "type": "Polygon"
         },
         "id": "2202",
         "properties": {
          "AseismicSlipFactor": 0,
          "CouplingCoeff": 1,
          "DipDeg": 80,
          "DipDir": 301.9,
          "FaultID": 2202,
          "FaultName": "Wellington Hutt Valley: 2, Subsection 1",
          "LowDepth": 21.200000000000003,
          "ParentID": 529,
          "ParentName": "Wellington Hutt Valley: 2",
          "Rake": 160,
          "Target Slip Rate": 0.0023625,
          "Target Slip Rate StdDev": 0.00066562,
          "UpDepth": 0
         },
         "type": "Feature"
        },
        {
         "geometry": {
          "coordinates": [
           [
            [
             174.7808,
             -41.2682,
             0
            ],
            [
             174.7392,
             -41.3031,
             0
            ],
            [
             174.73691921963152,
             -41.30544321025075,
             0
            ],
            [
             174.73691921963152,
             -41.30544321025075,
             20.240000000000002
            ],
            [
             174.7392,
             -41.3031,
             20.240000000000002
            ],
            [
             174.7808,
             -41.2682,
             20.240000000000002
            ],
            [
             174.7808,
             -41.2682,
             0
            ]
           ]
          ],
          "type": "Polygon"
         },
         "id": "2203",
         "properties": {
          "AseismicSlipFactor": 0,
          "CouplingCoeff": 1,
          "DipDeg": 90,
          "DipDir": 310,
          "FaultID": 2203,
          "FaultName": "Wellington Hutt Valley: 3, Subsection 0",
          "LowDepth": 20.240000000000002,
          "ParentID": 530,
          "ParentName": "Wellington Hutt Valley: 3",
          "Rake": 180,
          "Target Slip Rate": 0.0018675,
          "Target Slip Rate StdDev": 0.00058349,
          "UpDepth": 0
         },
         "type": "Feature"
        },
        {
         "geometry": {
          "coordinates": [
           [
            [
             174.73691921963152,
             -41.30544321025075,
             0
            ],
            [
             174.6978,
             -41.3456,
             0
            ],
            [
             174.6978,
             -41.3456,
             20.240000000000002
            ],
            [
             174.73691921963152,
             -41.30544321025075,
             20.240000000000002
            ],
            [
             174.73691921963152,
             -41.30544321025075,
             0
            ]
           ]
          ],
          "type": "Polygon"
         },
         "id": "2204",
         "properties": {
          "AseismicSlipFactor": 0,
          "CouplingCoeff": 1,
          "DipDeg": 90,
          "DipDir": 310,
          "FaultID": 2204,
          "FaultName": "Wellington Hutt Valley: 3, Subsection 1",
          "LowDepth": 20.240000000000002,
          "ParentID": 530,
          "ParentName": "Wellington Hutt Valley: 3",
          "Rake": 180,
          "Target Slip Rate": 0.0018675,
          "Target Slip Rate StdDev": 0.00058349,
          "UpDepth": 0
         },
         "type": "Feature"
        },
        {
         "geometry": {
          "coordinates": [
           [
            [
             175.7942,
             -40.3671,
             0
            ],
            [
             175.73392509292535,
             -40.42817117416799,
             0
            ],
            [
             175.69762200905322,
             -40.40993888467854,
             20.880000000000003
            ],
            [
             175.75792980944306,
             -40.348867722758236,
             20.880000000000003
            ],
            [
             175.7942,
             -40.3671,
             0
            ]
           ]
          ],
          "type": "Polygon"
         },
         "id": "2210",
         "properties": {
          "AseismicSlipFactor": 0,
          "CouplingCoeff": 1,
          "DipDeg": 80,
          "DipDir": 303.4,
          "FaultID": 2210,
          "FaultName": "Wellington: Pahiatua, Subsection 0",
          "LowDepth": 20.880000000000003,
          "ParentID": 533,
          "ParentName": "Wellington: Pahiatua",
          "Rake": 160,
          "Target Slip Rate": 0.0053325,
          "Target Slip Rate StdDev": 0.00073378,
          "UpDepth": 0
         },
         "type": "Feature"
        },
        {
         "geometry": {
          "coordinates": [
           [
            [
             175.73392509292535,
             -40.42817117416799,
             0
            ],
            [
             175.7165,
             -40.4458,
             0
            ],
            [
             175.68105161924245,
             -40.49297422187355,
             0
            ],
            [
             175.64471352155158,
             -40.47474191936365,
             20.880000000000003
            ],
            [
             175.68018740235587,
             -40.42756770697098,
             20.880000000000003
            ],
            [
             175.69762200905322,
             -40.40993888467854,
             20.880000000000003
            ],
            [
             175.73392509292535,
             -40.42817117416799,
             0
            ]
           ]
          ],
          "type": "Polygon"
         },
         "id": "2211",
         "properties": {
          "AseismicSlipFactor": 0,
          "CouplingCoeff": 1,
          "DipDeg": 80,
          "DipDir": 303.4,
          "FaultID": 2211,
          "FaultName": "Wellington: Pahiatua, Subsection 1",
          "LowDepth": 20.880000000000003,
          "ParentID": 533,
          "ParentName": "Wellington: Pahiatua",
          "Rake": 160,
          "Target Slip Rate": 0.0047925,
          "Target Slip Rate StdDev": 0.0007025,
          "UpDepth": 0
         },
         "type": "Feature"
        },
        {
         "geometry": {
          "coordinates": [
           [
            [
             176.58140829460393,
             -38.7727187176275,
             0
            ],
            [
             176.5809,
             -38.8194,
             0
            ],
            [
             176.5896447339804,
             -38.859441889028126,
             0
            ],
            [
             176.54778852101785,
             -38.85438841219441,
             20.8
            ],
            [
             176.53906732832775,
             -38.81434653384489,
             20.8
            ],
            [
             176.53960300846134,
             -38.76766526390649,
             20.8
            ],
            [
             176.58140829460393,
             -38.7727187176275,
             0
            ]
           ]
          ],
          "type": "Polygon"
         },
         "id": "2295",
         "properties": {
          "AseismicSlipFactor": 0,
          "CouplingCoeff": 1,
          "DipDeg": 80,
          "DipDir": 278.8,
          "FaultID": 2295,
          "FaultName": "Wheao: South, Subsection 3",
          "LowDepth": 20.8,
          "ParentID": 549,
          "ParentName": "Wheao: South",
          "Rake": -160,
          "Target Slip Rate": 0.0007524999999999999,
          "Target Slip Rate StdDev": 0.00048215,
          "UpDepth": 0
         },
         "type": "Feature"
        },
        {
         "geometry": {
          "coordinates": [
           [
            [
             176.5896447339804,
             -38.859441889028126,
             0
            ],
            [
             176.5993,
             -38.9036,
             0
            ],
            [
             176.59360913895657,
             -38.94587565063203,
             0
            ],
            [
             176.55170194987306,
             -38.94082215070658,
             20.8
            ],
            [
             176.5574177712795,
             -38.898546511375976,
             20.8
            ],
            [
             176.54778852101785,
             -38.85438841219441,
             20.8
            ],
            [
             176.5896447339804,
             -38.859441889028126,
             0
            ]
           ]
          ],
          "type": "Polygon"
         },
         "id": "2296",
         "properties": {
          "AseismicSlipFactor": 0,
          "CouplingCoeff": 1,
          "DipDeg": 80,
          "DipDir": 278.8,
          "FaultID": 2296,
          "FaultName": "Wheao: South, Subsection 4",
          "LowDepth": 20.8,
          "ParentID": 549,
          "ParentName": "Wheao: South",
          "Rake": -160,
          "Target Slip Rate": 0.00108,
          "Target Slip Rate StdDev": 0.00051221,
          "UpDepth": 0
         },
         "type": "Feature"
        },
        {
         "geometry": {
          "coordinates": [
           [
            [
             176.59360913895657,
             -38.94587565063203,
             0
            ],
            [
             176.5819,
             -39.0327,
             0
            ],
            [
             176.53994138302352,
             -39.02764647682172,
             20.8
            ],
            [
             176.55170194987306,
             -38.94082215070658,
             20.8
            ],
            [
             176.59360913895657,
             -38.94587565063203,
             0
            ]
           ]
          ],
          "type": "Polygon"
         },
         "id": "2297",
         "properties": {
          "AseismicSlipFactor": 0,
          "CouplingCoeff": 1,
          "DipDeg": 80,
          "DipDir": 278.8,
          "FaultID": 2297,
          "FaultName": "Wheao: South, Subsection 5",
          "LowDepth": 20.8,
          "ParentID": 549,
          "ParentName": "Wheao: South",
          "Rake": -160,
          "Target Slip Rate": 0.0011474999999999,
          "Target Slip Rate StdDev": 0.0005335600000000001,
          "UpDepth": 0
         },
         "type": "Feature"
        },
        {
         "geometry": {
          "coordinates": [
           [
            [
             174.9360024151462,
             -41.2985545083867,
             0
            ],
            [
             174.947,
             -41.2817,
             0
            ],
            [
             174.968,
             -41.2583,
             0
            ],
            [
             174.98896193554762,
             -41.22574694015119,
             0
            ],
            [
             174.86420563815088,
             -41.17490563535433,
             20.560000000000002
            ],
            [
             174.84318165460527,
             -41.20745861799603,
             20.560000000000002
            ],
            [
             174.82213698981215,
             -41.230858562450045,
             20.560000000000002
            ],
            [
             174.81110720116536,
             -41.24771303080356,
             20.560000000000002
            ],
            [
             174.9360024151462,
             -41.2985545083867,
             0
            ]
           ]
          ],
          "type": "Polygon"
         },
         "id": "2321",
         "properties": {
          "AseismicSlipFactor": 0,
          "CouplingCoeff": 1,
          "DipDeg": 60,
          "DipDir": 298.4,
          "FaultID": 2321,
          "FaultName": "Whitemans Valley, Subsection 1",
          "LowDepth": 20.560000000000002,
          "ParentID": 555,
          "ParentName": "Whitemans Valley",
          "Rake": 110,
          "Target Slip Rate": 0.000213003,
          "Target Slip Rate StdDev": 0.00021322,
          "UpDepth": 0
         },
         "type": "Feature"
        },
        {
         "geometry": {
          "coordinates": [
           [
            [
             174.98896193554762,
             -41.22574694015119,
             0
            ],
            [
             174.998,
             -41.2117,
             0
            ],
            [
             175.015,
             -41.195,
             0
            ],
            [
             175.018,
             -41.1767,
             0
            ],
            [
             175.035,
             -41.1517,
             0
            ],
            [
             174.91038446114501,
             -41.100858870537174,
             20.560000000000002
            ],
            [
             174.89333699653724,
             -41.12585881138451,
             20.560000000000002
            ],
            [
             174.8903022144632,
             -41.14415876805617,
             20.560000000000002
            ],
            [
             174.8732704453959,
             -41.160858728495,
             20.560000000000002
            ],
            [
             174.86420563815088,
             -41.17490563535433,
             20.560000000000002
            ],
            [
             174.98896193554762,
             -41.22574694015119,
             0
            ]
           ]
          ],
          "type": "Polygon"
         },
         "id": "2322",
         "properties": {
          "AseismicSlipFactor": 0,
          "CouplingCoeff": 1,
          "DipDeg": 60,
          "DipDir": 298.4,
          "FaultID": 2322,
          "FaultName": "Whitemans Valley, Subsection 2",
          "LowDepth": 20.560000000000002,
          "ParentID": 555,
          "ParentName": "Whitemans Valley",
          "Rake": 110,
          "Target Slip Rate": 0.000153,
          "Target Slip Rate StdDev": 0.00021087,
          "UpDepth": 0
         },
         "type": "Feature"
        }
       ],
       "type": "FeatureCollection"
      },
      "text/plain": [
       "<IPython.display.GeoJSON object>"
      ]
     },
     "metadata": {
      "application/geo+json": {
       "expanded": false,
       "root": "root"
      }
     },
     "output_type": "display_data"
    }
   ],
   "source": [
    "GeoJSON(json.loads(new_surfaces.to_json()))"
   ]
  },
  {
   "cell_type": "code",
   "execution_count": null,
   "id": "053dc352-60ef-42f9-9bdd-faee95bbe147",
   "metadata": {},
   "outputs": [],
   "source": []
  },
  {
   "cell_type": "code",
   "execution_count": 145,
   "id": "64683212-20be-4bed-a2f9-5ba9e7edac43",
   "metadata": {},
   "outputs": [
    {
     "name": "stdout",
     "output_type": "stream",
     "text": [
      "solution rates (2325, 2)\n",
      "new_solution rates (87, 2)\n"
     ]
    }
   ],
   "source": [
    "## check new participation rates are smaller\n",
    "\n",
    "rates = solution.section_participation_rates()\n",
    "new_rates = new_solution.section_participation_rates()\n",
    "\n",
    "print(f'solution rates {rates.shape}')\n",
    "print(f'new_solution rates {new_rates.shape}')\n",
    "\n",
    "assert new_rates[new_rates.index==132].participation_rate.sum() < rates[rates.index==132].participation_rate.sum()\n",
    "assert new_rates.participation_rate.sum() < rates.participation_rate.sum()"
   ]
  },
  {
   "cell_type": "code",
   "execution_count": 88,
   "id": "c8ca2060-9275-4f00-8965-5d37d01f3ab1",
   "metadata": {},
   "outputs": [
    {
     "name": "stderr",
     "output_type": "stream",
     "text": [
      "/opt/conda/lib/python3.11/zipfile.py:1566: UserWarning: Duplicate name: 'WARNING.md'\n",
      "  return self._open_to_write(zinfo, force_zip64=force_zip64)\n"
     ]
    }
   ],
   "source": [
    "new_solution.to_archive(\n",
    "    archive_path=\"play_solution_compat.zip\",\n",
    "    base_archive_path=\"NZSHM22_ScaledInversionSolution-QXV0b21hdGlvblRhc2s6MTEzMTM0.zip\",\n",
    "    compat=True)"
   ]
  },
  {
   "cell_type": "code",
   "execution_count": 90,
   "id": "576dbc28-7be2-45de-a2dd-110f80ba5d27",
   "metadata": {},
   "outputs": [],
   "source": [
    "cc_solution_compat = solvis.InversionSolution.from_archive(\"play_solution_compat.zip\")\n",
    "cc_solution = solvis.InversionSolution.from_archive(\"play_solution.zip\")"
   ]
  },
  {
   "cell_type": "code",
   "execution_count": 91,
   "id": "8ffffdce-58fb-4d25-b3e9-2106796d837a",
   "metadata": {},
   "outputs": [],
   "source": [
    "cc_rates = cc_solution.section_participation_rates() # no rates here!! \n",
    "cc_rates_compat = cc_solution_compat.section_participation_rates()"
   ]
  },
  {
   "cell_type": "code",
   "execution_count": 93,
   "id": "b0079ee1-0e51-490a-91b4-eebf263afc40",
   "metadata": {},
   "outputs": [
    {
     "data": {
      "text/html": [
       "<div>\n",
       "<style scoped>\n",
       "    .dataframe tbody tr th:only-of-type {\n",
       "        vertical-align: middle;\n",
       "    }\n",
       "\n",
       "    .dataframe tbody tr th {\n",
       "        vertical-align: top;\n",
       "    }\n",
       "\n",
       "    .dataframe thead th {\n",
       "        text-align: right;\n",
       "    }\n",
       "</style>\n",
       "<table border=\"1\" class=\"dataframe\">\n",
       "  <thead>\n",
       "    <tr style=\"text-align: right;\">\n",
       "      <th></th>\n",
       "      <th>Rupture Index</th>\n",
       "      <th>participation_rate</th>\n",
       "    </tr>\n",
       "    <tr>\n",
       "      <th>section</th>\n",
       "      <th></th>\n",
       "      <th></th>\n",
       "    </tr>\n",
       "  </thead>\n",
       "  <tbody>\n",
       "    <tr>\n",
       "      <th>132</th>\n",
       "      <td>0</td>\n",
       "      <td>0.000006</td>\n",
       "    </tr>\n",
       "    <tr>\n",
       "      <th>133</th>\n",
       "      <td>0</td>\n",
       "      <td>0.000006</td>\n",
       "    </tr>\n",
       "    <tr>\n",
       "      <th>134</th>\n",
       "      <td>0</td>\n",
       "      <td>0.000006</td>\n",
       "    </tr>\n",
       "    <tr>\n",
       "      <th>135</th>\n",
       "      <td>0</td>\n",
       "      <td>0.000006</td>\n",
       "    </tr>\n",
       "    <tr>\n",
       "      <th>136</th>\n",
       "      <td>0</td>\n",
       "      <td>0.000006</td>\n",
       "    </tr>\n",
       "    <tr>\n",
       "      <th>...</th>\n",
       "      <td>...</td>\n",
       "      <td>...</td>\n",
       "    </tr>\n",
       "    <tr>\n",
       "      <th>2295</th>\n",
       "      <td>16</td>\n",
       "      <td>0.0</td>\n",
       "    </tr>\n",
       "    <tr>\n",
       "      <th>2296</th>\n",
       "      <td>35</td>\n",
       "      <td>0.0</td>\n",
       "    </tr>\n",
       "    <tr>\n",
       "      <th>2297</th>\n",
       "      <td>35</td>\n",
       "      <td>0.0</td>\n",
       "    </tr>\n",
       "    <tr>\n",
       "      <th>2321</th>\n",
       "      <td>12</td>\n",
       "      <td>0.000006</td>\n",
       "    </tr>\n",
       "    <tr>\n",
       "      <th>2322</th>\n",
       "      <td>12</td>\n",
       "      <td>0.000006</td>\n",
       "    </tr>\n",
       "  </tbody>\n",
       "</table>\n",
       "<p>87 rows × 2 columns</p>\n",
       "</div>"
      ],
      "text/plain": [
       "         Rupture Index  participation_rate\n",
       "section                                   \n",
       "132                  0            0.000006\n",
       "133                  0            0.000006\n",
       "134                  0            0.000006\n",
       "135                  0            0.000006\n",
       "136                  0            0.000006\n",
       "...                ...                 ...\n",
       "2295                16                 0.0\n",
       "2296                35                 0.0\n",
       "2297                35                 0.0\n",
       "2321                12            0.000006\n",
       "2322                12            0.000006\n",
       "\n",
       "[87 rows x 2 columns]"
      ]
     },
     "execution_count": 93,
     "metadata": {},
     "output_type": "execute_result"
    }
   ],
   "source": [
    "cc_rates_compat"
   ]
  },
  {
   "cell_type": "code",
   "execution_count": 94,
   "id": "b71a9e53-02df-4d67-a337-6e8eaa495ff2",
   "metadata": {},
   "outputs": [],
   "source": [
    "assert new_rates.participation_rate.sum() == cc_rates_compat.participation_rate.sum()"
   ]
  },
  {
   "cell_type": "code",
   "execution_count": 96,
   "id": "4c98d2fa-463e-4e7f-a230-792c9b365199",
   "metadata": {},
   "outputs": [
    {
     "data": {
      "text/plain": [
       "(87, 14)"
      ]
     },
     "execution_count": 96,
     "metadata": {},
     "output_type": "execute_result"
    }
   ],
   "source": [
    "cc_surfaces_all = cc_solution_compat.fault_surfaces()\n",
    "\n",
    "ruptures = FilterRuptureIds(cc_solution_compat)\\\n",
    "    .for_parent_fault_names(TARGET_FAULTS)\n",
    "# list(new_ruptures)\n",
    "\n",
    "# assert list(new_ruptures) == list(ruptures)\n",
    "\n",
    "subsections = FilterSubsectionIds(cc_solution_compat).for_rupture_ids(ruptures)\n",
    "surfaces = cc_surfaces_all[cc_surfaces_all[\"FaultID\"].isin(subsections)]\n",
    "surfaces.shape"
   ]
  },
  {
   "cell_type": "code",
   "execution_count": 97,
   "id": "09cc40e0-a326-46cc-9df6-b2b5fab05ba6",
   "metadata": {},
   "outputs": [
    {
     "data": {
      "application/geo+json": {
       "features": [
        {
         "geometry": {
          "coordinates": [
           [
            [
             173.7222889067262,
             -41.816345683856916,
             0
            ],
            [
             173.82338433117926,
             -41.755418786172626,
             0
            ],
            [
             173.78279320635113,
             -41.71476116923573,
             21.040000000000003
            ],
            [
             173.68165924510254,
             -41.77568805161591,
             21.040000000000003
            ],
            [
             173.7222889067262,
             -41.816345683856916,
             0
            ]
           ]
          ],
          "type": "Polygon"
         },
         "id": "132",
         "properties": {
          "AseismicSlipFactor": 0,
          "CouplingCoeff": 1,
          "DipDeg": 75,
          "DipDir": 323.3,
          "FaultID": 132,
          "FaultName": "Awatere: Northeast 1, Subsection 5",
          "LowDepth": 21.040000000000003,
          "ParentID": 30,
          "ParentName": "Awatere: Northeast 1",
          "Rake": 160,
          "Target Slip Rate": 0.0053774999999999,
          "Target Slip Rate StdDev": 0.00069359,
          "UpDepth": 0
         },
         "type": "Feature"
        },
        {
         "geometry": {
          "coordinates": [
           [
            [
             173.82338433117926,
             -41.755418786172626,
             0
            ],
            [
             173.92428786307576,
             -41.69440343925775,
             0
            ],
            [
             173.88373521188305,
             -41.65374583761812,
             21.040000000000003
            ],
            [
             173.78279320635113,
             -41.71476116923573,
             21.040000000000003
            ],
            [
             173.82338433117926,
             -41.755418786172626,
             0
            ]
           ]
          ],
          "type": "Polygon"
         },
         "id": "133",
         "properties": {
          "AseismicSlipFactor": 0,
          "CouplingCoeff": 1,
          "DipDeg": 75,
          "DipDir": 323.3,
          "FaultID": 133,
          "FaultName": "Awatere: Northeast 1, Subsection 6",
          "LowDepth": 21.040000000000003,
          "ParentID": 30,
          "ParentName": "Awatere: Northeast 1",
          "Rake": 160,
          "Target Slip Rate": 0.0053774999999999,
          "Target Slip Rate StdDev": 0.00069359,
          "UpDepth": 0
         },
         "type": "Feature"
        },
        {
         "geometry": {
          "coordinates": [
           [
            [
             173.92428786307576,
             -41.69440343925775,
             0
            ],
            [
             174.025,
             -41.6333,
             0
            ],
            [
             173.98448575896683,
             -41.592642413650715,
             21.040000000000003
            ],
            [
             173.88373521188305,
             -41.65374583761812,
             21.040000000000003
            ],
            [
             173.92428786307576,
             -41.69440343925775,
             0
            ]
           ]
          ],
          "type": "Polygon"
         },
         "id": "134",
         "properties": {
          "AseismicSlipFactor": 0,
          "CouplingCoeff": 1,
          "DipDeg": 75,
          "DipDir": 323.3,
          "FaultID": 134,
          "FaultName": "Awatere: Northeast 1, Subsection 7",
          "LowDepth": 21.040000000000003,
          "ParentID": 30,
          "ParentName": "Awatere: Northeast 1",
          "Rake": 160,
          "Target Slip Rate": 0.004095,
          "Target Slip Rate StdDev": 0.00079421,
          "UpDepth": 0
         },
         "type": "Feature"
        },
        {
         "geometry": {
          "coordinates": [
           [
            [
             174.025,
             -41.6333,
             0
            ],
            [
             174.13933705466923,
             -41.58415655034172,
             0
            ],
            [
             174.11542867784334,
             -41.552008621946946,
             23.200000000000003
            ],
            [
             174.001073424646,
             -41.601152067323476,
             23.200000000000003
            ],
            [
             174.025,
             -41.6333,
             0
            ]
           ]
          ],
          "type": "Polygon"
         },
         "id": "135",
         "properties": {
          "AseismicSlipFactor": 0,
          "CouplingCoeff": 1,
          "DipDeg": 80,
          "DipDir": 330.9,
          "FaultID": 135,
          "FaultName": "Awatere: Northeast 2, Subsection 0",
          "LowDepth": 23.200000000000003,
          "ParentID": 31,
          "ParentName": "Awatere: Northeast 2",
          "Rake": 180,
          "Target Slip Rate": 0.005805,
          "Target Slip Rate StdDev": 0.0012018,
          "UpDepth": 0
         },
         "type": "Feature"
        },
        {
         "geometry": {
          "coordinates": [
           [
            [
             174.13933705466923,
             -41.58415655034172,
             0
            ],
            [
             174.2535,
             -41.5349,
             0
            ],
            [
             174.2296098182043,
             -41.50275207589029,
             23.200000000000003
            ],
            [
             174.11542867784334,
             -41.552008621946946,
             23.200000000000003
            ],
            [
             174.13933705466923,
             -41.58415655034172,
             0
            ]
           ]
          ],
          "type": "Polygon"
         },
         "id": "136",
         "properties": {
          "AseismicSlipFactor": 0,
          "CouplingCoeff": 1,
          "DipDeg": 80,
          "DipDir": 330.9,
          "FaultID": 136,
          "FaultName": "Awatere: Northeast 2, Subsection 1",
          "LowDepth": 23.200000000000003,
          "ParentID": 31,
          "ParentName": "Awatere: Northeast 2",
          "Rake": 180,
          "Target Slip Rate": 0.007245,
          "Target Slip Rate StdDev": 0.0014046,
          "UpDepth": 0
         },
         "type": "Feature"
        },
        {
         "geometry": {
          "coordinates": [
           [
            [
             174.3259,
             -41.4656,
             0
            ],
            [
             174.3028510843706,
             -41.46865230065417,
             0
            ],
            [
             174.31795620962598,
             -41.54003507015504,
             22.080000000000002
            ],
            [
             174.3410044123772,
             -41.53698276960693,
             22.080000000000002
            ],
            [
             174.3259,
             -41.4656,
             0
            ]
           ]
          ],
          "type": "Polygon"
         },
         "id": "453",
         "properties": {
          "AseismicSlipFactor": 0,
          "CouplingCoeff": 1,
          "DipDeg": 70,
          "DipDir": 171,
          "FaultID": 453,
          "FaultName": "Cloudy 2, Subsection 0",
          "LowDepth": 22.080000000000002,
          "ParentID": 86,
          "ParentName": "Cloudy 2",
          "Rake": -110,
          "Target Slip Rate": 0.00441,
          "Target Slip Rate StdDev": 0.00221,
          "UpDepth": 0
         },
         "type": "Feature"
        },
        {
         "geometry": {
          "coordinates": [
           [
            [
             174.3028510843706,
             -41.46865230065417,
             0
            ],
            [
             174.2798,
             -41.47169999999999,
             0
            ],
            [
             174.29490583716876,
             -41.54308276939494,
             22.080000000000002
            ],
            [
             174.31795620962598,
             -41.54003507015504,
             22.080000000000002
            ],
            [
             174.3028510843706,
             -41.46865230065417,
             0
            ]
           ]
          ],
          "type": "Polygon"
         },
         "id": "454",
         "properties": {
          "AseismicSlipFactor": 0,
          "CouplingCoeff": 1,
          "DipDeg": 70,
          "DipDir": 171,
          "FaultID": 454,
          "FaultName": "Cloudy 2, Subsection 1",
          "LowDepth": 22.080000000000002,
          "ParentID": 86,
          "ParentName": "Cloudy 2",
          "Rake": -110,
          "Target Slip Rate": 0.00441,
          "Target Slip Rate StdDev": 0.00221,
          "UpDepth": 0
         },
         "type": "Feature"
        },
        {
         "geometry": {
          "coordinates": [
           [
            [
             175.60881796773072,
             -40.96057042440613,
             0
            ],
            [
             175.5877,
             -40.9682,
             0
            ],
            [
             175.54348275532178,
             -40.9708403543804,
             0
            ],
            [
             175.5632165738695,
             -41.02275985636053,
             12.880000000000003
            ],
            [
             175.6074330274443,
             -41.02011950213672,
             12.880000000000003
            ],
            [
             175.62854870979223,
             -41.012489926995286,
             12.880000000000003
            ],
            [
             175.60881796773072,
             -40.96057042440613,
             0
            ]
           ]
          ],
          "type": "Polygon"
         },
         "id": "1127",
         "properties": {
          "AseismicSlipFactor": 0,
          "CouplingCoeff": 1,
          "DipDeg": 65,
          "DipDir": 164,
          "FaultID": 1127,
          "FaultName": "Masterton, Subsection 2",
          "LowDepth": 12.880000000000003,
          "ParentID": 257,
          "ParentName": "Masterton",
          "Rake": -160,
          "Target Slip Rate": 0.0006525,
          "Target Slip Rate StdDev": 0.00053003,
          "UpDepth": 0
         },
         "type": "Feature"
        },
        {
         "geometry": {
          "coordinates": [
           [
            [
             175.54348275532178,
             -40.9708403543804,
             0
            ],
            [
             175.5408,
             -40.971,
             0
            ],
            [
             175.48280000000005,
             -40.99329999999999,
             0
            ],
            [
             175.5025405521713,
             -41.04521950064752,
             12.880000000000003
            ],
            [
             175.56053386638416,
             -41.02291950197065,
             12.880000000000003
            ],
            [
             175.5632165738695,
             -41.02275985636053,
             12.880000000000003
            ],
            [
             175.54348275532178,
             -40.9708403543804,
             0
            ]
           ]
          ],
          "type": "Polygon"
         },
         "id": "1128",
         "properties": {
          "AseismicSlipFactor": 0,
          "CouplingCoeff": 1,
          "DipDeg": 65,
          "DipDir": 164,
          "FaultID": 1128,
          "FaultName": "Masterton, Subsection 3",
          "LowDepth": 12.880000000000003,
          "ParentID": 257,
          "ParentName": "Masterton",
          "Rake": -160,
          "Target Slip Rate": 0.0005175000000000001,
          "Target Slip Rate StdDev": 0.0004681000000000001,
          "UpDepth": 0
         },
         "type": "Feature"
        },
        {
         "geometry": {
          "coordinates": [
           [
            [
             175.7942,
             -40.3671,
             0
            ],
            [
             175.827,
             -40.3378,
             0
            ],
            [
             175.87215100755003,
             -40.287526389272,
             0
            ],
            [
             175.83274162756234,
             -40.26909276435021,
             22.240000000000002
            ],
            [
             175.78756128965264,
             -40.31936636317711,
             22.240000000000002
            ],
            [
             175.75474416143993,
             -40.34866635623284,
             22.240000000000002
            ],
            [
             175.7942,
             -40.3671,
             0
            ]
           ]
          ],
          "type": "Polygon"
         },
         "id": "1190",
         "properties": {
          "AseismicSlipFactor": 0,
          "CouplingCoeff": 1,
          "DipDeg": 80,
          "DipDir": 301.5,
          "FaultID": 1190,
          "FaultName": "Mohaka: South, Subsection 0",
          "LowDepth": 22.240000000000002,
          "ParentID": 269,
          "ParentName": "Mohaka: South",
          "Rake": 160,
          "Target Slip Rate": 0.005445,
          "Target Slip Rate StdDev": 0.0010736,
          "UpDepth": 0
         },
         "type": "Feature"
        },
        {
         "geometry": {
          "coordinates": [
           [
            [
             175.87215100755003,
             -40.287526389272,
             0
            ],
            [
             175.8911,
             -40.2664,
             0
            ],
            [
             175.9358,
             -40.2303,
             0
            ],
            [
             175.95286581293553,
             -40.20993651817644,
             0
            ],
            [
             175.91350155506902,
             -40.19150291158756,
             22.240000000000002
            ],
            [
             175.8964239168121,
             -40.2118663886037,
             22.240000000000002
            ],
            [
             175.8517029233953,
             -40.247966380074104,
             22.240000000000002
            ],
            [
             175.83274162756234,
             -40.26909276435021,
             22.240000000000002
            ],
            [
             175.87215100755003,
             -40.287526389272,
             0
            ]
           ]
          ],
          "type": "Polygon"
         },
         "id": "1191",
         "properties": {
          "AseismicSlipFactor": 0,
          "CouplingCoeff": 1,
          "DipDeg": 80,
          "DipDir": 301.5,
          "FaultID": 1191,
          "FaultName": "Mohaka: South, Subsection 1",
          "LowDepth": 22.240000000000002,
          "ParentID": 269,
          "ParentName": "Mohaka: South",
          "Rake": 160,
          "Target Slip Rate": 0.00523503,
          "Target Slip Rate StdDev": 0.0010603,
          "UpDepth": 0
         },
         "type": "Feature"
        },
        {
         "geometry": {
          "coordinates": [
           [
            [
             175.95286581293553,
             -40.20993651817644,
             0
            ],
            [
             175.9601,
             -40.2013,
             0
            ],
            [
             175.9707,
             -40.181,
             0
            ],
            [
             175.9866,
             -40.1621,
             0
            ],
            [
             176.01778995227204,
             -40.12408889469149,
             0
            ],
            [
             175.97847541462784,
             -40.10565530833782,
             22.240000000000002
            ],
            [
             175.94726347392523,
             -40.143666404693015,
             22.240000000000002
            ],
            [
             175.93135252516296,
             -40.16256640023748,
             22.240000000000002
            ],
            [
             175.92074075381873,
             -40.18286639544915,
             22.240000000000002
            ],
            [
             175.91350155506902,
             -40.19150291158756,
             22.240000000000002
            ],
            [
             175.95286581293553,
             -40.20993651817644,
             0
            ]
           ]
          ],
          "type": "Polygon"
         },
         "id": "1192",
         "properties": {
          "AseismicSlipFactor": 0,
          "CouplingCoeff": 1,
          "DipDeg": 80,
          "DipDir": 301.5,
          "FaultID": 1192,
          "FaultName": "Mohaka: South, Subsection 2",
          "LowDepth": 22.240000000000002,
          "ParentID": 269,
          "ParentName": "Mohaka: South",
          "Rake": 160,
          "Target Slip Rate": 0.00504,
          "Target Slip Rate StdDev": 0.0010639,
          "UpDepth": 0
         },
         "type": "Feature"
        },
        {
         "geometry": {
          "coordinates": [
           [
            [
             176.01778995227204,
             -40.12408889469149,
             0
            ],
            [
             176.0603,
             -40.0722,
             0
            ],
            [
             176.0825839407859,
             -40.038008264965995,
             0
            ],
            [
             176.0433190439643,
             -40.01957469885127,
             22.240000000000002
            ],
            [
             176.0210154111799,
             -40.05376642585237,
             22.240000000000002
            ],
            [
             175.97847541462784,
             -40.10565530833782,
             22.240000000000002
            ],
            [
             176.01778995227204,
             -40.12408889469149,
             0
            ]
           ]
          ],
          "type": "Polygon"
         },
         "id": "1193",
         "properties": {
          "AseismicSlipFactor": 0,
          "CouplingCoeff": 1,
          "DipDeg": 80,
          "DipDir": 301.5,
          "FaultID": 1193,
          "FaultName": "Mohaka: South, Subsection 3",
          "LowDepth": 22.240000000000002,
          "ParentID": 269,
          "ParentName": "Mohaka: South",
          "Rake": 160,
          "Target Slip Rate": 0.00513,
          "Target Slip Rate StdDev": 0.00091433,
          "UpDepth": 0
         },
         "type": "Feature"
        },
        {
         "geometry": {
          "coordinates": [
           [
            [
             176.0825839407859,
             -40.038008264965995,
             0
            ],
            [
             176.0975,
             -40.0151,
             0
            ],
            [
             176.14996506295185,
             -39.95315213159975,
             0
            ],
            [
             176.1107488917386,
             -39.93471858538615,
             22.240000000000002
            ],
            [
             176.05824827784588,
             -39.99666643926277,
             22.240000000000002
            ],
            [
             176.0433190439643,
             -40.01957469885127,
             22.240000000000002
            ],
            [
             176.0825839407859,
             -40.038008264965995,
             0
            ]
           ]
          ],
          "type": "Polygon"
         },
         "id": "1194",
         "properties": {
          "AseismicSlipFactor": 0,
          "CouplingCoeff": 1,
          "DipDeg": 80,
          "DipDir": 301.5,
          "FaultID": 1194,
          "FaultName": "Mohaka: South, Subsection 4",
          "LowDepth": 22.240000000000002,
          "ParentID": 269,
          "ParentName": "Mohaka: South",
          "Rake": 160,
          "Target Slip Rate": 0.00522,
          "Target Slip Rate StdDev": 0.00089689,
          "UpDepth": 0
         },
         "type": "Feature"
        },
        {
         "geometry": {
          "coordinates": [
           [
            [
             176.14996506295185,
             -39.95315213159975,
             0
            ],
            [
             176.155,
             -39.9472,
             0
            ],
            [
             176.1912,
             -39.8983,
             0
            ],
            [
             176.21157449805304,
             -39.86573817978839,
             0
            ],
            [
             176.17240830517372,
             -39.84730465402424,
             22.240000000000002
            ],
            [
             176.1520152156746,
             -39.8798664666245,
             22.240000000000002
            ],
            [
             176.11578723882107,
             -39.92876645518049,
             22.240000000000002
            ],
            [
             176.1107488917386,
             -39.93471858538615,
             22.240000000000002
            ],
            [
             176.14996506295185,
             -39.95315213159975,
             0
            ]
           ]
          ],
          "type": "Polygon"
         },
         "id": "1195",
         "properties": {
          "AseismicSlipFactor": 0,
          "CouplingCoeff": 1,
          "DipDeg": 80,
          "DipDir": 301.5,
          "FaultID": 1195,
          "FaultName": "Mohaka: South, Subsection 5",
          "LowDepth": 22.240000000000002,
          "ParentID": 269,
          "ParentName": "Mohaka: South",
          "Rake": 160,
          "Target Slip Rate": 0.00541503,
          "Target Slip Rate StdDev": 0.00086775,
          "UpDepth": 0
         },
         "type": "Feature"
        },
        {
         "geometry": {
          "coordinates": [
           [
            [
             176.21157449805304,
             -39.86573817978839,
             0
            ],
            [
             176.2557,
             -39.7951,
             0
            ],
            [
             176.2631,
             -39.7749,
             0
            ],
            [
             176.26315624134813,
             -39.77479284682109,
             0
            ],
            [
             176.2240418143043,
             -39.756359342277335,
             22.240000000000002
            ],
            [
             176.22398551210335,
             -39.75646649543127,
             22.240000000000002
            ],
            [
             176.2165740345956,
             -39.77666649072282,
             22.240000000000002
            ],
            [
             176.17240830517372,
             -39.84730465402424,
             22.240000000000002
            ],
            [
             176.21157449805304,
             -39.86573817978839,
             0
            ]
           ]
          ],
          "type": "Polygon"
         },
         "id": "1196",
         "properties": {
          "AseismicSlipFactor": 0,
          "CouplingCoeff": 1,
          "DipDeg": 80,
          "DipDir": 301.5,
          "FaultID": 1196,
          "FaultName": "Mohaka: South, Subsection 6",
          "LowDepth": 22.240000000000002,
          "ParentID": 269,
          "ParentName": "Mohaka: South",
          "Rake": 160,
          "Target Slip Rate": 0.00529497,
          "Target Slip Rate StdDev": 0.00095867,
          "UpDepth": 0
         },
         "type": "Feature"
        },
        {
         "geometry": {
          "coordinates": [
           [
            [
             176.26315624134813,
             -39.77479284682109,
             0
            ],
            [
             176.302,
             -39.7007,
             0
            ],
            [
             176.3142106157979,
             -39.68354576928166,
             0
            ],
            [
             176.27514789022635,
             -39.66511228597245,
             22.240000000000002
            ],
            [
             176.26292757267285,
             -39.682266512703016,
             22.240000000000002
            ],
            [
             176.2240418143043,
             -39.756359342277335,
             22.240000000000002
            ],
            [
             176.26315624134813,
             -39.77479284682109,
             0
            ]
           ]
          ],
          "type": "Polygon"
         },
         "id": "1197",
         "properties": {
          "AseismicSlipFactor": 0,
          "CouplingCoeff": 1,
          "DipDeg": 80,
          "DipDir": 301.5,
          "FaultID": 1197,
          "FaultName": "Mohaka: South, Subsection 7",
          "LowDepth": 22.240000000000002,
          "ParentID": 269,
          "ParentName": "Mohaka: South",
          "Rake": 160,
          "Target Slip Rate": 0.00513,
          "Target Slip Rate StdDev": 0.00090976,
          "UpDepth": 0
         },
         "type": "Feature"
        },
        {
         "geometry": {
          "coordinates": [
           [
            [
             176.3142106157979,
             -39.68354576928166,
             0
            ],
            [
             176.3564,
             -39.6242,
             0
            ],
            [
             176.37745322448305,
             -39.59685594945448,
             0
            ],
            [
             176.33843940020492,
             -39.57842248626739,
             22.240000000000002
            ],
            [
             176.3173707739489,
             -39.60576653047136,
             22.240000000000002
            ],
            [
             176.27514789022635,
             -39.66511228597245,
             22.240000000000002
            ],
            [
             176.3142106157979,
             -39.68354576928166,
             0
            ]
           ]
          ],
          "type": "Polygon"
         },
         "id": "1198",
         "properties": {
          "AseismicSlipFactor": 0,
          "CouplingCoeff": 1,
          "DipDeg": 80,
          "DipDir": 301.5,
          "FaultID": 1198,
          "FaultName": "Mohaka: South, Subsection 8",
          "LowDepth": 22.240000000000002,
          "ParentID": 269,
          "ParentName": "Mohaka: South",
          "Rake": 160,
          "Target Slip Rate": 0.004995,
          "Target Slip Rate StdDev": 0.00087297,
          "UpDepth": 0
         },
         "type": "Feature"
        },
        {
         "geometry": {
          "coordinates": [
           [
            [
             176.37745322448305,
             -39.59685594945448,
             0
            ],
            [
             176.4432,
             -39.5113,
             0
            ],
            [
             176.40423423015778,
             -39.492866556622545,
             22.240000000000002
            ],
            [
             176.33843940020492,
             -39.57842248626739,
             22.240000000000002
            ],
            [
             176.37745322448305,
             -39.59685594945448,
             0
            ]
           ]
          ],
          "type": "Polygon"
         },
         "id": "1199",
         "properties": {
          "AseismicSlipFactor": 0,
          "CouplingCoeff": 1,
          "DipDeg": 80,
          "DipDir": 301.5,
          "FaultID": 1199,
          "FaultName": "Mohaka: South, Subsection 9",
          "LowDepth": 22.240000000000002,
          "ParentID": 269,
          "ParentName": "Mohaka: South",
          "Rake": 160,
          "Target Slip Rate": 0.004455,
          "Target Slip Rate StdDev": 0.00091495,
          "UpDepth": 0
         },
         "type": "Feature"
        },
        {
         "geometry": {
          "coordinates": [
           [
            [
             176.075,
             -40.7617,
             0
            ],
            [
             176.00688452412265,
             -40.78494946015483,
             0
            ],
            [
             176.02198703428553,
             -40.82280181928106,
             12.08
            ],
            [
             176.09009721920438,
             -40.799552359933635,
             12.08
            ],
            [
             176.075,
             -40.7617,
             0
            ]
           ]
          ],
          "type": "Polygon"
         },
         "id": "1200",
         "properties": {
          "AseismicSlipFactor": 0,
          "CouplingCoeff": 1,
          "DipDeg": 70,
          "DipDir": 163.2,
          "FaultID": 1200,
          "FaultName": "Mokonui Northeast, Subsection 0",
          "LowDepth": 12.08,
          "ParentID": 270,
          "ParentName": "Mokonui Northeast",
          "Rake": -160,
          "Target Slip Rate": 0.0022275,
          "Target Slip Rate StdDev": 0.00058888,
          "UpDepth": 0
         },
         "type": "Feature"
        },
        {
         "geometry": {
          "coordinates": [
           [
            [
             176.00688452412265,
             -40.78494946015483,
             0
            ],
            [
             175.9387213818272,
             -40.80815884056372,
             0
            ],
            [
             175.95382918000976,
             -40.846011198883396,
             12.08
            ],
            [
             176.02198703428553,
             -40.82280181928106,
             12.08
            ],
            [
             176.00688452412265,
             -40.78494946015483,
             0
            ]
           ]
          ],
          "type": "Polygon"
         },
         "id": "1201",
         "properties": {
          "AseismicSlipFactor": 0,
          "CouplingCoeff": 1,
          "DipDeg": 70,
          "DipDir": 163.2,
          "FaultID": 1201,
          "FaultName": "Mokonui Northeast, Subsection 1",
          "LowDepth": 12.08,
          "ParentID": 270,
          "ParentName": "Mokonui Northeast",
          "Rake": -160,
          "Target Slip Rate": 0.0022275,
          "Target Slip Rate StdDev": 0.00058888,
          "UpDepth": 0
         },
         "type": "Feature"
        },
        {
         "geometry": {
          "coordinates": [
           [
            [
             175.9387213818272,
             -40.80815884056372,
             0
            ],
            [
             175.9236,
             -40.8133,
             0
            ],
            [
             175.86662775740743,
             -40.822246081629494,
             0
            ],
            [
             175.8817387682395,
             -40.86009843945935,
             12.08
            ],
            [
             175.93870897037957,
             -40.85115235814093,
             12.08
            ],
            [
             175.95382918000976,
             -40.846011198883396,
             12.08
            ],
            [
             175.9387213818272,
             -40.80815884056372,
             0
            ]
           ]
          ],
          "type": "Polygon"
         },
         "id": "1202",
         "properties": {
          "AseismicSlipFactor": 0,
          "CouplingCoeff": 1,
          "DipDeg": 70,
          "DipDir": 163.2,
          "FaultID": 1202,
          "FaultName": "Mokonui Northeast, Subsection 2",
          "LowDepth": 12.08,
          "ParentID": 270,
          "ParentName": "Mokonui Northeast",
          "Rake": -160,
          "Target Slip Rate": 0.0020925,
          "Target Slip Rate StdDev": 0.00056059,
          "UpDepth": 0
         },
         "type": "Feature"
        },
        {
         "geometry": {
          "coordinates": [
           [
            [
             175.86662775740743,
             -40.822246081629494,
             0
            ],
            [
             175.79340000000005,
             -40.833699999999986,
             0
            ],
            [
             175.8085136246231,
             -40.87155235743142,
             12.08
            ],
            [
             175.8817387682395,
             -40.86009843945935,
             12.08
            ],
            [
             175.86662775740743,
             -40.822246081629494,
             0
            ]
           ]
          ],
          "type": "Polygon"
         },
         "id": "1203",
         "properties": {
          "AseismicSlipFactor": 0,
          "CouplingCoeff": 1,
          "DipDeg": 70,
          "DipDir": 163.2,
          "FaultID": 1203,
          "FaultName": "Mokonui Northeast, Subsection 3",
          "LowDepth": 12.08,
          "ParentID": 270,
          "ParentName": "Mokonui Northeast",
          "Rake": -160,
          "Target Slip Rate": 0.0020925,
          "Target Slip Rate StdDev": 0.00056059,
          "UpDepth": 0
         },
         "type": "Feature"
        },
        {
         "geometry": {
          "coordinates": [
           [
            [
             175.7934,
             -40.8337,
             0
            ],
            [
             175.7625,
             -40.8484,
             0
            ],
            [
             175.72582369450686,
             -40.861212224144516,
             0
            ],
            [
             175.72582369450686,
             -40.861212224144516,
             14.719999999999999
            ],
            [
             175.7625,
             -40.8484,
             14.719999999999999
            ],
            [
             175.7934,
             -40.83370000000001,
             14.719999999999999
            ],
            [
             175.7934,
             -40.8337,
             0
            ]
           ]
          ],
          "type": "Polygon"
         },
         "id": "1204",
         "properties": {
          "AseismicSlipFactor": 0,
          "CouplingCoeff": 1,
          "DipDeg": 90,
          "DipDir": 152.6,
          "FaultID": 1204,
          "FaultName": "Mokonui Southwest, Subsection 0",
          "LowDepth": 14.719999999999999,
          "ParentID": 271,
          "ParentName": "Mokonui Southwest",
          "Rake": 180,
          "Target Slip Rate": 0.0015075,
          "Target Slip Rate StdDev": 0.00048957,
          "UpDepth": 0
         },
         "type": "Feature"
        },
        {
         "geometry": {
          "coordinates": [
           [
            [
             175.72582369450686,
             -40.861212224144516,
             0
            ],
            [
             175.65596327212657,
             -40.885570914194375,
             0
            ],
            [
             175.6559632721266,
             -40.885570914194375,
             14.719999999999999
            ],
            [
             175.72582369450686,
             -40.861212224144516,
             14.719999999999999
            ],
            [
             175.72582369450686,
             -40.861212224144516,
             0
            ]
           ]
          ],
          "type": "Polygon"
         },
         "id": "1205",
         "properties": {
          "AseismicSlipFactor": 0,
          "CouplingCoeff": 1,
          "DipDeg": 90,
          "DipDir": 152.6,
          "FaultID": 1205,
          "FaultName": "Mokonui Southwest, Subsection 1",
          "LowDepth": 14.719999999999999,
          "ParentID": 271,
          "ParentName": "Mokonui Southwest",
          "Rake": 180,
          "Target Slip Rate": 0.0015075,
          "Target Slip Rate StdDev": 0.00048957,
          "UpDepth": 0
         },
         "type": "Feature"
        },
        {
         "geometry": {
          "coordinates": [
           [
            [
             175.65596327212657,
             -40.885570914194375,
             0
            ],
            [
             175.6487,
             -40.8881,
             0
            ],
            [
             175.608,
             -40.9133,
             0
            ],
            [
             175.59377765924785,
             -40.91940205261107,
             0
            ],
            [
             175.59377765924785,
             -40.91940205261107,
             14.719999999999999
            ],
            [
             175.608,
             -40.9133,
             14.719999999999999
            ],
            [
             175.6487,
             -40.8881,
             14.719999999999999
            ],
            [
             175.6559632721266,
             -40.885570914194375,
             14.719999999999999
            ],
            [
             175.65596327212657,
             -40.885570914194375,
             0
            ]
           ]
          ],
          "type": "Polygon"
         },
         "id": "1206",
         "properties": {
          "AseismicSlipFactor": 0,
          "CouplingCoeff": 1,
          "DipDeg": 90,
          "DipDir": 152.6,
          "FaultID": 1206,
          "FaultName": "Mokonui Southwest, Subsection 2",
          "LowDepth": 14.719999999999999,
          "ParentID": 271,
          "ParentName": "Mokonui Southwest",
          "Rake": 180,
          "Target Slip Rate": 0.0007875,
          "Target Slip Rate StdDev": 0.00042024,
          "UpDepth": 0
         },
         "type": "Feature"
        },
        {
         "geometry": {
          "coordinates": [
           [
            [
             175.59377765924785,
             -40.91940205261107,
             0
            ],
            [
             175.52680000000004,
             -40.94809999999998,
             0
            ],
            [
             175.52680000000004,
             -40.94809999999998,
             14.719999999999999
            ],
            [
             175.59377765924785,
             -40.91940205261107,
             14.719999999999999
            ],
            [
             175.59377765924785,
             -40.91940205261107,
             0
            ]
           ]
          ],
          "type": "Polygon"
         },
         "id": "1207",
         "properties": {
          "AseismicSlipFactor": 0,
          "CouplingCoeff": 1,
          "DipDeg": 90,
          "DipDir": 152.6,
          "FaultID": 1207,
          "FaultName": "Mokonui Southwest, Subsection 3",
          "LowDepth": 14.719999999999999,
          "ParentID": 271,
          "ParentName": "Mokonui Southwest",
          "Rake": 180,
          "Target Slip Rate": 0.0007875,
          "Target Slip Rate StdDev": 0.00042024,
          "UpDepth": 0
         },
         "type": "Feature"
        },
        {
         "geometry": {
          "coordinates": [
           [
            [
             175.6078,
             -40.4689,
             0
            ],
            [
             175.59,
             -40.4897,
             0
            ],
            [
             175.53944754718836,
             -40.53409218616337,
             0
            ],
            [
             175.53944754718836,
             -40.53409218616337,
             21.680000000000003
            ],
            [
             175.59000000000003,
             -40.4897,
             21.680000000000003
            ],
            [
             175.6078,
             -40.4689,
             21.680000000000003
            ],
            [
             175.6078,
             -40.4689,
             0
            ]
           ]
          ],
          "type": "Polygon"
         },
         "id": "1341",
         "properties": {
          "AseismicSlipFactor": 0,
          "CouplingCoeff": 1,
          "DipDeg": 90,
          "DipDir": 139.9,
          "FaultID": 1341,
          "FaultName": "Northern Ohariu, Subsection 0",
          "LowDepth": 21.680000000000003,
          "ParentID": 307,
          "ParentName": "Northern Ohariu",
          "Rake": 180,
          "Target Slip Rate": 0.0007537500000000001,
          "Target Slip Rate StdDev": 0.00065148,
          "UpDepth": 0
         },
         "type": "Feature"
        },
        {
         "geometry": {
          "coordinates": [
           [
            [
             175.53944754718836,
             -40.53409218616337,
             0
            ],
            [
             175.46741247363852,
             -40.59720966504646,
             0
            ],
            [
             175.46741247363852,
             -40.59720966504646,
             21.680000000000003
            ],
            [
             175.53944754718836,
             -40.53409218616337,
             21.680000000000003
            ],
            [
             175.53944754718836,
             -40.53409218616337,
             0
            ]
           ]
          ],
          "type": "Polygon"
         },
         "id": "1342",
         "properties": {
          "AseismicSlipFactor": 0,
          "CouplingCoeff": 1,
          "DipDeg": 90,
          "DipDir": 139.9,
          "FaultID": 1342,
          "FaultName": "Northern Ohariu, Subsection 1",
          "LowDepth": 21.680000000000003,
          "ParentID": 307,
          "ParentName": "Northern Ohariu",
          "Rake": 180,
          "Target Slip Rate": 0.003375,
          "Target Slip Rate StdDev": 0.00078868,
          "UpDepth": 0
         },
         "type": "Feature"
        },
        {
         "geometry": {
          "coordinates": [
           [
            [
             175.46741247363852,
             -40.59720966504646,
             0
            ],
            [
             175.4425,
             -40.619,
             0
            ],
            [
             175.4018,
             -40.632,
             0
            ],
            [
             175.37835191160397,
             -40.643467251732346,
             0
            ],
            [
             175.37835191160397,
             -40.643467251732346,
             21.680000000000003
            ],
            [
             175.40180000000004,
             -40.632,
             21.680000000000003
            ],
            [
             175.4425,
             -40.619,
             21.680000000000003
            ],
            [
             175.46741247363852,
             -40.59720966504646,
             21.680000000000003
            ],
            [
             175.46741247363852,
             -40.59720966504646,
             0
            ]
           ]
          ],
          "type": "Polygon"
         },
         "id": "1343",
         "properties": {
          "AseismicSlipFactor": 0,
          "CouplingCoeff": 1,
          "DipDeg": 90,
          "DipDir": 139.9,
          "FaultID": 1343,
          "FaultName": "Northern Ohariu, Subsection 2",
          "LowDepth": 21.680000000000003,
          "ParentID": 307,
          "ParentName": "Northern Ohariu",
          "Rake": 180,
          "Target Slip Rate": 0.00330003,
          "Target Slip Rate StdDev": 0.0007315,
          "UpDepth": 0
         },
         "type": "Feature"
        },
        {
         "geometry": {
          "coordinates": [
           [
            [
             175.37835191160397,
             -40.643467251732346,
             0
            ],
            [
             175.28574071143632,
             -40.68867381373384,
             0
            ],
            [
             175.28574071143632,
             -40.68867381373384,
             21.680000000000003
            ],
            [
             175.37835191160397,
             -40.643467251732346,
             21.680000000000003
            ],
            [
             175.37835191160397,
             -40.643467251732346,
             0
            ]
           ]
          ],
          "type": "Polygon"
         },
         "id": "1344",
         "properties": {
          "AseismicSlipFactor": 0,
          "CouplingCoeff": 1,
          "DipDeg": 90,
          "DipDir": 139.9,
          "FaultID": 1344,
          "FaultName": "Northern Ohariu, Subsection 3",
          "LowDepth": 21.680000000000003,
          "ParentID": 307,
          "ParentName": "Northern Ohariu",
          "Rake": 180,
          "Target Slip Rate": 0.0034425,
          "Target Slip Rate StdDev": 0.00068559,
          "UpDepth": 0
         },
         "type": "Feature"
        },
        {
         "geometry": {
          "coordinates": [
           [
            [
             175.28574071143632,
             -40.68867381373384,
             0
            ],
            [
             175.2783,
             -40.6923,
             0
            ],
            [
             175.21408368371758,
             -40.75174905817963,
             0
            ],
            [
             175.21408368371758,
             -40.75174905817963,
             21.680000000000003
            ],
            [
             175.2783,
             -40.692299999999996,
             21.680000000000003
            ],
            [
             175.28574071143632,
             -40.68867381373384,
             21.680000000000003
            ],
            [
             175.28574071143632,
             -40.68867381373384,
             0
            ]
           ]
          ],
          "type": "Polygon"
         },
         "id": "1345",
         "properties": {
          "AseismicSlipFactor": 0,
          "CouplingCoeff": 1,
          "DipDeg": 90,
          "DipDir": 139.9,
          "FaultID": 1345,
          "FaultName": "Northern Ohariu, Subsection 4",
          "LowDepth": 21.680000000000003,
          "ParentID": 307,
          "ParentName": "Northern Ohariu",
          "Rake": 180,
          "Target Slip Rate": 0.0037575,
          "Target Slip Rate StdDev": 0.0006025700000000001,
          "UpDepth": 0
         },
         "type": "Feature"
        },
        {
         "geometry": {
          "coordinates": [
           [
            [
             175.21408368371758,
             -40.75174905817963,
             0
            ],
            [
             175.1991,
             -40.7656,
             0
            ],
            [
             175.1642,
             -40.7846,
             0
            ],
            [
             175.1256,
             -40.8001,
             0
            ],
            [
             175.1256,
             -40.80009999999999,
             21.680000000000003
            ],
            [
             175.1642,
             -40.7846,
             21.680000000000003
            ],
            [
             175.1991,
             -40.7656,
             21.680000000000003
            ],
            [
             175.21408368371758,
             -40.75174905817963,
             21.680000000000003
            ],
            [
             175.21408368371758,
             -40.75174905817963,
             0
            ]
           ]
          ],
          "type": "Polygon"
         },
         "id": "1346",
         "properties": {
          "AseismicSlipFactor": 0,
          "CouplingCoeff": 1,
          "DipDeg": 90,
          "DipDir": 139.9,
          "FaultID": 1346,
          "FaultName": "Northern Ohariu, Subsection 5",
          "LowDepth": 21.680000000000003,
          "ParentID": 307,
          "ParentName": "Northern Ohariu",
          "Rake": 180,
          "Target Slip Rate": 0.00300753,
          "Target Slip Rate StdDev": 0.00059834,
          "UpDepth": 0
         },
         "type": "Feature"
        },
        {
         "geometry": {
          "coordinates": [
           [
            [
             175.1039,
             -40.8353,
             0
            ],
            [
             175.0915,
             -40.8617,
             0
            ],
            [
             175.0489,
             -40.9054,
             0
            ],
            [
             175.03706109729342,
             -40.9121370018929,
             0
            ],
            [
             175.03706109729345,
             -40.9121370018929,
             21.040000000000003
            ],
            [
             175.0489,
             -40.90540000000001,
             21.040000000000003
            ],
            [
             175.0915,
             -40.8617,
             21.040000000000003
            ],
            [
             175.10390000000004,
             -40.8353,
             21.040000000000003
            ],
            [
             175.1039,
             -40.8353,
             0
            ]
           ]
          ],
          "type": "Polygon"
         },
         "id": "1365",
         "properties": {
          "AseismicSlipFactor": 0,
          "CouplingCoeff": 1,
          "DipDeg": 90,
          "DipDir": 125.8,
          "FaultID": 1365,
          "FaultName": "Ohariu, Subsection 0",
          "LowDepth": 21.040000000000003,
          "ParentID": 313,
          "ParentName": "Ohariu",
          "Rake": 180,
          "Target Slip Rate": 0.00359253,
          "Target Slip Rate StdDev": 0.0006082300000000001,
          "UpDepth": 0
         },
         "type": "Feature"
        },
        {
         "geometry": {
          "coordinates": [
           [
            [
             175.03706109729342,
             -40.9121370018929,
             0
            ],
            [
             175.0206,
             -40.9215,
             0
            ],
            [
             175.0127,
             -40.9439,
             0
            ],
            [
             174.9824,
             -40.9713,
             0
            ],
            [
             174.9720992335781,
             -40.98869536595697,
             0
            ],
            [
             174.9720992335781,
             -40.98869536595697,
             21.040000000000003
            ],
            [
             174.9824,
             -40.9713,
             21.040000000000003
            ],
            [
             175.0127,
             -40.94389999999999,
             21.040000000000003
            ],
            [
             175.0206,
             -40.9215,
             21.040000000000003
            ],
            [
             175.03706109729345,
             -40.9121370018929,
             21.040000000000003
            ],
            [
             175.03706109729342,
             -40.9121370018929,
             0
            ]
           ]
          ],
          "type": "Polygon"
         },
         "id": "1366",
         "properties": {
          "AseismicSlipFactor": 0,
          "CouplingCoeff": 1,
          "DipDeg": 90,
          "DipDir": 125.8,
          "FaultID": 1366,
          "FaultName": "Ohariu, Subsection 1",
          "LowDepth": 21.040000000000003,
          "ParentID": 313,
          "ParentName": "Ohariu",
          "Rake": 180,
          "Target Slip Rate": 0.0033525,
          "Target Slip Rate StdDev": 0.00063452,
          "UpDepth": 0
         },
         "type": "Feature"
        },
        {
         "geometry": {
          "coordinates": [
           [
            [
             174.9720992335781,
             -40.98869536595697,
             0
            ],
            [
             174.9558,
             -41.0162,
             0
            ],
            [
             174.9375,
             -41.0287,
             0
            ],
            [
             174.90895526777396,
             -41.06793058606418,
             0
            ],
            [
             174.90895526777396,
             -41.06793058606418,
             21.040000000000003
            ],
            [
             174.9375,
             -41.02870000000001,
             21.040000000000003
            ],
            [
             174.9558,
             -41.0162,
             21.040000000000003
            ],
            [
             174.9720992335781,
             -40.98869536595697,
             21.040000000000003
            ],
            [
             174.9720992335781,
             -40.98869536595697,
             0
            ]
           ]
          ],
          "type": "Polygon"
         },
         "id": "1367",
         "properties": {
          "AseismicSlipFactor": 0,
          "CouplingCoeff": 1,
          "DipDeg": 90,
          "DipDir": 125.8,
          "FaultID": 1367,
          "FaultName": "Ohariu, Subsection 2",
          "LowDepth": 21.040000000000003,
          "ParentID": 313,
          "ParentName": "Ohariu",
          "Rake": 180,
          "Target Slip Rate": 0.00323253,
          "Target Slip Rate StdDev": 0.00066251,
          "UpDepth": 0
         },
         "type": "Feature"
        },
        {
         "geometry": {
          "coordinates": [
           [
            [
             174.90895526777396,
             -41.06793058606418,
             0
            ],
            [
             174.899,
             -41.0816,
             0
            ],
            [
             174.866,
             -41.105,
             0
            ],
            [
             174.8391,
             -41.128,
             0
            ],
            [
             174.8297309836115,
             -41.139044839188905,
             0
            ],
            [
             174.8297309836115,
             -41.139044839188905,
             21.040000000000003
            ],
            [
             174.8391,
             -41.12800000000001,
             21.040000000000003
            ],
            [
             174.866,
             -41.105,
             21.040000000000003
            ],
            [
             174.899,
             -41.08160000000001,
             21.040000000000003
            ],
            [
             174.90895526777396,
             -41.06793058606418,
             21.040000000000003
            ],
            [
             174.90895526777396,
             -41.06793058606418,
             0
            ]
           ]
          ],
          "type": "Polygon"
         },
         "id": "1368",
         "properties": {
          "AseismicSlipFactor": 0,
          "CouplingCoeff": 1,
          "DipDeg": 90,
          "DipDir": 125.8,
          "FaultID": 1368,
          "FaultName": "Ohariu, Subsection 3",
          "LowDepth": 21.040000000000003,
          "ParentID": 313,
          "ParentName": "Ohariu",
          "Rake": 180,
          "Target Slip Rate": 0.0027225,
          "Target Slip Rate StdDev": 0.0005954500000000001,
          "UpDepth": 0
         },
         "type": "Feature"
        },
        {
         "geometry": {
          "coordinates": [
           [
            [
             174.8297309836115,
             -41.139044839188905,
             0
            ],
            [
             174.7629,
             -41.2177,
             0
            ],
            [
             174.76278788611728,
             -41.21781065283859,
             0
            ],
            [
             174.76278788611728,
             -41.217810652838594,
             21.040000000000003
            ],
            [
             174.7629,
             -41.217699999999994,
             21.040000000000003
            ],
            [
             174.8297309836115,
             -41.139044839188905,
             21.040000000000003
            ],
            [
             174.8297309836115,
             -41.139044839188905,
             0
            ]
           ]
          ],
          "type": "Polygon"
         },
         "id": "1369",
         "properties": {
          "AseismicSlipFactor": 0,
          "CouplingCoeff": 1,
          "DipDeg": 90,
          "DipDir": 125.8,
          "FaultID": 1369,
          "FaultName": "Ohariu, Subsection 4",
          "LowDepth": 21.040000000000003,
          "ParentID": 313,
          "ParentName": "Ohariu",
          "Rake": 180,
          "Target Slip Rate": 0.0028125,
          "Target Slip Rate StdDev": 0.00058704,
          "UpDepth": 0
         },
         "type": "Feature"
        },
        {
         "geometry": {
          "coordinates": [
           [
            [
             174.76278788611728,
             -41.21781065283859,
             0
            ],
            [
             174.68735317311857,
             -41.29215288424625,
             0
            ],
            [
             174.68735317311857,
             -41.29215288424625,
             21.040000000000003
            ],
            [
             174.76278788611728,
             -41.217810652838594,
             21.040000000000003
            ],
            [
             174.76278788611728,
             -41.21781065283859,
             0
            ]
           ]
          ],
          "type": "Polygon"
         },
         "id": "1370",
         "properties": {
          "AseismicSlipFactor": 0,
          "CouplingCoeff": 1,
          "DipDeg": 90,
          "DipDir": 125.8,
          "FaultID": 1370,
          "FaultName": "Ohariu, Subsection 5",
          "LowDepth": 21.040000000000003,
          "ParentID": 313,
          "ParentName": "Ohariu",
          "Rake": 180,
          "Target Slip Rate": 0.0024075,
          "Target Slip Rate StdDev": 0.00065963,
          "UpDepth": 0
         },
         "type": "Feature"
        },
        {
         "geometry": {
          "coordinates": [
           [
            [
             174.68735317311857,
             -41.29215288424625,
             0
            ],
            [
             174.6626,
             -41.3165,
             0
            ],
            [
             174.6544,
             -41.3324,
             0
            ],
            [
             174.6244,
             -41.3723,
             0
            ],
            [
             174.6244,
             -41.3723,
             21.040000000000003
            ],
            [
             174.6544,
             -41.3324,
             21.040000000000003
            ],
            [
             174.6626,
             -41.3165,
             21.040000000000003
            ],
            [
             174.68735317311857,
             -41.29215288424625,
             21.040000000000003
            ],
            [
             174.68735317311857,
             -41.29215288424625,
             0
            ]
           ]
          ],
          "type": "Polygon"
         },
         "id": "1371",
         "properties": {
          "AseismicSlipFactor": 0,
          "CouplingCoeff": 1,
          "DipDeg": 90,
          "DipDir": 125.8,
          "FaultID": 1371,
          "FaultName": "Ohariu, Subsection 6",
          "LowDepth": 21.040000000000003,
          "ParentID": 313,
          "ParentName": "Ohariu",
          "Rake": 180,
          "Target Slip Rate": 0.0025875,
          "Target Slip Rate StdDev": 0.00066724,
          "UpDepth": 0
         },
         "type": "Feature"
        },
        {
         "geometry": {
          "coordinates": [
           [
            [
             174.59086081263607,
             -41.39325487249448,
             0
            ],
            [
             174.6244,
             -41.37230000000001,
             0
            ],
            [
             174.56262807189245,
             -41.314163009041344,
             22.72
            ],
            [
             174.5290690166113,
             -41.33511786935344,
             22.72
            ],
            [
             174.59086081263607,
             -41.39325487249448,
             0
            ]
           ]
          ],
          "type": "Polygon"
         },
         "id": "1375",
         "properties": {
          "AseismicSlipFactor": 0,
          "CouplingCoeff": 1,
          "DipDeg": 70,
          "DipDir": 321.4,
          "FaultID": 1375,
          "FaultName": "Ohariu South 2, Subsection 1",
          "LowDepth": 22.72,
          "ParentID": 315,
          "ParentName": "Ohariu South 2",
          "Rake": -160,
          "Target Slip Rate": 0.003915,
          "Target Slip Rate StdDev": 0.0013704,
          "UpDepth": 0
         },
         "type": "Feature"
        },
        {
         "geometry": {
          "coordinates": [
           [
            [
             175.1189,
             -41.0108,
             0
            ],
            [
             175.1463,
             -40.9964,
             0
            ],
            [
             175.17461037556177,
             -40.94956491647533,
             0
            ],
            [
             175.1187623471888,
             -40.923591140226875,
             20.560000000000002
            ],
            [
             175.09041234727022,
             -40.970426201486696,
             20.560000000000002
            ],
            [
             175.06300014547898,
             -40.98482619463476,
             20.560000000000002
            ],
            [
             175.1189,
             -41.0108,
             0
            ]
           ]
          ],
          "type": "Polygon"
         },
         "id": "1469",
         "properties": {
          "AseismicSlipFactor": 0,
          "CouplingCoeff": 1,
          "DipDeg": 75,
          "DipDir": 301.6,
          "FaultID": 1469,
          "FaultName": "Otaki Forks: 1, Subsection 0",
          "LowDepth": 20.560000000000002,
          "ParentID": 338,
          "ParentName": "Otaki Forks: 1",
          "Rake": 160,
          "Target Slip Rate": 0.0026775,
          "Target Slip Rate StdDev": 0.00060991,
          "UpDepth": 0
         },
         "type": "Feature"
        },
        {
         "geometry": {
          "coordinates": [
           [
            [
             175.17461037556177,
             -40.94956491647533,
             0
            ],
            [
             175.1927,
             -40.9196,
             0
            ],
            [
             175.225,
             -40.8833,
             0
            ],
            [
             175.1692078748817,
             -40.85732625519925,
             20.560000000000002
            ],
            [
             175.13687727413017,
             -40.893626237979966,
             20.560000000000002
            ],
            [
             175.1187623471888,
             -40.923591140226875,
             20.560000000000002
            ],
            [
             175.17461037556177,
             -40.94956491647533,
             0
            ]
           ]
          ],
          "type": "Polygon"
         },
         "id": "1470",
         "properties": {
          "AseismicSlipFactor": 0,
          "CouplingCoeff": 1,
          "DipDeg": 75,
          "DipDir": 301.6,
          "FaultID": 1470,
          "FaultName": "Otaki Forks: 1, Subsection 1",
          "LowDepth": 20.560000000000002,
          "ParentID": 338,
          "ParentName": "Otaki Forks: 1",
          "Rake": 160,
          "Target Slip Rate": 0.0028125,
          "Target Slip Rate StdDev": 0.00070711,
          "UpDepth": 0
         },
         "type": "Feature"
        },
        {
         "geometry": {
          "coordinates": [
           [
            [
             175.4392,
             -40.6889,
             0
            ],
            [
             175.3891,
             -40.7354,
             0
            ],
            [
             175.37311445715193,
             -40.757646209136226,
             0
            ],
            [
             175.37311445715196,
             -40.757646209136226,
             19.28
            ],
            [
             175.3891,
             -40.7354,
             19.28
            ],
            [
             175.4392,
             -40.6889,
             19.28
            ],
            [
             175.4392,
             -40.6889,
             0
            ]
           ]
          ],
          "type": "Polygon"
         },
         "id": "1471",
         "properties": {
          "AseismicSlipFactor": 0,
          "CouplingCoeff": 1,
          "DipDeg": 90,
          "DipDir": 130.8,
          "FaultID": 1471,
          "FaultName": "Otaki Forks: 2, Subsection 0",
          "LowDepth": 19.28,
          "ParentID": 339,
          "ParentName": "Otaki Forks: 2",
          "Rake": 180,
          "Target Slip Rate": 0.0037575,
          "Target Slip Rate StdDev": 0.00064605,
          "UpDepth": 0
         },
         "type": "Feature"
        },
        {
         "geometry": {
          "coordinates": [
           [
            [
             175.37311445715193,
             -40.757646209136226,
             0
            ],
            [
             175.3497,
             -40.7902,
             0
            ],
            [
             175.30861846572114,
             -40.827154653201475,
             0
            ],
            [
             175.30861846572114,
             -40.827154653201475,
             19.28
            ],
            [
             175.3497,
             -40.7902,
             19.28
            ],
            [
             175.37311445715196,
             -40.757646209136226,
             19.28
            ],
            [
             175.37311445715193,
             -40.757646209136226,
             0
            ]
           ]
          ],
          "type": "Polygon"
         },
         "id": "1472",
         "properties": {
          "AseismicSlipFactor": 0,
          "CouplingCoeff": 1,
          "DipDeg": 90,
          "DipDir": 130.8,
          "FaultID": 1472,
          "FaultName": "Otaki Forks: 2, Subsection 1",
          "LowDepth": 19.28,
          "ParentID": 339,
          "ParentName": "Otaki Forks: 2",
          "Rake": 180,
          "Target Slip Rate": 0.0038025,
          "Target Slip Rate StdDev": 0.00062674,
          "UpDepth": 0
         },
         "type": "Feature"
        },
        {
         "geometry": {
          "coordinates": [
           [
            [
             175.30861846572114,
             -40.827154653201475,
             0
            ],
            [
             175.2823,
             -40.8508,
             0
            ],
            [
             175.24,
             -40.8716,
             0
            ],
            [
             175.22500000000002,
             -40.88329999999999,
             0
            ],
            [
             175.22500000000002,
             -40.88329999999999,
             19.28
            ],
            [
             175.24,
             -40.871599999999994,
             19.28
            ],
            [
             175.2823,
             -40.8508,
             19.28
            ],
            [
             175.30861846572114,
             -40.827154653201475,
             19.28
            ],
            [
             175.30861846572114,
             -40.827154653201475,
             0
            ]
           ]
          ],
          "type": "Polygon"
         },
         "id": "1473",
         "properties": {
          "AseismicSlipFactor": 0,
          "CouplingCoeff": 1,
          "DipDeg": 90,
          "DipDir": 130.8,
          "FaultID": 1473,
          "FaultName": "Otaki Forks: 2, Subsection 2",
          "LowDepth": 19.28,
          "ParentID": 339,
          "ParentName": "Otaki Forks: 2",
          "Rake": 180,
          "Target Slip Rate": 0.0038475,
          "Target Slip Rate StdDev": 0.0006074300000000001,
          "UpDepth": 0
         },
         "type": "Feature"
        },
        {
         "geometry": {
          "coordinates": [
           [
            [
             174.6728,
             -41.2633,
             0
            ],
            [
             174.6454594518617,
             -41.28585323647141,
             0
            ],
            [
             174.6454594518617,
             -41.28585323647141,
             21.76
            ],
            [
             174.6728,
             -41.2633,
             21.76
            ],
            [
             174.6728,
             -41.2633,
             0
            ]
           ]
          ],
          "type": "Polygon"
         },
         "id": "1601",
         "properties": {
          "AseismicSlipFactor": 0,
          "CouplingCoeff": 1,
          "DipDeg": 90,
          "DipDir": 133.5,
          "FaultID": 1601,
          "FaultName": "Pukerua - Shepherds Gully: 1, Subsection 0",
          "LowDepth": 21.76,
          "ParentID": 373,
          "ParentName": "Pukerua - Shepherds Gully: 1",
          "Rake": 180,
          "Target Slip Rate": 0.0018225,
          "Target Slip Rate StdDev": 0.0006600200000000001,
          "UpDepth": 0
         },
         "type": "Feature"
        },
        {
         "geometry": {
          "coordinates": [
           [
            [
             174.6454594518617,
             -41.28585323647141,
             0
            ],
            [
             174.6181,
             -41.30839999999999,
             0
            ],
            [
             174.6181,
             -41.30839999999999,
             21.76
            ],
            [
             174.6454594518617,
             -41.28585323647141,
             21.76
            ],
            [
             174.6454594518617,
             -41.28585323647141,
             0
            ]
           ]
          ],
          "type": "Polygon"
         },
         "id": "1602",
         "properties": {
          "AseismicSlipFactor": 0,
          "CouplingCoeff": 1,
          "DipDeg": 90,
          "DipDir": 133.5,
          "FaultID": 1602,
          "FaultName": "Pukerua - Shepherds Gully: 1, Subsection 1",
          "LowDepth": 21.76,
          "ParentID": 373,
          "ParentName": "Pukerua - Shepherds Gully: 1",
          "Rake": 180,
          "Target Slip Rate": 0.0018225,
          "Target Slip Rate StdDev": 0.0006600200000000001,
          "UpDepth": 0
         },
         "type": "Feature"
        },
        {
         "geometry": {
          "coordinates": [
           [
            [
             174.7144,
             -41.2047,
             0
            ],
            [
             174.69360932291363,
             -41.23400187145994,
             0
            ],
            [
             174.69360932291366,
             -41.23400187145994,
             21.680000000000003
            ],
            [
             174.7144,
             -41.2047,
             21.680000000000003
            ],
            [
             174.7144,
             -41.2047,
             0
            ]
           ]
          ],
          "type": "Polygon"
         },
         "id": "1603",
         "properties": {
          "AseismicSlipFactor": 0,
          "CouplingCoeff": 1,
          "DipDeg": 90,
          "DipDir": 119.3,
          "FaultID": 1603,
          "FaultName": "Pukerua - Shepherds Gully: 2, Subsection 0",
          "LowDepth": 21.680000000000003,
          "ParentID": 374,
          "ParentName": "Pukerua - Shepherds Gully: 2",
          "Rake": 180,
          "Target Slip Rate": 0.0011925,
          "Target Slip Rate StdDev": 0.00054145,
          "UpDepth": 0
         },
         "type": "Feature"
        },
        {
         "geometry": {
          "coordinates": [
           [
            [
             174.69360932291363,
             -41.23400187145994,
             0
            ],
            [
             174.6728,
             -41.26329999999999,
             0
            ],
            [
             174.6728,
             -41.26329999999999,
             21.680000000000003
            ],
            [
             174.69360932291366,
             -41.23400187145994,
             21.680000000000003
            ],
            [
             174.69360932291363,
             -41.23400187145994,
             0
            ]
           ]
          ],
          "type": "Polygon"
         },
         "id": "1604",
         "properties": {
          "AseismicSlipFactor": 0,
          "CouplingCoeff": 1,
          "DipDeg": 90,
          "DipDir": 119.3,
          "FaultID": 1604,
          "FaultName": "Pukerua - Shepherds Gully: 2, Subsection 1",
          "LowDepth": 21.680000000000003,
          "ParentID": 374,
          "ParentName": "Pukerua - Shepherds Gully: 2",
          "Rake": 180,
          "Target Slip Rate": 0.0011925,
          "Target Slip Rate StdDev": 0.00054145,
          "UpDepth": 0
         },
         "type": "Feature"
        },
        {
         "geometry": {
          "coordinates": [
           [
            [
             174.9001,
             -41.0206,
             0
            ],
            [
             174.83831565534356,
             -41.081999774110976,
             0
            ],
            [
             174.83831565534356,
             -41.08199977411098,
             21.840000000000003
            ],
            [
             174.9001,
             -41.0206,
             21.840000000000003
            ],
            [
             174.9001,
             -41.0206,
             0
            ]
           ]
          ],
          "type": "Polygon"
         },
         "id": "1605",
         "properties": {
          "AseismicSlipFactor": 0,
          "CouplingCoeff": 1,
          "DipDeg": 90,
          "DipDir": 128.5,
          "FaultID": 1605,
          "FaultName": "Pukerua - Shepherds Gully: 3, Subsection 0",
          "LowDepth": 21.840000000000003,
          "ParentID": 375,
          "ParentName": "Pukerua - Shepherds Gully: 3",
          "Rake": 180,
          "Target Slip Rate": 0.0009225,
          "Target Slip Rate StdDev": 0.00045556,
          "UpDepth": 0
         },
         "type": "Feature"
        },
        {
         "geometry": {
          "coordinates": [
           [
            [
             174.83831565534356,
             -41.081999774110976,
             0
            ],
            [
             174.77641579003006,
             -41.143366485298245,
             0
            ],
            [
             174.77641579003006,
             -41.143366485298245,
             21.840000000000003
            ],
            [
             174.83831565534356,
             -41.08199977411098,
             21.840000000000003
            ],
            [
             174.83831565534356,
             -41.081999774110976,
             0
            ]
           ]
          ],
          "type": "Polygon"
         },
         "id": "1606",
         "properties": {
          "AseismicSlipFactor": 0,
          "CouplingCoeff": 1,
          "DipDeg": 90,
          "DipDir": 128.5,
          "FaultID": 1606,
          "FaultName": "Pukerua - Shepherds Gully: 3, Subsection 1",
          "LowDepth": 21.840000000000003,
          "ParentID": 375,
          "ParentName": "Pukerua - Shepherds Gully: 3",
          "Rake": 180,
          "Target Slip Rate": 0.0013725,
          "Target Slip Rate StdDev": 0.00049915,
          "UpDepth": 0
         },
         "type": "Feature"
        },
        {
         "geometry": {
          "coordinates": [
           [
            [
             174.77641579003006,
             -41.143366485298245,
             0
            ],
            [
             174.7144,
             -41.2047,
             0
            ],
            [
             174.7144,
             -41.2047,
             21.840000000000003
            ],
            [
             174.77641579003006,
             -41.143366485298245,
             21.840000000000003
            ],
            [
             174.77641579003006,
             -41.143366485298245,
             0
            ]
           ]
          ],
          "type": "Polygon"
         },
         "id": "1607",
         "properties": {
          "AseismicSlipFactor": 0,
          "CouplingCoeff": 1,
          "DipDeg": 90,
          "DipDir": 128.5,
          "FaultID": 1607,
          "FaultName": "Pukerua - Shepherds Gully: 3, Subsection 2",
          "LowDepth": 21.840000000000003,
          "ParentID": 375,
          "ParentName": "Pukerua - Shepherds Gully: 3",
          "Rake": 180,
          "Target Slip Rate": 0.0013725,
          "Target Slip Rate StdDev": 0.00049915,
          "UpDepth": 0
         },
         "type": "Feature"
        },
        {
         "geometry": {
          "coordinates": [
           [
            [
             176.6195,
             -39.0343,
             0
            ],
            [
             176.5748,
             -39.0922,
             0
            ],
            [
             176.55773515162926,
             -39.131588235359075,
             0
            ],
            [
             176.5088932079686,
             -39.11533606781971,
             26
            ],
            [
             176.5259853314487,
             -39.07594784676389,
             26
            ],
            [
             176.57072532829756,
             -39.01804786776043,
             26
            ],
            [
             176.6195,
             -39.0343,
             0
            ]
           ]
          ],
          "type": "Polygon"
         },
         "id": "1696",
         "properties": {
          "AseismicSlipFactor": 0,
          "CouplingCoeff": 1,
          "DipDeg": 80,
          "DipDir": 293.2,
          "FaultID": 1696,
          "FaultName": "Ruahine: North, Subsection 0",
          "LowDepth": 26,
          "ParentID": 407,
          "ParentName": "Ruahine: North",
          "Rake": 160,
          "Target Slip Rate": 0.00324,
          "Target Slip Rate StdDev": 0.00067752,
          "UpDepth": 0
         },
         "type": "Feature"
        },
        {
         "geometry": {
          "coordinates": [
           [
            [
             176.55773515162926,
             -39.131588235359075,
             0
            ],
            [
             176.5576,
             -39.1319,
             0
            ],
            [
             176.516,
             -39.1937,
             0
            ],
            [
             176.4965248101446,
             -39.22968423732109,
             0
            ],
            [
             176.4476147048543,
             -39.213432034090026,
             26
            ],
            [
             176.46711493694445,
             -39.17744780987317,
             26
            ],
            [
             176.5087578402385,
             -39.11564783234736,
             26
            ],
            [
             176.5088932079686,
             -39.11533606781971,
             26
            ],
            [
             176.55773515162926,
             -39.131588235359075,
             0
            ]
           ]
          ],
          "type": "Polygon"
         },
         "id": "1697",
         "properties": {
          "AseismicSlipFactor": 0,
          "CouplingCoeff": 1,
          "DipDeg": 80,
          "DipDir": 293.2,
          "FaultID": 1697,
          "FaultName": "Ruahine: North, Subsection 1",
          "LowDepth": 26,
          "ParentID": 407,
          "ParentName": "Ruahine: North",
          "Rake": 160,
          "Target Slip Rate": 0.00379503,
          "Target Slip Rate StdDev": 0.00069511,
          "UpDepth": 0
         },
         "type": "Feature"
        },
        {
         "geometry": {
          "coordinates": [
           [
            [
             176.4965248101446,
             -39.22968423732109,
             0
            ],
            [
             176.4596,
             -39.2978,
             0
            ],
            [
             176.4556,
             -39.317,
             0
            ],
            [
             176.45313049590402,
             -39.3326236551515,
             0
            ],
            [
             176.40414850407532,
             -39.31637141435909,
             26
            ],
            [
             176.40662894254584,
             -39.30074776491557,
             26
            ],
            [
             176.4106423681934,
             -39.28154777192667,
             26
            ],
            [
             176.4476147048543,
             -39.213432034090026,
             26
            ],
            [
             176.4965248101446,
             -39.22968423732109,
             0
            ]
           ]
          ],
          "type": "Polygon"
         },
         "id": "1698",
         "properties": {
          "AseismicSlipFactor": 0,
          "CouplingCoeff": 1,
          "DipDeg": 80,
          "DipDir": 293.2,
          "FaultID": 1698,
          "FaultName": "Ruahine: North, Subsection 2",
          "LowDepth": 26,
          "ParentID": 407,
          "ParentName": "Ruahine: North",
          "Rake": 160,
          "Target Slip Rate": 0.00444753,
          "Target Slip Rate StdDev": 0.00083379,
          "UpDepth": 0
         },
         "type": "Feature"
        },
        {
         "geometry": {
          "coordinates": [
           [
            [
             176.45313049590402,
             -39.3326236551515,
             0
            ],
            [
             176.4513,
             -39.3442,
             0
            ],
            [
             176.41410529741052,
             -39.43725873840457,
             0
            ],
            [
             176.3650498554875,
             -39.42100645931861,
             26
            ],
            [
             176.4023099008484,
             -39.32794775497659,
             26
            ],
            [
             176.40414850407532,
             -39.31637141435909,
             26
            ],
            [
             176.45313049590402,
             -39.3326236551515,
             0
            ]
           ]
          ],
          "type": "Polygon"
         },
         "id": "1699",
         "properties": {
          "AseismicSlipFactor": 0,
          "CouplingCoeff": 1,
          "DipDeg": 80,
          "DipDir": 293.2,
          "FaultID": 1699,
          "FaultName": "Ruahine: North, Subsection 3",
          "LowDepth": 26,
          "ParentID": 407,
          "ParentName": "Ruahine: North",
          "Rake": 160,
          "Target Slip Rate": 0.00500625,
          "Target Slip Rate StdDev": 0.00084702,
          "UpDepth": 0
         },
         "type": "Feature"
        },
        {
         "geometry": {
          "coordinates": [
           [
            [
             176.41410529741052,
             -39.43725873840457,
             0
            ],
            [
             176.405,
             -39.46,
             0
            ],
            [
             176.3622,
             -39.5386,
             0
            ],
            [
             176.3130730534155,
             -39.522347683716205,
             26
            ],
            [
             176.35592854370745,
             -39.44374771257618,
             26
            ],
            [
             176.3650498554875,
             -39.42100645931861,
             26
            ],
            [
             176.41410529741052,
             -39.43725873840457,
             0
            ]
           ]
          ],
          "type": "Polygon"
         },
         "id": "1700",
         "properties": {
          "AseismicSlipFactor": 0,
          "CouplingCoeff": 1,
          "DipDeg": 80,
          "DipDir": 293.2,
          "FaultID": 1700,
          "FaultName": "Ruahine: North, Subsection 4",
          "LowDepth": 26,
          "ParentID": 407,
          "ParentName": "Ruahine: North",
          "Rake": 160,
          "Target Slip Rate": 0.00523125,
          "Target Slip Rate StdDev": 0.0007899500000000001,
          "UpDepth": 0
         },
         "type": "Feature"
        },
        {
         "geometry": {
          "coordinates": [
           [
            [
             175.5511,
             -40.4095,
             0
            ],
            [
             175.51139427226065,
             -40.46440580271026,
             0
            ],
            [
             175.59683268018887,
             -40.50053472309558,
             14.32
            ],
            [
             175.63646857555145,
             -40.44562898138029,
             14.32
            ],
            [
             175.5511,
             -40.4095,
             0
            ]
           ]
          ],
          "type": "Polygon"
         },
         "id": "1897",
         "properties": {
          "AseismicSlipFactor": 0,
          "CouplingCoeff": 1,
          "DipDeg": 60,
          "DipDir": 119.1,
          "FaultID": 1897,
          "FaultName": "Tokomaru, Subsection 0",
          "LowDepth": 14.32,
          "ParentID": 459,
          "ParentName": "Tokomaru",
          "Rake": 110,
          "Target Slip Rate": 0.0020655,
          "Target Slip Rate StdDev": 0.00028831,
          "UpDepth": 0
         },
         "type": "Feature"
        },
        {
         "geometry": {
          "coordinates": [
           [
            [
             175.51139427226065,
             -40.46440580271026,
             0
            ],
            [
             175.47162358651732,
             -40.5192979973122,
             0
            ],
            [
             175.55713200237136,
             -40.55542685661777,
             14.32
            ],
            [
             175.59683268018887,
             -40.50053472309558,
             14.32
            ],
            [
             175.51139427226065,
             -40.46440580271026,
             0
            ]
           ]
          ],
          "type": "Polygon"
         },
         "id": "1898",
         "properties": {
          "AseismicSlipFactor": 0,
          "CouplingCoeff": 1,
          "DipDeg": 60,
          "DipDir": 119.1,
          "FaultID": 1898,
          "FaultName": "Tokomaru, Subsection 1",
          "LowDepth": 14.32,
          "ParentID": 459,
          "ParentName": "Tokomaru",
          "Rake": 110,
          "Target Slip Rate": 0.0020655,
          "Target Slip Rate StdDev": 0.00028831,
          "UpDepth": 0
         },
         "type": "Feature"
        },
        {
         "geometry": {
          "coordinates": [
           [
            [
             175.47162358651732,
             -40.5192979973122,
             0
            ],
            [
             175.4664,
             -40.5265,
             0
            ],
            [
             175.43541794657685,
             -40.57559728336568,
             0
            ],
            [
             175.5209983658632,
             -40.611726079921695,
             14.32
            ],
            [
             175.55191761542264,
             -40.562628851284316,
             14.32
            ],
            [
             175.55713200237136,
             -40.55542685661777,
             14.32
            ],
            [
             175.47162358651732,
             -40.5192979973122,
             0
            ]
           ]
          ],
          "type": "Polygon"
         },
         "id": "1899",
         "properties": {
          "AseismicSlipFactor": 0,
          "CouplingCoeff": 1,
          "DipDeg": 60,
          "DipDir": 119.1,
          "FaultID": 1899,
          "FaultName": "Tokomaru, Subsection 2",
          "LowDepth": 14.32,
          "ParentID": 459,
          "ParentName": "Tokomaru",
          "Rake": 110,
          "Target Slip Rate": 0.0010125,
          "Target Slip Rate StdDev": 0.00031911,
          "UpDepth": 0
         },
         "type": "Feature"
        },
        {
         "geometry": {
          "coordinates": [
           [
            [
             175.43541794657685,
             -40.57559728336568,
             0
            ],
            [
             175.3997,
             -40.63209999999999,
             0
            ],
            [
             175.48535288813642,
             -40.66822873347328,
             14.32
            ],
            [
             175.5209983658632,
             -40.611726079921695,
             14.32
            ],
            [
             175.43541794657685,
             -40.57559728336568,
             0
            ]
           ]
          ],
          "type": "Polygon"
         },
         "id": "1900",
         "properties": {
          "AseismicSlipFactor": 0,
          "CouplingCoeff": 1,
          "DipDeg": 60,
          "DipDir": 119.1,
          "FaultID": 1900,
          "FaultName": "Tokomaru, Subsection 3",
          "LowDepth": 14.32,
          "ParentID": 459,
          "ParentName": "Tokomaru",
          "Rake": 110,
          "Target Slip Rate": 0.0010125,
          "Target Slip Rate StdDev": 0.00031911,
          "UpDepth": 0
         },
         "type": "Feature"
        },
        {
         "geometry": {
          "coordinates": [
           [
            [
             174.8733049401744,
             -41.467181022515476,
             0
            ],
            [
             174.8767,
             -41.465,
             0
            ],
            [
             174.9372838842802,
             -41.41099323807189,
             0
            ],
            [
             174.88061805676182,
             -41.370199179278515,
             18
            ],
            [
             174.81998706768107,
             -41.42420591477181,
             18
            ],
            [
             174.81659010285935,
             -41.426386936218826,
             18
            ],
            [
             174.8733049401744,
             -41.467181022515476,
             0
            ]
           ]
          ],
          "type": "Polygon"
         },
         "id": "2100",
         "properties": {
          "AseismicSlipFactor": 0,
          "CouplingCoeff": 1,
          "DipDeg": 70,
          "DipDir": 313.8,
          "FaultID": 2100,
          "FaultName": "Wairarapa: 1, Subsection 2",
          "LowDepth": 18,
          "ParentID": 506,
          "ParentName": "Wairarapa: 1",
          "Rake": 160,
          "Target Slip Rate": 0.00522,
          "Target Slip Rate StdDev": 0.00059712,
          "UpDepth": 0
         },
         "type": "Feature"
        },
        {
         "geometry": {
          "coordinates": [
           [
            [
             174.9372838842802,
             -41.41099323807189,
             0
            ],
            [
             175.00063679620996,
             -41.354387803810454,
             0
            ],
            [
             174.9440202021992,
             -41.3135937726768,
             18
            ],
            [
             174.88061805676182,
             -41.370199179278515,
             18
            ],
            [
             174.9372838842802,
             -41.41099323807189,
             0
            ]
           ]
          ],
          "type": "Polygon"
         },
         "id": "2101",
         "properties": {
          "AseismicSlipFactor": 0,
          "CouplingCoeff": 1,
          "DipDeg": 70,
          "DipDir": 313.8,
          "FaultID": 2101,
          "FaultName": "Wairarapa: 1, Subsection 3",
          "LowDepth": 18,
          "ParentID": 506,
          "ParentName": "Wairarapa: 1",
          "Rake": 160,
          "Target Slip Rate": 0.0043425,
          "Target Slip Rate StdDev": 0.00051415,
          "UpDepth": 0
         },
         "type": "Feature"
        },
        {
         "geometry": {
          "coordinates": [
           [
            [
             175.00063679620996,
             -41.354387803810454,
             0
            ],
            [
             175.0501,
             -41.3101,
             0
            ],
            [
             175.06171830865475,
             -41.29655173940322,
             0
            ],
            [
             175.00515187325385,
             -41.255757736481044,
             18
            ],
            [
             174.99352182794632,
             -41.26930599047368,
             18
            ],
            [
             174.9440202021992,
             -41.3135937726768,
             18
            ],
            [
             175.00063679620996,
             -41.354387803810454,
             0
            ]
           ]
          ],
          "type": "Polygon"
         },
         "id": "2102",
         "properties": {
          "AseismicSlipFactor": 0,
          "CouplingCoeff": 1,
          "DipDeg": 70,
          "DipDir": 313.8,
          "FaultID": 2102,
          "FaultName": "Wairarapa: 1, Subsection 4",
          "LowDepth": 18,
          "ParentID": 506,
          "ParentName": "Wairarapa: 1",
          "Rake": 160,
          "Target Slip Rate": 0.0045225,
          "Target Slip Rate StdDev": 0.00053318,
          "UpDepth": 0
         },
         "type": "Feature"
        },
        {
         "geometry": {
          "coordinates": [
           [
            [
             175.06171830865475,
             -41.29655173940322,
             0
            ],
            [
             175.0837,
             -41.2709,
             0
            ],
            [
             175.12689999999998,
             -41.24210000000002,
             0
            ],
            [
             175.07038065438925,
             -41.20130602359289,
             18
            ],
            [
             175.0271557643227,
             -41.23010600957433,
             18
            ],
            [
             175.00515187325385,
             -41.255757736481044,
             18
            ],
            [
             175.06171830865475,
             -41.29655173940322,
             0
            ]
           ]
          ],
          "type": "Polygon"
         },
         "id": "2103",
         "properties": {
          "AseismicSlipFactor": 0,
          "CouplingCoeff": 1,
          "DipDeg": 70,
          "DipDir": 313.8,
          "FaultID": 2103,
          "FaultName": "Wairarapa: 1, Subsection 5",
          "LowDepth": 18,
          "ParentID": 506,
          "ParentName": "Wairarapa: 1",
          "Rake": 160,
          "Target Slip Rate": 0.0048825,
          "Target Slip Rate StdDev": 0.00055985,
          "UpDepth": 0
         },
         "type": "Feature"
        },
        {
         "geometry": {
          "coordinates": [
           [
            [
             175.1269,
             -41.2421,
             0
            ],
            [
             175.1448,
             -41.2406,
             0
            ],
            [
             175.1999,
             -41.2081,
             0
            ],
            [
             175.21088076595865,
             -41.19834065328985,
             0
            ],
            [
             175.16177143779927,
             -41.15797984525554,
             16.72
            ],
            [
             175.1507833579302,
             -41.167739188380295,
             16.72
            ],
            [
             175.09565897557923,
             -41.20023917643268,
             16.72
            ],
            [
             175.0777578492737,
             -41.20173917588098,
             16.72
            ],
            [
             175.1269,
             -41.2421,
             0
            ]
           ]
          ],
          "type": "Polygon"
         },
         "id": "2104",
         "properties": {
          "AseismicSlipFactor": 0,
          "CouplingCoeff": 1,
          "DipDeg": 70,
          "DipDir": 317.5,
          "FaultID": 2104,
          "FaultName": "Wairarapa: 2, Subsection 0",
          "LowDepth": 16.72,
          "ParentID": 507,
          "ParentName": "Wairarapa: 2",
          "Rake": 160,
          "Target Slip Rate": 0.0049725,
          "Target Slip Rate StdDev": 0.0005151099999999999,
          "UpDepth": 0
         },
         "type": "Feature"
        },
        {
         "geometry": {
          "coordinates": [
           [
            [
             175.21088076595865,
             -41.19834065328985,
             0
            ],
            [
             175.2551,
             -41.159,
             0
            ],
            [
             175.28060121506388,
             -41.139362472373996,
             0
            ],
            [
             175.23153601010893,
             -41.09900168598449,
             16.72
            ],
            [
             175.20602011825065,
             -41.118639206407906,
             16.72
            ],
            [
             175.16177143779927,
             -41.15797984525554,
             16.72
            ],
            [
             175.21088076595865,
             -41.19834065328985,
             0
            ]
           ]
          ],
          "type": "Polygon"
         },
         "id": "2105",
         "properties": {
          "AseismicSlipFactor": 0,
          "CouplingCoeff": 1,
          "DipDeg": 70,
          "DipDir": 317.5,
          "FaultID": 2105,
          "FaultName": "Wairarapa: 2, Subsection 1",
          "LowDepth": 16.72,
          "ParentID": 507,
          "ParentName": "Wairarapa: 2",
          "Rake": 160,
          "Target Slip Rate": 0.0051525,
          "Target Slip Rate StdDev": 0.0004950999999999999,
          "UpDepth": 0
         },
         "type": "Feature"
        },
        {
         "geometry": {
          "coordinates": [
           [
            [
             175.28060121506388,
             -41.139362472373996,
             0
            ],
            [
             175.3538620781445,
             -41.082850233333595,
             0
            ],
            [
             175.30483902854604,
             -41.04248946764746,
             16.72
            ],
            [
             175.23153601010893,
             -41.09900168598449,
             16.72
            ],
            [
             175.28060121506388,
             -41.139362472373996,
             0
            ]
           ]
          ],
          "type": "Polygon"
         },
         "id": "2106",
         "properties": {
          "AseismicSlipFactor": 0,
          "CouplingCoeff": 1,
          "DipDeg": 70,
          "DipDir": 317.5,
          "FaultID": 2106,
          "FaultName": "Wairarapa: 2, Subsection 2",
          "LowDepth": 16.72,
          "ParentID": 507,
          "ParentName": "Wairarapa: 2",
          "Rake": 160,
          "Target Slip Rate": 0.0053325,
          "Target Slip Rate StdDev": 0.0005425100000000001,
          "UpDepth": 0
         },
         "type": "Feature"
        },
        {
         "geometry": {
          "coordinates": [
           [
            [
             175.3538620781445,
             -41.082850233333595,
             0
            ],
            [
             175.3604,
             -41.0778,
             0
            ],
            [
             175.3734,
             -41.0708,
             0
            ],
            [
             175.4313,
             -41.0298,
             0
            ],
            [
             175.38231641408032,
             -40.9894392537166,
             16.72
            ],
            [
             175.3243859237509,
             -41.030439238723886,
             16.72
            ],
            [
             175.31138071178165,
             -41.03743923616231,
             16.72
            ],
            [
             175.30483902854604,
             -41.04248946764746,
             16.72
            ],
            [
             175.3538620781445,
             -41.082850233333595,
             0
            ]
           ]
          ],
          "type": "Polygon"
         },
         "id": "2107",
         "properties": {
          "AseismicSlipFactor": 0,
          "CouplingCoeff": 1,
          "DipDeg": 70,
          "DipDir": 317.5,
          "FaultID": 2107,
          "FaultName": "Wairarapa: 2, Subsection 3",
          "LowDepth": 16.72,
          "ParentID": 507,
          "ParentName": "Wairarapa: 2",
          "Rake": 160,
          "Target Slip Rate": 0.0055125,
          "Target Slip Rate StdDev": 0.0005561300000000001,
          "UpDepth": 0
         },
         "type": "Feature"
        },
        {
         "geometry": {
          "coordinates": [
           [
            [
             174.4881,
             -41.3729,
             0
            ],
            [
             174.42174204645917,
             -41.36511905434656,
             0
            ],
            [
             174.40063662156996,
             -41.45669127440914,
             22.16
            ],
            [
             174.466992042688,
             -41.46447221953463,
             22.16
            ],
            [
             174.4881,
             -41.3729,
             0
            ]
           ]
          ],
          "type": "Polygon"
         },
         "id": "2131",
         "properties": {
          "AseismicSlipFactor": 0,
          "CouplingCoeff": 1,
          "DipDeg": 65,
          "DipDir": 189.8,
          "FaultID": 2131,
          "FaultName": "Wairau 3, Subsection 0",
          "LowDepth": 22.16,
          "ParentID": 513,
          "ParentName": "Wairau 3",
          "Rake": -110,
          "Target Slip Rate": 0.003825,
          "Target Slip Rate StdDev": 0.0011403,
          "UpDepth": 0
         },
         "type": "Feature"
        },
        {
         "geometry": {
          "coordinates": [
           [
            [
             174.42174204645917,
             -41.36511905434656,
             0
            ],
            [
             174.3554,
             -41.3573,
             0
            ],
            [
             174.33429711893254,
             -41.448872220593,
             22.16
            ],
            [
             174.40063662156996,
             -41.45669127440914,
             22.16
            ],
            [
             174.42174204645917,
             -41.36511905434656,
             0
            ]
           ]
          ],
          "type": "Polygon"
         },
         "id": "2132",
         "properties": {
          "AseismicSlipFactor": 0,
          "CouplingCoeff": 1,
          "DipDeg": 65,
          "DipDir": 189.8,
          "FaultID": 2132,
          "FaultName": "Wairau 3, Subsection 1",
          "LowDepth": 22.16,
          "ParentID": 513,
          "ParentName": "Wairau 3",
          "Rake": -110,
          "Target Slip Rate": 0.003825,
          "Target Slip Rate StdDev": 0.0011403,
          "UpDepth": 0
         },
         "type": "Feature"
        },
        {
         "geometry": {
          "coordinates": [
           [
            [
             176.138,
             -40.6267,
             0
            ],
            [
             176.107,
             -40.6517,
             0
            ],
            [
             176.0965334174614,
             -40.6591289242437,
             0
            ],
            [
             176.1320254871747,
             -40.6888036010727,
             12.240000000000002
            ],
            [
             176.14248811378206,
             -40.68137467825415,
             12.240000000000002
            ],
            [
             176.173474812038,
             -40.65637468304783,
             12.240000000000002
            ],
            [
             176.138,
             -40.6267,
             0
            ]
           ]
          ],
          "type": "Polygon"
         },
         "id": "2146",
         "properties": {
          "AseismicSlipFactor": 0,
          "CouplingCoeff": 1,
          "DipDeg": 70,
          "DipDir": 137.8,
          "FaultID": 2146,
          "FaultName": "Waitawhiti, Subsection 0",
          "LowDepth": 12.240000000000002,
          "ParentID": 519,
          "ParentName": "Waitawhiti",
          "Rake": 160,
          "Target Slip Rate": 0.0002025,
          "Target Slip Rate StdDev": 0.00051166,
          "UpDepth": 0
         },
         "type": "Feature"
        },
        {
         "geometry": {
          "coordinates": [
           [
            [
             176.0965334174614,
             -40.6591289242437,
             0
            ],
            [
             176.053,
             -40.69,
             0
            ],
            [
             176.08850852453068,
             -40.719674670903295,
             12.240000000000002
            ],
            [
             176.1320254871747,
             -40.6888036010727,
             12.240000000000002
            ],
            [
             176.0965334174614,
             -40.6591289242437,
             0
            ]
           ]
          ],
          "type": "Polygon"
         },
         "id": "2147",
         "properties": {
          "AseismicSlipFactor": 0,
          "CouplingCoeff": 1,
          "DipDeg": 70,
          "DipDir": 137.8,
          "FaultID": 2147,
          "FaultName": "Waitawhiti, Subsection 1",
          "LowDepth": 12.240000000000002,
          "ParentID": 519,
          "ParentName": "Waitawhiti",
          "Rake": 160,
          "Target Slip Rate": 0.0002025,
          "Target Slip Rate StdDev": 0.00051166,
          "UpDepth": 0
         },
         "type": "Feature"
        },
        {
         "geometry": {
          "coordinates": [
           [
            [
             174.5186,
             -41.475,
             0
            ],
            [
             174.57867526752764,
             -41.44771561334809,
             0
            ],
            [
             174.529840893343,
             -41.384498057378636,
             22.32
            ],
            [
             174.4697451207746,
             -41.411782434116006,
             22.32
            ],
            [
             174.5186,
             -41.475,
             0
            ]
           ]
          ],
          "type": "Polygon"
         },
         "id": "2199",
         "properties": {
          "AseismicSlipFactor": 0,
          "CouplingCoeff": 1,
          "DipDeg": 70,
          "DipDir": 329.9,
          "FaultID": 2199,
          "FaultName": "Wellington Hutt Valley: 1, Subsection 0",
          "LowDepth": 22.32,
          "ParentID": 528,
          "ParentName": "Wellington Hutt Valley: 1",
          "Rake": -160,
          "Target Slip Rate": 0.002745,
          "Target Slip Rate StdDev": 0.001039,
          "UpDepth": 0
         },
         "type": "Feature"
        },
        {
         "geometry": {
          "coordinates": [
           [
            [
             174.57867526752764,
             -41.44771561334809,
             0
            ],
            [
             174.6387,
             -41.4204,
             0
            ],
            [
             174.58988612600527,
             -41.357182453948106,
             22.32
            ],
            [
             174.529840893343,
             -41.384498057378636,
             22.32
            ],
            [
             174.57867526752764,
             -41.44771561334809,
             0
            ]
           ]
          ],
          "type": "Polygon"
         },
         "id": "2200",
         "properties": {
          "AseismicSlipFactor": 0,
          "CouplingCoeff": 1,
          "DipDeg": 70,
          "DipDir": 329.9,
          "FaultID": 2200,
          "FaultName": "Wellington Hutt Valley: 1, Subsection 1",
          "LowDepth": 22.32,
          "ParentID": 528,
          "ParentName": "Wellington Hutt Valley: 1",
          "Rake": -160,
          "Target Slip Rate": 0.002745,
          "Target Slip Rate StdDev": 0.001039,
          "UpDepth": 0
         },
         "type": "Feature"
        },
        {
         "geometry": {
          "coordinates": [
           [
            [
             174.6387,
             -41.4204,
             0
            ],
            [
             174.66826699524862,
             -41.38300377973609,
             0
            ],
            [
             174.63023889631435,
             -41.36523258971267,
             21.200000000000003
            ],
            [
             174.60065002497262,
             -41.40262880173498,
             21.200000000000003
            ],
            [
             174.6387,
             -41.4204,
             0
            ]
           ]
          ],
          "type": "Polygon"
         },
         "id": "2201",
         "properties": {
          "AseismicSlipFactor": 0,
          "CouplingCoeff": 1,
          "DipDeg": 80,
          "DipDir": 301.9,
          "FaultID": 2201,
          "FaultName": "Wellington Hutt Valley: 2, Subsection 0",
          "LowDepth": 21.200000000000003,
          "ParentID": 529,
          "ParentName": "Wellington Hutt Valley: 2",
          "Rake": 160,
          "Target Slip Rate": 0.0023625,
          "Target Slip Rate StdDev": 0.00066562,
          "UpDepth": 0
         },
         "type": "Feature"
        },
        {
         "geometry": {
          "coordinates": [
           [
            [
             174.66826699524862,
             -41.38300377973609,
             0
            ],
            [
             174.6978,
             -41.345600000000005,
             0
            ],
            [
             174.65979374024704,
             -41.32782881821037,
             21.200000000000003
            ],
            [
             174.63023889631435,
             -41.36523258971267,
             21.200000000000003
            ],
            [
             174.66826699524862,
             -41.38300377973609,
             0
            ]
           ]
          ],
          "type": "Polygon"
         },
         "id": "2202",
         "properties": {
          "AseismicSlipFactor": 0,
          "CouplingCoeff": 1,
          "DipDeg": 80,
          "DipDir": 301.9,
          "FaultID": 2202,
          "FaultName": "Wellington Hutt Valley: 2, Subsection 1",
          "LowDepth": 21.200000000000003,
          "ParentID": 529,
          "ParentName": "Wellington Hutt Valley: 2",
          "Rake": 160,
          "Target Slip Rate": 0.0023625,
          "Target Slip Rate StdDev": 0.00066562,
          "UpDepth": 0
         },
         "type": "Feature"
        },
        {
         "geometry": {
          "coordinates": [
           [
            [
             174.7808,
             -41.2682,
             0
            ],
            [
             174.7392,
             -41.3031,
             0
            ],
            [
             174.73691921963152,
             -41.30544321025075,
             0
            ],
            [
             174.73691921963152,
             -41.30544321025075,
             20.240000000000002
            ],
            [
             174.7392,
             -41.3031,
             20.240000000000002
            ],
            [
             174.7808,
             -41.2682,
             20.240000000000002
            ],
            [
             174.7808,
             -41.2682,
             0
            ]
           ]
          ],
          "type": "Polygon"
         },
         "id": "2203",
         "properties": {
          "AseismicSlipFactor": 0,
          "CouplingCoeff": 1,
          "DipDeg": 90,
          "DipDir": 310,
          "FaultID": 2203,
          "FaultName": "Wellington Hutt Valley: 3, Subsection 0",
          "LowDepth": 20.240000000000002,
          "ParentID": 530,
          "ParentName": "Wellington Hutt Valley: 3",
          "Rake": 180,
          "Target Slip Rate": 0.0018675,
          "Target Slip Rate StdDev": 0.00058349,
          "UpDepth": 0
         },
         "type": "Feature"
        },
        {
         "geometry": {
          "coordinates": [
           [
            [
             174.73691921963152,
             -41.30544321025075,
             0
            ],
            [
             174.6978,
             -41.3456,
             0
            ],
            [
             174.6978,
             -41.3456,
             20.240000000000002
            ],
            [
             174.73691921963152,
             -41.30544321025075,
             20.240000000000002
            ],
            [
             174.73691921963152,
             -41.30544321025075,
             0
            ]
           ]
          ],
          "type": "Polygon"
         },
         "id": "2204",
         "properties": {
          "AseismicSlipFactor": 0,
          "CouplingCoeff": 1,
          "DipDeg": 90,
          "DipDir": 310,
          "FaultID": 2204,
          "FaultName": "Wellington Hutt Valley: 3, Subsection 1",
          "LowDepth": 20.240000000000002,
          "ParentID": 530,
          "ParentName": "Wellington Hutt Valley: 3",
          "Rake": 180,
          "Target Slip Rate": 0.0018675,
          "Target Slip Rate StdDev": 0.00058349,
          "UpDepth": 0
         },
         "type": "Feature"
        },
        {
         "geometry": {
          "coordinates": [
           [
            [
             175.7942,
             -40.3671,
             0
            ],
            [
             175.73392509292535,
             -40.42817117416799,
             0
            ],
            [
             175.69762200905322,
             -40.40993888467854,
             20.880000000000003
            ],
            [
             175.75792980944306,
             -40.348867722758236,
             20.880000000000003
            ],
            [
             175.7942,
             -40.3671,
             0
            ]
           ]
          ],
          "type": "Polygon"
         },
         "id": "2210",
         "properties": {
          "AseismicSlipFactor": 0,
          "CouplingCoeff": 1,
          "DipDeg": 80,
          "DipDir": 303.4,
          "FaultID": 2210,
          "FaultName": "Wellington: Pahiatua, Subsection 0",
          "LowDepth": 20.880000000000003,
          "ParentID": 533,
          "ParentName": "Wellington: Pahiatua",
          "Rake": 160,
          "Target Slip Rate": 0.0053325,
          "Target Slip Rate StdDev": 0.00073378,
          "UpDepth": 0
         },
         "type": "Feature"
        },
        {
         "geometry": {
          "coordinates": [
           [
            [
             175.73392509292535,
             -40.42817117416799,
             0
            ],
            [
             175.7165,
             -40.4458,
             0
            ],
            [
             175.68105161924245,
             -40.49297422187355,
             0
            ],
            [
             175.64471352155158,
             -40.47474191936365,
             20.880000000000003
            ],
            [
             175.68018740235587,
             -40.42756770697098,
             20.880000000000003
            ],
            [
             175.69762200905322,
             -40.40993888467854,
             20.880000000000003
            ],
            [
             175.73392509292535,
             -40.42817117416799,
             0
            ]
           ]
          ],
          "type": "Polygon"
         },
         "id": "2211",
         "properties": {
          "AseismicSlipFactor": 0,
          "CouplingCoeff": 1,
          "DipDeg": 80,
          "DipDir": 303.4,
          "FaultID": 2211,
          "FaultName": "Wellington: Pahiatua, Subsection 1",
          "LowDepth": 20.880000000000003,
          "ParentID": 533,
          "ParentName": "Wellington: Pahiatua",
          "Rake": 160,
          "Target Slip Rate": 0.0047925,
          "Target Slip Rate StdDev": 0.0007025,
          "UpDepth": 0
         },
         "type": "Feature"
        },
        {
         "geometry": {
          "coordinates": [
           [
            [
             176.58140829460393,
             -38.7727187176275,
             0
            ],
            [
             176.5809,
             -38.8194,
             0
            ],
            [
             176.5896447339804,
             -38.859441889028126,
             0
            ],
            [
             176.54778852101785,
             -38.85438841219441,
             20.8
            ],
            [
             176.53906732832775,
             -38.81434653384489,
             20.8
            ],
            [
             176.53960300846134,
             -38.76766526390649,
             20.8
            ],
            [
             176.58140829460393,
             -38.7727187176275,
             0
            ]
           ]
          ],
          "type": "Polygon"
         },
         "id": "2295",
         "properties": {
          "AseismicSlipFactor": 0,
          "CouplingCoeff": 1,
          "DipDeg": 80,
          "DipDir": 278.8,
          "FaultID": 2295,
          "FaultName": "Wheao: South, Subsection 3",
          "LowDepth": 20.8,
          "ParentID": 549,
          "ParentName": "Wheao: South",
          "Rake": -160,
          "Target Slip Rate": 0.0007524999999999999,
          "Target Slip Rate StdDev": 0.00048215,
          "UpDepth": 0
         },
         "type": "Feature"
        },
        {
         "geometry": {
          "coordinates": [
           [
            [
             176.5896447339804,
             -38.859441889028126,
             0
            ],
            [
             176.5993,
             -38.9036,
             0
            ],
            [
             176.59360913895657,
             -38.94587565063203,
             0
            ],
            [
             176.55170194987306,
             -38.94082215070658,
             20.8
            ],
            [
             176.5574177712795,
             -38.898546511375976,
             20.8
            ],
            [
             176.54778852101785,
             -38.85438841219441,
             20.8
            ],
            [
             176.5896447339804,
             -38.859441889028126,
             0
            ]
           ]
          ],
          "type": "Polygon"
         },
         "id": "2296",
         "properties": {
          "AseismicSlipFactor": 0,
          "CouplingCoeff": 1,
          "DipDeg": 80,
          "DipDir": 278.8,
          "FaultID": 2296,
          "FaultName": "Wheao: South, Subsection 4",
          "LowDepth": 20.8,
          "ParentID": 549,
          "ParentName": "Wheao: South",
          "Rake": -160,
          "Target Slip Rate": 0.00108,
          "Target Slip Rate StdDev": 0.00051221,
          "UpDepth": 0
         },
         "type": "Feature"
        },
        {
         "geometry": {
          "coordinates": [
           [
            [
             176.59360913895657,
             -38.94587565063203,
             0
            ],
            [
             176.5819,
             -39.0327,
             0
            ],
            [
             176.53994138302352,
             -39.02764647682172,
             20.8
            ],
            [
             176.55170194987306,
             -38.94082215070658,
             20.8
            ],
            [
             176.59360913895657,
             -38.94587565063203,
             0
            ]
           ]
          ],
          "type": "Polygon"
         },
         "id": "2297",
         "properties": {
          "AseismicSlipFactor": 0,
          "CouplingCoeff": 1,
          "DipDeg": 80,
          "DipDir": 278.8,
          "FaultID": 2297,
          "FaultName": "Wheao: South, Subsection 5",
          "LowDepth": 20.8,
          "ParentID": 549,
          "ParentName": "Wheao: South",
          "Rake": -160,
          "Target Slip Rate": 0.0011474999999999,
          "Target Slip Rate StdDev": 0.0005335600000000001,
          "UpDepth": 0
         },
         "type": "Feature"
        },
        {
         "geometry": {
          "coordinates": [
           [
            [
             174.9360024151462,
             -41.2985545083867,
             0
            ],
            [
             174.947,
             -41.2817,
             0
            ],
            [
             174.968,
             -41.2583,
             0
            ],
            [
             174.98896193554762,
             -41.22574694015119,
             0
            ],
            [
             174.86420563815088,
             -41.17490563535433,
             20.560000000000002
            ],
            [
             174.84318165460527,
             -41.20745861799603,
             20.560000000000002
            ],
            [
             174.82213698981215,
             -41.230858562450045,
             20.560000000000002
            ],
            [
             174.81110720116536,
             -41.24771303080356,
             20.560000000000002
            ],
            [
             174.9360024151462,
             -41.2985545083867,
             0
            ]
           ]
          ],
          "type": "Polygon"
         },
         "id": "2321",
         "properties": {
          "AseismicSlipFactor": 0,
          "CouplingCoeff": 1,
          "DipDeg": 60,
          "DipDir": 298.4,
          "FaultID": 2321,
          "FaultName": "Whitemans Valley, Subsection 1",
          "LowDepth": 20.560000000000002,
          "ParentID": 555,
          "ParentName": "Whitemans Valley",
          "Rake": 110,
          "Target Slip Rate": 0.000213003,
          "Target Slip Rate StdDev": 0.00021322,
          "UpDepth": 0
         },
         "type": "Feature"
        },
        {
         "geometry": {
          "coordinates": [
           [
            [
             174.98896193554762,
             -41.22574694015119,
             0
            ],
            [
             174.998,
             -41.2117,
             0
            ],
            [
             175.015,
             -41.195,
             0
            ],
            [
             175.018,
             -41.1767,
             0
            ],
            [
             175.035,
             -41.1517,
             0
            ],
            [
             174.91038446114501,
             -41.100858870537174,
             20.560000000000002
            ],
            [
             174.89333699653724,
             -41.12585881138451,
             20.560000000000002
            ],
            [
             174.8903022144632,
             -41.14415876805617,
             20.560000000000002
            ],
            [
             174.8732704453959,
             -41.160858728495,
             20.560000000000002
            ],
            [
             174.86420563815088,
             -41.17490563535433,
             20.560000000000002
            ],
            [
             174.98896193554762,
             -41.22574694015119,
             0
            ]
           ]
          ],
          "type": "Polygon"
         },
         "id": "2322",
         "properties": {
          "AseismicSlipFactor": 0,
          "CouplingCoeff": 1,
          "DipDeg": 60,
          "DipDir": 298.4,
          "FaultID": 2322,
          "FaultName": "Whitemans Valley, Subsection 2",
          "LowDepth": 20.560000000000002,
          "ParentID": 555,
          "ParentName": "Whitemans Valley",
          "Rake": 110,
          "Target Slip Rate": 0.000153,
          "Target Slip Rate StdDev": 0.00021087,
          "UpDepth": 0
         },
         "type": "Feature"
        }
       ],
       "type": "FeatureCollection"
      },
      "text/plain": [
       "<IPython.display.GeoJSON object>"
      ]
     },
     "metadata": {
      "application/geo+json": {
       "expanded": false,
       "root": "root"
      }
     },
     "output_type": "display_data"
    }
   ],
   "source": [
    "GeoJSON(json.loads(surfaces.to_json()))"
   ]
  },
  {
   "cell_type": "markdown",
   "id": "9a9a52e5-bb4b-4111-86bd-aa8470c4e66b",
   "metadata": {},
   "source": [
    "## more sanity checks"
   ]
  },
  {
   "cell_type": "code",
   "execution_count": null,
   "id": "48a738fa-6bea-4962-af58-7abc94e97b86",
   "metadata": {},
   "outputs": [],
   "source": [
    "# fault_sections\n",
    "assert cc_solution_compat.fault_sections.shape == new_solution.fault_sections.shape\n",
    "assert cc_solution_compat.fault_sections.columns.all() == new_solution.fault_sections.columns.all()\n",
    "assert cc_solution_compat.fault_sections.index.all() == new_solution.fault_sections.index.all()\n"
   ]
  },
  {
   "cell_type": "code",
   "execution_count": 132,
   "id": "10dc2a51-75b0-4a1b-b151-00fa95d05840",
   "metadata": {},
   "outputs": [
    {
     "name": "stdout",
     "output_type": "stream",
     "text": [
      "[0, 1, 2, 3, 4, 5, 6, 7, 8, 9, 10, 11, 12, 13, 14, 15, 16, 17, 18, 19]\n",
      "[0, 1, 2, 3, 4, 5, 6, 7, 8, 9, 10, 11, 12, 13, 14, 15, 16, 17, 18, 19]\n",
      "[93817, 273738, 287882, 287883, 287886, 287935, 303144, 303633, 303637, 303645, 304457, 304481, 305289, 305295, 305956, 307466, 332519, 365792, 396573, 398713]\n"
     ]
    },
    {
     "data": {
      "text/html": [
       "<div>\n",
       "<style scoped>\n",
       "    .dataframe tbody tr th:only-of-type {\n",
       "        vertical-align: middle;\n",
       "    }\n",
       "\n",
       "    .dataframe tbody tr th {\n",
       "        vertical-align: top;\n",
       "    }\n",
       "\n",
       "    .dataframe thead th {\n",
       "        text-align: right;\n",
       "    }\n",
       "</style>\n",
       "<table border=\"1\" class=\"dataframe\">\n",
       "  <thead>\n",
       "    <tr style=\"text-align: right;\">\n",
       "      <th></th>\n",
       "      <th>Rupture Index</th>\n",
       "      <th>Magnitude</th>\n",
       "      <th>Average Rake (degrees)</th>\n",
       "      <th>Area (m^2)</th>\n",
       "      <th>Length (m)</th>\n",
       "    </tr>\n",
       "  </thead>\n",
       "  <tbody>\n",
       "    <tr>\n",
       "      <th>15</th>\n",
       "      <td>15</td>\n",
       "      <td>7.689291</td>\n",
       "      <td>173.514908</td>\n",
       "      <td>3085278208.0</td>\n",
       "      <td>149419.578125</td>\n",
       "    </tr>\n",
       "    <tr>\n",
       "      <th>16</th>\n",
       "      <td>16</td>\n",
       "      <td>8.092493</td>\n",
       "      <td>170.060974</td>\n",
       "      <td>7807235072.0</td>\n",
       "      <td>344133.71875</td>\n",
       "    </tr>\n",
       "    <tr>\n",
       "      <th>17</th>\n",
       "      <td>17</td>\n",
       "      <td>7.687795</td>\n",
       "      <td>172.046402</td>\n",
       "      <td>3074670080.0</td>\n",
       "      <td>148691.578125</td>\n",
       "    </tr>\n",
       "    <tr>\n",
       "      <th>18</th>\n",
       "      <td>18</td>\n",
       "      <td>7.676656</td>\n",
       "      <td>174.574341</td>\n",
       "      <td>2996815872.0</td>\n",
       "      <td>148867.984375</td>\n",
       "    </tr>\n",
       "    <tr>\n",
       "      <th>19</th>\n",
       "      <td>19</td>\n",
       "      <td>8.096851</td>\n",
       "      <td>170.340118</td>\n",
       "      <td>7885977600.0</td>\n",
       "      <td>347838.75</td>\n",
       "    </tr>\n",
       "  </tbody>\n",
       "</table>\n",
       "</div>"
      ],
      "text/plain": [
       "    Rupture Index  Magnitude  Average Rake (degrees)    Area (m^2)  \\\n",
       "15             15   7.689291              173.514908  3085278208.0   \n",
       "16             16   8.092493              170.060974  7807235072.0   \n",
       "17             17   7.687795              172.046402  3074670080.0   \n",
       "18             18   7.676656              174.574341  2996815872.0   \n",
       "19             19   8.096851              170.340118  7885977600.0   \n",
       "\n",
       "       Length (m)  \n",
       "15  149419.578125  \n",
       "16   344133.71875  \n",
       "17  148691.578125  \n",
       "18  148867.984375  \n",
       "19      347838.75  "
      ]
     },
     "execution_count": 132,
     "metadata": {},
     "output_type": "execute_result"
    }
   ],
   "source": [
    "# ruptures\n",
    "assert cc_solution_compat.ruptures.shape == new_solution.ruptures.shape\n",
    "assert cc_solution_compat.ruptures.columns.all() == new_solution.ruptures.columns.all()\n",
    "\n",
    "# rupture indexes are different due to the compatible\n",
    "# assert cc_solution.ruptures.index.all() == new_solution.ruptures.index.all()\n",
    "# assert cc_solution_compat.ruptures.index.all() == new_solution.ruptures.index.all()\n",
    "\n",
    "print(cc_solution.ruptures.index.tolist())\n",
    "print(cc_solution_compat.ruptures.index.tolist())\n",
    "print(new_solution.ruptures.index.tolist())\n",
    "\n",
    "cc_solution_compat.ruptures.tail()"
   ]
  },
  {
   "cell_type": "code",
   "execution_count": 131,
   "id": "26f6566f-e227-4acd-adbb-4b8844dab267",
   "metadata": {},
   "outputs": [
    {
     "data": {
      "text/html": [
       "<div>\n",
       "<style scoped>\n",
       "    .dataframe tbody tr th:only-of-type {\n",
       "        vertical-align: middle;\n",
       "    }\n",
       "\n",
       "    .dataframe tbody tr th {\n",
       "        vertical-align: top;\n",
       "    }\n",
       "\n",
       "    .dataframe thead th {\n",
       "        text-align: right;\n",
       "    }\n",
       "</style>\n",
       "<table border=\"1\" class=\"dataframe\">\n",
       "  <thead>\n",
       "    <tr style=\"text-align: right;\">\n",
       "      <th></th>\n",
       "      <th>rupture</th>\n",
       "      <th>section</th>\n",
       "    </tr>\n",
       "  </thead>\n",
       "  <tbody>\n",
       "    <tr>\n",
       "      <th>299</th>\n",
       "      <td>19</td>\n",
       "      <td>1698</td>\n",
       "    </tr>\n",
       "    <tr>\n",
       "      <th>300</th>\n",
       "      <td>19</td>\n",
       "      <td>1697</td>\n",
       "    </tr>\n",
       "    <tr>\n",
       "      <th>301</th>\n",
       "      <td>19</td>\n",
       "      <td>1696</td>\n",
       "    </tr>\n",
       "    <tr>\n",
       "      <th>302</th>\n",
       "      <td>19</td>\n",
       "      <td>2297</td>\n",
       "    </tr>\n",
       "    <tr>\n",
       "      <th>303</th>\n",
       "      <td>19</td>\n",
       "      <td>2296</td>\n",
       "    </tr>\n",
       "  </tbody>\n",
       "</table>\n",
       "</div>"
      ],
      "text/plain": [
       "     rupture  section\n",
       "299       19     1698\n",
       "300       19     1697\n",
       "301       19     1696\n",
       "302       19     2297\n",
       "303       19     2296"
      ]
     },
     "execution_count": 131,
     "metadata": {},
     "output_type": "execute_result"
    }
   ],
   "source": [
    "# rupture_sections\n",
    "assert cc_solution_compat.rupture_sections.shape == new_solution.rupture_sections.shape\n",
    "assert cc_solution_compat.rupture_sections.columns.all() == new_solution.rupture_sections.columns.all()\n",
    "assert cc_solution_compat.rupture_sections.index.all() == new_solution.rupture_sections.index.all()\n",
    "assert cc_solution_compat.rupture_sections.section.max() == new_solution.rupture_sections.section.max()\n",
    "\n",
    "cc_solution_compat.rupture_sections.tail()"
   ]
  },
  {
   "cell_type": "code",
   "execution_count": 134,
   "id": "062ed355-cd42-42be-94f4-f0fe9847f34a",
   "metadata": {},
   "outputs": [
    {
     "name": "stdout",
     "output_type": "stream",
     "text": [
      "\n"
     ]
    },
    {
     "data": {
      "text/html": [
       "<div>\n",
       "<style scoped>\n",
       "    .dataframe tbody tr th:only-of-type {\n",
       "        vertical-align: middle;\n",
       "    }\n",
       "\n",
       "    .dataframe tbody tr th {\n",
       "        vertical-align: top;\n",
       "    }\n",
       "\n",
       "    .dataframe thead th {\n",
       "        text-align: right;\n",
       "    }\n",
       "</style>\n",
       "<table border=\"1\" class=\"dataframe\">\n",
       "  <thead>\n",
       "    <tr style=\"text-align: right;\">\n",
       "      <th></th>\n",
       "      <th>key_0</th>\n",
       "      <th>Rupture Index</th>\n",
       "      <th>Annual Rate</th>\n",
       "      <th>Magnitude</th>\n",
       "      <th>Average Rake (degrees)</th>\n",
       "      <th>Area (m^2)</th>\n",
       "      <th>Length (m)</th>\n",
       "      <th>section</th>\n",
       "    </tr>\n",
       "  </thead>\n",
       "  <tbody>\n",
       "    <tr>\n",
       "      <th>19</th>\n",
       "      <td>19</td>\n",
       "      <td>19</td>\n",
       "      <td>0.0</td>\n",
       "      <td>8.096851</td>\n",
       "      <td>170.340118</td>\n",
       "      <td>7885977600.0</td>\n",
       "      <td>347838.75</td>\n",
       "      <td>1698</td>\n",
       "    </tr>\n",
       "    <tr>\n",
       "      <th>19</th>\n",
       "      <td>19</td>\n",
       "      <td>19</td>\n",
       "      <td>0.0</td>\n",
       "      <td>8.096851</td>\n",
       "      <td>170.340118</td>\n",
       "      <td>7885977600.0</td>\n",
       "      <td>347838.75</td>\n",
       "      <td>1697</td>\n",
       "    </tr>\n",
       "    <tr>\n",
       "      <th>19</th>\n",
       "      <td>19</td>\n",
       "      <td>19</td>\n",
       "      <td>0.0</td>\n",
       "      <td>8.096851</td>\n",
       "      <td>170.340118</td>\n",
       "      <td>7885977600.0</td>\n",
       "      <td>347838.75</td>\n",
       "      <td>1696</td>\n",
       "    </tr>\n",
       "    <tr>\n",
       "      <th>19</th>\n",
       "      <td>19</td>\n",
       "      <td>19</td>\n",
       "      <td>0.0</td>\n",
       "      <td>8.096851</td>\n",
       "      <td>170.340118</td>\n",
       "      <td>7885977600.0</td>\n",
       "      <td>347838.75</td>\n",
       "      <td>2297</td>\n",
       "    </tr>\n",
       "    <tr>\n",
       "      <th>19</th>\n",
       "      <td>19</td>\n",
       "      <td>19</td>\n",
       "      <td>0.0</td>\n",
       "      <td>8.096851</td>\n",
       "      <td>170.340118</td>\n",
       "      <td>7885977600.0</td>\n",
       "      <td>347838.75</td>\n",
       "      <td>2296</td>\n",
       "    </tr>\n",
       "  </tbody>\n",
       "</table>\n",
       "</div>"
      ],
      "text/plain": [
       "    key_0  Rupture Index  Annual Rate  Magnitude  Average Rake (degrees)  \\\n",
       "19     19             19          0.0   8.096851              170.340118   \n",
       "19     19             19          0.0   8.096851              170.340118   \n",
       "19     19             19          0.0   8.096851              170.340118   \n",
       "19     19             19          0.0   8.096851              170.340118   \n",
       "19     19             19          0.0   8.096851              170.340118   \n",
       "\n",
       "      Area (m^2)  Length (m)  section  \n",
       "19  7885977600.0   347838.75     1698  \n",
       "19  7885977600.0   347838.75     1697  \n",
       "19  7885977600.0   347838.75     1696  \n",
       "19  7885977600.0   347838.75     2297  \n",
       "19  7885977600.0   347838.75     2296  "
      ]
     },
     "execution_count": 134,
     "metadata": {},
     "output_type": "execute_result"
    }
   ],
   "source": [
    "# rupture_sections_with_rupture_rates\n",
    "assert cc_solution_compat.rs_with_rupture_rates.shape == new_solution.rs_with_rupture_rates.shape\n",
    "assert cc_solution_compat.rs_with_rupture_rates.columns.all() == new_solution.rs_with_rupture_rates.columns.all()\n",
    "\n",
    "# data columns are OK\n",
    "assert cc_solution_compat.rs_with_rupture_rates['Annual Rate'].sum() == new_solution.rs_with_rupture_rates['Annual Rate'].sum()\n",
    "assert cc_solution_compat.rs_with_rupture_rates.section.all() == new_solution.rs_with_rupture_rates.section.all()\n",
    "\n",
    "# assert cc_solution_compat.rs_with_rupture_rates.index.all() == new_solution.rs_with_rupture_rates.index.all()\n",
    "print()\n",
    "cc_solution_compat.rs_with_rupture_rates.tail()\n",
    "# new_solution.rs_with_rupture_rates"
   ]
  },
  {
   "cell_type": "code",
   "execution_count": 135,
   "id": "e5da4cdf-6f74-49b0-81a0-625e1be6b64b",
   "metadata": {},
   "outputs": [
    {
     "data": {
      "text/html": [
       "<div>\n",
       "<style scoped>\n",
       "    .dataframe tbody tr th:only-of-type {\n",
       "        vertical-align: middle;\n",
       "    }\n",
       "\n",
       "    .dataframe tbody tr th {\n",
       "        vertical-align: top;\n",
       "    }\n",
       "\n",
       "    .dataframe thead th {\n",
       "        text-align: right;\n",
       "    }\n",
       "</style>\n",
       "<table border=\"1\" class=\"dataframe\">\n",
       "  <thead>\n",
       "    <tr style=\"text-align: right;\">\n",
       "      <th></th>\n",
       "      <th>key_0</th>\n",
       "      <th>Rupture Index</th>\n",
       "      <th>Annual Rate</th>\n",
       "      <th>Magnitude</th>\n",
       "      <th>Average Rake (degrees)</th>\n",
       "      <th>Area (m^2)</th>\n",
       "      <th>Length (m)</th>\n",
       "      <th>section</th>\n",
       "    </tr>\n",
       "  </thead>\n",
       "  <tbody>\n",
       "    <tr>\n",
       "      <th>398713</th>\n",
       "      <td>398713</td>\n",
       "      <td>398713</td>\n",
       "      <td>0.0</td>\n",
       "      <td>8.096851</td>\n",
       "      <td>170.340118</td>\n",
       "      <td>7885977600.0</td>\n",
       "      <td>347838.75</td>\n",
       "      <td>1698</td>\n",
       "    </tr>\n",
       "    <tr>\n",
       "      <th>398713</th>\n",
       "      <td>398713</td>\n",
       "      <td>398713</td>\n",
       "      <td>0.0</td>\n",
       "      <td>8.096851</td>\n",
       "      <td>170.340118</td>\n",
       "      <td>7885977600.0</td>\n",
       "      <td>347838.75</td>\n",
       "      <td>1697</td>\n",
       "    </tr>\n",
       "    <tr>\n",
       "      <th>398713</th>\n",
       "      <td>398713</td>\n",
       "      <td>398713</td>\n",
       "      <td>0.0</td>\n",
       "      <td>8.096851</td>\n",
       "      <td>170.340118</td>\n",
       "      <td>7885977600.0</td>\n",
       "      <td>347838.75</td>\n",
       "      <td>1696</td>\n",
       "    </tr>\n",
       "    <tr>\n",
       "      <th>398713</th>\n",
       "      <td>398713</td>\n",
       "      <td>398713</td>\n",
       "      <td>0.0</td>\n",
       "      <td>8.096851</td>\n",
       "      <td>170.340118</td>\n",
       "      <td>7885977600.0</td>\n",
       "      <td>347838.75</td>\n",
       "      <td>2297</td>\n",
       "    </tr>\n",
       "    <tr>\n",
       "      <th>398713</th>\n",
       "      <td>398713</td>\n",
       "      <td>398713</td>\n",
       "      <td>0.0</td>\n",
       "      <td>8.096851</td>\n",
       "      <td>170.340118</td>\n",
       "      <td>7885977600.0</td>\n",
       "      <td>347838.75</td>\n",
       "      <td>2296</td>\n",
       "    </tr>\n",
       "  </tbody>\n",
       "</table>\n",
       "</div>"
      ],
      "text/plain": [
       "         key_0  Rupture Index  Annual Rate  Magnitude  Average Rake (degrees)  \\\n",
       "398713  398713         398713          0.0   8.096851              170.340118   \n",
       "398713  398713         398713          0.0   8.096851              170.340118   \n",
       "398713  398713         398713          0.0   8.096851              170.340118   \n",
       "398713  398713         398713          0.0   8.096851              170.340118   \n",
       "398713  398713         398713          0.0   8.096851              170.340118   \n",
       "\n",
       "          Area (m^2)  Length (m)  section  \n",
       "398713  7885977600.0   347838.75     1698  \n",
       "398713  7885977600.0   347838.75     1697  \n",
       "398713  7885977600.0   347838.75     1696  \n",
       "398713  7885977600.0   347838.75     2297  \n",
       "398713  7885977600.0   347838.75     2296  "
      ]
     },
     "execution_count": 135,
     "metadata": {},
     "output_type": "execute_result"
    }
   ],
   "source": [
    "new_solution.rs_with_rupture_rates.tail()"
   ]
  }
 ],
 "metadata": {
  "kernelspec": {
   "display_name": "Python 3 (ipykernel)",
   "language": "python",
   "name": "python3"
  },
  "language_info": {
   "codemirror_mode": {
    "name": "ipython",
    "version": 3
   },
   "file_extension": ".py",
   "mimetype": "text/x-python",
   "name": "python",
   "nbconvert_exporter": "python",
   "pygments_lexer": "ipython3",
   "version": "3.11.9"
  }
 },
 "nbformat": 4,
 "nbformat_minor": 5
}
