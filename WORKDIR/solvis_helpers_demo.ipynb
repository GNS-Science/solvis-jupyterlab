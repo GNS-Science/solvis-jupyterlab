{
 "cells": [
  {
   "cell_type": "markdown",
   "id": "82c2af9b-c9fe-48db-8c91-0387125ce672",
   "metadata": {
    "editable": true,
    "slideshow": {
     "slide_type": ""
    },
    "tags": []
   },
   "source": [
    "# A solvis demo with the NSHM Composite Solution"
   ]
  },
  {
   "cell_type": "markdown",
   "id": "5bf90f20-a41b-4ae2-a137-37af986903c0",
   "metadata": {},
   "source": [
    "  "
   ]
  },
  {
   "cell_type": "code",
   "execution_count": 1,
   "id": "8ed96b93-fadf-42a5-a8df-7b0afc563b50",
   "metadata": {},
   "outputs": [
    {
     "name": "stderr",
     "output_type": "stream",
     "text": [
      "warning openquake module dependency not available, maybe you want to install\n",
      "                with nzshm-model[openquake]\n"
     ]
    },
    {
     "name": "stdout",
     "output_type": "stream",
     "text": [
      "WARNING: optional `toshi` dependencies are not installed.\n",
      "Running without `toshi` options\n",
      "WARNING: geometry.section_distance() uses the optional dependency pyvista.\n"
     ]
    }
   ],
   "source": [
    "import os\n",
    "import pathlib\n",
    "import json\n",
    "from IPython.display import GeoJSON\n",
    "\n",
    "import nzshm_model as nm\n",
    "import solvis"
   ]
  },
  {
   "cell_type": "code",
   "execution_count": 2,
   "id": "d6eec080-f7b9-441f-a3bc-50991f675b7b",
   "metadata": {},
   "outputs": [],
   "source": [
    "# prepare our NSHM composite solution\n",
    "current_model = nm.get_model_version(\"NSHM_v1.0.4\")\n",
    "slt = current_model.source_logic_tree"
   ]
  },
  {
   "cell_type": "code",
   "execution_count": 3,
   "id": "7ae29bed-3458-428f-875d-551c848387a7",
   "metadata": {},
   "outputs": [],
   "source": [
    "# load the composite_solution and shoose the Cruslal FaultSystemSolution\n",
    "csol = solvis.CompositeSolution.from_archive(\"NSHM_v1.0.4_CompositeSolution.zip\", slt)\n",
    "fss = csol._solutions['CRU']"
   ]
  },
  {
   "cell_type": "code",
   "execution_count": 4,
   "id": "d0c843cf-bd4d-49ed-8a64-57b5a6aeeb16",
   "metadata": {},
   "outputs": [],
   "source": [
    "# try our new filtering\n",
    "from solvis.fault_system_solution_helper import FaultSystemSolutionHelper"
   ]
  },
  {
   "cell_type": "code",
   "execution_count": 5,
   "id": "b632cea2-3d67-4c54-8a2f-e1f8713e0f0c",
   "metadata": {},
   "outputs": [],
   "source": [
    "helper = FaultSystemSolutionHelper(fss)"
   ]
  },
  {
   "cell_type": "code",
   "execution_count": 6,
   "id": "8fa2ad18-96ba-4e42-98ac-37da41bad6f4",
   "metadata": {},
   "outputs": [
    {
     "data": {
      "text/plain": [
       "{9, 265110}"
      ]
     },
     "execution_count": 6,
     "metadata": {},
     "output_type": "execute_result"
    }
   ],
   "source": [
    "# help(helper.subsections_for_faults)\n",
    "subsections = helper.ruptures_for_parent_fault_names(['Aka Aka'])\n",
    "subsections"
   ]
  },
  {
   "cell_type": "markdown",
   "id": "e0712d4e-ee44-4d25-9fbc-c589ffeb58b7",
   "metadata": {},
   "source": [
    "## display the surface geometry of a fault"
   ]
  },
  {
   "cell_type": "code",
   "execution_count": 29,
   "id": "d80408cb-3211-487f-8869-9e3e940562ea",
   "metadata": {
    "scrolled": true
   },
   "outputs": [
    {
     "data": {
      "text/html": [
       "<div>\n",
       "<style scoped>\n",
       "    .dataframe tbody tr th:only-of-type {\n",
       "        vertical-align: middle;\n",
       "    }\n",
       "\n",
       "    .dataframe tbody tr th {\n",
       "        vertical-align: top;\n",
       "    }\n",
       "\n",
       "    .dataframe thead th {\n",
       "        text-align: right;\n",
       "    }\n",
       "</style>\n",
       "<table border=\"1\" class=\"dataframe\">\n",
       "  <thead>\n",
       "    <tr style=\"text-align: right;\">\n",
       "      <th></th>\n",
       "      <th>FaultID</th>\n",
       "      <th>FaultName</th>\n",
       "      <th>DipDeg</th>\n",
       "      <th>Rake</th>\n",
       "      <th>LowDepth</th>\n",
       "      <th>UpDepth</th>\n",
       "      <th>DipDir</th>\n",
       "      <th>AseismicSlipFactor</th>\n",
       "      <th>CouplingCoeff</th>\n",
       "      <th>ParentID</th>\n",
       "      <th>ParentName</th>\n",
       "      <th>geometry</th>\n",
       "      <th>Target Slip Rate</th>\n",
       "      <th>Target Slip Rate StdDev</th>\n",
       "    </tr>\n",
       "  </thead>\n",
       "  <tbody>\n",
       "    <tr>\n",
       "      <th>1125</th>\n",
       "      <td>1125</td>\n",
       "      <td>Masterton, Subsection 0</td>\n",
       "      <td>65.0</td>\n",
       "      <td>-160.0</td>\n",
       "      <td>12.88</td>\n",
       "      <td>0.0</td>\n",
       "      <td>164.0</td>\n",
       "      <td>0.0</td>\n",
       "      <td>1.0</td>\n",
       "      <td>257</td>\n",
       "      <td>Masterton</td>\n",
       "      <td>POLYGON ((175.73310 -40.92830, 175.72130 -40.9...</td>\n",
       "      <td>0.000652</td>\n",
       "      <td>0.000577</td>\n",
       "    </tr>\n",
       "    <tr>\n",
       "      <th>1126</th>\n",
       "      <td>1126</td>\n",
       "      <td>Masterton, Subsection 1</td>\n",
       "      <td>65.0</td>\n",
       "      <td>-160.0</td>\n",
       "      <td>12.88</td>\n",
       "      <td>0.0</td>\n",
       "      <td>164.0</td>\n",
       "      <td>0.0</td>\n",
       "      <td>1.0</td>\n",
       "      <td>257</td>\n",
       "      <td>Masterton</td>\n",
       "      <td>POLYGON ((175.66992 -40.93846, 175.60882 -40.9...</td>\n",
       "      <td>0.000788</td>\n",
       "      <td>0.000592</td>\n",
       "    </tr>\n",
       "    <tr>\n",
       "      <th>1127</th>\n",
       "      <td>1127</td>\n",
       "      <td>Masterton, Subsection 2</td>\n",
       "      <td>65.0</td>\n",
       "      <td>-160.0</td>\n",
       "      <td>12.88</td>\n",
       "      <td>0.0</td>\n",
       "      <td>164.0</td>\n",
       "      <td>0.0</td>\n",
       "      <td>1.0</td>\n",
       "      <td>257</td>\n",
       "      <td>Masterton</td>\n",
       "      <td>POLYGON ((175.60882 -40.96057, 175.58770 -40.9...</td>\n",
       "      <td>0.000652</td>\n",
       "      <td>0.000530</td>\n",
       "    </tr>\n",
       "    <tr>\n",
       "      <th>1128</th>\n",
       "      <td>1128</td>\n",
       "      <td>Masterton, Subsection 3</td>\n",
       "      <td>65.0</td>\n",
       "      <td>-160.0</td>\n",
       "      <td>12.88</td>\n",
       "      <td>0.0</td>\n",
       "      <td>164.0</td>\n",
       "      <td>0.0</td>\n",
       "      <td>1.0</td>\n",
       "      <td>257</td>\n",
       "      <td>Masterton</td>\n",
       "      <td>POLYGON ((175.54348 -40.97084, 175.54080 -40.9...</td>\n",
       "      <td>0.000518</td>\n",
       "      <td>0.000468</td>\n",
       "    </tr>\n",
       "  </tbody>\n",
       "</table>\n",
       "</div>"
      ],
      "text/plain": [
       "      FaultID                FaultName  DipDeg   Rake  LowDepth  UpDepth  \\\n",
       "1125     1125  Masterton, Subsection 0    65.0 -160.0     12.88      0.0   \n",
       "1126     1126  Masterton, Subsection 1    65.0 -160.0     12.88      0.0   \n",
       "1127     1127  Masterton, Subsection 2    65.0 -160.0     12.88      0.0   \n",
       "1128     1128  Masterton, Subsection 3    65.0 -160.0     12.88      0.0   \n",
       "\n",
       "      DipDir  AseismicSlipFactor  CouplingCoeff  ParentID ParentName  \\\n",
       "1125   164.0                 0.0            1.0       257  Masterton   \n",
       "1126   164.0                 0.0            1.0       257  Masterton   \n",
       "1127   164.0                 0.0            1.0       257  Masterton   \n",
       "1128   164.0                 0.0            1.0       257  Masterton   \n",
       "\n",
       "                                               geometry  Target Slip Rate  \\\n",
       "1125  POLYGON ((175.73310 -40.92830, 175.72130 -40.9...          0.000652   \n",
       "1126  POLYGON ((175.66992 -40.93846, 175.60882 -40.9...          0.000788   \n",
       "1127  POLYGON ((175.60882 -40.96057, 175.58770 -40.9...          0.000652   \n",
       "1128  POLYGON ((175.54348 -40.97084, 175.54080 -40.9...          0.000518   \n",
       "\n",
       "      Target Slip Rate StdDev  \n",
       "1125                 0.000577  \n",
       "1126                 0.000592  \n",
       "1127                 0.000530  \n",
       "1128                 0.000468  "
      ]
     },
     "execution_count": 29,
     "metadata": {},
     "output_type": "execute_result"
    }
   ],
   "source": [
    "surfaces = fss.fault_surfaces()\n",
    "mro_surface = surfaces[surfaces.ParentName==\"Masterton\"]\n",
    "\n",
    "# A fault called `Masterton` having 4 subsections\n",
    "mro_surface # display the dataframe"
   ]
  },
  {
   "cell_type": "code",
   "execution_count": 8,
   "id": "aed8fa75-4378-44f7-9537-48dcad8b4652",
   "metadata": {},
   "outputs": [
    {
     "data": {
      "application/geo+json": {
       "features": [
        {
         "geometry": {
          "coordinates": [
           [
            [
             175.7331,
             -40.9283
            ],
            [
             175.7213,
             -40.9359
            ],
            [
             175.7074,
             -40.9392
            ],
            [
             175.6712,
             -40.938
            ],
            [
             175.66991683704686,
             -40.93846475498719
            ],
            [
             175.6896409624809,
             -40.99038425888664
            ],
            [
             175.6909239864036,
             -40.989919503927
            ],
            [
             175.72712434538764,
             -40.99111950385589
            ],
            [
             175.74102335823375,
             -40.98781950405143
            ],
            [
             175.75282108541293,
             -40.98021950450167
            ],
            [
             175.7331,
             -40.9283
            ]
           ]
          ],
          "type": "Polygon"
         },
         "id": "1125",
         "properties": {
          "AseismicSlipFactor": 0,
          "CouplingCoeff": 1,
          "DipDeg": 65,
          "DipDir": 164,
          "FaultID": 1125,
          "FaultName": "Masterton, Subsection 0",
          "LowDepth": 12.880000000000003,
          "ParentID": 257,
          "ParentName": "Masterton",
          "Rake": -160,
          "Target Slip Rate": 0.0006525,
          "Target Slip Rate StdDev": 0.00057737,
          "UpDepth": 0
         },
         "type": "Feature"
        },
        {
         "geometry": {
          "coordinates": [
           [
            [
             175.66991683704686,
             -40.93846475498719
            ],
            [
             175.60881796773072,
             -40.96057042440613
            ],
            [
             175.62854870979223,
             -41.012489926995286
            ],
            [
             175.6896409624809,
             -40.99038425888664
            ],
            [
             175.66991683704686,
             -40.93846475498719
            ]
           ]
          ],
          "type": "Polygon"
         },
         "id": "1126",
         "properties": {
          "AseismicSlipFactor": 0,
          "CouplingCoeff": 1,
          "DipDeg": 65,
          "DipDir": 164,
          "FaultID": 1126,
          "FaultName": "Masterton, Subsection 1",
          "LowDepth": 12.880000000000003,
          "ParentID": 257,
          "ParentName": "Masterton",
          "Rake": -160,
          "Target Slip Rate": 0.0007875,
          "Target Slip Rate StdDev": 0.00059197,
          "UpDepth": 0
         },
         "type": "Feature"
        },
        {
         "geometry": {
          "coordinates": [
           [
            [
             175.60881796773072,
             -40.96057042440613
            ],
            [
             175.5877,
             -40.9682
            ],
            [
             175.54348275532178,
             -40.9708403543804
            ],
            [
             175.5632165738695,
             -41.02275985636053
            ],
            [
             175.6074330274443,
             -41.02011950213672
            ],
            [
             175.62854870979223,
             -41.012489926995286
            ],
            [
             175.60881796773072,
             -40.96057042440613
            ]
           ]
          ],
          "type": "Polygon"
         },
         "id": "1127",
         "properties": {
          "AseismicSlipFactor": 0,
          "CouplingCoeff": 1,
          "DipDeg": 65,
          "DipDir": 164,
          "FaultID": 1127,
          "FaultName": "Masterton, Subsection 2",
          "LowDepth": 12.880000000000003,
          "ParentID": 257,
          "ParentName": "Masterton",
          "Rake": -160,
          "Target Slip Rate": 0.0006525,
          "Target Slip Rate StdDev": 0.00053003,
          "UpDepth": 0
         },
         "type": "Feature"
        },
        {
         "geometry": {
          "coordinates": [
           [
            [
             175.54348275532178,
             -40.9708403543804
            ],
            [
             175.5408,
             -40.971
            ],
            [
             175.48280000000005,
             -40.99329999999999
            ],
            [
             175.5025405521713,
             -41.04521950064752
            ],
            [
             175.56053386638416,
             -41.02291950197065
            ],
            [
             175.5632165738695,
             -41.02275985636053
            ],
            [
             175.54348275532178,
             -40.9708403543804
            ]
           ]
          ],
          "type": "Polygon"
         },
         "id": "1128",
         "properties": {
          "AseismicSlipFactor": 0,
          "CouplingCoeff": 1,
          "DipDeg": 65,
          "DipDir": 164,
          "FaultID": 1128,
          "FaultName": "Masterton, Subsection 3",
          "LowDepth": 12.880000000000003,
          "ParentID": 257,
          "ParentName": "Masterton",
          "Rake": -160,
          "Target Slip Rate": 0.0005175000000000001,
          "Target Slip Rate StdDev": 0.0004681000000000001,
          "UpDepth": 0
         },
         "type": "Feature"
        }
       ],
       "type": "FeatureCollection"
      },
      "text/plain": [
       "<IPython.display.GeoJSON object>"
      ]
     },
     "metadata": {
      "application/geo+json": {
       "expanded": false,
       "root": "root"
      }
     },
     "output_type": "display_data"
    }
   ],
   "source": [
    "# plot the masterton surfaces\n",
    "GeoJSON(json.loads(mro_surface.to_json()))"
   ]
  },
  {
   "cell_type": "code",
   "execution_count": 9,
   "id": "848518de-d6e8-4732-9943-0800cb97cbd4",
   "metadata": {},
   "outputs": [],
   "source": [
    "### get ruptures passing through a fault"
   ]
  },
  {
   "cell_type": "code",
   "execution_count": 10,
   "id": "444c9ff2-83b6-4805-b149-e1d9f1300022",
   "metadata": {},
   "outputs": [],
   "source": [
    "mro_ruptures = helper.ruptures_for_parent_fault_names(['Masterton'])"
   ]
  },
  {
   "cell_type": "markdown",
   "id": "6cd0a2a4-9fee-4e6f-b41e-ec2bfe5de75c",
   "metadata": {},
   "source": [
    "### get rupture fault sections (rs) with rates for those ruptures"
   ]
  },
  {
   "cell_type": "code",
   "execution_count": 11,
   "id": "406d8c34-c3bd-4743-8e3d-3cc6d00ba307",
   "metadata": {
    "editable": true,
    "slideshow": {
     "slide_type": ""
    },
    "tags": []
   },
   "outputs": [
    {
     "data": {
      "text/html": [
       "<div>\n",
       "<style scoped>\n",
       "    .dataframe tbody tr th:only-of-type {\n",
       "        vertical-align: middle;\n",
       "    }\n",
       "\n",
       "    .dataframe tbody tr th {\n",
       "        vertical-align: top;\n",
       "    }\n",
       "\n",
       "    .dataframe thead th {\n",
       "        text-align: right;\n",
       "    }\n",
       "</style>\n",
       "<table border=\"1\" class=\"dataframe\">\n",
       "  <thead>\n",
       "    <tr style=\"text-align: right;\">\n",
       "      <th></th>\n",
       "      <th></th>\n",
       "      <th>key_0</th>\n",
       "      <th>fault_system</th>\n",
       "      <th>Rupture Index</th>\n",
       "      <th>rate_max</th>\n",
       "      <th>rate_min</th>\n",
       "      <th>rate_count</th>\n",
       "      <th>rate_weighted_mean</th>\n",
       "      <th>Magnitude</th>\n",
       "      <th>Average Rake (degrees)</th>\n",
       "      <th>Area (m^2)</th>\n",
       "      <th>Length (m)</th>\n",
       "      <th>section</th>\n",
       "    </tr>\n",
       "    <tr>\n",
       "      <th>fault_system</th>\n",
       "      <th>Rupture Index</th>\n",
       "      <th></th>\n",
       "      <th></th>\n",
       "      <th></th>\n",
       "      <th></th>\n",
       "      <th></th>\n",
       "      <th></th>\n",
       "      <th></th>\n",
       "      <th></th>\n",
       "      <th></th>\n",
       "      <th></th>\n",
       "      <th></th>\n",
       "      <th></th>\n",
       "    </tr>\n",
       "  </thead>\n",
       "  <tbody>\n",
       "    <tr>\n",
       "      <th rowspan=\"11\" valign=\"top\">CRU</th>\n",
       "      <th>209026</th>\n",
       "      <td>209026</td>\n",
       "      <td>CRU</td>\n",
       "      <td>209026</td>\n",
       "      <td>0.000023</td>\n",
       "      <td>3.083809e-07</td>\n",
       "      <td>12.0</td>\n",
       "      <td>0.000003</td>\n",
       "      <td>7.998682</td>\n",
       "      <td>156.755585</td>\n",
       "      <td>6.290518e+09</td>\n",
       "      <td>292585.343750</td>\n",
       "      <td>725.0</td>\n",
       "    </tr>\n",
       "    <tr>\n",
       "      <th>209026</th>\n",
       "      <td>209026</td>\n",
       "      <td>CRU</td>\n",
       "      <td>209026</td>\n",
       "      <td>0.000023</td>\n",
       "      <td>3.083809e-07</td>\n",
       "      <td>12.0</td>\n",
       "      <td>0.000003</td>\n",
       "      <td>7.998682</td>\n",
       "      <td>156.755585</td>\n",
       "      <td>6.290518e+09</td>\n",
       "      <td>292585.343750</td>\n",
       "      <td>724.0</td>\n",
       "    </tr>\n",
       "    <tr>\n",
       "      <th>209026</th>\n",
       "      <td>209026</td>\n",
       "      <td>CRU</td>\n",
       "      <td>209026</td>\n",
       "      <td>0.000023</td>\n",
       "      <td>3.083809e-07</td>\n",
       "      <td>12.0</td>\n",
       "      <td>0.000003</td>\n",
       "      <td>7.998682</td>\n",
       "      <td>156.755585</td>\n",
       "      <td>6.290518e+09</td>\n",
       "      <td>292585.343750</td>\n",
       "      <td>723.0</td>\n",
       "    </tr>\n",
       "    <tr>\n",
       "      <th>209026</th>\n",
       "      <td>209026</td>\n",
       "      <td>CRU</td>\n",
       "      <td>209026</td>\n",
       "      <td>0.000023</td>\n",
       "      <td>3.083809e-07</td>\n",
       "      <td>12.0</td>\n",
       "      <td>0.000003</td>\n",
       "      <td>7.998682</td>\n",
       "      <td>156.755585</td>\n",
       "      <td>6.290518e+09</td>\n",
       "      <td>292585.343750</td>\n",
       "      <td>722.0</td>\n",
       "    </tr>\n",
       "    <tr>\n",
       "      <th>209026</th>\n",
       "      <td>209026</td>\n",
       "      <td>CRU</td>\n",
       "      <td>209026</td>\n",
       "      <td>0.000023</td>\n",
       "      <td>3.083809e-07</td>\n",
       "      <td>12.0</td>\n",
       "      <td>0.000003</td>\n",
       "      <td>7.998682</td>\n",
       "      <td>156.755585</td>\n",
       "      <td>6.290518e+09</td>\n",
       "      <td>292585.343750</td>\n",
       "      <td>721.0</td>\n",
       "    </tr>\n",
       "    <tr>\n",
       "      <th>...</th>\n",
       "      <td>...</td>\n",
       "      <td>...</td>\n",
       "      <td>...</td>\n",
       "      <td>...</td>\n",
       "      <td>...</td>\n",
       "      <td>...</td>\n",
       "      <td>...</td>\n",
       "      <td>...</td>\n",
       "      <td>...</td>\n",
       "      <td>...</td>\n",
       "      <td>...</td>\n",
       "      <td>...</td>\n",
       "    </tr>\n",
       "    <tr>\n",
       "      <th>391758</th>\n",
       "      <td>391758</td>\n",
       "      <td>CRU</td>\n",
       "      <td>391758</td>\n",
       "      <td>0.000100</td>\n",
       "      <td>2.606850e-05</td>\n",
       "      <td>18.0</td>\n",
       "      <td>0.000032</td>\n",
       "      <td>7.152529</td>\n",
       "      <td>167.700623</td>\n",
       "      <td>8.964618e+08</td>\n",
       "      <td>53762.265625</td>\n",
       "      <td>2106.0</td>\n",
       "    </tr>\n",
       "    <tr>\n",
       "      <th>391758</th>\n",
       "      <td>391758</td>\n",
       "      <td>CRU</td>\n",
       "      <td>391758</td>\n",
       "      <td>0.000100</td>\n",
       "      <td>2.606850e-05</td>\n",
       "      <td>18.0</td>\n",
       "      <td>0.000032</td>\n",
       "      <td>7.152529</td>\n",
       "      <td>167.700623</td>\n",
       "      <td>8.964618e+08</td>\n",
       "      <td>53762.265625</td>\n",
       "      <td>2107.0</td>\n",
       "    </tr>\n",
       "    <tr>\n",
       "      <th>391758</th>\n",
       "      <td>391758</td>\n",
       "      <td>CRU</td>\n",
       "      <td>391758</td>\n",
       "      <td>0.000100</td>\n",
       "      <td>2.606850e-05</td>\n",
       "      <td>18.0</td>\n",
       "      <td>0.000032</td>\n",
       "      <td>7.152529</td>\n",
       "      <td>167.700623</td>\n",
       "      <td>8.964618e+08</td>\n",
       "      <td>53762.265625</td>\n",
       "      <td>1127.0</td>\n",
       "    </tr>\n",
       "    <tr>\n",
       "      <th>391758</th>\n",
       "      <td>391758</td>\n",
       "      <td>CRU</td>\n",
       "      <td>391758</td>\n",
       "      <td>0.000100</td>\n",
       "      <td>2.606850e-05</td>\n",
       "      <td>18.0</td>\n",
       "      <td>0.000032</td>\n",
       "      <td>7.152529</td>\n",
       "      <td>167.700623</td>\n",
       "      <td>8.964618e+08</td>\n",
       "      <td>53762.265625</td>\n",
       "      <td>1207.0</td>\n",
       "    </tr>\n",
       "    <tr>\n",
       "      <th>391758</th>\n",
       "      <td>391758</td>\n",
       "      <td>CRU</td>\n",
       "      <td>391758</td>\n",
       "      <td>0.000100</td>\n",
       "      <td>2.606850e-05</td>\n",
       "      <td>18.0</td>\n",
       "      <td>0.000032</td>\n",
       "      <td>7.152529</td>\n",
       "      <td>167.700623</td>\n",
       "      <td>8.964618e+08</td>\n",
       "      <td>53762.265625</td>\n",
       "      <td>1206.0</td>\n",
       "    </tr>\n",
       "  </tbody>\n",
       "</table>\n",
       "<p>275 rows × 12 columns</p>\n",
       "</div>"
      ],
      "text/plain": [
       "                             key_0 fault_system  Rupture Index  rate_max  \\\n",
       "fault_system Rupture Index                                                 \n",
       "CRU          209026         209026          CRU         209026  0.000023   \n",
       "             209026         209026          CRU         209026  0.000023   \n",
       "             209026         209026          CRU         209026  0.000023   \n",
       "             209026         209026          CRU         209026  0.000023   \n",
       "             209026         209026          CRU         209026  0.000023   \n",
       "...                            ...          ...            ...       ...   \n",
       "             391758         391758          CRU         391758  0.000100   \n",
       "             391758         391758          CRU         391758  0.000100   \n",
       "             391758         391758          CRU         391758  0.000100   \n",
       "             391758         391758          CRU         391758  0.000100   \n",
       "             391758         391758          CRU         391758  0.000100   \n",
       "\n",
       "                                rate_min  rate_count  rate_weighted_mean  \\\n",
       "fault_system Rupture Index                                                 \n",
       "CRU          209026         3.083809e-07        12.0            0.000003   \n",
       "             209026         3.083809e-07        12.0            0.000003   \n",
       "             209026         3.083809e-07        12.0            0.000003   \n",
       "             209026         3.083809e-07        12.0            0.000003   \n",
       "             209026         3.083809e-07        12.0            0.000003   \n",
       "...                                  ...         ...                 ...   \n",
       "             391758         2.606850e-05        18.0            0.000032   \n",
       "             391758         2.606850e-05        18.0            0.000032   \n",
       "             391758         2.606850e-05        18.0            0.000032   \n",
       "             391758         2.606850e-05        18.0            0.000032   \n",
       "             391758         2.606850e-05        18.0            0.000032   \n",
       "\n",
       "                            Magnitude  Average Rake (degrees)    Area (m^2)  \\\n",
       "fault_system Rupture Index                                                    \n",
       "CRU          209026          7.998682              156.755585  6.290518e+09   \n",
       "             209026          7.998682              156.755585  6.290518e+09   \n",
       "             209026          7.998682              156.755585  6.290518e+09   \n",
       "             209026          7.998682              156.755585  6.290518e+09   \n",
       "             209026          7.998682              156.755585  6.290518e+09   \n",
       "...                               ...                     ...           ...   \n",
       "             391758          7.152529              167.700623  8.964618e+08   \n",
       "             391758          7.152529              167.700623  8.964618e+08   \n",
       "             391758          7.152529              167.700623  8.964618e+08   \n",
       "             391758          7.152529              167.700623  8.964618e+08   \n",
       "             391758          7.152529              167.700623  8.964618e+08   \n",
       "\n",
       "                               Length (m)  section  \n",
       "fault_system Rupture Index                          \n",
       "CRU          209026         292585.343750    725.0  \n",
       "             209026         292585.343750    724.0  \n",
       "             209026         292585.343750    723.0  \n",
       "             209026         292585.343750    722.0  \n",
       "             209026         292585.343750    721.0  \n",
       "...                                   ...      ...  \n",
       "             391758          53762.265625   2106.0  \n",
       "             391758          53762.265625   2107.0  \n",
       "             391758          53762.265625   1127.0  \n",
       "             391758          53762.265625   1207.0  \n",
       "             391758          53762.265625   1206.0  \n",
       "\n",
       "[275 rows x 12 columns]"
      ]
     },
     "execution_count": 11,
     "metadata": {},
     "output_type": "execute_result"
    }
   ],
   "source": [
    "df0 = fss.rs_with_rupture_rates\n",
    "mro_df = df0[df0[\"Rupture Index\"].isin(mro_ruptures)]\n",
    "mro_df"
   ]
  },
  {
   "cell_type": "code",
   "execution_count": 12,
   "id": "e81622dd-fe97-4dab-8e76-a6b617c10db4",
   "metadata": {
    "editable": true,
    "slideshow": {
     "slide_type": ""
    },
    "tags": []
   },
   "outputs": [
    {
     "name": "stdout",
     "output_type": "stream",
     "text": [
      "the `Masterton` fault has 19 unique ruptures...\n",
      "\n",
      "[209026, 219862, 273732, 273733, 273738, 287882, 287883, 287884, 287886, 287925, 287931, 287935, 287979, 288084, 288088, 288181, 391515, 391580, 391758]\n"
     ]
    }
   ],
   "source": [
    "print(f'the `Masterton` fault has {len(mro_df[\"Rupture Index\"].unique())} unique ruptures...')\n",
    "print()\n",
    "mro_ids = list(mro_df[\"Rupture Index\"].unique())\n",
    "print(mro_ids)\n"
   ]
  },
  {
   "cell_type": "code",
   "execution_count": 13,
   "id": "3098cbcf-321c-4650-aff1-b7620ac725ee",
   "metadata": {},
   "outputs": [],
   "source": [
    "### display a single rupture"
   ]
  },
  {
   "cell_type": "code",
   "execution_count": 14,
   "id": "8edeb5dc-cf56-4e34-9fb2-2d6d2b0b6d68",
   "metadata": {},
   "outputs": [
    {
     "data": {
      "application/geo+json": {
       "features": [
        {
         "geometry": {
          "coordinates": [
           [
            [
             171.825,
             -42.7433
            ],
            [
             171.90772945730257,
             -42.721229747678166
            ],
            [
             171.88255107188795,
             -42.672235775637695
            ],
            [
             171.79981266855575,
             -42.69430602582774
            ],
            [
             171.825,
             -42.7433
            ]
           ]
          ],
          "type": "Polygon"
         },
         "id": "('CRU', 219862)",
         "properties": {
          "Area (m^2)": 8462251008,
          "AseismicSlipFactor": 0,
          "Average Rake (degrees)": 161.31869506835938,
          "CouplingCoeff": 1,
          "DipDeg": 70,
          "DipDir": 339.3,
          "FaultID": 742,
          "FaultName": "Hope: Hurunui, Subsection 0",
          "Length (m)": 389564.84375,
          "LowDepth": 16,
          "Magnitude": 8.127481460571289,
          "ParentID": 161,
          "ParentName": "Hope: Hurunui",
          "Rake": 160,
          "Rupture Index": 219862,
          "Target Slip Rate": 0.0125549999999999,
          "Target Slip Rate StdDev": 0.00083962,
          "UpDepth": 0,
          "fault_system": "CRU",
          "key_0": 219862,
          "rate_count": 6,
          "rate_max": 5.6200893595814705e-05,
          "rate_min": 2.0206483895890415e-05,
          "rate_weighted_mean": 8.177291419997346e-06,
          "section": 742
         },
         "type": "Feature"
        },
        {
         "geometry": {
          "coordinates": [
           [
            [
             171.90772945730257,
             -42.721229747678166
            ],
            [
             171.9904,
             -42.6991
            ],
            [
             171.96523057460436,
             -42.65010603009553
            ],
            [
             171.88255107188795,
             -42.672235775637695
            ],
            [
             171.90772945730257,
             -42.721229747678166
            ]
           ]
          ],
          "type": "Polygon"
         },
         "id": "('CRU', 219862)",
         "properties": {
          "Area (m^2)": 8462251008,
          "AseismicSlipFactor": 0,
          "Average Rake (degrees)": 161.31869506835938,
          "CouplingCoeff": 1,
          "DipDeg": 70,
          "DipDir": 339.3,
          "FaultID": 743,
          "FaultName": "Hope: Hurunui, Subsection 1",
          "Length (m)": 389564.84375,
          "LowDepth": 16,
          "Magnitude": 8.127481460571289,
          "ParentID": 161,
          "ParentName": "Hope: Hurunui",
          "Rake": 160,
          "Rupture Index": 219862,
          "Target Slip Rate": 0.0125549999999999,
          "Target Slip Rate StdDev": 0.00083962,
          "UpDepth": 0,
          "fault_system": "CRU",
          "key_0": 219862,
          "rate_count": 6,
          "rate_max": 5.6200893595814705e-05,
          "rate_min": 2.0206483895890415e-05,
          "rate_weighted_mean": 8.177291419997346e-06,
          "section": 743
         },
         "type": "Feature"
        },
        {
         "geometry": {
          "coordinates": [
           [
            [
             172.10424765013053,
             -42.66853151239354
            ],
            [
             171.99040000000002,
             -42.699099999999994
            ],
            [
             171.96508821123885,
             -42.63007752138853
            ],
            [
             172.07894828265714,
             -42.599509036763564
            ],
            [
             172.10424765013053,
             -42.66853151239354
            ]
           ]
          ],
          "type": "Polygon"
         },
         "id": "('CRU', 219862)",
         "properties": {
          "Area (m^2)": 8462251008,
          "AseismicSlipFactor": 0,
          "Average Rake (degrees)": 161.31869506835938,
          "CouplingCoeff": 1,
          "DipDeg": 70,
          "DipDir": 344.9,
          "FaultID": 741,
          "FaultName": "Hope: Hope River, Subsection 4",
          "Length (m)": 389564.84375,
          "LowDepth": 21.840000000000003,
          "Magnitude": 8.127481460571289,
          "ParentID": 160,
          "ParentName": "Hope: Hope River",
          "Rake": 160,
          "Rupture Index": 219862,
          "Target Slip Rate": 0.002205,
          "Target Slip Rate StdDev": 0.0010513,
          "UpDepth": 0,
          "fault_system": "CRU",
          "key_0": 219862,
          "rate_count": 6,
          "rate_max": 5.6200893595814705e-05,
          "rate_min": 2.0206483895890415e-05,
          "rate_weighted_mean": 8.177291419997346e-06,
          "section": 741
         },
         "type": "Feature"
        },
        {
         "geometry": {
          "coordinates": [
           [
            [
             172.2179831740896,
             -42.63785040154985
            ],
            [
             172.10424765013053,
             -42.66853151239354
            ],
            [
             172.07894828265714,
             -42.599509036763564
            ],
            [
             172.19269625418113,
             -42.56882792890938
            ],
            [
             172.2179831740896,
             -42.63785040154985
            ]
           ]
          ],
          "type": "Polygon"
         },
         "id": "('CRU', 219862)",
         "properties": {
          "Area (m^2)": 8462251008,
          "AseismicSlipFactor": 0,
          "Average Rake (degrees)": 161.31869506835938,
          "CouplingCoeff": 1,
          "DipDeg": 70,
          "DipDir": 344.9,
          "FaultID": 740,
          "FaultName": "Hope: Hope River, Subsection 3",
          "Length (m)": 389564.84375,
          "LowDepth": 21.840000000000003,
          "Magnitude": 8.127481460571289,
          "ParentID": 160,
          "ParentName": "Hope: Hope River",
          "Rake": 160,
          "Rupture Index": 219862,
          "Target Slip Rate": 0.002385,
          "Target Slip Rate StdDev": 0.00095491,
          "UpDepth": 0,
          "fault_system": "CRU",
          "key_0": 219862,
          "rate_count": 6,
          "rate_max": 5.6200893595814705e-05,
          "rate_min": 2.0206483895890415e-05,
          "rate_weighted_mean": 8.177291419997346e-06,
          "section": 740
         },
         "type": "Feature"
        },
        {
         "geometry": {
          "coordinates": [
           [
            [
             172.3336910959108,
             -42.611743110149916
            ],
            [
             172.247,
             -42.63
            ],
            [
             172.2179831740896,
             -42.63785040154985
            ],
            [
             172.19269625418113,
             -42.56882792890938
            ],
            [
             172.2217162619281,
             -42.560977528123985
            ],
            [
             172.30841475258623,
             -42.542720640050995
            ],
            [
             172.3336910959108,
             -42.611743110149916
            ]
           ]
          ],
          "type": "Polygon"
         },
         "id": "('CRU', 219862)",
         "properties": {
          "Area (m^2)": 8462251008,
          "AseismicSlipFactor": 0,
          "Average Rake (degrees)": 161.31869506835938,
          "CouplingCoeff": 1,
          "DipDeg": 70,
          "DipDir": 344.9,
          "FaultID": 739,
          "FaultName": "Hope: Hope River, Subsection 2",
          "Length (m)": 389564.84375,
          "LowDepth": 21.840000000000003,
          "Magnitude": 8.127481460571289,
          "ParentID": 160,
          "ParentName": "Hope: Hope River",
          "Rake": 160,
          "Rupture Index": 219862,
          "Target Slip Rate": 0.001755,
          "Target Slip Rate StdDev": 0.0008750400000000001,
          "UpDepth": 0,
          "fault_system": "CRU",
          "key_0": 219862,
          "rate_count": 6,
          "rate_max": 5.6200893595814705e-05,
          "rate_min": 2.0206483895890415e-05,
          "rate_weighted_mean": 8.177291419997346e-06,
          "section": 739
         },
         "type": "Feature"
        },
        {
         "geometry": {
          "coordinates": [
           [
            [
             172.45334667760775,
             -42.59920000966335
            ],
            [
             172.35,
             -42.6083
            ],
            [
             172.3336910959108,
             -42.611743110149916
            ],
            [
             172.30841475258623,
             -42.542720640050995
            ],
            [
             172.324725050496,
             -42.5392775302361
            ],
            [
             172.42807541073176,
             -42.530177540784734
            ],
            [
             172.45334667760775,
             -42.59920000966335
            ]
           ]
          ],
          "type": "Polygon"
         },
         "id": "('CRU', 219862)",
         "properties": {
          "Area (m^2)": 8462251008,
          "AseismicSlipFactor": 0,
          "Average Rake (degrees)": 161.31869506835938,
          "CouplingCoeff": 1,
          "DipDeg": 70,
          "DipDir": 344.9,
          "FaultID": 738,
          "FaultName": "Hope: Hope River, Subsection 1",
          "Length (m)": 389564.84375,
          "LowDepth": 21.840000000000003,
          "Magnitude": 8.127481460571289,
          "ParentID": 160,
          "ParentName": "Hope: Hope River",
          "Rake": 160,
          "Rupture Index": 219862,
          "Target Slip Rate": 0.001125,
          "Target Slip Rate StdDev": 0.0007951700000000001,
          "UpDepth": 0,
          "fault_system": "CRU",
          "key_0": 219862,
          "rate_count": 6,
          "rate_max": 5.6200893595814705e-05,
          "rate_min": 2.0206483895890415e-05,
          "rate_weighted_mean": 8.177291419997346e-06,
          "section": 738
         },
         "type": "Feature"
        },
        {
         "geometry": {
          "coordinates": [
           [
            [
             172.5735,
             -42.5885
            ],
            [
             172.45334667760775,
             -42.59920000966335
            ],
            [
             172.42807541073176,
             -42.530177540784734
            ],
            [
             172.54823306106778,
             -42.519477532162
            ],
            [
             172.5735,
             -42.5885
            ]
           ]
          ],
          "type": "Polygon"
         },
         "id": "('CRU', 219862)",
         "properties": {
          "Area (m^2)": 8462251008,
          "AseismicSlipFactor": 0,
          "Average Rake (degrees)": 161.31869506835938,
          "CouplingCoeff": 1,
          "DipDeg": 70,
          "DipDir": 344.9,
          "FaultID": 737,
          "FaultName": "Hope: Hope River, Subsection 0",
          "Length (m)": 389564.84375,
          "LowDepth": 21.840000000000003,
          "Magnitude": 8.127481460571289,
          "ParentID": 160,
          "ParentName": "Hope: Hope River",
          "Rake": 160,
          "Rupture Index": 219862,
          "Target Slip Rate": 0.002205,
          "Target Slip Rate StdDev": 0.00089813,
          "UpDepth": 0,
          "fault_system": "CRU",
          "key_0": 219862,
          "rate_count": 6,
          "rate_max": 5.6200893595814705e-05,
          "rate_min": 2.0206483895890415e-05,
          "rate_weighted_mean": 8.177291419997346e-06,
          "section": 737
         },
         "type": "Feature"
        },
        {
         "geometry": {
          "coordinates": [
           [
            [
             172.61179866333455,
             -42.58461200120111
            ],
            [
             172.5735,
             -42.5885
            ],
            [
             172.55052638949573,
             -42.51796643812206
            ],
            [
             172.5888264821043,
             -42.51407843963568
            ],
            [
             172.61179866333455,
             -42.58461200120111
            ]
           ]
          ],
          "type": "Polygon"
         },
         "id": "('CRU', 219862)",
         "properties": {
          "Area (m^2)": 8462251008,
          "AseismicSlipFactor": 0,
          "Average Rake (degrees)": 161.31869506835938,
          "CouplingCoeff": 1,
          "DipDeg": 70,
          "DipDir": 346.5,
          "FaultID": 745,
          "FaultName": "Hope: Kakapo-2-Hamner, Subsection 1",
          "Length (m)": 389564.84375,
          "LowDepth": 22.16,
          "Magnitude": 8.127481460571289,
          "ParentID": 162,
          "ParentName": "Hope: Kakapo-2-Hamner",
          "Rake": 160,
          "Rupture Index": 219862,
          "Target Slip Rate": 0.005445,
          "Target Slip Rate StdDev": 0.00097804,
          "UpDepth": 0,
          "fault_system": "CRU",
          "key_0": 219862,
          "rate_count": 6,
          "rate_max": 5.6200893595814705e-05,
          "rate_min": 2.0206483895890415e-05,
          "rate_weighted_mean": 8.177291419997346e-06,
          "section": 745
         },
         "type": "Feature"
        },
        {
         "geometry": {
          "coordinates": [
           [
            [
             172.6484,
             -42.5755
            ],
            [
             172.6129,
             -42.5845
            ],
            [
             172.61179866333455,
             -42.58461200120111
            ],
            [
             172.5888264821043,
             -42.51407843963568
            ],
            [
             172.58992785993848,
             -42.51396643844357
            ],
            [
             172.62543116733738,
             -42.50496643916685
            ],
            [
             172.6484,
             -42.5755
            ]
           ]
          ],
          "type": "Polygon"
         },
         "id": "('CRU', 219862)",
         "properties": {
          "Area (m^2)": 8462251008,
          "AseismicSlipFactor": 0,
          "Average Rake (degrees)": 161.31869506835938,
          "CouplingCoeff": 1,
          "DipDeg": 70,
          "DipDir": 346.5,
          "FaultID": 744,
          "FaultName": "Hope: Kakapo-2-Hamner, Subsection 0",
          "Length (m)": 389564.84375,
          "LowDepth": 22.16,
          "Magnitude": 8.127481460571289,
          "ParentID": 162,
          "ParentName": "Hope: Kakapo-2-Hamner",
          "Rake": 160,
          "Rupture Index": 219862,
          "Target Slip Rate": 0.005445,
          "Target Slip Rate StdDev": 0.00097804,
          "UpDepth": 0,
          "fault_system": "CRU",
          "key_0": 219862,
          "rate_count": 6,
          "rate_max": 5.6200893595814705e-05,
          "rate_min": 2.0206483895890415e-05,
          "rate_weighted_mean": 8.177291419997346e-06,
          "section": 744
         },
         "type": "Feature"
        },
        {
         "geometry": {
          "coordinates": [
           [
            [
             172.71361381861632,
             -42.571861936496816
            ],
            [
             172.6828,
             -42.5688
            ],
            [
             172.64840000000004,
             -42.57549999999998
            ],
            [
             172.65315421832938,
             -42.50383571821386
            ],
            [
             172.68755370891887,
             -42.49713571823695
            ],
            [
             172.71836776031694,
             -42.50019765472324
            ],
            [
             172.71361381861632,
             -42.571861936496816
            ]
           ]
          ],
          "type": "Polygon"
         },
         "id": "('CRU', 219862)",
         "properties": {
          "Area (m^2)": 8462251008,
          "AseismicSlipFactor": 0,
          "Average Rake (degrees)": 161.31869506835938,
          "CouplingCoeff": 1,
          "DipDeg": 70,
          "DipDir": 2.8,
          "FaultID": 736,
          "FaultName": "Hope: Hanmer SW, Subsection 1",
          "Length (m)": 389564.84375,
          "LowDepth": 21.92,
          "Magnitude": 8.127481460571289,
          "ParentID": 159,
          "ParentName": "Hope: Hanmer SW",
          "Rake": -110,
          "Rupture Index": 219862,
          "Target Slip Rate": 0.000855,
          "Target Slip Rate StdDev": 0.0006546400000000001,
          "UpDepth": 0,
          "fault_system": "CRU",
          "key_0": 219862,
          "rate_count": 6,
          "rate_max": 5.6200893595814705e-05,
          "rate_min": 2.0206483895890415e-05,
          "rate_weighted_mean": 8.177291419997346e-06,
          "section": 736
         },
         "type": "Feature"
        },
        {
         "geometry": {
          "coordinates": [
           [
            [
             172.7797,
             -42.5784
            ],
            [
             172.71361381861632,
             -42.571861936496816
            ],
            [
             172.71836776031694,
             -42.50019765472324
            ],
            [
             172.78445443887446,
             -42.50673571820389
            ],
            [
             172.7797,
             -42.5784
            ]
           ]
          ],
          "type": "Polygon"
         },
         "id": "('CRU', 219862)",
         "properties": {
          "Area (m^2)": 8462251008,
          "AseismicSlipFactor": 0,
          "Average Rake (degrees)": 161.31869506835938,
          "CouplingCoeff": 1,
          "DipDeg": 70,
          "DipDir": 2.8,
          "FaultID": 735,
          "FaultName": "Hope: Hanmer SW, Subsection 0",
          "Length (m)": 389564.84375,
          "LowDepth": 21.92,
          "Magnitude": 8.127481460571289,
          "ParentID": 159,
          "ParentName": "Hope: Hanmer SW",
          "Rake": -110,
          "Rupture Index": 219862,
          "Target Slip Rate": 0.000855,
          "Target Slip Rate StdDev": 0.0006546400000000001,
          "UpDepth": 0,
          "fault_system": "CRU",
          "key_0": 219862,
          "rate_count": 6,
          "rate_max": 5.6200893595814705e-05,
          "rate_min": 2.0206483895890415e-05,
          "rate_weighted_mean": 8.177291419997346e-06,
          "section": 735
         },
         "type": "Feature"
        },
        {
         "geometry": {
          "coordinates": [
           [
            [
             172.7797,
             -42.5784
            ],
            [
             172.8671,
             -42.5635
            ],
            [
             172.87364446719326,
             -42.56200044209184
            ],
            [
             172.84712136258614,
             -42.49242021773078
            ],
            [
             172.84057625944914,
             -42.49391977547827
            ],
            [
             172.75316993790096,
             -42.50881977388134
            ],
            [
             172.7797,
             -42.5784
            ]
           ]
          ],
          "type": "Polygon"
         },
         "id": "('CRU', 219862)",
         "properties": {
          "Area (m^2)": 8462251008,
          "AseismicSlipFactor": 0,
          "Average Rake (degrees)": 161.31869506835938,
          "CouplingCoeff": 1,
          "DipDeg": 70,
          "DipDir": 344.3,
          "FaultID": 733,
          "FaultName": "Hope: Hanmer SE, Subsection 0",
          "Length (m)": 389564.84375,
          "LowDepth": 22.080000000000002,
          "Magnitude": 8.127481460571289,
          "ParentID": 158,
          "ParentName": "Hope: Hanmer SE",
          "Rake": -160,
          "Rupture Index": 219862,
          "Target Slip Rate": 0.005535,
          "Target Slip Rate StdDev": 0.0008404199999999999,
          "UpDepth": 0,
          "fault_system": "CRU",
          "key_0": 219862,
          "rate_count": 6,
          "rate_max": 5.6200893595814705e-05,
          "rate_min": 2.0206483895890415e-05,
          "rate_weighted_mean": 8.177291419997346e-06,
          "section": 733
         },
         "type": "Feature"
        },
        {
         "geometry": {
          "coordinates": [
           [
            [
             172.87364446719326,
             -42.56200044209184
            ],
            [
             172.9564,
             -42.543
            ],
            [
             172.9652,
             -42.5405
            ],
            [
             172.9656,
             -42.5404
            ],
            [
             172.93908605047298,
             -42.47081977795253
            ],
            [
             172.93868600811246,
             -42.47091977794182
            ],
            [
             172.92988494902923,
             -42.473419777674124
            ],
            [
             172.84712136258614,
             -42.49242021773078
            ],
            [
             172.87364446719326,
             -42.56200044209184
            ]
           ]
          ],
          "type": "Polygon"
         },
         "id": "('CRU', 219862)",
         "properties": {
          "Area (m^2)": 8462251008,
          "AseismicSlipFactor": 0,
          "Average Rake (degrees)": 161.31869506835938,
          "CouplingCoeff": 1,
          "DipDeg": 70,
          "DipDir": 344.3,
          "FaultID": 734,
          "FaultName": "Hope: Hanmer SE, Subsection 1",
          "Length (m)": 389564.84375,
          "LowDepth": 22.080000000000002,
          "Magnitude": 8.127481460571289,
          "ParentID": 158,
          "ParentName": "Hope: Hanmer SE",
          "Rake": -160,
          "Rupture Index": 219862,
          "Target Slip Rate": 0.0052875,
          "Target Slip Rate StdDev": 0.00076923,
          "UpDepth": 0,
          "fault_system": "CRU",
          "key_0": 219862,
          "rate_count": 6,
          "rate_max": 5.6200893595814705e-05,
          "rate_min": 2.0206483895890415e-05,
          "rate_weighted_mean": 8.177291419997346e-06,
          "section": 734
         },
         "type": "Feature"
        },
        {
         "geometry": {
          "coordinates": [
           [
            [
             173.06638699853946,
             -42.51005115412379
            ],
            [
             173.0427,
             -42.5189
            ],
            [
             172.96560000000002,
             -42.54039999999999
            ],
            [
             172.94879767240846,
             -42.51078947358903
            ],
            [
             173.02590344889379,
             -42.48928947451322
            ],
            [
             173.04959282304534,
             -42.4804406290172
            ],
            [
             173.06638699853946,
             -42.51005115412379
            ]
           ]
          ],
          "type": "Polygon"
         },
         "id": "('CRU', 219862)",
         "properties": {
          "Area (m^2)": 8462251008,
          "AseismicSlipFactor": 0,
          "Average Rake (degrees)": 161.31869506835938,
          "CouplingCoeff": 1,
          "DipDeg": 80,
          "DipDir": 337.3,
          "FaultID": 725,
          "FaultName": "Hope: Conway, Subsection 6",
          "Length (m)": 389564.84375,
          "LowDepth": 20.240000000000002,
          "Magnitude": 8.127481460571289,
          "ParentID": 156,
          "ParentName": "Hope: Conway",
          "Rake": 180,
          "Rupture Index": 219862,
          "Target Slip Rate": 0.0107549999999999,
          "Target Slip Rate StdDev": 0.0008255900000000001,
          "UpDepth": 0,
          "fault_system": "CRU",
          "key_0": 219862,
          "rate_count": 6,
          "rate_max": 5.6200893595814705e-05,
          "rate_min": 2.0206483895890415e-05,
          "rate_weighted_mean": 8.177291419997346e-06,
          "section": 725
         },
         "type": "Feature"
        },
        {
         "geometry": {
          "coordinates": [
           [
            [
             173.16351697568373,
             -42.47368865545638
            ],
            [
             173.06638699853946,
             -42.51005115412379
            ],
            [
             173.04959282304534,
             -42.4804406290172
            ],
            [
             173.1467325510243,
             -42.44407813191093
            ],
            [
             173.16351697568373,
             -42.47368865545638
            ]
           ]
          ],
          "type": "Polygon"
         },
         "id": "('CRU', 219862)",
         "properties": {
          "Area (m^2)": 8462251008,
          "AseismicSlipFactor": 0,
          "Average Rake (degrees)": 161.31869506835938,
          "CouplingCoeff": 1,
          "DipDeg": 80,
          "DipDir": 337.3,
          "FaultID": 724,
          "FaultName": "Hope: Conway, Subsection 5",
          "Length (m)": 389564.84375,
          "LowDepth": 20.240000000000002,
          "Magnitude": 8.127481460571289,
          "ParentID": 156,
          "ParentName": "Hope: Conway",
          "Rake": 180,
          "Rupture Index": 219862,
          "Target Slip Rate": 0.010485,
          "Target Slip Rate StdDev": 0.0008717200000000001,
          "UpDepth": 0,
          "fault_system": "CRU",
          "key_0": 219862,
          "rate_count": 6,
          "rate_max": 5.6200893595814705e-05,
          "rate_min": 2.0206483895890415e-05,
          "rate_weighted_mean": 8.177291419997346e-06,
          "section": 724
         },
         "type": "Feature"
        },
        {
         "geometry": {
          "coordinates": [
           [
            [
             173.260534024572,
             -42.43724424280603
            ],
            [
             173.16351697568373,
             -42.47368865545638
            ],
            [
             173.1467325510243,
             -42.44407813191093
            ],
            [
             173.2437593545831,
             -42.40763372082341
            ],
            [
             173.260534024572,
             -42.43724424280603
            ]
           ]
          ],
          "type": "Polygon"
         },
         "id": "('CRU', 219862)",
         "properties": {
          "Area (m^2)": 8462251008,
          "AseismicSlipFactor": 0,
          "Average Rake (degrees)": 161.31869506835938,
          "CouplingCoeff": 1,
          "DipDeg": 80,
          "DipDir": 337.3,
          "FaultID": 723,
          "FaultName": "Hope: Conway, Subsection 4",
          "Length (m)": 389564.84375,
          "LowDepth": 20.240000000000002,
          "Magnitude": 8.127481460571289,
          "ParentID": 156,
          "ParentName": "Hope: Conway",
          "Rake": 180,
          "Rupture Index": 219862,
          "Target Slip Rate": 0.0099225,
          "Target Slip Rate StdDev": 0.00075862,
          "UpDepth": 0,
          "fault_system": "CRU",
          "key_0": 219862,
          "rate_count": 6,
          "rate_max": 5.6200893595814705e-05,
          "rate_min": 2.0206483895890415e-05,
          "rate_weighted_mean": 8.177291419997346e-06,
          "section": 723
         },
         "type": "Feature"
        },
        {
         "geometry": {
          "coordinates": [
           [
            [
             173.35963037161366,
             -42.40455760197486
            ],
            [
             173.3233,
             -42.4136
            ],
            [
             173.260534024572,
             -42.43724424280603
            ],
            [
             173.2437593545831,
             -42.40763372082341
            ],
            [
             173.3065316489137,
             -42.383989479030355
            ],
            [
             173.34286443508722,
             -42.3749470813924
            ],
            [
             173.35963037161366,
             -42.40455760197486
            ]
           ]
          ],
          "type": "Polygon"
         },
         "id": "('CRU', 219862)",
         "properties": {
          "Area (m^2)": 8462251008,
          "AseismicSlipFactor": 0,
          "Average Rake (degrees)": 161.31869506835938,
          "CouplingCoeff": 1,
          "DipDeg": 80,
          "DipDir": 337.3,
          "FaultID": 722,
          "FaultName": "Hope: Conway, Subsection 3",
          "Length (m)": 389564.84375,
          "LowDepth": 20.240000000000002,
          "Magnitude": 8.127481460571289,
          "ParentID": 156,
          "ParentName": "Hope: Conway",
          "Rake": 180,
          "Rupture Index": 219862,
          "Target Slip Rate": 0.0098325,
          "Target Slip Rate StdDev": 0.00077721,
          "UpDepth": 0,
          "fault_system": "CRU",
          "key_0": 219862,
          "rate_count": 6,
          "rate_max": 5.6200893595814705e-05,
          "rate_min": 2.0206483895890415e-05,
          "rate_weighted_mean": 8.177291419997346e-06,
          "section": 722
         },
         "type": "Feature"
        },
        {
         "geometry": {
          "coordinates": [
           [
            [
             173.4626613050019,
             -42.378837241856935
            ],
            [
             173.35963037161366,
             -42.40455760197486
            ],
            [
             173.34286443508722,
             -42.3749470813924
            ],
            [
             173.4459022304112,
             -42.349226722375214
            ],
            [
             173.4626613050019,
             -42.378837241856935
            ]
           ]
          ],
          "type": "Polygon"
         },
         "id": "('CRU', 219862)",
         "properties": {
          "Area (m^2)": 8462251008,
          "AseismicSlipFactor": 0,
          "Average Rake (degrees)": 161.31869506835938,
          "CouplingCoeff": 1,
          "DipDeg": 80,
          "DipDir": 337.3,
          "FaultID": 721,
          "FaultName": "Hope: Conway, Subsection 2",
          "Length (m)": 389564.84375,
          "LowDepth": 20.240000000000002,
          "Magnitude": 8.127481460571289,
          "ParentID": 156,
          "ParentName": "Hope: Conway",
          "Rake": 180,
          "Rupture Index": 219862,
          "Target Slip Rate": 0.0097425,
          "Target Slip Rate StdDev": 0.0007957999999999999,
          "UpDepth": 0,
          "fault_system": "CRU",
          "key_0": 219862,
          "rate_count": 6,
          "rate_max": 5.6200893595814705e-05,
          "rate_min": 2.0206483895890415e-05,
          "rate_weighted_mean": 8.177291419997346e-06,
          "section": 721
         },
         "type": "Feature"
        },
        {
         "geometry": {
          "coordinates": [
           [
            [
             173.56253732740367,
             -42.35047958791495
            ],
            [
             173.5079,
             -42.3591
            ],
            [
             173.4732,
             -42.3762
            ],
            [
             173.4626613050019,
             -42.378837241856935
            ],
            [
             173.4459022304112,
             -42.349226722375214
            ],
            [
             173.45644162849084,
             -42.34658948063109
            ],
            [
             173.49114618501235,
             -42.32948948136234
            ],
            [
             173.54578580793412,
             -42.320869069645774
            ],
            [
             173.56253732740367,
             -42.35047958791495
            ]
           ]
          ],
          "type": "Polygon"
         },
         "id": "('CRU', 219862)",
         "properties": {
          "Area (m^2)": 8462251008,
          "AseismicSlipFactor": 0,
          "Average Rake (degrees)": 161.31869506835938,
          "CouplingCoeff": 1,
          "DipDeg": 80,
          "DipDir": 337.3,
          "FaultID": 720,
          "FaultName": "Hope: Conway, Subsection 1",
          "Length (m)": 389564.84375,
          "LowDepth": 20.240000000000002,
          "Magnitude": 8.127481460571289,
          "ParentID": 156,
          "ParentName": "Hope: Conway",
          "Rake": 180,
          "Rupture Index": 219862,
          "Target Slip Rate": 0.00842247,
          "Target Slip Rate StdDev": 0.00081643,
          "UpDepth": 0,
          "fault_system": "CRU",
          "key_0": 219862,
          "rate_count": 6,
          "rate_max": 5.6200893595814705e-05,
          "rate_min": 2.0206483895890415e-05,
          "rate_weighted_mean": 8.177291419997346e-06,
          "section": 720
         },
         "type": "Feature"
        },
        {
         "geometry": {
          "coordinates": [
           [
            [
             173.6641,
             -42.324
            ],
            [
             173.618,
             -42.3417
            ],
            [
             173.56253732740367,
             -42.35047958791495
            ],
            [
             173.54578580793412,
             -42.320869069645774
            ],
            [
             173.60125081739918,
             -42.31208948210602
            ],
            [
             173.64735552544317,
             -42.29438948286208
            ],
            [
             173.6641,
             -42.324
            ]
           ]
          ],
          "type": "Polygon"
         },
         "id": "('CRU', 219862)",
         "properties": {
          "Area (m^2)": 8462251008,
          "AseismicSlipFactor": 0,
          "Average Rake (degrees)": 161.31869506835938,
          "CouplingCoeff": 1,
          "DipDeg": 80,
          "DipDir": 337.3,
          "FaultID": 719,
          "FaultName": "Hope: Conway, Subsection 0",
          "Length (m)": 389564.84375,
          "LowDepth": 20.240000000000002,
          "Magnitude": 8.127481460571289,
          "ParentID": 156,
          "ParentName": "Hope: Conway",
          "Rake": 180,
          "Rupture Index": 219862,
          "Target Slip Rate": 0.00788625,
          "Target Slip Rate StdDev": 0.00079475,
          "UpDepth": 0,
          "fault_system": "CRU",
          "key_0": 219862,
          "rate_count": 6,
          "rate_max": 5.6200893595814705e-05,
          "rate_min": 2.0206483895890415e-05,
          "rate_weighted_mean": 8.177291419997346e-06,
          "section": 719
         },
         "type": "Feature"
        },
        {
         "geometry": {
          "coordinates": [
           [
            [
             173.6641,
             -42.324
            ],
            [
             173.6715,
             -42.2897
            ],
            [
             173.7023,
             -42.2748
            ],
            [
             173.7154,
             -42.2599
            ],
            [
             173.72417627128502,
             -42.20831525613892
            ],
            [
             173.3977763755856,
             -42.08813667274501
            ],
            [
             173.3887343398869,
             -42.139720578887264
            ],
            [
             173.37555744524553,
             -42.15462033666224
            ],
            [
             173.34468049228826,
             -42.16952009432314
            ],
            [
             173.3371031236285,
             -42.20381953602108
            ],
            [
             173.6641,
             -42.324
            ]
           ]
          ],
          "type": "Polygon"
         },
         "id": "('CRU', 219862)",
         "properties": {
          "Area (m^2)": 8462251008,
          "AseismicSlipFactor": 0,
          "Average Rake (degrees)": 161.31869506835938,
          "CouplingCoeff": 1,
          "DipDeg": 37,
          "DipDir": 296.3,
          "FaultID": 834,
          "FaultName": "Jordan, Subsection 0",
          "Length (m)": 389564.84375,
          "LowDepth": 22.64,
          "Magnitude": 8.127481460571289,
          "ParentID": 183,
          "ParentName": "Jordan",
          "Rake": 110,
          "Rupture Index": 219862,
          "Target Slip Rate": 0.002655,
          "Target Slip Rate StdDev": 0.0010590999999999,
          "UpDepth": 0,
          "fault_system": "CRU",
          "key_0": 219862,
          "rate_count": 6,
          "rate_max": 5.6200893595814705e-05,
          "rate_min": 2.0206483895890415e-05,
          "rate_weighted_mean": 8.177291419997346e-06,
          "section": 834
         },
         "type": "Feature"
        },
        {
         "geometry": {
          "coordinates": [
           [
            [
             173.72417627128502,
             -42.20831525613892
            ],
            [
             173.727,
             -42.1917
            ],
            [
             173.8165,
             -42.0978
            ],
            [
             173.49066713765657,
             -41.97762320676023
            ],
            [
             173.40068555769844,
             -42.07152168614218
            ],
            [
             173.3977763755856,
             -42.08813667274501
            ],
            [
             173.72417627128502,
             -42.20831525613892
            ]
           ]
          ],
          "type": "Polygon"
         },
         "id": "('CRU', 219862)",
         "properties": {
          "Area (m^2)": 8462251008,
          "AseismicSlipFactor": 0,
          "Average Rake (degrees)": 161.31869506835938,
          "CouplingCoeff": 1,
          "DipDeg": 37,
          "DipDir": 296.3,
          "FaultID": 835,
          "FaultName": "Jordan, Subsection 1",
          "Length (m)": 389564.84375,
          "LowDepth": 22.64,
          "Magnitude": 8.127481460571289,
          "ParentID": 183,
          "ParentName": "Jordan",
          "Rake": 110,
          "Rupture Index": 219862,
          "Target Slip Rate": 0.00324,
          "Target Slip Rate StdDev": 0.0009045,
          "UpDepth": 0,
          "fault_system": "CRU",
          "key_0": 219862,
          "rate_count": 6,
          "rate_max": 5.6200893595814705e-05,
          "rate_min": 2.0206483895890415e-05,
          "rate_weighted_mean": 8.177291419997346e-06,
          "section": 835
         },
         "type": "Feature"
        },
        {
         "geometry": {
          "coordinates": [
           [
            [
             173.89477602475546,
             -42.03878510436782
            ],
            [
             173.8165,
             -42.09779999999999
            ],
            [
             173.73200857262492,
             -42.01040260157397
            ],
            [
             173.81036286759806,
             -41.95138777004933
            ],
            [
             173.89477602475546,
             -42.03878510436782
            ]
           ]
          ],
          "type": "Polygon"
         },
         "id": "('CRU', 219862)",
         "properties": {
          "Area (m^2)": 8462251008,
          "AseismicSlipFactor": 0,
          "Average Rake (degrees)": 161.31869506835938,
          "CouplingCoeff": 1,
          "DipDeg": 60,
          "DipDir": 324.3,
          "FaultID": 887,
          "FaultName": "Kekerengu 1, Subsection 2",
          "Length (m)": 389564.84375,
          "LowDepth": 20.72,
          "Magnitude": 8.127481460571289,
          "ParentID": 196,
          "ParentName": "Kekerengu 1",
          "Rake": 135,
          "Rupture Index": 219862,
          "Target Slip Rate": 0.006165,
          "Target Slip Rate StdDev": 0.00093767,
          "UpDepth": 0,
          "fault_system": "CRU",
          "key_0": 219862,
          "rate_count": 6,
          "rate_max": 5.6200893595814705e-05,
          "rate_min": 2.0206483895890415e-05,
          "rate_weighted_mean": 8.177291419997346e-06,
          "section": 887
         },
         "type": "Feature"
        },
        {
         "geometry": {
          "coordinates": [
           [
            [
             173.9813701060891,
             -41.986986544801084
            ],
            [
             173.917,
             -42.022
            ],
            [
             173.89477602475546,
             -42.03878510436782
            ],
            [
             173.81036286759806,
             -41.95138777004933
            ],
            [
             173.83260906174755,
             -41.93460268389339
            ],
            [
             173.89702545519623,
             -41.89958926665332
            ],
            [
             173.9813701060891,
             -41.986986544801084
            ]
           ]
          ],
          "type": "Polygon"
         },
         "id": "('CRU', 219862)",
         "properties": {
          "Area (m^2)": 8462251008,
          "AseismicSlipFactor": 0,
          "Average Rake (degrees)": 161.31869506835938,
          "CouplingCoeff": 1,
          "DipDeg": 60,
          "DipDir": 324.3,
          "FaultID": 886,
          "FaultName": "Kekerengu 1, Subsection 1",
          "Length (m)": 389564.84375,
          "LowDepth": 20.72,
          "Magnitude": 8.127481460571289,
          "ParentID": 196,
          "ParentName": "Kekerengu 1",
          "Rake": 135,
          "Rupture Index": 219862,
          "Target Slip Rate": 0.005355,
          "Target Slip Rate StdDev": 0.0009385,
          "UpDepth": 0,
          "fault_system": "CRU",
          "key_0": 219862,
          "rate_count": 6,
          "rate_max": 5.6200893595814705e-05,
          "rate_min": 2.0206483895890415e-05,
          "rate_weighted_mean": 8.177291419997346e-06,
          "section": 886
         },
         "type": "Feature"
        },
        {
         "geometry": {
          "coordinates": [
           [
            [
             174.0822,
             -41.9519
            ],
            [
             173.9841,
             -41.9855
            ],
            [
             173.9813701060891,
             -41.986986544801084
            ],
            [
             173.89702545519623,
             -41.89958926665332
            ],
            [
             173.8997573124807,
             -41.898102723462905
            ],
            [
             173.99790165062123,
             -41.86450275984858
            ],
            [
             174.0822,
             -41.9519
            ]
           ]
          ],
          "type": "Polygon"
         },
         "id": "('CRU', 219862)",
         "properties": {
          "Area (m^2)": 8462251008,
          "AseismicSlipFactor": 0,
          "Average Rake (degrees)": 161.31869506835938,
          "CouplingCoeff": 1,
          "DipDeg": 60,
          "DipDir": 324.3,
          "FaultID": 885,
          "FaultName": "Kekerengu 1, Subsection 0",
          "Length (m)": 389564.84375,
          "LowDepth": 20.72,
          "Magnitude": 8.127481460571289,
          "ParentID": 196,
          "ParentName": "Kekerengu 1",
          "Rake": 135,
          "Rupture Index": 219862,
          "Target Slip Rate": 0.00430875,
          "Target Slip Rate StdDev": 0.00083348,
          "UpDepth": 0,
          "fault_system": "CRU",
          "key_0": 219862,
          "rate_count": 6,
          "rate_max": 5.6200893595814705e-05,
          "rate_min": 2.0206483895890415e-05,
          "rate_weighted_mean": 8.177291419997346e-06,
          "section": 885
         },
         "type": "Feature"
        },
        {
         "geometry": {
          "coordinates": [
           [
            [
             174.15370249190488,
             -41.89707920586256
            ],
            [
             174.08220000000003,
             -41.95189999999999
            ],
            [
             174.05451017959567,
             -41.92965039314116
            ],
            [
             174.12603643461932,
             -41.874829605400166
            ],
            [
             174.15370249190488,
             -41.89707920586256
            ]
           ]
          ],
          "type": "Polygon"
         },
         "id": "('CRU', 219862)",
         "properties": {
          "Area (m^2)": 8462251008,
          "AseismicSlipFactor": 0,
          "Average Rake (degrees)": 161.31869506835938,
          "CouplingCoeff": 1,
          "DipDeg": 80,
          "DipDir": 317.2,
          "FaultID": 1299,
          "FaultName": "Needles, Subsection 4",
          "Length (m)": 389564.84375,
          "LowDepth": 19.12,
          "Magnitude": 8.127481460571289,
          "ParentID": 293,
          "ParentName": "Needles",
          "Rake": 160,
          "Rupture Index": 219862,
          "Target Slip Rate": 0.002835,
          "Target Slip Rate StdDev": 0.0013407,
          "UpDepth": 0,
          "fault_system": "CRU",
          "key_0": 219862,
          "rate_count": 6,
          "rate_max": 5.6200893595814705e-05,
          "rate_min": 2.0206483895890415e-05,
          "rate_weighted_mean": 8.177291419997346e-06,
          "section": 1299
         },
         "type": "Feature"
        },
        {
         "geometry": {
          "coordinates": [
           [
            [
             174.22508228376049,
             -41.84221413337335
            ],
            [
             174.15370249190488,
             -41.89707920586256
            ],
            [
             174.12603643461932,
             -41.874829605400166
            ],
            [
             174.19743994267137,
             -41.81996453930155
            ],
            [
             174.22508228376049,
             -41.84221413337335
            ]
           ]
          ],
          "type": "Polygon"
         },
         "id": "('CRU', 219862)",
         "properties": {
          "Area (m^2)": 8462251008,
          "AseismicSlipFactor": 0,
          "Average Rake (degrees)": 161.31869506835938,
          "CouplingCoeff": 1,
          "DipDeg": 80,
          "DipDir": 317.2,
          "FaultID": 1298,
          "FaultName": "Needles, Subsection 3",
          "Length (m)": 389564.84375,
          "LowDepth": 19.12,
          "Magnitude": 8.127481460571289,
          "ParentID": 293,
          "ParentName": "Needles",
          "Rake": 160,
          "Rupture Index": 219862,
          "Target Slip Rate": 0.002565,
          "Target Slip Rate StdDev": 0.00094117,
          "UpDepth": 0,
          "fault_system": "CRU",
          "key_0": 219862,
          "rate_count": 6,
          "rate_max": 5.6200893595814705e-05,
          "rate_min": 2.0206483895890415e-05,
          "rate_weighted_mean": 8.177291419997346e-06,
          "section": 1298
         },
         "type": "Feature"
        },
        {
         "geometry": {
          "coordinates": [
           [
            [
             174.2953191471069,
             -41.786589654376066
            ],
            [
             174.2612,
             -41.8144
            ],
            [
             174.22508228376049,
             -41.84221413337335
            ],
            [
             174.19743994267137,
             -41.81996453930155
            ],
            [
             174.23356965676297,
             -41.79215040916379
            ],
            [
             174.26770078317523,
             -41.76434006677217
            ],
            [
             174.2953191471069,
             -41.786589654376066
            ]
           ]
          ],
          "type": "Polygon"
         },
         "id": "('CRU', 219862)",
         "properties": {
          "Area (m^2)": 8462251008,
          "AseismicSlipFactor": 0,
          "Average Rake (degrees)": 161.31869506835938,
          "CouplingCoeff": 1,
          "DipDeg": 80,
          "DipDir": 317.2,
          "FaultID": 1297,
          "FaultName": "Needles, Subsection 2",
          "Length (m)": 389564.84375,
          "LowDepth": 19.12,
          "Magnitude": 8.127481460571289,
          "ParentID": 293,
          "ParentName": "Needles",
          "Rake": 160,
          "Rupture Index": 219862,
          "Target Slip Rate": 0.00261,
          "Target Slip Rate StdDev": 0.00099867,
          "UpDepth": 0,
          "fault_system": "CRU",
          "key_0": 219862,
          "rate_count": 6,
          "rate_max": 5.6200893595814705e-05,
          "rate_min": 2.0206483895890415e-05,
          "rate_weighted_mean": 8.177291419997346e-06,
          "section": 1297
         },
         "type": "Feature"
        },
        {
         "geometry": {
          "coordinates": [
           [
            [
             174.37199165727813,
             -41.73638524195454
            ],
            [
             174.3219,
             -41.7649
            ],
            [
             174.2953191471069,
             -41.786589654376066
            ],
            [
             174.26770078317523,
             -41.76434006677217
            ],
            [
             174.29429096716572,
             -41.742650414915104
            ],
            [
             174.34439487616245,
             -41.71413566017869
            ],
            [
             174.37199165727813,
             -41.73638524195454
            ]
           ]
          ],
          "type": "Polygon"
         },
         "id": "('CRU', 219862)",
         "properties": {
          "Area (m^2)": 8462251008,
          "AseismicSlipFactor": 0,
          "Average Rake (degrees)": 161.31869506835938,
          "CouplingCoeff": 1,
          "DipDeg": 80,
          "DipDir": 317.2,
          "FaultID": 1296,
          "FaultName": "Needles, Subsection 1",
          "Length (m)": 389564.84375,
          "LowDepth": 19.12,
          "Magnitude": 8.127481460571289,
          "ParentID": 293,
          "ParentName": "Needles",
          "Rake": 160,
          "Rupture Index": 219862,
          "Target Slip Rate": 0.002115,
          "Target Slip Rate StdDev": 0.0009683,
          "UpDepth": 0,
          "fault_system": "CRU",
          "key_0": 219862,
          "rate_count": 6,
          "rate_max": 5.6200893595814705e-05,
          "rate_min": 2.0206483895890415e-05,
          "rate_weighted_mean": 8.177291419997346e-06,
          "section": 1296
         },
         "type": "Feature"
        },
        {
         "geometry": {
          "coordinates": [
           [
            [
             174.4533,
             -41.69
            ],
            [
             174.37199165727813,
             -41.73638524195454
            ],
            [
             174.34439487616245,
             -41.71413566017869
            ],
            [
             174.42572311107992,
             -41.66775042360076
            ],
            [
             174.4533,
             -41.69
            ]
           ]
          ],
          "type": "Polygon"
         },
         "id": "('CRU', 219862)",
         "properties": {
          "Area (m^2)": 8462251008,
          "AseismicSlipFactor": 0,
          "Average Rake (degrees)": 161.31869506835938,
          "CouplingCoeff": 1,
          "DipDeg": 80,
          "DipDir": 317.2,
          "FaultID": 1295,
          "FaultName": "Needles, Subsection 0",
          "Length (m)": 389564.84375,
          "LowDepth": 19.12,
          "Magnitude": 8.127481460571289,
          "ParentID": 293,
          "ParentName": "Needles",
          "Rake": 160,
          "Rupture Index": 219862,
          "Target Slip Rate": 0.001575,
          "Target Slip Rate StdDev": 0.0008804300000000001,
          "UpDepth": 0,
          "fault_system": "CRU",
          "key_0": 219862,
          "rate_count": 6,
          "rate_max": 5.6200893595814705e-05,
          "rate_min": 2.0206483895890415e-05,
          "rate_weighted_mean": 8.177291419997346e-06,
          "section": 1295
         },
         "type": "Feature"
        },
        {
         "geometry": {
          "coordinates": [
           [
            [
             174.50672457898114,
             -41.628966773664125
            ],
            [
             174.3983,
             -41.6617
            ],
            [
             174.36781833620643,
             -41.60200589122194
            ],
            [
             174.47625836456476,
             -41.56927266951597
            ],
            [
             174.50672457898114,
             -41.628966773664125
            ]
           ]
          ],
          "type": "Polygon"
         },
         "id": "('CRU', 219862)",
         "properties": {
          "Area (m^2)": 8462251008,
          "AseismicSlipFactor": 0,
          "Average Rake (degrees)": 161.31869506835938,
          "CouplingCoeff": 1,
          "DipDeg": 70,
          "DipDir": 339.1,
          "FaultID": 2115,
          "FaultName": "Wairarapa: Needles, Subsection 2",
          "Length (m)": 389564.84375,
          "LowDepth": 19.52,
          "Magnitude": 8.127481460571289,
          "ParentID": 509,
          "ParentName": "Wairarapa: Needles",
          "Rake": 180,
          "Rupture Index": 219862,
          "Target Slip Rate": 0.0045675,
          "Target Slip Rate StdDev": 0.0007834900000000001,
          "UpDepth": 0,
          "fault_system": "CRU",
          "key_0": 219862,
          "rate_count": 6,
          "rate_max": 5.6200893595814705e-05,
          "rate_min": 2.0206483895890415e-05,
          "rate_weighted_mean": 8.177291419997346e-06,
          "section": 2115
         },
         "type": "Feature"
        },
        {
         "geometry": {
          "coordinates": [
           [
            [
             174.61505784963953,
             -41.596166629808806
            ],
            [
             174.5611,
             -41.6125
            ],
            [
             174.50672457898114,
             -41.628966773664125
            ],
            [
             174.47625836456476,
             -41.56927266951597
            ],
            [
             174.53064154786944,
             -41.55280589817918
            ],
            [
             174.58460709051903,
             -41.53647253029529
            ],
            [
             174.61505784963953,
             -41.596166629808806
            ]
           ]
          ],
          "type": "Polygon"
         },
         "id": "('CRU', 219862)",
         "properties": {
          "Area (m^2)": 8462251008,
          "AseismicSlipFactor": 0,
          "Average Rake (degrees)": 161.31869506835938,
          "CouplingCoeff": 1,
          "DipDeg": 70,
          "DipDir": 339.1,
          "FaultID": 2114,
          "FaultName": "Wairarapa: Needles, Subsection 1",
          "Length (m)": 389564.84375,
          "LowDepth": 19.52,
          "Magnitude": 8.127481460571289,
          "ParentID": 509,
          "ParentName": "Wairarapa: Needles",
          "Rake": 180,
          "Rupture Index": 219862,
          "Target Slip Rate": 0.00482625,
          "Target Slip Rate StdDev": 0.00082081,
          "UpDepth": 0,
          "fault_system": "CRU",
          "key_0": 219862,
          "rate_count": 6,
          "rate_max": 5.6200893595814705e-05,
          "rate_min": 2.0206483895890415e-05,
          "rate_weighted_mean": 8.177291419997346e-06,
          "section": 2114
         },
         "type": "Feature"
        },
        {
         "geometry": {
          "coordinates": [
           [
            [
             174.7233,
             -41.5633
            ],
            [
             174.61505784963953,
             -41.596166629808806
            ],
            [
             174.58460709051903,
             -41.53647253029529
            ],
            [
             174.6928647017832,
             -41.50360590512582
            ],
            [
             174.7233,
             -41.5633
            ]
           ]
          ],
          "type": "Polygon"
         },
         "id": "('CRU', 219862)",
         "properties": {
          "Area (m^2)": 8462251008,
          "AseismicSlipFactor": 0,
          "Average Rake (degrees)": 161.31869506835938,
          "CouplingCoeff": 1,
          "DipDeg": 70,
          "DipDir": 339.1,
          "FaultID": 2113,
          "FaultName": "Wairarapa: Needles, Subsection 0",
          "Length (m)": 389564.84375,
          "LowDepth": 19.52,
          "Magnitude": 8.127481460571289,
          "ParentID": 509,
          "ParentName": "Wairarapa: Needles",
          "Rake": 180,
          "Rupture Index": 219862,
          "Target Slip Rate": 0.005085,
          "Target Slip Rate StdDev": 0.0008581400000000001,
          "UpDepth": 0,
          "fault_system": "CRU",
          "key_0": 219862,
          "rate_count": 6,
          "rate_max": 5.6200893595814705e-05,
          "rate_min": 2.0206483895890415e-05,
          "rate_weighted_mean": 8.177291419997346e-06,
          "section": 2113
         },
         "type": "Feature"
        },
        {
         "geometry": {
          "coordinates": [
           [
            [
             174.7233,
             -41.5633
            ],
            [
             174.79835815962704,
             -41.515264875192734
            ],
            [
             174.74160127042717,
             -41.474470765321755
            ],
            [
             174.66650099924735,
             -41.522505866543646
            ],
            [
             174.7233,
             -41.5633
            ]
           ]
          ],
          "type": "Polygon"
         },
         "id": "('CRU', 219862)",
         "properties": {
          "Area (m^2)": 8462251008,
          "AseismicSlipFactor": 0,
          "Average Rake (degrees)": 161.31869506835938,
          "CouplingCoeff": 1,
          "DipDeg": 70,
          "DipDir": 313.8,
          "FaultID": 2098,
          "FaultName": "Wairarapa: 1, Subsection 0",
          "Length (m)": 389564.84375,
          "LowDepth": 18,
          "Magnitude": 8.127481460571289,
          "ParentID": 506,
          "ParentName": "Wairarapa: 1",
          "Rake": 160,
          "Rupture Index": 219862,
          "Target Slip Rate": 0.0064125,
          "Target Slip Rate StdDev": 0.00064254,
          "UpDepth": 0,
          "fault_system": "CRU",
          "key_0": 219862,
          "rate_count": 6,
          "rate_max": 5.6200893595814705e-05,
          "rate_min": 2.0206483895890415e-05,
          "rate_weighted_mean": 8.177291419997346e-06,
          "section": 2098
         },
         "type": "Feature"
        },
        {
         "geometry": {
          "coordinates": [
           [
            [
             174.79835815962704,
             -41.515264875192734
            ],
            [
             174.8733049401744,
             -41.467181022515476
            ],
            [
             174.81659010285935,
             -41.426386936218826
            ],
            [
             174.74160127042717,
             -41.474470765321755
            ],
            [
             174.79835815962704,
             -41.515264875192734
            ]
           ]
          ],
          "type": "Polygon"
         },
         "id": "('CRU', 219862)",
         "properties": {
          "Area (m^2)": 8462251008,
          "AseismicSlipFactor": 0,
          "Average Rake (degrees)": 161.31869506835938,
          "CouplingCoeff": 1,
          "DipDeg": 70,
          "DipDir": 313.8,
          "FaultID": 2099,
          "FaultName": "Wairarapa: 1, Subsection 1",
          "Length (m)": 389564.84375,
          "LowDepth": 18,
          "Magnitude": 8.127481460571289,
          "ParentID": 506,
          "ParentName": "Wairarapa: 1",
          "Rake": 160,
          "Rupture Index": 219862,
          "Target Slip Rate": 0.0054675,
          "Target Slip Rate StdDev": 0.00064213,
          "UpDepth": 0,
          "fault_system": "CRU",
          "key_0": 219862,
          "rate_count": 6,
          "rate_max": 5.6200893595814705e-05,
          "rate_min": 2.0206483895890415e-05,
          "rate_weighted_mean": 8.177291419997346e-06,
          "section": 2099
         },
         "type": "Feature"
        },
        {
         "geometry": {
          "coordinates": [
           [
            [
             174.8733049401744,
             -41.467181022515476
            ],
            [
             174.8767,
             -41.465
            ],
            [
             174.9372838842802,
             -41.41099323807189
            ],
            [
             174.88061805676182,
             -41.370199179278515
            ],
            [
             174.81998706768107,
             -41.42420591477181
            ],
            [
             174.81659010285935,
             -41.426386936218826
            ],
            [
             174.8733049401744,
             -41.467181022515476
            ]
           ]
          ],
          "type": "Polygon"
         },
         "id": "('CRU', 219862)",
         "properties": {
          "Area (m^2)": 8462251008,
          "AseismicSlipFactor": 0,
          "Average Rake (degrees)": 161.31869506835938,
          "CouplingCoeff": 1,
          "DipDeg": 70,
          "DipDir": 313.8,
          "FaultID": 2100,
          "FaultName": "Wairarapa: 1, Subsection 2",
          "Length (m)": 389564.84375,
          "LowDepth": 18,
          "Magnitude": 8.127481460571289,
          "ParentID": 506,
          "ParentName": "Wairarapa: 1",
          "Rake": 160,
          "Rupture Index": 219862,
          "Target Slip Rate": 0.00522,
          "Target Slip Rate StdDev": 0.00059712,
          "UpDepth": 0,
          "fault_system": "CRU",
          "key_0": 219862,
          "rate_count": 6,
          "rate_max": 5.6200893595814705e-05,
          "rate_min": 2.0206483895890415e-05,
          "rate_weighted_mean": 8.177291419997346e-06,
          "section": 2100
         },
         "type": "Feature"
        },
        {
         "geometry": {
          "coordinates": [
           [
            [
             174.9372838842802,
             -41.41099323807189
            ],
            [
             175.00063679620996,
             -41.354387803810454
            ],
            [
             174.9440202021992,
             -41.3135937726768
            ],
            [
             174.88061805676182,
             -41.370199179278515
            ],
            [
             174.9372838842802,
             -41.41099323807189
            ]
           ]
          ],
          "type": "Polygon"
         },
         "id": "('CRU', 219862)",
         "properties": {
          "Area (m^2)": 8462251008,
          "AseismicSlipFactor": 0,
          "Average Rake (degrees)": 161.31869506835938,
          "CouplingCoeff": 1,
          "DipDeg": 70,
          "DipDir": 313.8,
          "FaultID": 2101,
          "FaultName": "Wairarapa: 1, Subsection 3",
          "Length (m)": 389564.84375,
          "LowDepth": 18,
          "Magnitude": 8.127481460571289,
          "ParentID": 506,
          "ParentName": "Wairarapa: 1",
          "Rake": 160,
          "Rupture Index": 219862,
          "Target Slip Rate": 0.0043425,
          "Target Slip Rate StdDev": 0.00051415,
          "UpDepth": 0,
          "fault_system": "CRU",
          "key_0": 219862,
          "rate_count": 6,
          "rate_max": 5.6200893595814705e-05,
          "rate_min": 2.0206483895890415e-05,
          "rate_weighted_mean": 8.177291419997346e-06,
          "section": 2101
         },
         "type": "Feature"
        },
        {
         "geometry": {
          "coordinates": [
           [
            [
             175.00063679620996,
             -41.354387803810454
            ],
            [
             175.0501,
             -41.3101
            ],
            [
             175.06171830865475,
             -41.29655173940322
            ],
            [
             175.00515187325385,
             -41.255757736481044
            ],
            [
             174.99352182794632,
             -41.26930599047368
            ],
            [
             174.9440202021992,
             -41.3135937726768
            ],
            [
             175.00063679620996,
             -41.354387803810454
            ]
           ]
          ],
          "type": "Polygon"
         },
         "id": "('CRU', 219862)",
         "properties": {
          "Area (m^2)": 8462251008,
          "AseismicSlipFactor": 0,
          "Average Rake (degrees)": 161.31869506835938,
          "CouplingCoeff": 1,
          "DipDeg": 70,
          "DipDir": 313.8,
          "FaultID": 2102,
          "FaultName": "Wairarapa: 1, Subsection 4",
          "Length (m)": 389564.84375,
          "LowDepth": 18,
          "Magnitude": 8.127481460571289,
          "ParentID": 506,
          "ParentName": "Wairarapa: 1",
          "Rake": 160,
          "Rupture Index": 219862,
          "Target Slip Rate": 0.0045225,
          "Target Slip Rate StdDev": 0.00053318,
          "UpDepth": 0,
          "fault_system": "CRU",
          "key_0": 219862,
          "rate_count": 6,
          "rate_max": 5.6200893595814705e-05,
          "rate_min": 2.0206483895890415e-05,
          "rate_weighted_mean": 8.177291419997346e-06,
          "section": 2102
         },
         "type": "Feature"
        },
        {
         "geometry": {
          "coordinates": [
           [
            [
             175.06171830865475,
             -41.29655173940322
            ],
            [
             175.0837,
             -41.2709
            ],
            [
             175.12689999999998,
             -41.24210000000002
            ],
            [
             175.07038065438925,
             -41.20130602359289
            ],
            [
             175.0271557643227,
             -41.23010600957433
            ],
            [
             175.00515187325385,
             -41.255757736481044
            ],
            [
             175.06171830865475,
             -41.29655173940322
            ]
           ]
          ],
          "type": "Polygon"
         },
         "id": "('CRU', 219862)",
         "properties": {
          "Area (m^2)": 8462251008,
          "AseismicSlipFactor": 0,
          "Average Rake (degrees)": 161.31869506835938,
          "CouplingCoeff": 1,
          "DipDeg": 70,
          "DipDir": 313.8,
          "FaultID": 2103,
          "FaultName": "Wairarapa: 1, Subsection 5",
          "Length (m)": 389564.84375,
          "LowDepth": 18,
          "Magnitude": 8.127481460571289,
          "ParentID": 506,
          "ParentName": "Wairarapa: 1",
          "Rake": 160,
          "Rupture Index": 219862,
          "Target Slip Rate": 0.0048825,
          "Target Slip Rate StdDev": 0.00055985,
          "UpDepth": 0,
          "fault_system": "CRU",
          "key_0": 219862,
          "rate_count": 6,
          "rate_max": 5.6200893595814705e-05,
          "rate_min": 2.0206483895890415e-05,
          "rate_weighted_mean": 8.177291419997346e-06,
          "section": 2103
         },
         "type": "Feature"
        },
        {
         "geometry": {
          "coordinates": [
           [
            [
             175.1269,
             -41.2421
            ],
            [
             175.1448,
             -41.2406
            ],
            [
             175.1999,
             -41.2081
            ],
            [
             175.21088076595865,
             -41.19834065328985
            ],
            [
             175.16177143779927,
             -41.15797984525554
            ],
            [
             175.1507833579302,
             -41.167739188380295
            ],
            [
             175.09565897557923,
             -41.20023917643268
            ],
            [
             175.0777578492737,
             -41.20173917588098
            ],
            [
             175.1269,
             -41.2421
            ]
           ]
          ],
          "type": "Polygon"
         },
         "id": "('CRU', 219862)",
         "properties": {
          "Area (m^2)": 8462251008,
          "AseismicSlipFactor": 0,
          "Average Rake (degrees)": 161.31869506835938,
          "CouplingCoeff": 1,
          "DipDeg": 70,
          "DipDir": 317.5,
          "FaultID": 2104,
          "FaultName": "Wairarapa: 2, Subsection 0",
          "Length (m)": 389564.84375,
          "LowDepth": 16.72,
          "Magnitude": 8.127481460571289,
          "ParentID": 507,
          "ParentName": "Wairarapa: 2",
          "Rake": 160,
          "Rupture Index": 219862,
          "Target Slip Rate": 0.0049725,
          "Target Slip Rate StdDev": 0.0005151099999999999,
          "UpDepth": 0,
          "fault_system": "CRU",
          "key_0": 219862,
          "rate_count": 6,
          "rate_max": 5.6200893595814705e-05,
          "rate_min": 2.0206483895890415e-05,
          "rate_weighted_mean": 8.177291419997346e-06,
          "section": 2104
         },
         "type": "Feature"
        },
        {
         "geometry": {
          "coordinates": [
           [
            [
             175.21088076595865,
             -41.19834065328985
            ],
            [
             175.2551,
             -41.159
            ],
            [
             175.28060121506388,
             -41.139362472373996
            ],
            [
             175.23153601010893,
             -41.09900168598449
            ],
            [
             175.20602011825065,
             -41.118639206407906
            ],
            [
             175.16177143779927,
             -41.15797984525554
            ],
            [
             175.21088076595865,
             -41.19834065328985
            ]
           ]
          ],
          "type": "Polygon"
         },
         "id": "('CRU', 219862)",
         "properties": {
          "Area (m^2)": 8462251008,
          "AseismicSlipFactor": 0,
          "Average Rake (degrees)": 161.31869506835938,
          "CouplingCoeff": 1,
          "DipDeg": 70,
          "DipDir": 317.5,
          "FaultID": 2105,
          "FaultName": "Wairarapa: 2, Subsection 1",
          "Length (m)": 389564.84375,
          "LowDepth": 16.72,
          "Magnitude": 8.127481460571289,
          "ParentID": 507,
          "ParentName": "Wairarapa: 2",
          "Rake": 160,
          "Rupture Index": 219862,
          "Target Slip Rate": 0.0051525,
          "Target Slip Rate StdDev": 0.0004950999999999999,
          "UpDepth": 0,
          "fault_system": "CRU",
          "key_0": 219862,
          "rate_count": 6,
          "rate_max": 5.6200893595814705e-05,
          "rate_min": 2.0206483895890415e-05,
          "rate_weighted_mean": 8.177291419997346e-06,
          "section": 2105
         },
         "type": "Feature"
        },
        {
         "geometry": {
          "coordinates": [
           [
            [
             175.28060121506388,
             -41.139362472373996
            ],
            [
             175.3538620781445,
             -41.082850233333595
            ],
            [
             175.30483902854604,
             -41.04248946764746
            ],
            [
             175.23153601010893,
             -41.09900168598449
            ],
            [
             175.28060121506388,
             -41.139362472373996
            ]
           ]
          ],
          "type": "Polygon"
         },
         "id": "('CRU', 219862)",
         "properties": {
          "Area (m^2)": 8462251008,
          "AseismicSlipFactor": 0,
          "Average Rake (degrees)": 161.31869506835938,
          "CouplingCoeff": 1,
          "DipDeg": 70,
          "DipDir": 317.5,
          "FaultID": 2106,
          "FaultName": "Wairarapa: 2, Subsection 2",
          "Length (m)": 389564.84375,
          "LowDepth": 16.72,
          "Magnitude": 8.127481460571289,
          "ParentID": 507,
          "ParentName": "Wairarapa: 2",
          "Rake": 160,
          "Rupture Index": 219862,
          "Target Slip Rate": 0.0053325,
          "Target Slip Rate StdDev": 0.0005425100000000001,
          "UpDepth": 0,
          "fault_system": "CRU",
          "key_0": 219862,
          "rate_count": 6,
          "rate_max": 5.6200893595814705e-05,
          "rate_min": 2.0206483895890415e-05,
          "rate_weighted_mean": 8.177291419997346e-06,
          "section": 2106
         },
         "type": "Feature"
        },
        {
         "geometry": {
          "coordinates": [
           [
            [
             175.3538620781445,
             -41.082850233333595
            ],
            [
             175.3604,
             -41.0778
            ],
            [
             175.3734,
             -41.0708
            ],
            [
             175.4313,
             -41.0298
            ],
            [
             175.38231641408032,
             -40.9894392537166
            ],
            [
             175.3243859237509,
             -41.030439238723886
            ],
            [
             175.31138071178165,
             -41.03743923616231
            ],
            [
             175.30483902854604,
             -41.04248946764746
            ],
            [
             175.3538620781445,
             -41.082850233333595
            ]
           ]
          ],
          "type": "Polygon"
         },
         "id": "('CRU', 219862)",
         "properties": {
          "Area (m^2)": 8462251008,
          "AseismicSlipFactor": 0,
          "Average Rake (degrees)": 161.31869506835938,
          "CouplingCoeff": 1,
          "DipDeg": 70,
          "DipDir": 317.5,
          "FaultID": 2107,
          "FaultName": "Wairarapa: 2, Subsection 3",
          "Length (m)": 389564.84375,
          "LowDepth": 16.72,
          "Magnitude": 8.127481460571289,
          "ParentID": 507,
          "ParentName": "Wairarapa: 2",
          "Rake": 160,
          "Rupture Index": 219862,
          "Target Slip Rate": 0.0055125,
          "Target Slip Rate StdDev": 0.0005561300000000001,
          "UpDepth": 0,
          "fault_system": "CRU",
          "key_0": 219862,
          "rate_count": 6,
          "rate_max": 5.6200893595814705e-05,
          "rate_min": 2.0206483895890415e-05,
          "rate_weighted_mean": 8.177291419997346e-06,
          "section": 2107
         },
         "type": "Feature"
        },
        {
         "geometry": {
          "coordinates": [
           [
            [
             175.60881796773072,
             -40.96057042440613
            ],
            [
             175.5877,
             -40.9682
            ],
            [
             175.54348275532178,
             -40.9708403543804
            ],
            [
             175.5632165738695,
             -41.02275985636053
            ],
            [
             175.6074330274443,
             -41.02011950213672
            ],
            [
             175.62854870979223,
             -41.012489926995286
            ],
            [
             175.60881796773072,
             -40.96057042440613
            ]
           ]
          ],
          "type": "Polygon"
         },
         "id": "('CRU', 219862)",
         "properties": {
          "Area (m^2)": 8462251008,
          "AseismicSlipFactor": 0,
          "Average Rake (degrees)": 161.31869506835938,
          "CouplingCoeff": 1,
          "DipDeg": 65,
          "DipDir": 164,
          "FaultID": 1127,
          "FaultName": "Masterton, Subsection 2",
          "Length (m)": 389564.84375,
          "LowDepth": 12.880000000000003,
          "Magnitude": 8.127481460571289,
          "ParentID": 257,
          "ParentName": "Masterton",
          "Rake": -160,
          "Rupture Index": 219862,
          "Target Slip Rate": 0.0006525,
          "Target Slip Rate StdDev": 0.00053003,
          "UpDepth": 0,
          "fault_system": "CRU",
          "key_0": 219862,
          "rate_count": 6,
          "rate_max": 5.6200893595814705e-05,
          "rate_min": 2.0206483895890415e-05,
          "rate_weighted_mean": 8.177291419997346e-06,
          "section": 1127
         },
         "type": "Feature"
        },
        {
         "geometry": {
          "coordinates": [
           [
            [
             175.66991683704686,
             -40.93846475498719
            ],
            [
             175.60881796773072,
             -40.96057042440613
            ],
            [
             175.62854870979223,
             -41.012489926995286
            ],
            [
             175.6896409624809,
             -40.99038425888664
            ],
            [
             175.66991683704686,
             -40.93846475498719
            ]
           ]
          ],
          "type": "Polygon"
         },
         "id": "('CRU', 219862)",
         "properties": {
          "Area (m^2)": 8462251008,
          "AseismicSlipFactor": 0,
          "Average Rake (degrees)": 161.31869506835938,
          "CouplingCoeff": 1,
          "DipDeg": 65,
          "DipDir": 164,
          "FaultID": 1126,
          "FaultName": "Masterton, Subsection 1",
          "Length (m)": 389564.84375,
          "LowDepth": 12.880000000000003,
          "Magnitude": 8.127481460571289,
          "ParentID": 257,
          "ParentName": "Masterton",
          "Rake": -160,
          "Rupture Index": 219862,
          "Target Slip Rate": 0.0007875,
          "Target Slip Rate StdDev": 0.00059197,
          "UpDepth": 0,
          "fault_system": "CRU",
          "key_0": 219862,
          "rate_count": 6,
          "rate_max": 5.6200893595814705e-05,
          "rate_min": 2.0206483895890415e-05,
          "rate_weighted_mean": 8.177291419997346e-06,
          "section": 1126
         },
         "type": "Feature"
        },
        {
         "geometry": {
          "coordinates": [
           [
            [
             175.7331,
             -40.9283
            ],
            [
             175.7213,
             -40.9359
            ],
            [
             175.7074,
             -40.9392
            ],
            [
             175.6712,
             -40.938
            ],
            [
             175.66991683704686,
             -40.93846475498719
            ],
            [
             175.6896409624809,
             -40.99038425888664
            ],
            [
             175.6909239864036,
             -40.989919503927
            ],
            [
             175.72712434538764,
             -40.99111950385589
            ],
            [
             175.74102335823375,
             -40.98781950405143
            ],
            [
             175.75282108541293,
             -40.98021950450167
            ],
            [
             175.7331,
             -40.9283
            ]
           ]
          ],
          "type": "Polygon"
         },
         "id": "('CRU', 219862)",
         "properties": {
          "Area (m^2)": 8462251008,
          "AseismicSlipFactor": 0,
          "Average Rake (degrees)": 161.31869506835938,
          "CouplingCoeff": 1,
          "DipDeg": 65,
          "DipDir": 164,
          "FaultID": 1125,
          "FaultName": "Masterton, Subsection 0",
          "Length (m)": 389564.84375,
          "LowDepth": 12.880000000000003,
          "Magnitude": 8.127481460571289,
          "ParentID": 257,
          "ParentName": "Masterton",
          "Rake": -160,
          "Rupture Index": 219862,
          "Target Slip Rate": 0.0006525,
          "Target Slip Rate StdDev": 0.00057737,
          "UpDepth": 0,
          "fault_system": "CRU",
          "key_0": 219862,
          "rate_count": 6,
          "rate_max": 5.6200893595814705e-05,
          "rate_min": 2.0206483895890415e-05,
          "rate_weighted_mean": 8.177291419997346e-06,
          "section": 1125
         },
         "type": "Feature"
        }
       ],
       "type": "FeatureCollection"
      },
      "text/plain": [
       "<IPython.display.GeoJSON object>"
      ]
     },
     "metadata": {
      "application/geo+json": {
       "expanded": false,
       "root": "root"
      }
     },
     "output_type": "display_data"
    }
   ],
   "source": [
    "# let's pick one rupture and display it\n",
    "surface = fss.rupture_surface(mro_ids[1])\n",
    "GeoJSON(json.loads(surface.to_json()))"
   ]
  }
 ],
 "metadata": {
  "kernelspec": {
   "display_name": "Python 3 (ipykernel)",
   "language": "python",
   "name": "python3"
  },
  "language_info": {
   "codemirror_mode": {
    "name": "ipython",
    "version": 3
   },
   "file_extension": ".py",
   "mimetype": "text/x-python",
   "name": "python",
   "nbconvert_exporter": "python",
   "pygments_lexer": "ipython3",
   "version": "3.11.6"
  }
 },
 "nbformat": 4,
 "nbformat_minor": 5
}
