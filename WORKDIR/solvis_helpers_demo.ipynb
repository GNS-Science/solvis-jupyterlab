{
 "cells": [
  {
   "cell_type": "markdown",
   "id": "82c2af9b-c9fe-48db-8c91-0387125ce672",
   "metadata": {
    "editable": true,
    "slideshow": {
     "slide_type": ""
    },
    "tags": []
   },
   "source": [
    "# A solvis demo with the NSHM Composite Solution (NEW filter API)"
   ]
  },
  {
   "cell_type": "markdown",
   "id": "5bf90f20-a41b-4ae2-a137-37af986903c0",
   "metadata": {},
   "source": [
    "  "
   ]
  },
  {
   "cell_type": "code",
   "execution_count": 1,
   "id": "8ed96b93-fadf-42a5-a8df-7b0afc563b50",
   "metadata": {},
   "outputs": [
    {
     "name": "stderr",
     "output_type": "stream",
     "text": [
      "warning openquake module dependency not available, maybe you want to install\n",
      "                with nzshm-model[openquake]\n"
     ]
    },
    {
     "name": "stdout",
     "output_type": "stream",
     "text": [
      "WARNING: optional `toshi` dependencies are not installed.\n",
      "Running without `toshi` options\n",
      "WARNING: geometry.section_distance() uses the optional dependency pyvista.\n"
     ]
    }
   ],
   "source": [
    "import os\n",
    "import pathlib\n",
    "import json\n",
    "from IPython.display import GeoJSON\n",
    "\n",
    "import nzshm_model as nm\n",
    "import solvis"
   ]
  },
  {
   "cell_type": "code",
   "execution_count": 2,
   "id": "d6eec080-f7b9-441f-a3bc-50991f675b7b",
   "metadata": {},
   "outputs": [],
   "source": [
    "# prepare our NSHM composite solution\n",
    "current_model = nm.get_model_version(\"NSHM_v1.0.4\")\n",
    "slt = current_model.source_logic_tree"
   ]
  },
  {
   "cell_type": "code",
   "execution_count": 3,
   "id": "7ae29bed-3458-428f-875d-551c848387a7",
   "metadata": {},
   "outputs": [],
   "source": [
    "# load the composite_solution and shoose the Cruslal FaultSystemSolution\n",
    "csol = solvis.CompositeSolution.from_archive(\"NSHM_v1.0.4_CompositeSolution.zip\", slt)\n",
    "fss = csol._solutions['CRU']"
   ]
  },
  {
   "cell_type": "code",
   "execution_count": 4,
   "id": "d0c843cf-bd4d-49ed-8a64-57b5a6aeeb16",
   "metadata": {},
   "outputs": [],
   "source": [
    "# try our new filtering\n",
    "from solvis.filter import FilterSubsectionIds, FilterRuptureIds"
   ]
  },
  {
   "cell_type": "code",
   "execution_count": 6,
   "id": "b632cea2-3d67-4c54-8a2f-e1f8713e0f0c",
   "metadata": {},
   "outputs": [],
   "source": [
    "# helper = FaultSystemSolutionHelper(fss)\n",
    "filt_sub_ids = FilterSubsectionIds(fss)\n",
    "filt_rupt_ids = FilterRuptureIds(fss)"
   ]
  },
  {
   "cell_type": "code",
   "execution_count": 7,
   "id": "8fa2ad18-96ba-4e42-98ac-37da41bad6f4",
   "metadata": {},
   "outputs": [
    {
     "data": {
      "text/plain": [
       "{3, 4}"
      ]
     },
     "execution_count": 7,
     "metadata": {},
     "output_type": "execute_result"
    }
   ],
   "source": [
    "filt_sub_ids.for_parent_fault_names(['Aka Aka'])"
   ]
  },
  {
   "cell_type": "code",
   "execution_count": 11,
   "id": "e4bbca5a-e365-492e-9292-6a5c63e9a397",
   "metadata": {},
   "outputs": [
    {
     "name": "stdout",
     "output_type": "stream",
     "text": [
      "18\n"
     ]
    },
    {
     "data": {
      "text/plain": [
       "(56, 14)"
      ]
     },
     "execution_count": 11,
     "metadata": {},
     "output_type": "execute_result"
    }
   ],
   "source": [
    "boo_boo_rids = filt_rupt_ids.for_parent_fault_names(['BooBoo', 'Masterton'])\n",
    "mag_rids = filt_rupt_ids.for_magnitude(4.5, 7.5)\n",
    "rate_rids = filt_rupt_ids.for_rupture_rate(1e-90)\n",
    "\n",
    "print(len(mag_rids & boo_boo_rids))\n",
    "\n",
    "subsections = filt_sub_ids.for_rupture_ids(set.intersection(set(mag_rids), set(rate_rids), set(boo_boo_rids)))\n",
    "surfaces = fss.fault_surfaces()\n",
    "filtered = surfaces[surfaces.FaultID.isin(subsections)]\n",
    "\n",
    "filtered.shape"
   ]
  },
  {
   "cell_type": "code",
   "execution_count": 13,
   "id": "c5db0873-5d8f-4dfb-a32f-4e9ae9170c99",
   "metadata": {},
   "outputs": [
    {
     "data": {
      "text/html": [
       "<div>\n",
       "<style scoped>\n",
       "    .dataframe tbody tr th:only-of-type {\n",
       "        vertical-align: middle;\n",
       "    }\n",
       "\n",
       "    .dataframe tbody tr th {\n",
       "        vertical-align: top;\n",
       "    }\n",
       "\n",
       "    .dataframe thead th {\n",
       "        text-align: right;\n",
       "    }\n",
       "</style>\n",
       "<table border=\"1\" class=\"dataframe\">\n",
       "  <thead>\n",
       "    <tr style=\"text-align: right;\">\n",
       "      <th></th>\n",
       "      <th>FaultID</th>\n",
       "      <th>FaultName</th>\n",
       "      <th>DipDeg</th>\n",
       "      <th>Rake</th>\n",
       "      <th>LowDepth</th>\n",
       "      <th>UpDepth</th>\n",
       "      <th>DipDir</th>\n",
       "      <th>AseismicSlipFactor</th>\n",
       "      <th>CouplingCoeff</th>\n",
       "      <th>ParentID</th>\n",
       "      <th>ParentName</th>\n",
       "      <th>geometry</th>\n",
       "      <th>Target Slip Rate</th>\n",
       "      <th>Target Slip Rate StdDev</th>\n",
       "    </tr>\n",
       "  </thead>\n",
       "  <tbody>\n",
       "    <tr>\n",
       "      <th>2287</th>\n",
       "      <td>2287</td>\n",
       "      <td>Wharekauhau, Subsection 8</td>\n",
       "      <td>45.0</td>\n",
       "      <td>90.0</td>\n",
       "      <td>6.64</td>\n",
       "      <td>0.0</td>\n",
       "      <td>309.6</td>\n",
       "      <td>0.0</td>\n",
       "      <td>1.0</td>\n",
       "      <td>547</td>\n",
       "      <td>Wharekauhau</td>\n",
       "      <td>POLYGON ((175.05471 -41.3651, 175.08969 -41.33...</td>\n",
       "      <td>0.000112</td>\n",
       "      <td>0.000363</td>\n",
       "    </tr>\n",
       "    <tr>\n",
       "      <th>2288</th>\n",
       "      <td>2288</td>\n",
       "      <td>Wharekauhau, Subsection 9</td>\n",
       "      <td>45.0</td>\n",
       "      <td>90.0</td>\n",
       "      <td>6.64</td>\n",
       "      <td>0.0</td>\n",
       "      <td>309.6</td>\n",
       "      <td>0.0</td>\n",
       "      <td>1.0</td>\n",
       "      <td>547</td>\n",
       "      <td>Wharekauhau</td>\n",
       "      <td>POLYGON ((175.08969 -41.33258, 175.12463 -41.3...</td>\n",
       "      <td>0.000112</td>\n",
       "      <td>0.000363</td>\n",
       "    </tr>\n",
       "    <tr>\n",
       "      <th>2289</th>\n",
       "      <td>2289</td>\n",
       "      <td>Wharekauhau, Subsection 10</td>\n",
       "      <td>45.0</td>\n",
       "      <td>90.0</td>\n",
       "      <td>6.64</td>\n",
       "      <td>0.0</td>\n",
       "      <td>309.6</td>\n",
       "      <td>0.0</td>\n",
       "      <td>1.0</td>\n",
       "      <td>547</td>\n",
       "      <td>Wharekauhau</td>\n",
       "      <td>POLYGON ((175.12463 -41.30005, 175.1308 -41.29...</td>\n",
       "      <td>0.000121</td>\n",
       "      <td>0.000299</td>\n",
       "    </tr>\n",
       "    <tr>\n",
       "      <th>2309</th>\n",
       "      <td>2309</td>\n",
       "      <td>White Creek - buried, Subsection 0</td>\n",
       "      <td>70.0</td>\n",
       "      <td>70.0</td>\n",
       "      <td>19.92</td>\n",
       "      <td>0.0</td>\n",
       "      <td>119.6</td>\n",
       "      <td>0.0</td>\n",
       "      <td>1.0</td>\n",
       "      <td>551</td>\n",
       "      <td>White Creek - buried</td>\n",
       "      <td>POLYGON ((171.7406 -42.4659, 171.7581 -42.4488...</td>\n",
       "      <td>0.000315</td>\n",
       "      <td>0.001005</td>\n",
       "    </tr>\n",
       "    <tr>\n",
       "      <th>2310</th>\n",
       "      <td>2310</td>\n",
       "      <td>White Creek - buried, Subsection 1</td>\n",
       "      <td>70.0</td>\n",
       "      <td>70.0</td>\n",
       "      <td>19.92</td>\n",
       "      <td>0.0</td>\n",
       "      <td>119.6</td>\n",
       "      <td>0.0</td>\n",
       "      <td>1.0</td>\n",
       "      <td>551</td>\n",
       "      <td>White Creek - buried</td>\n",
       "      <td>POLYGON ((171.80531 -42.39574, 171.806 -42.393...</td>\n",
       "      <td>0.000135</td>\n",
       "      <td>0.000654</td>\n",
       "    </tr>\n",
       "  </tbody>\n",
       "</table>\n",
       "</div>"
      ],
      "text/plain": [
       "      FaultID                           FaultName  DipDeg  Rake  LowDepth  \\\n",
       "2287     2287           Wharekauhau, Subsection 8    45.0  90.0      6.64   \n",
       "2288     2288           Wharekauhau, Subsection 9    45.0  90.0      6.64   \n",
       "2289     2289          Wharekauhau, Subsection 10    45.0  90.0      6.64   \n",
       "2309     2309  White Creek - buried, Subsection 0    70.0  70.0     19.92   \n",
       "2310     2310  White Creek - buried, Subsection 1    70.0  70.0     19.92   \n",
       "\n",
       "      UpDepth  DipDir  AseismicSlipFactor  CouplingCoeff  ParentID  \\\n",
       "2287      0.0   309.6                 0.0            1.0       547   \n",
       "2288      0.0   309.6                 0.0            1.0       547   \n",
       "2289      0.0   309.6                 0.0            1.0       547   \n",
       "2309      0.0   119.6                 0.0            1.0       551   \n",
       "2310      0.0   119.6                 0.0            1.0       551   \n",
       "\n",
       "                ParentName                                           geometry  \\\n",
       "2287           Wharekauhau  POLYGON ((175.05471 -41.3651, 175.08969 -41.33...   \n",
       "2288           Wharekauhau  POLYGON ((175.08969 -41.33258, 175.12463 -41.3...   \n",
       "2289           Wharekauhau  POLYGON ((175.12463 -41.30005, 175.1308 -41.29...   \n",
       "2309  White Creek - buried  POLYGON ((171.7406 -42.4659, 171.7581 -42.4488...   \n",
       "2310  White Creek - buried  POLYGON ((171.80531 -42.39574, 171.806 -42.393...   \n",
       "\n",
       "      Target Slip Rate  Target Slip Rate StdDev  \n",
       "2287          0.000112                 0.000363  \n",
       "2288          0.000112                 0.000363  \n",
       "2289          0.000121                 0.000299  \n",
       "2309          0.000315                 0.001005  \n",
       "2310          0.000135                 0.000654  "
      ]
     },
     "execution_count": 13,
     "metadata": {},
     "output_type": "execute_result"
    }
   ],
   "source": [
    "frids = FilterRuptureIds(fss)\n",
    "fsids = FilterSubsectionIds(fss)\n",
    "my_rids = frids.for_parent_fault_names(['BooBoo', 'Masterton']) - \\\n",
    "    frids.for_magnitude(4.5, 7.5) & \\\n",
    "    frids.for_rupture_rate(1e-90)\n",
    "    #, drop_zero_rates=False)\n",
    "\n",
    "surfaces = fss.fault_surfaces()\n",
    "subsections = FilterSubsectionIds(fss).for_rupture_ids(my_rids)\n",
    "filtered = surfaces[surfaces.FaultID.isin(subsections)]\n",
    "\n",
    "filtered.tail()"
   ]
  },
  {
   "cell_type": "markdown",
   "id": "e0712d4e-ee44-4d25-9fbc-c589ffeb58b7",
   "metadata": {},
   "source": [
    "## display the surface geometry of a fault"
   ]
  },
  {
   "cell_type": "code",
   "execution_count": 14,
   "id": "d80408cb-3211-487f-8869-9e3e940562ea",
   "metadata": {
    "scrolled": true
   },
   "outputs": [
    {
     "data": {
      "text/html": [
       "<div>\n",
       "<style scoped>\n",
       "    .dataframe tbody tr th:only-of-type {\n",
       "        vertical-align: middle;\n",
       "    }\n",
       "\n",
       "    .dataframe tbody tr th {\n",
       "        vertical-align: top;\n",
       "    }\n",
       "\n",
       "    .dataframe thead th {\n",
       "        text-align: right;\n",
       "    }\n",
       "</style>\n",
       "<table border=\"1\" class=\"dataframe\">\n",
       "  <thead>\n",
       "    <tr style=\"text-align: right;\">\n",
       "      <th></th>\n",
       "      <th>FaultID</th>\n",
       "      <th>FaultName</th>\n",
       "      <th>DipDeg</th>\n",
       "      <th>Rake</th>\n",
       "      <th>LowDepth</th>\n",
       "      <th>UpDepth</th>\n",
       "      <th>DipDir</th>\n",
       "      <th>AseismicSlipFactor</th>\n",
       "      <th>CouplingCoeff</th>\n",
       "      <th>ParentID</th>\n",
       "      <th>ParentName</th>\n",
       "      <th>geometry</th>\n",
       "      <th>Target Slip Rate</th>\n",
       "      <th>Target Slip Rate StdDev</th>\n",
       "    </tr>\n",
       "  </thead>\n",
       "  <tbody>\n",
       "    <tr>\n",
       "      <th>1125</th>\n",
       "      <td>1125</td>\n",
       "      <td>Masterton, Subsection 0</td>\n",
       "      <td>65.0</td>\n",
       "      <td>-160.0</td>\n",
       "      <td>12.88</td>\n",
       "      <td>0.0</td>\n",
       "      <td>164.0</td>\n",
       "      <td>0.0</td>\n",
       "      <td>1.0</td>\n",
       "      <td>257</td>\n",
       "      <td>Masterton</td>\n",
       "      <td>POLYGON ((175.7331 -40.9283, 175.7213 -40.9359...</td>\n",
       "      <td>0.000652</td>\n",
       "      <td>0.000577</td>\n",
       "    </tr>\n",
       "    <tr>\n",
       "      <th>1126</th>\n",
       "      <td>1126</td>\n",
       "      <td>Masterton, Subsection 1</td>\n",
       "      <td>65.0</td>\n",
       "      <td>-160.0</td>\n",
       "      <td>12.88</td>\n",
       "      <td>0.0</td>\n",
       "      <td>164.0</td>\n",
       "      <td>0.0</td>\n",
       "      <td>1.0</td>\n",
       "      <td>257</td>\n",
       "      <td>Masterton</td>\n",
       "      <td>POLYGON ((175.66992 -40.93846, 175.60882 -40.9...</td>\n",
       "      <td>0.000788</td>\n",
       "      <td>0.000592</td>\n",
       "    </tr>\n",
       "    <tr>\n",
       "      <th>1127</th>\n",
       "      <td>1127</td>\n",
       "      <td>Masterton, Subsection 2</td>\n",
       "      <td>65.0</td>\n",
       "      <td>-160.0</td>\n",
       "      <td>12.88</td>\n",
       "      <td>0.0</td>\n",
       "      <td>164.0</td>\n",
       "      <td>0.0</td>\n",
       "      <td>1.0</td>\n",
       "      <td>257</td>\n",
       "      <td>Masterton</td>\n",
       "      <td>POLYGON ((175.60882 -40.96057, 175.5877 -40.96...</td>\n",
       "      <td>0.000652</td>\n",
       "      <td>0.000530</td>\n",
       "    </tr>\n",
       "    <tr>\n",
       "      <th>1128</th>\n",
       "      <td>1128</td>\n",
       "      <td>Masterton, Subsection 3</td>\n",
       "      <td>65.0</td>\n",
       "      <td>-160.0</td>\n",
       "      <td>12.88</td>\n",
       "      <td>0.0</td>\n",
       "      <td>164.0</td>\n",
       "      <td>0.0</td>\n",
       "      <td>1.0</td>\n",
       "      <td>257</td>\n",
       "      <td>Masterton</td>\n",
       "      <td>POLYGON ((175.54348 -40.97084, 175.5408 -40.97...</td>\n",
       "      <td>0.000518</td>\n",
       "      <td>0.000468</td>\n",
       "    </tr>\n",
       "  </tbody>\n",
       "</table>\n",
       "</div>"
      ],
      "text/plain": [
       "      FaultID                FaultName  DipDeg   Rake  LowDepth  UpDepth  \\\n",
       "1125     1125  Masterton, Subsection 0    65.0 -160.0     12.88      0.0   \n",
       "1126     1126  Masterton, Subsection 1    65.0 -160.0     12.88      0.0   \n",
       "1127     1127  Masterton, Subsection 2    65.0 -160.0     12.88      0.0   \n",
       "1128     1128  Masterton, Subsection 3    65.0 -160.0     12.88      0.0   \n",
       "\n",
       "      DipDir  AseismicSlipFactor  CouplingCoeff  ParentID ParentName  \\\n",
       "1125   164.0                 0.0            1.0       257  Masterton   \n",
       "1126   164.0                 0.0            1.0       257  Masterton   \n",
       "1127   164.0                 0.0            1.0       257  Masterton   \n",
       "1128   164.0                 0.0            1.0       257  Masterton   \n",
       "\n",
       "                                               geometry  Target Slip Rate  \\\n",
       "1125  POLYGON ((175.7331 -40.9283, 175.7213 -40.9359...          0.000652   \n",
       "1126  POLYGON ((175.66992 -40.93846, 175.60882 -40.9...          0.000788   \n",
       "1127  POLYGON ((175.60882 -40.96057, 175.5877 -40.96...          0.000652   \n",
       "1128  POLYGON ((175.54348 -40.97084, 175.5408 -40.97...          0.000518   \n",
       "\n",
       "      Target Slip Rate StdDev  \n",
       "1125                 0.000577  \n",
       "1126                 0.000592  \n",
       "1127                 0.000530  \n",
       "1128                 0.000468  "
      ]
     },
     "execution_count": 14,
     "metadata": {},
     "output_type": "execute_result"
    }
   ],
   "source": [
    "surfaces = fss.fault_surfaces()\n",
    "mro_surface = surfaces[surfaces.ParentName==\"Masterton\"]\n",
    "\n",
    "# A fault called `Masterton` having 4 subsections\n",
    "mro_surface # display the dataframe"
   ]
  },
  {
   "cell_type": "code",
   "execution_count": 16,
   "id": "aed8fa75-4378-44f7-9537-48dcad8b4652",
   "metadata": {},
   "outputs": [
    {
     "data": {
      "application/geo+json": {
       "features": [
        {
         "geometry": {
          "coordinates": [
           [
            [
             175.7331,
             -40.9283
            ],
            [
             175.7213,
             -40.9359
            ],
            [
             175.7074,
             -40.9392
            ],
            [
             175.6712,
             -40.938
            ],
            [
             175.66991683704686,
             -40.93846475498719
            ],
            [
             175.6896409624809,
             -40.99038425888664
            ],
            [
             175.6909239864036,
             -40.989919503927
            ],
            [
             175.72712434538764,
             -40.99111950385589
            ],
            [
             175.74102335823375,
             -40.98781950405143
            ],
            [
             175.75282108541293,
             -40.98021950450167
            ],
            [
             175.7331,
             -40.9283
            ]
           ]
          ],
          "type": "Polygon"
         },
         "id": "1125",
         "properties": {
          "AseismicSlipFactor": 0,
          "CouplingCoeff": 1,
          "DipDeg": 65,
          "DipDir": 164,
          "FaultID": 1125,
          "FaultName": "Masterton, Subsection 0",
          "LowDepth": 12.880000000000003,
          "ParentID": 257,
          "ParentName": "Masterton",
          "Rake": -160,
          "Target Slip Rate": 0.0006525,
          "Target Slip Rate StdDev": 0.00057737,
          "UpDepth": 0
         },
         "type": "Feature"
        },
        {
         "geometry": {
          "coordinates": [
           [
            [
             175.66991683704686,
             -40.93846475498719
            ],
            [
             175.60881796773072,
             -40.96057042440613
            ],
            [
             175.62854870979223,
             -41.012489926995286
            ],
            [
             175.6896409624809,
             -40.99038425888664
            ],
            [
             175.66991683704686,
             -40.93846475498719
            ]
           ]
          ],
          "type": "Polygon"
         },
         "id": "1126",
         "properties": {
          "AseismicSlipFactor": 0,
          "CouplingCoeff": 1,
          "DipDeg": 65,
          "DipDir": 164,
          "FaultID": 1126,
          "FaultName": "Masterton, Subsection 1",
          "LowDepth": 12.880000000000003,
          "ParentID": 257,
          "ParentName": "Masterton",
          "Rake": -160,
          "Target Slip Rate": 0.0007875,
          "Target Slip Rate StdDev": 0.00059197,
          "UpDepth": 0
         },
         "type": "Feature"
        },
        {
         "geometry": {
          "coordinates": [
           [
            [
             175.60881796773072,
             -40.96057042440613
            ],
            [
             175.5877,
             -40.9682
            ],
            [
             175.54348275532178,
             -40.9708403543804
            ],
            [
             175.5632165738695,
             -41.02275985636053
            ],
            [
             175.6074330274443,
             -41.02011950213672
            ],
            [
             175.62854870979223,
             -41.012489926995286
            ],
            [
             175.60881796773072,
             -40.96057042440613
            ]
           ]
          ],
          "type": "Polygon"
         },
         "id": "1127",
         "properties": {
          "AseismicSlipFactor": 0,
          "CouplingCoeff": 1,
          "DipDeg": 65,
          "DipDir": 164,
          "FaultID": 1127,
          "FaultName": "Masterton, Subsection 2",
          "LowDepth": 12.880000000000003,
          "ParentID": 257,
          "ParentName": "Masterton",
          "Rake": -160,
          "Target Slip Rate": 0.0006525,
          "Target Slip Rate StdDev": 0.00053003,
          "UpDepth": 0
         },
         "type": "Feature"
        },
        {
         "geometry": {
          "coordinates": [
           [
            [
             175.54348275532178,
             -40.9708403543804
            ],
            [
             175.5408,
             -40.971
            ],
            [
             175.48280000000005,
             -40.99329999999999
            ],
            [
             175.5025405521713,
             -41.04521950064752
            ],
            [
             175.56053386638416,
             -41.02291950197065
            ],
            [
             175.5632165738695,
             -41.02275985636053
            ],
            [
             175.54348275532178,
             -40.9708403543804
            ]
           ]
          ],
          "type": "Polygon"
         },
         "id": "1128",
         "properties": {
          "AseismicSlipFactor": 0,
          "CouplingCoeff": 1,
          "DipDeg": 65,
          "DipDir": 164,
          "FaultID": 1128,
          "FaultName": "Masterton, Subsection 3",
          "LowDepth": 12.880000000000003,
          "ParentID": 257,
          "ParentName": "Masterton",
          "Rake": -160,
          "Target Slip Rate": 0.0005175000000000001,
          "Target Slip Rate StdDev": 0.0004681000000000001,
          "UpDepth": 0
         },
         "type": "Feature"
        }
       ],
       "type": "FeatureCollection"
      },
      "text/plain": [
       "<IPython.display.GeoJSON object>"
      ]
     },
     "metadata": {
      "application/geo+json": {
       "expanded": false,
       "root": "root"
      }
     },
     "output_type": "display_data"
    }
   ],
   "source": [
    "# plot the masterton surfaces\n",
    "GeoJSON(json.loads(mro_surface.to_json()))"
   ]
  },
  {
   "cell_type": "code",
   "execution_count": null,
   "id": "848518de-d6e8-4732-9943-0800cb97cbd4",
   "metadata": {},
   "outputs": [],
   "source": [
    "### get ruptures passing through a fault"
   ]
  },
  {
   "cell_type": "code",
   "execution_count": 19,
   "id": "444c9ff2-83b6-4805-b149-e1d9f1300022",
   "metadata": {},
   "outputs": [],
   "source": [
    "# mro_ruptures = helper.ruptures_for_parent_fault_names(['Masterton'])\n",
    "mro_ruptures = filt_rupt_ids.for_parent_fault_names(['Masterton'])"
   ]
  },
  {
   "cell_type": "markdown",
   "id": "6cd0a2a4-9fee-4e6f-b41e-ec2bfe5de75c",
   "metadata": {},
   "source": [
    "### get rupture fault sections (rs) with rates for those ruptures"
   ]
  },
  {
   "cell_type": "code",
   "execution_count": 20,
   "id": "406d8c34-c3bd-4743-8e3d-3cc6d00ba307",
   "metadata": {
    "editable": true,
    "slideshow": {
     "slide_type": ""
    },
    "tags": []
   },
   "outputs": [
    {
     "data": {
      "text/html": [
       "<div>\n",
       "<style scoped>\n",
       "    .dataframe tbody tr th:only-of-type {\n",
       "        vertical-align: middle;\n",
       "    }\n",
       "\n",
       "    .dataframe tbody tr th {\n",
       "        vertical-align: top;\n",
       "    }\n",
       "\n",
       "    .dataframe thead th {\n",
       "        text-align: right;\n",
       "    }\n",
       "</style>\n",
       "<table border=\"1\" class=\"dataframe\">\n",
       "  <thead>\n",
       "    <tr style=\"text-align: right;\">\n",
       "      <th></th>\n",
       "      <th></th>\n",
       "      <th>key_0</th>\n",
       "      <th>fault_system</th>\n",
       "      <th>Rupture Index</th>\n",
       "      <th>rate_max</th>\n",
       "      <th>rate_min</th>\n",
       "      <th>rate_count</th>\n",
       "      <th>rate_weighted_mean</th>\n",
       "      <th>Magnitude</th>\n",
       "      <th>Average Rake (degrees)</th>\n",
       "      <th>Area (m^2)</th>\n",
       "      <th>Length (m)</th>\n",
       "      <th>section</th>\n",
       "    </tr>\n",
       "    <tr>\n",
       "      <th>fault_system</th>\n",
       "      <th>Rupture Index</th>\n",
       "      <th></th>\n",
       "      <th></th>\n",
       "      <th></th>\n",
       "      <th></th>\n",
       "      <th></th>\n",
       "      <th></th>\n",
       "      <th></th>\n",
       "      <th></th>\n",
       "      <th></th>\n",
       "      <th></th>\n",
       "      <th></th>\n",
       "      <th></th>\n",
       "    </tr>\n",
       "  </thead>\n",
       "  <tbody>\n",
       "    <tr>\n",
       "      <th rowspan=\"11\" valign=\"top\">CRU</th>\n",
       "      <th>209026</th>\n",
       "      <td>209026</td>\n",
       "      <td>CRU</td>\n",
       "      <td>209026</td>\n",
       "      <td>0.000023</td>\n",
       "      <td>3.083809e-07</td>\n",
       "      <td>12</td>\n",
       "      <td>0.000003</td>\n",
       "      <td>7.998682</td>\n",
       "      <td>156.75558</td>\n",
       "      <td>6.290518e+09</td>\n",
       "      <td>292585.340</td>\n",
       "      <td>725.0</td>\n",
       "    </tr>\n",
       "    <tr>\n",
       "      <th>209026</th>\n",
       "      <td>209026</td>\n",
       "      <td>CRU</td>\n",
       "      <td>209026</td>\n",
       "      <td>0.000023</td>\n",
       "      <td>3.083809e-07</td>\n",
       "      <td>12</td>\n",
       "      <td>0.000003</td>\n",
       "      <td>7.998682</td>\n",
       "      <td>156.75558</td>\n",
       "      <td>6.290518e+09</td>\n",
       "      <td>292585.340</td>\n",
       "      <td>724.0</td>\n",
       "    </tr>\n",
       "    <tr>\n",
       "      <th>209026</th>\n",
       "      <td>209026</td>\n",
       "      <td>CRU</td>\n",
       "      <td>209026</td>\n",
       "      <td>0.000023</td>\n",
       "      <td>3.083809e-07</td>\n",
       "      <td>12</td>\n",
       "      <td>0.000003</td>\n",
       "      <td>7.998682</td>\n",
       "      <td>156.75558</td>\n",
       "      <td>6.290518e+09</td>\n",
       "      <td>292585.340</td>\n",
       "      <td>723.0</td>\n",
       "    </tr>\n",
       "    <tr>\n",
       "      <th>209026</th>\n",
       "      <td>209026</td>\n",
       "      <td>CRU</td>\n",
       "      <td>209026</td>\n",
       "      <td>0.000023</td>\n",
       "      <td>3.083809e-07</td>\n",
       "      <td>12</td>\n",
       "      <td>0.000003</td>\n",
       "      <td>7.998682</td>\n",
       "      <td>156.75558</td>\n",
       "      <td>6.290518e+09</td>\n",
       "      <td>292585.340</td>\n",
       "      <td>722.0</td>\n",
       "    </tr>\n",
       "    <tr>\n",
       "      <th>209026</th>\n",
       "      <td>209026</td>\n",
       "      <td>CRU</td>\n",
       "      <td>209026</td>\n",
       "      <td>0.000023</td>\n",
       "      <td>3.083809e-07</td>\n",
       "      <td>12</td>\n",
       "      <td>0.000003</td>\n",
       "      <td>7.998682</td>\n",
       "      <td>156.75558</td>\n",
       "      <td>6.290518e+09</td>\n",
       "      <td>292585.340</td>\n",
       "      <td>721.0</td>\n",
       "    </tr>\n",
       "    <tr>\n",
       "      <th>...</th>\n",
       "      <td>...</td>\n",
       "      <td>...</td>\n",
       "      <td>...</td>\n",
       "      <td>...</td>\n",
       "      <td>...</td>\n",
       "      <td>...</td>\n",
       "      <td>...</td>\n",
       "      <td>...</td>\n",
       "      <td>...</td>\n",
       "      <td>...</td>\n",
       "      <td>...</td>\n",
       "      <td>...</td>\n",
       "    </tr>\n",
       "    <tr>\n",
       "      <th>391758</th>\n",
       "      <td>391758</td>\n",
       "      <td>CRU</td>\n",
       "      <td>391758</td>\n",
       "      <td>0.000100</td>\n",
       "      <td>2.606850e-05</td>\n",
       "      <td>18</td>\n",
       "      <td>0.000032</td>\n",
       "      <td>7.152529</td>\n",
       "      <td>167.70062</td>\n",
       "      <td>8.964618e+08</td>\n",
       "      <td>53762.266</td>\n",
       "      <td>2106.0</td>\n",
       "    </tr>\n",
       "    <tr>\n",
       "      <th>391758</th>\n",
       "      <td>391758</td>\n",
       "      <td>CRU</td>\n",
       "      <td>391758</td>\n",
       "      <td>0.000100</td>\n",
       "      <td>2.606850e-05</td>\n",
       "      <td>18</td>\n",
       "      <td>0.000032</td>\n",
       "      <td>7.152529</td>\n",
       "      <td>167.70062</td>\n",
       "      <td>8.964618e+08</td>\n",
       "      <td>53762.266</td>\n",
       "      <td>2107.0</td>\n",
       "    </tr>\n",
       "    <tr>\n",
       "      <th>391758</th>\n",
       "      <td>391758</td>\n",
       "      <td>CRU</td>\n",
       "      <td>391758</td>\n",
       "      <td>0.000100</td>\n",
       "      <td>2.606850e-05</td>\n",
       "      <td>18</td>\n",
       "      <td>0.000032</td>\n",
       "      <td>7.152529</td>\n",
       "      <td>167.70062</td>\n",
       "      <td>8.964618e+08</td>\n",
       "      <td>53762.266</td>\n",
       "      <td>1127.0</td>\n",
       "    </tr>\n",
       "    <tr>\n",
       "      <th>391758</th>\n",
       "      <td>391758</td>\n",
       "      <td>CRU</td>\n",
       "      <td>391758</td>\n",
       "      <td>0.000100</td>\n",
       "      <td>2.606850e-05</td>\n",
       "      <td>18</td>\n",
       "      <td>0.000032</td>\n",
       "      <td>7.152529</td>\n",
       "      <td>167.70062</td>\n",
       "      <td>8.964618e+08</td>\n",
       "      <td>53762.266</td>\n",
       "      <td>1207.0</td>\n",
       "    </tr>\n",
       "    <tr>\n",
       "      <th>391758</th>\n",
       "      <td>391758</td>\n",
       "      <td>CRU</td>\n",
       "      <td>391758</td>\n",
       "      <td>0.000100</td>\n",
       "      <td>2.606850e-05</td>\n",
       "      <td>18</td>\n",
       "      <td>0.000032</td>\n",
       "      <td>7.152529</td>\n",
       "      <td>167.70062</td>\n",
       "      <td>8.964618e+08</td>\n",
       "      <td>53762.266</td>\n",
       "      <td>1206.0</td>\n",
       "    </tr>\n",
       "  </tbody>\n",
       "</table>\n",
       "<p>275 rows × 12 columns</p>\n",
       "</div>"
      ],
      "text/plain": [
       "                             key_0 fault_system  Rupture Index  rate_max  \\\n",
       "fault_system Rupture Index                                                 \n",
       "CRU          209026         209026          CRU         209026  0.000023   \n",
       "             209026         209026          CRU         209026  0.000023   \n",
       "             209026         209026          CRU         209026  0.000023   \n",
       "             209026         209026          CRU         209026  0.000023   \n",
       "             209026         209026          CRU         209026  0.000023   \n",
       "...                            ...          ...            ...       ...   \n",
       "             391758         391758          CRU         391758  0.000100   \n",
       "             391758         391758          CRU         391758  0.000100   \n",
       "             391758         391758          CRU         391758  0.000100   \n",
       "             391758         391758          CRU         391758  0.000100   \n",
       "             391758         391758          CRU         391758  0.000100   \n",
       "\n",
       "                                rate_min  rate_count  rate_weighted_mean  \\\n",
       "fault_system Rupture Index                                                 \n",
       "CRU          209026         3.083809e-07          12            0.000003   \n",
       "             209026         3.083809e-07          12            0.000003   \n",
       "             209026         3.083809e-07          12            0.000003   \n",
       "             209026         3.083809e-07          12            0.000003   \n",
       "             209026         3.083809e-07          12            0.000003   \n",
       "...                                  ...         ...                 ...   \n",
       "             391758         2.606850e-05          18            0.000032   \n",
       "             391758         2.606850e-05          18            0.000032   \n",
       "             391758         2.606850e-05          18            0.000032   \n",
       "             391758         2.606850e-05          18            0.000032   \n",
       "             391758         2.606850e-05          18            0.000032   \n",
       "\n",
       "                            Magnitude  Average Rake (degrees)    Area (m^2)  \\\n",
       "fault_system Rupture Index                                                    \n",
       "CRU          209026          7.998682               156.75558  6.290518e+09   \n",
       "             209026          7.998682               156.75558  6.290518e+09   \n",
       "             209026          7.998682               156.75558  6.290518e+09   \n",
       "             209026          7.998682               156.75558  6.290518e+09   \n",
       "             209026          7.998682               156.75558  6.290518e+09   \n",
       "...                               ...                     ...           ...   \n",
       "             391758          7.152529               167.70062  8.964618e+08   \n",
       "             391758          7.152529               167.70062  8.964618e+08   \n",
       "             391758          7.152529               167.70062  8.964618e+08   \n",
       "             391758          7.152529               167.70062  8.964618e+08   \n",
       "             391758          7.152529               167.70062  8.964618e+08   \n",
       "\n",
       "                            Length (m)  section  \n",
       "fault_system Rupture Index                       \n",
       "CRU          209026         292585.340    725.0  \n",
       "             209026         292585.340    724.0  \n",
       "             209026         292585.340    723.0  \n",
       "             209026         292585.340    722.0  \n",
       "             209026         292585.340    721.0  \n",
       "...                                ...      ...  \n",
       "             391758          53762.266   2106.0  \n",
       "             391758          53762.266   2107.0  \n",
       "             391758          53762.266   1127.0  \n",
       "             391758          53762.266   1207.0  \n",
       "             391758          53762.266   1206.0  \n",
       "\n",
       "[275 rows x 12 columns]"
      ]
     },
     "execution_count": 20,
     "metadata": {},
     "output_type": "execute_result"
    }
   ],
   "source": [
    "df0 = fss.rs_with_rupture_rates\n",
    "mro_df = df0[df0[\"Rupture Index\"].isin(mro_ruptures)]\n",
    "mro_df"
   ]
  },
  {
   "cell_type": "code",
   "execution_count": 23,
   "id": "e81622dd-fe97-4dab-8e76-a6b617c10db4",
   "metadata": {
    "editable": true,
    "slideshow": {
     "slide_type": ""
    },
    "tags": []
   },
   "outputs": [
    {
     "name": "stdout",
     "output_type": "stream",
     "text": [
      "the `Masterton` fault has 19 unique ruptures...\n",
      "\n"
     ]
    }
   ],
   "source": [
    "print(f'the `Masterton` fault has {len(mro_df[\"Rupture Index\"].unique())} unique ruptures...')\n",
    "print()\n",
    "mro_ids = list(mro_df[\"Rupture Index\"].unique())"
   ]
  },
  {
   "cell_type": "code",
   "execution_count": 22,
   "id": "8edeb5dc-cf56-4e34-9fb2-2d6d2b0b6d68",
   "metadata": {},
   "outputs": [
    {
     "data": {
      "application/geo+json": {
       "features": [
        {
         "geometry": {
          "coordinates": [
           [
            [
             176.075,
             -40.7617
            ],
            [
             176.00688452412265,
             -40.78494946015483
            ],
            [
             176.02198703428553,
             -40.82280181928106
            ],
            [
             176.09009721920438,
             -40.799552359933635
            ],
            [
             176.075,
             -40.7617
            ]
           ]
          ],
          "type": "Polygon"
         },
         "id": "('CRU', 287882)",
         "properties": {
          "Area (m^2)": 1097820200,
          "AseismicSlipFactor": 0,
          "Average Rake (degrees)": -178.29486,
          "CouplingCoeff": 1,
          "DipDeg": 70,
          "DipDir": 163.2,
          "FaultID": 1200,
          "FaultName": "Mokonui Northeast, Subsection 0",
          "Length (m)": 74297.164,
          "LowDepth": 12.08,
          "Magnitude": 7.2405276,
          "ParentID": 270,
          "ParentName": "Mokonui Northeast",
          "Rake": -160,
          "Rupture Index": 287882,
          "Target Slip Rate": 0.0022275,
          "Target Slip Rate StdDev": 0.00058888,
          "UpDepth": 0,
          "fault_system": "CRU",
          "key_0": 287882,
          "rate_count": 24,
          "rate_max": 0.00016329637,
          "rate_min": 5.1836705e-05,
          "rate_weighted_mean": 7.190988e-05,
          "section": 1200
         },
         "type": "Feature"
        },
        {
         "geometry": {
          "coordinates": [
           [
            [
             176.00688452412265,
             -40.78494946015483
            ],
            [
             175.9387213818272,
             -40.80815884056372
            ],
            [
             175.95382918000976,
             -40.846011198883396
            ],
            [
             176.02198703428553,
             -40.82280181928106
            ],
            [
             176.00688452412265,
             -40.78494946015483
            ]
           ]
          ],
          "type": "Polygon"
         },
         "id": "('CRU', 287882)",
         "properties": {
          "Area (m^2)": 1097820200,
          "AseismicSlipFactor": 0,
          "Average Rake (degrees)": -178.29486,
          "CouplingCoeff": 1,
          "DipDeg": 70,
          "DipDir": 163.2,
          "FaultID": 1201,
          "FaultName": "Mokonui Northeast, Subsection 1",
          "Length (m)": 74297.164,
          "LowDepth": 12.08,
          "Magnitude": 7.2405276,
          "ParentID": 270,
          "ParentName": "Mokonui Northeast",
          "Rake": -160,
          "Rupture Index": 287882,
          "Target Slip Rate": 0.0022275,
          "Target Slip Rate StdDev": 0.00058888,
          "UpDepth": 0,
          "fault_system": "CRU",
          "key_0": 287882,
          "rate_count": 24,
          "rate_max": 0.00016329637,
          "rate_min": 5.1836705e-05,
          "rate_weighted_mean": 7.190988e-05,
          "section": 1201
         },
         "type": "Feature"
        },
        {
         "geometry": {
          "coordinates": [
           [
            [
             175.9387213818272,
             -40.80815884056372
            ],
            [
             175.9236,
             -40.8133
            ],
            [
             175.86662775740743,
             -40.822246081629494
            ],
            [
             175.8817387682395,
             -40.86009843945935
            ],
            [
             175.93870897037957,
             -40.85115235814093
            ],
            [
             175.95382918000976,
             -40.846011198883396
            ],
            [
             175.9387213818272,
             -40.80815884056372
            ]
           ]
          ],
          "type": "Polygon"
         },
         "id": "('CRU', 287882)",
         "properties": {
          "Area (m^2)": 1097820200,
          "AseismicSlipFactor": 0,
          "Average Rake (degrees)": -178.29486,
          "CouplingCoeff": 1,
          "DipDeg": 70,
          "DipDir": 163.2,
          "FaultID": 1202,
          "FaultName": "Mokonui Northeast, Subsection 2",
          "Length (m)": 74297.164,
          "LowDepth": 12.08,
          "Magnitude": 7.2405276,
          "ParentID": 270,
          "ParentName": "Mokonui Northeast",
          "Rake": -160,
          "Rupture Index": 287882,
          "Target Slip Rate": 0.0020925,
          "Target Slip Rate StdDev": 0.00056059,
          "UpDepth": 0,
          "fault_system": "CRU",
          "key_0": 287882,
          "rate_count": 24,
          "rate_max": 0.00016329637,
          "rate_min": 5.1836705e-05,
          "rate_weighted_mean": 7.190988e-05,
          "section": 1202
         },
         "type": "Feature"
        },
        {
         "geometry": {
          "coordinates": [
           [
            [
             175.86662775740743,
             -40.822246081629494
            ],
            [
             175.79340000000005,
             -40.833699999999986
            ],
            [
             175.8085136246231,
             -40.87155235743142
            ],
            [
             175.8817387682395,
             -40.86009843945935
            ],
            [
             175.86662775740743,
             -40.822246081629494
            ]
           ]
          ],
          "type": "Polygon"
         },
         "id": "('CRU', 287882)",
         "properties": {
          "Area (m^2)": 1097820200,
          "AseismicSlipFactor": 0,
          "Average Rake (degrees)": -178.29486,
          "CouplingCoeff": 1,
          "DipDeg": 70,
          "DipDir": 163.2,
          "FaultID": 1203,
          "FaultName": "Mokonui Northeast, Subsection 3",
          "Length (m)": 74297.164,
          "LowDepth": 12.08,
          "Magnitude": 7.2405276,
          "ParentID": 270,
          "ParentName": "Mokonui Northeast",
          "Rake": -160,
          "Rupture Index": 287882,
          "Target Slip Rate": 0.0020925,
          "Target Slip Rate StdDev": 0.00056059,
          "UpDepth": 0,
          "fault_system": "CRU",
          "key_0": 287882,
          "rate_count": 24,
          "rate_max": 0.00016329637,
          "rate_min": 5.1836705e-05,
          "rate_weighted_mean": 7.190988e-05,
          "section": 1203
         },
         "type": "Feature"
        },
        {
         "geometry": {
          "coordinates": [
           [
            175.7934,
            -40.8337
           ],
           [
            175.7625,
            -40.8484
           ],
           [
            175.72582369450686,
            -40.861212224144516
           ]
          ],
          "type": "LineString"
         },
         "id": "('CRU', 287882)",
         "properties": {
          "Area (m^2)": 1097820200,
          "AseismicSlipFactor": 0,
          "Average Rake (degrees)": -178.29486,
          "CouplingCoeff": 1,
          "DipDeg": 90,
          "DipDir": 152.6,
          "FaultID": 1204,
          "FaultName": "Mokonui Southwest, Subsection 0",
          "Length (m)": 74297.164,
          "LowDepth": 14.719999999999999,
          "Magnitude": 7.2405276,
          "ParentID": 271,
          "ParentName": "Mokonui Southwest",
          "Rake": 180,
          "Rupture Index": 287882,
          "Target Slip Rate": 0.0015075,
          "Target Slip Rate StdDev": 0.00048957,
          "UpDepth": 0,
          "fault_system": "CRU",
          "key_0": 287882,
          "rate_count": 24,
          "rate_max": 0.00016329637,
          "rate_min": 5.1836705e-05,
          "rate_weighted_mean": 7.190988e-05,
          "section": 1204
         },
         "type": "Feature"
        },
        {
         "geometry": {
          "coordinates": [
           [
            175.72582369450686,
            -40.861212224144516
           ],
           [
            175.65596327212657,
            -40.885570914194375
           ]
          ],
          "type": "LineString"
         },
         "id": "('CRU', 287882)",
         "properties": {
          "Area (m^2)": 1097820200,
          "AseismicSlipFactor": 0,
          "Average Rake (degrees)": -178.29486,
          "CouplingCoeff": 1,
          "DipDeg": 90,
          "DipDir": 152.6,
          "FaultID": 1205,
          "FaultName": "Mokonui Southwest, Subsection 1",
          "Length (m)": 74297.164,
          "LowDepth": 14.719999999999999,
          "Magnitude": 7.2405276,
          "ParentID": 271,
          "ParentName": "Mokonui Southwest",
          "Rake": 180,
          "Rupture Index": 287882,
          "Target Slip Rate": 0.0015075,
          "Target Slip Rate StdDev": 0.00048957,
          "UpDepth": 0,
          "fault_system": "CRU",
          "key_0": 287882,
          "rate_count": 24,
          "rate_max": 0.00016329637,
          "rate_min": 5.1836705e-05,
          "rate_weighted_mean": 7.190988e-05,
          "section": 1205
         },
         "type": "Feature"
        },
        {
         "geometry": {
          "coordinates": [
           [
            175.65596327212657,
            -40.885570914194375
           ],
           [
            175.6487,
            -40.8881
           ],
           [
            175.608,
            -40.9133
           ],
           [
            175.59377765924785,
            -40.91940205261107
           ]
          ],
          "type": "LineString"
         },
         "id": "('CRU', 287882)",
         "properties": {
          "Area (m^2)": 1097820200,
          "AseismicSlipFactor": 0,
          "Average Rake (degrees)": -178.29486,
          "CouplingCoeff": 1,
          "DipDeg": 90,
          "DipDir": 152.6,
          "FaultID": 1206,
          "FaultName": "Mokonui Southwest, Subsection 2",
          "Length (m)": 74297.164,
          "LowDepth": 14.719999999999999,
          "Magnitude": 7.2405276,
          "ParentID": 271,
          "ParentName": "Mokonui Southwest",
          "Rake": 180,
          "Rupture Index": 287882,
          "Target Slip Rate": 0.0007875,
          "Target Slip Rate StdDev": 0.00042024,
          "UpDepth": 0,
          "fault_system": "CRU",
          "key_0": 287882,
          "rate_count": 24,
          "rate_max": 0.00016329637,
          "rate_min": 5.1836705e-05,
          "rate_weighted_mean": 7.190988e-05,
          "section": 1206
         },
         "type": "Feature"
        },
        {
         "geometry": {
          "coordinates": [
           [
            175.59377765924785,
            -40.91940205261107
           ],
           [
            175.52680000000004,
            -40.94809999999998
           ]
          ],
          "type": "LineString"
         },
         "id": "('CRU', 287882)",
         "properties": {
          "Area (m^2)": 1097820200,
          "AseismicSlipFactor": 0,
          "Average Rake (degrees)": -178.29486,
          "CouplingCoeff": 1,
          "DipDeg": 90,
          "DipDir": 152.6,
          "FaultID": 1207,
          "FaultName": "Mokonui Southwest, Subsection 3",
          "Length (m)": 74297.164,
          "LowDepth": 14.719999999999999,
          "Magnitude": 7.2405276,
          "ParentID": 271,
          "ParentName": "Mokonui Southwest",
          "Rake": 180,
          "Rupture Index": 287882,
          "Target Slip Rate": 0.0007875,
          "Target Slip Rate StdDev": 0.00042024,
          "UpDepth": 0,
          "fault_system": "CRU",
          "key_0": 287882,
          "rate_count": 24,
          "rate_max": 0.00016329637,
          "rate_min": 5.1836705e-05,
          "rate_weighted_mean": 7.190988e-05,
          "section": 1207
         },
         "type": "Feature"
        },
        {
         "geometry": {
          "coordinates": [
           [
            [
             175.60881796773072,
             -40.96057042440613
            ],
            [
             175.5877,
             -40.9682
            ],
            [
             175.54348275532178,
             -40.9708403543804
            ],
            [
             175.5632165738695,
             -41.02275985636053
            ],
            [
             175.6074330274443,
             -41.02011950213672
            ],
            [
             175.62854870979223,
             -41.012489926995286
            ],
            [
             175.60881796773072,
             -40.96057042440613
            ]
           ]
          ],
          "type": "Polygon"
         },
         "id": "('CRU', 287882)",
         "properties": {
          "Area (m^2)": 1097820200,
          "AseismicSlipFactor": 0,
          "Average Rake (degrees)": -178.29486,
          "CouplingCoeff": 1,
          "DipDeg": 65,
          "DipDir": 164,
          "FaultID": 1127,
          "FaultName": "Masterton, Subsection 2",
          "Length (m)": 74297.164,
          "LowDepth": 12.880000000000003,
          "Magnitude": 7.2405276,
          "ParentID": 257,
          "ParentName": "Masterton",
          "Rake": -160,
          "Rupture Index": 287882,
          "Target Slip Rate": 0.0006525,
          "Target Slip Rate StdDev": 0.00053003,
          "UpDepth": 0,
          "fault_system": "CRU",
          "key_0": 287882,
          "rate_count": 24,
          "rate_max": 0.00016329637,
          "rate_min": 5.1836705e-05,
          "rate_weighted_mean": 7.190988e-05,
          "section": 1127
         },
         "type": "Feature"
        },
        {
         "geometry": {
          "coordinates": [
           [
            [
             175.3538620781445,
             -41.082850233333595
            ],
            [
             175.3604,
             -41.0778
            ],
            [
             175.3734,
             -41.0708
            ],
            [
             175.4313,
             -41.0298
            ],
            [
             175.38231641408032,
             -40.9894392537166
            ],
            [
             175.3243859237509,
             -41.030439238723886
            ],
            [
             175.31138071178165,
             -41.03743923616231
            ],
            [
             175.30483902854604,
             -41.04248946764746
            ],
            [
             175.3538620781445,
             -41.082850233333595
            ]
           ]
          ],
          "type": "Polygon"
         },
         "id": "('CRU', 287882)",
         "properties": {
          "Area (m^2)": 1097820200,
          "AseismicSlipFactor": 0,
          "Average Rake (degrees)": -178.29486,
          "CouplingCoeff": 1,
          "DipDeg": 70,
          "DipDir": 317.5,
          "FaultID": 2107,
          "FaultName": "Wairarapa: 2, Subsection 3",
          "Length (m)": 74297.164,
          "LowDepth": 16.72,
          "Magnitude": 7.2405276,
          "ParentID": 507,
          "ParentName": "Wairarapa: 2",
          "Rake": 160,
          "Rupture Index": 287882,
          "Target Slip Rate": 0.0055125,
          "Target Slip Rate StdDev": 0.0005561300000000001,
          "UpDepth": 0,
          "fault_system": "CRU",
          "key_0": 287882,
          "rate_count": 24,
          "rate_max": 0.00016329637,
          "rate_min": 5.1836705e-05,
          "rate_weighted_mean": 7.190988e-05,
          "section": 2107
         },
         "type": "Feature"
        },
        {
         "geometry": {
          "coordinates": [
           [
            [
             175.28060121506388,
             -41.139362472373996
            ],
            [
             175.3538620781445,
             -41.082850233333595
            ],
            [
             175.30483902854604,
             -41.04248946764746
            ],
            [
             175.23153601010893,
             -41.09900168598449
            ],
            [
             175.28060121506388,
             -41.139362472373996
            ]
           ]
          ],
          "type": "Polygon"
         },
         "id": "('CRU', 287882)",
         "properties": {
          "Area (m^2)": 1097820200,
          "AseismicSlipFactor": 0,
          "Average Rake (degrees)": -178.29486,
          "CouplingCoeff": 1,
          "DipDeg": 70,
          "DipDir": 317.5,
          "FaultID": 2106,
          "FaultName": "Wairarapa: 2, Subsection 2",
          "Length (m)": 74297.164,
          "LowDepth": 16.72,
          "Magnitude": 7.2405276,
          "ParentID": 507,
          "ParentName": "Wairarapa: 2",
          "Rake": 160,
          "Rupture Index": 287882,
          "Target Slip Rate": 0.0053325,
          "Target Slip Rate StdDev": 0.0005425100000000001,
          "UpDepth": 0,
          "fault_system": "CRU",
          "key_0": 287882,
          "rate_count": 24,
          "rate_max": 0.00016329637,
          "rate_min": 5.1836705e-05,
          "rate_weighted_mean": 7.190988e-05,
          "section": 2106
         },
         "type": "Feature"
        }
       ],
       "type": "FeatureCollection"
      },
      "text/plain": [
       "<IPython.display.GeoJSON object>"
      ]
     },
     "metadata": {
      "application/geo+json": {
       "expanded": false,
       "root": "root"
      }
     },
     "output_type": "display_data"
    }
   ],
   "source": [
    "# let's pick one rupture and display it\n",
    "surface = fss.rupture_surface(mro_ids[5])\n",
    "GeoJSON(json.loads(surface.to_json()))"
   ]
  }
 ],
 "metadata": {
  "kernelspec": {
   "display_name": "Python 3 (ipykernel)",
   "language": "python",
   "name": "python3"
  },
  "language_info": {
   "codemirror_mode": {
    "name": "ipython",
    "version": 3
   },
   "file_extension": ".py",
   "mimetype": "text/x-python",
   "name": "python",
   "nbconvert_exporter": "python",
   "pygments_lexer": "ipython3",
   "version": "3.11.6"
  }
 },
 "nbformat": 4,
 "nbformat_minor": 5
}
