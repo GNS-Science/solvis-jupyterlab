{
 "cells": [
  {
   "cell_type": "markdown",
   "id": "82c2af9b-c9fe-48db-8c91-0387125ce672",
   "metadata": {
    "editable": true,
    "slideshow": {
     "slide_type": ""
    },
    "tags": []
   },
   "source": [
    "# A solvis demo with the NSHM Composite Solution"
   ]
  },
  {
   "cell_type": "markdown",
   "id": "5bf90f20-a41b-4ae2-a137-37af986903c0",
   "metadata": {},
   "source": [
    "  "
   ]
  },
  {
   "cell_type": "code",
   "execution_count": 4,
   "id": "8ed96b93-fadf-42a5-a8df-7b0afc563b50",
   "metadata": {},
   "outputs": [
    {
     "name": "stderr",
     "output_type": "stream",
     "text": [
      "warning openquake module dependency not available, maybe you want to install\n",
      "                with nzshm-model[openquake]\n"
     ]
    },
    {
     "name": "stdout",
     "output_type": "stream",
     "text": [
      "Running without `toshi` options\n",
      "WARNING: geometry.section_distance() uses the optional dependency pyvista.\n"
     ]
    }
   ],
   "source": [
    "import os\n",
    "import pathlib\n",
    "import json\n",
    "from IPython.display import GeoJSON\n",
    "\n",
    "import nzshm_model as nm\n",
    "import solvis"
   ]
  },
  {
   "cell_type": "code",
   "execution_count": 5,
   "id": "d6eec080-f7b9-441f-a3bc-50991f675b7b",
   "metadata": {},
   "outputs": [],
   "source": [
    "# prepare our NSHM composite solution\n",
    "current_model = nm.get_model_version(\"NSHM_v1.0.4\")\n",
    "slt = current_model.source_logic_tree"
   ]
  },
  {
   "cell_type": "code",
   "execution_count": 6,
   "id": "7ae29bed-3458-428f-875d-551c848387a7",
   "metadata": {},
   "outputs": [],
   "source": [
    "# load the composite_solution and shoose the Cruslal FaultSystemSolution\n",
    "csol = solvis.CompositeSolution.from_archive(\"NSHM_v1.0.4_CompositeSolution.zip\", slt)\n",
    "fss = csol._solutions['CRU']"
   ]
  },
  {
   "cell_type": "code",
   "execution_count": 7,
   "id": "d0c843cf-bd4d-49ed-8a64-57b5a6aeeb16",
   "metadata": {},
   "outputs": [],
   "source": [
    "# try our new filtering\n",
    "from solvis.fault_system_solution_helper import FaultSystemSolutionHelper"
   ]
  },
  {
   "cell_type": "code",
   "execution_count": 8,
   "id": "b632cea2-3d67-4c54-8a2f-e1f8713e0f0c",
   "metadata": {},
   "outputs": [],
   "source": [
    "helper = FaultSystemSolutionHelper(fss)"
   ]
  },
  {
   "cell_type": "code",
   "execution_count": 9,
   "id": "8fa2ad18-96ba-4e42-98ac-37da41bad6f4",
   "metadata": {},
   "outputs": [
    {
     "name": "stdout",
     "output_type": "stream",
     "text": [
      "fault_sections\n",
      "      ParentID        ParentName\n",
      "0            0             Acton\n",
      "1            0             Acton\n",
      "2            0             Acton\n",
      "3            1           Aka Aka\n",
      "4            1           Aka Aka\n",
      "...        ...               ...\n",
      "2320       555  Whitemans Valley\n",
      "2321       555  Whitemans Valley\n",
      "2322       555  Whitemans Valley\n",
      "2323       556         Woodville\n",
      "2324       556         Woodville\n",
      "\n",
      "[2325 rows x 2 columns]\n",
      "          rupture  section\n",
      "0               0      0.0\n",
      "1               0      1.0\n",
      "2               1      0.0\n",
      "3               1      1.0\n",
      "4               1   1302.0\n",
      "...           ...      ...\n",
      "19773512   411269   2206.0\n",
      "19773513   411269   2207.0\n",
      "19773514   411269   2202.0\n",
      "19773515   411269   2204.0\n",
      "19773516   411269   2203.0\n",
      "\n",
      "[19773517 rows x 2 columns]\n"
     ]
    },
    {
     "data": {
      "text/plain": [
       "{9, 265110}"
      ]
     },
     "execution_count": 9,
     "metadata": {},
     "output_type": "execute_result"
    }
   ],
   "source": [
    "# help(helper.subsections_for_faults)\n",
    "subsections = helper.ruptures_for_parent_fault_names(['Aka Aka'])\n",
    "subsections"
   ]
  },
  {
   "cell_type": "markdown",
   "id": "e0712d4e-ee44-4d25-9fbc-c589ffeb58b7",
   "metadata": {},
   "source": [
    "## display the surface geometry of a fault"
   ]
  },
  {
   "cell_type": "code",
   "execution_count": 10,
   "id": "d80408cb-3211-487f-8869-9e3e940562ea",
   "metadata": {
    "scrolled": true
   },
   "outputs": [
    {
     "data": {
      "text/html": [
       "<div>\n",
       "<style scoped>\n",
       "    .dataframe tbody tr th:only-of-type {\n",
       "        vertical-align: middle;\n",
       "    }\n",
       "\n",
       "    .dataframe tbody tr th {\n",
       "        vertical-align: top;\n",
       "    }\n",
       "\n",
       "    .dataframe thead th {\n",
       "        text-align: right;\n",
       "    }\n",
       "</style>\n",
       "<table border=\"1\" class=\"dataframe\">\n",
       "  <thead>\n",
       "    <tr style=\"text-align: right;\">\n",
       "      <th></th>\n",
       "      <th>FaultID</th>\n",
       "      <th>FaultName</th>\n",
       "      <th>DipDeg</th>\n",
       "      <th>Rake</th>\n",
       "      <th>LowDepth</th>\n",
       "      <th>UpDepth</th>\n",
       "      <th>DipDir</th>\n",
       "      <th>AseismicSlipFactor</th>\n",
       "      <th>CouplingCoeff</th>\n",
       "      <th>ParentID</th>\n",
       "      <th>ParentName</th>\n",
       "      <th>geometry</th>\n",
       "      <th>Target Slip Rate</th>\n",
       "      <th>Target Slip Rate StdDev</th>\n",
       "    </tr>\n",
       "  </thead>\n",
       "  <tbody>\n",
       "    <tr>\n",
       "      <th>189</th>\n",
       "      <td>189</td>\n",
       "      <td>BooBoo, Subsection 0</td>\n",
       "      <td>70.0</td>\n",
       "      <td>-160.0</td>\n",
       "      <td>15.04</td>\n",
       "      <td>0.0</td>\n",
       "      <td>358.7</td>\n",
       "      <td>0.0</td>\n",
       "      <td>1.0</td>\n",
       "      <td>48</td>\n",
       "      <td>BooBoo</td>\n",
       "      <td>POLYGON ((175.52260 -41.68570, 175.43038 -41.6...</td>\n",
       "      <td>0.007470</td>\n",
       "      <td>0.000606</td>\n",
       "    </tr>\n",
       "    <tr>\n",
       "      <th>190</th>\n",
       "      <td>190</td>\n",
       "      <td>BooBoo, Subsection 1</td>\n",
       "      <td>70.0</td>\n",
       "      <td>-160.0</td>\n",
       "      <td>15.04</td>\n",
       "      <td>0.0</td>\n",
       "      <td>358.7</td>\n",
       "      <td>0.0</td>\n",
       "      <td>1.0</td>\n",
       "      <td>48</td>\n",
       "      <td>BooBoo</td>\n",
       "      <td>POLYGON ((175.43038 -41.67794, 175.33930 -41.6...</td>\n",
       "      <td>0.003645</td>\n",
       "      <td>0.000952</td>\n",
       "    </tr>\n",
       "    <tr>\n",
       "      <th>191</th>\n",
       "      <td>191</td>\n",
       "      <td>BooBoo, Subsection 2</td>\n",
       "      <td>70.0</td>\n",
       "      <td>-160.0</td>\n",
       "      <td>15.04</td>\n",
       "      <td>0.0</td>\n",
       "      <td>358.7</td>\n",
       "      <td>0.0</td>\n",
       "      <td>1.0</td>\n",
       "      <td>48</td>\n",
       "      <td>BooBoo</td>\n",
       "      <td>POLYGON ((175.33817 -41.67021, 175.24539 -41.6...</td>\n",
       "      <td>0.003645</td>\n",
       "      <td>0.000952</td>\n",
       "    </tr>\n",
       "    <tr>\n",
       "      <th>192</th>\n",
       "      <td>192</td>\n",
       "      <td>BooBoo, Subsection 3</td>\n",
       "      <td>70.0</td>\n",
       "      <td>-160.0</td>\n",
       "      <td>15.04</td>\n",
       "      <td>0.0</td>\n",
       "      <td>358.7</td>\n",
       "      <td>0.0</td>\n",
       "      <td>1.0</td>\n",
       "      <td>48</td>\n",
       "      <td>BooBoo</td>\n",
       "      <td>POLYGON ((175.24539 -41.67108, 175.15260 -41.6...</td>\n",
       "      <td>0.003915</td>\n",
       "      <td>0.000959</td>\n",
       "    </tr>\n",
       "    <tr>\n",
       "      <th>193</th>\n",
       "      <td>193</td>\n",
       "      <td>BooBoo, Subsection 4</td>\n",
       "      <td>70.0</td>\n",
       "      <td>-160.0</td>\n",
       "      <td>15.04</td>\n",
       "      <td>0.0</td>\n",
       "      <td>358.7</td>\n",
       "      <td>0.0</td>\n",
       "      <td>1.0</td>\n",
       "      <td>48</td>\n",
       "      <td>BooBoo</td>\n",
       "      <td>POLYGON ((175.15260 -41.67188, 175.13750 -41.6...</td>\n",
       "      <td>0.004140</td>\n",
       "      <td>0.000918</td>\n",
       "    </tr>\n",
       "    <tr>\n",
       "      <th>194</th>\n",
       "      <td>194</td>\n",
       "      <td>BooBoo, Subsection 5</td>\n",
       "      <td>70.0</td>\n",
       "      <td>-160.0</td>\n",
       "      <td>15.04</td>\n",
       "      <td>0.0</td>\n",
       "      <td>358.7</td>\n",
       "      <td>0.0</td>\n",
       "      <td>1.0</td>\n",
       "      <td>48</td>\n",
       "      <td>BooBoo</td>\n",
       "      <td>POLYGON ((175.05982 -41.67264, 174.96703 -41.6...</td>\n",
       "      <td>0.004365</td>\n",
       "      <td>0.000878</td>\n",
       "    </tr>\n",
       "    <tr>\n",
       "      <th>195</th>\n",
       "      <td>195</td>\n",
       "      <td>BooBoo, Subsection 6</td>\n",
       "      <td>70.0</td>\n",
       "      <td>-160.0</td>\n",
       "      <td>15.04</td>\n",
       "      <td>0.0</td>\n",
       "      <td>358.7</td>\n",
       "      <td>0.0</td>\n",
       "      <td>1.0</td>\n",
       "      <td>48</td>\n",
       "      <td>BooBoo</td>\n",
       "      <td>POLYGON ((174.96703 -41.67333, 174.91280 -41.6...</td>\n",
       "      <td>0.003285</td>\n",
       "      <td>0.000884</td>\n",
       "    </tr>\n",
       "    <tr>\n",
       "      <th>196</th>\n",
       "      <td>196</td>\n",
       "      <td>BooBoo, Subsection 7</td>\n",
       "      <td>70.0</td>\n",
       "      <td>-160.0</td>\n",
       "      <td>15.04</td>\n",
       "      <td>0.0</td>\n",
       "      <td>358.7</td>\n",
       "      <td>0.0</td>\n",
       "      <td>1.0</td>\n",
       "      <td>48</td>\n",
       "      <td>BooBoo</td>\n",
       "      <td>POLYGON ((174.87581 -41.68186, 174.78678 -41.7...</td>\n",
       "      <td>0.002745</td>\n",
       "      <td>0.000898</td>\n",
       "    </tr>\n",
       "    <tr>\n",
       "      <th>197</th>\n",
       "      <td>197</td>\n",
       "      <td>BooBoo, Subsection 8</td>\n",
       "      <td>70.0</td>\n",
       "      <td>-160.0</td>\n",
       "      <td>15.04</td>\n",
       "      <td>0.0</td>\n",
       "      <td>358.7</td>\n",
       "      <td>0.0</td>\n",
       "      <td>1.0</td>\n",
       "      <td>48</td>\n",
       "      <td>BooBoo</td>\n",
       "      <td>POLYGON ((174.78678 -41.70146, 174.69990 -41.7...</td>\n",
       "      <td>0.002070</td>\n",
       "      <td>0.000866</td>\n",
       "    </tr>\n",
       "    <tr>\n",
       "      <th>198</th>\n",
       "      <td>198</td>\n",
       "      <td>BooBoo, Subsection 9</td>\n",
       "      <td>70.0</td>\n",
       "      <td>-160.0</td>\n",
       "      <td>15.04</td>\n",
       "      <td>0.0</td>\n",
       "      <td>358.7</td>\n",
       "      <td>0.0</td>\n",
       "      <td>1.0</td>\n",
       "      <td>48</td>\n",
       "      <td>BooBoo</td>\n",
       "      <td>POLYGON ((174.69761 -41.72030, 174.60538 -41.7...</td>\n",
       "      <td>0.001395</td>\n",
       "      <td>0.000834</td>\n",
       "    </tr>\n",
       "    <tr>\n",
       "      <th>199</th>\n",
       "      <td>199</td>\n",
       "      <td>BooBoo, Subsection 10</td>\n",
       "      <td>70.0</td>\n",
       "      <td>-160.0</td>\n",
       "      <td>15.04</td>\n",
       "      <td>0.0</td>\n",
       "      <td>358.7</td>\n",
       "      <td>0.0</td>\n",
       "      <td>1.0</td>\n",
       "      <td>48</td>\n",
       "      <td>BooBoo</td>\n",
       "      <td>POLYGON ((174.60538 -41.71233, 174.51316 -41.7...</td>\n",
       "      <td>0.001215</td>\n",
       "      <td>0.000868</td>\n",
       "    </tr>\n",
       "    <tr>\n",
       "      <th>200</th>\n",
       "      <td>200</td>\n",
       "      <td>BooBoo, Subsection 11</td>\n",
       "      <td>70.0</td>\n",
       "      <td>-160.0</td>\n",
       "      <td>15.04</td>\n",
       "      <td>0.0</td>\n",
       "      <td>358.7</td>\n",
       "      <td>0.0</td>\n",
       "      <td>1.0</td>\n",
       "      <td>48</td>\n",
       "      <td>BooBoo</td>\n",
       "      <td>POLYGON ((174.51316 -41.70428, 174.47020 -41.7...</td>\n",
       "      <td>0.001215</td>\n",
       "      <td>0.000868</td>\n",
       "    </tr>\n",
       "  </tbody>\n",
       "</table>\n",
       "</div>"
      ],
      "text/plain": [
       "     FaultID              FaultName  DipDeg   Rake  LowDepth  UpDepth  DipDir  \\\n",
       "189      189   BooBoo, Subsection 0    70.0 -160.0     15.04      0.0   358.7   \n",
       "190      190   BooBoo, Subsection 1    70.0 -160.0     15.04      0.0   358.7   \n",
       "191      191   BooBoo, Subsection 2    70.0 -160.0     15.04      0.0   358.7   \n",
       "192      192   BooBoo, Subsection 3    70.0 -160.0     15.04      0.0   358.7   \n",
       "193      193   BooBoo, Subsection 4    70.0 -160.0     15.04      0.0   358.7   \n",
       "194      194   BooBoo, Subsection 5    70.0 -160.0     15.04      0.0   358.7   \n",
       "195      195   BooBoo, Subsection 6    70.0 -160.0     15.04      0.0   358.7   \n",
       "196      196   BooBoo, Subsection 7    70.0 -160.0     15.04      0.0   358.7   \n",
       "197      197   BooBoo, Subsection 8    70.0 -160.0     15.04      0.0   358.7   \n",
       "198      198   BooBoo, Subsection 9    70.0 -160.0     15.04      0.0   358.7   \n",
       "199      199  BooBoo, Subsection 10    70.0 -160.0     15.04      0.0   358.7   \n",
       "200      200  BooBoo, Subsection 11    70.0 -160.0     15.04      0.0   358.7   \n",
       "\n",
       "     AseismicSlipFactor  CouplingCoeff  ParentID ParentName  \\\n",
       "189                 0.0            1.0        48     BooBoo   \n",
       "190                 0.0            1.0        48     BooBoo   \n",
       "191                 0.0            1.0        48     BooBoo   \n",
       "192                 0.0            1.0        48     BooBoo   \n",
       "193                 0.0            1.0        48     BooBoo   \n",
       "194                 0.0            1.0        48     BooBoo   \n",
       "195                 0.0            1.0        48     BooBoo   \n",
       "196                 0.0            1.0        48     BooBoo   \n",
       "197                 0.0            1.0        48     BooBoo   \n",
       "198                 0.0            1.0        48     BooBoo   \n",
       "199                 0.0            1.0        48     BooBoo   \n",
       "200                 0.0            1.0        48     BooBoo   \n",
       "\n",
       "                                              geometry  Target Slip Rate  \\\n",
       "189  POLYGON ((175.52260 -41.68570, 175.43038 -41.6...          0.007470   \n",
       "190  POLYGON ((175.43038 -41.67794, 175.33930 -41.6...          0.003645   \n",
       "191  POLYGON ((175.33817 -41.67021, 175.24539 -41.6...          0.003645   \n",
       "192  POLYGON ((175.24539 -41.67108, 175.15260 -41.6...          0.003915   \n",
       "193  POLYGON ((175.15260 -41.67188, 175.13750 -41.6...          0.004140   \n",
       "194  POLYGON ((175.05982 -41.67264, 174.96703 -41.6...          0.004365   \n",
       "195  POLYGON ((174.96703 -41.67333, 174.91280 -41.6...          0.003285   \n",
       "196  POLYGON ((174.87581 -41.68186, 174.78678 -41.7...          0.002745   \n",
       "197  POLYGON ((174.78678 -41.70146, 174.69990 -41.7...          0.002070   \n",
       "198  POLYGON ((174.69761 -41.72030, 174.60538 -41.7...          0.001395   \n",
       "199  POLYGON ((174.60538 -41.71233, 174.51316 -41.7...          0.001215   \n",
       "200  POLYGON ((174.51316 -41.70428, 174.47020 -41.7...          0.001215   \n",
       "\n",
       "     Target Slip Rate StdDev  \n",
       "189                 0.000606  \n",
       "190                 0.000952  \n",
       "191                 0.000952  \n",
       "192                 0.000959  \n",
       "193                 0.000918  \n",
       "194                 0.000878  \n",
       "195                 0.000884  \n",
       "196                 0.000898  \n",
       "197                 0.000866  \n",
       "198                 0.000834  \n",
       "199                 0.000868  \n",
       "200                 0.000868  "
      ]
     },
     "execution_count": 10,
     "metadata": {},
     "output_type": "execute_result"
    }
   ],
   "source": [
    "surfaces = fss.fault_surfaces()\n",
    "mro_surface = surfaces[surfaces.ParentName==\"BooBoo\"]\n",
    "\n",
    "# A fault in MAsterton having 4 subsections\n",
    "mro_surface # display the dataframe"
   ]
  },
  {
   "cell_type": "code",
   "execution_count": 11,
   "id": "aed8fa75-4378-44f7-9537-48dcad8b4652",
   "metadata": {},
   "outputs": [
    {
     "data": {
      "application/geo+json": {
       "features": [
        {
         "geometry": {
          "coordinates": [
           [
            [
             175.5226,
             -41.6857
            ],
            [
             175.4303776571378,
             -41.67793893863472
            ],
            [
             175.42888341603182,
             -41.62872178102951
            ],
            [
             175.52110557897444,
             -41.63648284239216
            ],
            [
             175.5226,
             -41.6857
            ]
           ]
          ],
          "type": "Polygon"
         },
         "id": "189",
         "properties": {
          "AseismicSlipFactor": 0,
          "CouplingCoeff": 1,
          "DipDeg": 70,
          "DipDir": 358.7,
          "FaultID": 189,
          "FaultName": "BooBoo, Subsection 0",
          "LowDepth": 15.040000000000001,
          "ParentID": 48,
          "ParentName": "BooBoo",
          "Rake": -160,
          "Target Slip Rate": 0.00747,
          "Target Slip Rate StdDev": 0.00060612,
          "UpDepth": 0
         },
         "type": "Feature"
        },
        {
         "geometry": {
          "coordinates": [
           [
            [
             175.4303776571378,
             -41.67793893863472
            ],
            [
             175.3393,
             -41.6702
            ],
            [
             175.33817044837744,
             -41.67021105793954
            ],
            [
             175.3366763863516,
             -41.62099390033697
            ],
            [
             175.33780593823036,
             -41.62098284239743
            ],
            [
             175.42888341603182,
             -41.62872178102951
            ],
            [
             175.4303776571378,
             -41.67793893863472
            ]
           ]
          ],
          "type": "Polygon"
         },
         "id": "190",
         "properties": {
          "AseismicSlipFactor": 0,
          "CouplingCoeff": 1,
          "DipDeg": 70,
          "DipDir": 358.7,
          "FaultID": 190,
          "FaultName": "BooBoo, Subsection 1",
          "LowDepth": 15.040000000000001,
          "ParentID": 48,
          "ParentName": "BooBoo",
          "Rake": -160,
          "Target Slip Rate": 0.003645,
          "Target Slip Rate StdDev": 0.00095205,
          "UpDepth": 0
         },
         "type": "Feature"
        },
        {
         "geometry": {
          "coordinates": [
           [
            [
             175.33817044837744,
             -41.67021105793954
            ],
            [
             175.24538790354475,
             -41.67108159340869
            ],
            [
             175.24389382134927,
             -41.62186443580582
            ],
            [
             175.3366763863516,
             -41.62099390033697
            ],
            [
             175.33817044837744,
             -41.67021105793954
            ]
           ]
          ],
          "type": "Polygon"
         },
         "id": "191",
         "properties": {
          "AseismicSlipFactor": 0,
          "CouplingCoeff": 1,
          "DipDeg": 70,
          "DipDir": 358.7,
          "FaultID": 191,
          "FaultName": "BooBoo, Subsection 2",
          "LowDepth": 15.040000000000001,
          "ParentID": 48,
          "ParentName": "BooBoo",
          "Rake": -160,
          "Target Slip Rate": 0.003645,
          "Target Slip Rate StdDev": 0.00095205,
          "UpDepth": 0
         },
         "type": "Feature"
        },
        {
         "geometry": {
          "coordinates": [
           [
            [
             175.24538790354475,
             -41.67108159340869
            ],
            [
             175.1526029567716,
             -41.67187750932664
            ],
            [
             175.15110885613458,
             -41.622660351723496
            ],
            [
             175.24389382134927,
             -41.62186443580582
            ],
            [
             175.24538790354475,
             -41.67108159340869
            ]
           ]
          ],
          "type": "Polygon"
         },
         "id": "192",
         "properties": {
          "AseismicSlipFactor": 0,
          "CouplingCoeff": 1,
          "DipDeg": 70,
          "DipDir": 358.7,
          "FaultID": 192,
          "FaultName": "BooBoo, Subsection 3",
          "LowDepth": 15.040000000000001,
          "ParentID": 48,
          "ParentName": "BooBoo",
          "Rake": -160,
          "Target Slip Rate": 0.003915,
          "Target Slip Rate StdDev": 0.00095856,
          "UpDepth": 0
         },
         "type": "Feature"
        },
        {
         "geometry": {
          "coordinates": [
           [
            [
             175.1526029567716,
             -41.67187750932664
            ],
            [
             175.1375,
             -41.672
            ],
            [
             175.05981634785223,
             -41.67263723402611
            ],
            [
             175.05832222961155,
             -41.62342007642272
            ],
            [
             175.13600589652475,
             -41.62278284239681
            ],
            [
             175.15110885613458,
             -41.622660351723496
            ],
            [
             175.1526029567716,
             -41.67187750932664
            ]
           ]
          ],
          "type": "Polygon"
         },
         "id": "193",
         "properties": {
          "AseismicSlipFactor": 0,
          "CouplingCoeff": 1,
          "DipDeg": 70,
          "DipDir": 358.7,
          "FaultID": 193,
          "FaultName": "BooBoo, Subsection 4",
          "LowDepth": 15.040000000000001,
          "ParentID": 48,
          "ParentName": "BooBoo",
          "Rake": -160,
          "Target Slip Rate": 0.00414,
          "Target Slip Rate StdDev": 0.00091835,
          "UpDepth": 0
         },
         "type": "Feature"
        },
        {
         "geometry": {
          "coordinates": [
           [
            [
             175.05981634785223,
             -41.67263723402611
            ],
            [
             174.96702774749477,
             -41.673329804387485
            ],
            [
             174.96553361320588,
             -41.62411264678386
            ],
            [
             175.05832222961155,
             -41.62342007642272
            ],
            [
             175.05981634785223,
             -41.67263723402611
            ]
           ]
          ],
          "type": "Polygon"
         },
         "id": "194",
         "properties": {
          "AseismicSlipFactor": 0,
          "CouplingCoeff": 1,
          "DipDeg": 70,
          "DipDir": 358.7,
          "FaultID": 194,
          "FaultName": "BooBoo, Subsection 5",
          "LowDepth": 15.040000000000001,
          "ParentID": 48,
          "ParentName": "BooBoo",
          "Rake": -160,
          "Target Slip Rate": 0.004365,
          "Target Slip Rate StdDev": 0.00087814,
          "UpDepth": 0
         },
         "type": "Feature"
        },
        {
         "geometry": {
          "coordinates": [
           [
            [
             174.96702774749477,
             -41.673329804387485
            ],
            [
             174.9128,
             -41.6737
            ],
            [
             174.87581457800238,
             -41.6818632893694
            ],
            [
             174.8743202459296,
             -41.632646131762876
            ],
            [
             174.9113058571327,
             -41.624482842396226
            ],
            [
             174.96553361320588,
             -41.62411264678386
            ],
            [
             174.96702774749477,
             -41.673329804387485
            ]
           ]
          ],
          "type": "Polygon"
         },
         "id": "195",
         "properties": {
          "AseismicSlipFactor": 0,
          "CouplingCoeff": 1,
          "DipDeg": 70,
          "DipDir": 358.7,
          "FaultID": 195,
          "FaultName": "BooBoo, Subsection 6",
          "LowDepth": 15.040000000000001,
          "ParentID": 48,
          "ParentName": "BooBoo",
          "Rake": -160,
          "Target Slip Rate": 0.003285,
          "Target Slip Rate StdDev": 0.00088398,
          "UpDepth": 0
         },
         "type": "Feature"
        },
        {
         "geometry": {
          "coordinates": [
           [
            [
             174.87581457800238,
             -41.6818632893694
            ],
            [
             174.78678055482953,
             -41.701457462218876
            ],
            [
             174.78528576829132,
             -41.65224030460567
            ],
            [
             174.8743202459296,
             -41.632646131762876
            ],
            [
             174.87581457800238,
             -41.6818632893694
            ]
           ]
          ],
          "type": "Polygon"
         },
         "id": "196",
         "properties": {
          "AseismicSlipFactor": 0,
          "CouplingCoeff": 1,
          "DipDeg": 70,
          "DipDir": 358.7,
          "FaultID": 196,
          "FaultName": "BooBoo, Subsection 7",
          "LowDepth": 15.040000000000001,
          "ParentID": 48,
          "ParentName": "BooBoo",
          "Rake": -160,
          "Target Slip Rate": 0.002745,
          "Target Slip Rate StdDev": 0.0008983,
          "UpDepth": 0
         },
         "type": "Feature"
        },
        {
         "geometry": {
          "coordinates": [
           [
            [
             174.78678055482953,
             -41.701457462218876
            ],
            [
             174.6999,
             -41.7205
            ],
            [
             174.69761466375417,
             -41.72030332919431
            ],
            [
             174.69611943968073,
             -41.671086171574686
            ],
            [
             174.6984047713584,
             -41.67128284238031
            ],
            [
             174.78528576829132,
             -41.65224030460567
            ],
            [
             174.78678055482953,
             -41.701457462218876
            ]
           ]
          ],
          "type": "Polygon"
         },
         "id": "197",
         "properties": {
          "AseismicSlipFactor": 0,
          "CouplingCoeff": 1,
          "DipDeg": 70,
          "DipDir": 358.7,
          "FaultID": 197,
          "FaultName": "BooBoo, Subsection 8",
          "LowDepth": 15.040000000000001,
          "ParentID": 48,
          "ParentName": "BooBoo",
          "Rake": -160,
          "Target Slip Rate": 0.00207,
          "Target Slip Rate StdDev": 0.00086613,
          "UpDepth": 0
         },
         "type": "Feature"
        },
        {
         "geometry": {
          "coordinates": [
           [
            [
             174.69761466375417,
             -41.72030332919431
            ],
            [
             174.60537584462412,
             -41.71232666286445
            ],
            [
             174.60388080579202,
             -41.66310950524755
            ],
            [
             174.69611943968073,
             -41.671086171574686
            ],
            [
             174.69761466375417,
             -41.72030332919431
            ]
           ]
          ],
          "type": "Polygon"
         },
         "id": "198",
         "properties": {
          "AseismicSlipFactor": 0,
          "CouplingCoeff": 1,
          "DipDeg": 70,
          "DipDir": 358.7,
          "FaultID": 198,
          "FaultName": "BooBoo, Subsection 9",
          "LowDepth": 15.040000000000001,
          "ParentID": 48,
          "ParentName": "BooBoo",
          "Rake": -160,
          "Target Slip Rate": 0.001395,
          "Target Slip Rate StdDev": 0.00083395,
          "UpDepth": 0
         },
         "type": "Feature"
        },
        {
         "geometry": {
          "coordinates": [
           [
            [
             174.60537584462412,
             -41.71232666286445
            ],
            [
             174.51316002089288,
             -41.70427625697465
            ],
            [
             174.51166516893866,
             -41.655059099360486
            ],
            [
             174.60388080579202,
             -41.66310950524755
            ],
            [
             174.60537584462412,
             -41.71232666286445
            ]
           ]
          ],
          "type": "Polygon"
         },
         "id": "199",
         "properties": {
          "AseismicSlipFactor": 0,
          "CouplingCoeff": 1,
          "DipDeg": 70,
          "DipDir": 358.7,
          "FaultID": 199,
          "FaultName": "BooBoo, Subsection 10",
          "LowDepth": 15.040000000000001,
          "ParentID": 48,
          "ParentName": "BooBoo",
          "Rake": -160,
          "Target Slip Rate": 0.001215,
          "Target Slip Rate StdDev": 0.00086792,
          "UpDepth": 0
         },
         "type": "Feature"
        },
        {
         "geometry": {
          "coordinates": [
           [
            [
             174.51316002089288,
             -41.70427625697465
            ],
            [
             174.4702,
             -41.7005
            ],
            [
             174.42290000000006,
             -41.71159999999998
            ],
            [
             174.42140497803948,
             -41.66238284238333
            ],
            [
             174.46870523567958,
             -41.65128284238712
            ],
            [
             174.51166516893866,
             -41.655059099360486
            ],
            [
             174.51316002089288,
             -41.70427625697465
            ]
           ]
          ],
          "type": "Polygon"
         },
         "id": "200",
         "properties": {
          "AseismicSlipFactor": 0,
          "CouplingCoeff": 1,
          "DipDeg": 70,
          "DipDir": 358.7,
          "FaultID": 200,
          "FaultName": "BooBoo, Subsection 11",
          "LowDepth": 15.040000000000001,
          "ParentID": 48,
          "ParentName": "BooBoo",
          "Rake": -160,
          "Target Slip Rate": 0.001215,
          "Target Slip Rate StdDev": 0.00086792,
          "UpDepth": 0
         },
         "type": "Feature"
        }
       ],
       "type": "FeatureCollection"
      },
      "text/plain": [
       "<IPython.display.GeoJSON object>"
      ]
     },
     "metadata": {
      "application/geo+json": {
       "expanded": false,
       "root": "root"
      }
     },
     "output_type": "display_data"
    }
   ],
   "source": [
    "# plot the masterton surfaces\n",
    "GeoJSON(json.loads(mro_surface.to_json()))"
   ]
  },
  {
   "cell_type": "code",
   "execution_count": 12,
   "id": "848518de-d6e8-4732-9943-0800cb97cbd4",
   "metadata": {},
   "outputs": [],
   "source": [
    "### get ruptures passing through a fault"
   ]
  },
  {
   "cell_type": "code",
   "execution_count": 13,
   "id": "444c9ff2-83b6-4805-b149-e1d9f1300022",
   "metadata": {},
   "outputs": [
    {
     "name": "stdout",
     "output_type": "stream",
     "text": [
      "fault_sections\n",
      "      ParentID        ParentName\n",
      "0            0             Acton\n",
      "1            0             Acton\n",
      "2            0             Acton\n",
      "3            1           Aka Aka\n",
      "4            1           Aka Aka\n",
      "...        ...               ...\n",
      "2320       555  Whitemans Valley\n",
      "2321       555  Whitemans Valley\n",
      "2322       555  Whitemans Valley\n",
      "2323       556         Woodville\n",
      "2324       556         Woodville\n",
      "\n",
      "[2325 rows x 2 columns]\n",
      "          rupture  section\n",
      "0               0      0.0\n",
      "1               0      1.0\n",
      "2               1      0.0\n",
      "3               1      1.0\n",
      "4               1   1302.0\n",
      "...           ...      ...\n",
      "19773512   411269   2206.0\n",
      "19773513   411269   2207.0\n",
      "19773514   411269   2202.0\n",
      "19773515   411269   2204.0\n",
      "19773516   411269   2203.0\n",
      "\n",
      "[19773517 rows x 2 columns]\n"
     ]
    }
   ],
   "source": [
    "mro_ruptures = helper.ruptures_for_parent_fault_names(['Masterton'])"
   ]
  },
  {
   "cell_type": "markdown",
   "id": "6cd0a2a4-9fee-4e6f-b41e-ec2bfe5de75c",
   "metadata": {},
   "source": [
    "### get rupture fault sections (rs) with rates for those ruptures"
   ]
  },
  {
   "cell_type": "code",
   "execution_count": 14,
   "id": "406d8c34-c3bd-4743-8e3d-3cc6d00ba307",
   "metadata": {
    "editable": true,
    "slideshow": {
     "slide_type": ""
    },
    "tags": []
   },
   "outputs": [
    {
     "data": {
      "text/html": [
       "<div>\n",
       "<style scoped>\n",
       "    .dataframe tbody tr th:only-of-type {\n",
       "        vertical-align: middle;\n",
       "    }\n",
       "\n",
       "    .dataframe tbody tr th {\n",
       "        vertical-align: top;\n",
       "    }\n",
       "\n",
       "    .dataframe thead th {\n",
       "        text-align: right;\n",
       "    }\n",
       "</style>\n",
       "<table border=\"1\" class=\"dataframe\">\n",
       "  <thead>\n",
       "    <tr style=\"text-align: right;\">\n",
       "      <th></th>\n",
       "      <th></th>\n",
       "      <th>key_0</th>\n",
       "      <th>fault_system</th>\n",
       "      <th>Rupture Index</th>\n",
       "      <th>rate_max</th>\n",
       "      <th>rate_min</th>\n",
       "      <th>rate_count</th>\n",
       "      <th>rate_weighted_mean</th>\n",
       "      <th>Magnitude</th>\n",
       "      <th>Average Rake (degrees)</th>\n",
       "      <th>Area (m^2)</th>\n",
       "      <th>Length (m)</th>\n",
       "      <th>section</th>\n",
       "    </tr>\n",
       "    <tr>\n",
       "      <th>fault_system</th>\n",
       "      <th>Rupture Index</th>\n",
       "      <th></th>\n",
       "      <th></th>\n",
       "      <th></th>\n",
       "      <th></th>\n",
       "      <th></th>\n",
       "      <th></th>\n",
       "      <th></th>\n",
       "      <th></th>\n",
       "      <th></th>\n",
       "      <th></th>\n",
       "      <th></th>\n",
       "      <th></th>\n",
       "    </tr>\n",
       "  </thead>\n",
       "  <tbody>\n",
       "    <tr>\n",
       "      <th rowspan=\"11\" valign=\"top\">CRU</th>\n",
       "      <th>209026</th>\n",
       "      <td>209026</td>\n",
       "      <td>CRU</td>\n",
       "      <td>209026</td>\n",
       "      <td>0.000023</td>\n",
       "      <td>3.083809e-07</td>\n",
       "      <td>12.0</td>\n",
       "      <td>0.000003</td>\n",
       "      <td>7.998682</td>\n",
       "      <td>156.755585</td>\n",
       "      <td>6.290518e+09</td>\n",
       "      <td>292585.343750</td>\n",
       "      <td>725.0</td>\n",
       "    </tr>\n",
       "    <tr>\n",
       "      <th>209026</th>\n",
       "      <td>209026</td>\n",
       "      <td>CRU</td>\n",
       "      <td>209026</td>\n",
       "      <td>0.000023</td>\n",
       "      <td>3.083809e-07</td>\n",
       "      <td>12.0</td>\n",
       "      <td>0.000003</td>\n",
       "      <td>7.998682</td>\n",
       "      <td>156.755585</td>\n",
       "      <td>6.290518e+09</td>\n",
       "      <td>292585.343750</td>\n",
       "      <td>724.0</td>\n",
       "    </tr>\n",
       "    <tr>\n",
       "      <th>209026</th>\n",
       "      <td>209026</td>\n",
       "      <td>CRU</td>\n",
       "      <td>209026</td>\n",
       "      <td>0.000023</td>\n",
       "      <td>3.083809e-07</td>\n",
       "      <td>12.0</td>\n",
       "      <td>0.000003</td>\n",
       "      <td>7.998682</td>\n",
       "      <td>156.755585</td>\n",
       "      <td>6.290518e+09</td>\n",
       "      <td>292585.343750</td>\n",
       "      <td>723.0</td>\n",
       "    </tr>\n",
       "    <tr>\n",
       "      <th>209026</th>\n",
       "      <td>209026</td>\n",
       "      <td>CRU</td>\n",
       "      <td>209026</td>\n",
       "      <td>0.000023</td>\n",
       "      <td>3.083809e-07</td>\n",
       "      <td>12.0</td>\n",
       "      <td>0.000003</td>\n",
       "      <td>7.998682</td>\n",
       "      <td>156.755585</td>\n",
       "      <td>6.290518e+09</td>\n",
       "      <td>292585.343750</td>\n",
       "      <td>722.0</td>\n",
       "    </tr>\n",
       "    <tr>\n",
       "      <th>209026</th>\n",
       "      <td>209026</td>\n",
       "      <td>CRU</td>\n",
       "      <td>209026</td>\n",
       "      <td>0.000023</td>\n",
       "      <td>3.083809e-07</td>\n",
       "      <td>12.0</td>\n",
       "      <td>0.000003</td>\n",
       "      <td>7.998682</td>\n",
       "      <td>156.755585</td>\n",
       "      <td>6.290518e+09</td>\n",
       "      <td>292585.343750</td>\n",
       "      <td>721.0</td>\n",
       "    </tr>\n",
       "    <tr>\n",
       "      <th>...</th>\n",
       "      <td>...</td>\n",
       "      <td>...</td>\n",
       "      <td>...</td>\n",
       "      <td>...</td>\n",
       "      <td>...</td>\n",
       "      <td>...</td>\n",
       "      <td>...</td>\n",
       "      <td>...</td>\n",
       "      <td>...</td>\n",
       "      <td>...</td>\n",
       "      <td>...</td>\n",
       "      <td>...</td>\n",
       "    </tr>\n",
       "    <tr>\n",
       "      <th>391758</th>\n",
       "      <td>391758</td>\n",
       "      <td>CRU</td>\n",
       "      <td>391758</td>\n",
       "      <td>0.000100</td>\n",
       "      <td>2.606850e-05</td>\n",
       "      <td>18.0</td>\n",
       "      <td>0.000032</td>\n",
       "      <td>7.152529</td>\n",
       "      <td>167.700623</td>\n",
       "      <td>8.964618e+08</td>\n",
       "      <td>53762.265625</td>\n",
       "      <td>2106.0</td>\n",
       "    </tr>\n",
       "    <tr>\n",
       "      <th>391758</th>\n",
       "      <td>391758</td>\n",
       "      <td>CRU</td>\n",
       "      <td>391758</td>\n",
       "      <td>0.000100</td>\n",
       "      <td>2.606850e-05</td>\n",
       "      <td>18.0</td>\n",
       "      <td>0.000032</td>\n",
       "      <td>7.152529</td>\n",
       "      <td>167.700623</td>\n",
       "      <td>8.964618e+08</td>\n",
       "      <td>53762.265625</td>\n",
       "      <td>2107.0</td>\n",
       "    </tr>\n",
       "    <tr>\n",
       "      <th>391758</th>\n",
       "      <td>391758</td>\n",
       "      <td>CRU</td>\n",
       "      <td>391758</td>\n",
       "      <td>0.000100</td>\n",
       "      <td>2.606850e-05</td>\n",
       "      <td>18.0</td>\n",
       "      <td>0.000032</td>\n",
       "      <td>7.152529</td>\n",
       "      <td>167.700623</td>\n",
       "      <td>8.964618e+08</td>\n",
       "      <td>53762.265625</td>\n",
       "      <td>1127.0</td>\n",
       "    </tr>\n",
       "    <tr>\n",
       "      <th>391758</th>\n",
       "      <td>391758</td>\n",
       "      <td>CRU</td>\n",
       "      <td>391758</td>\n",
       "      <td>0.000100</td>\n",
       "      <td>2.606850e-05</td>\n",
       "      <td>18.0</td>\n",
       "      <td>0.000032</td>\n",
       "      <td>7.152529</td>\n",
       "      <td>167.700623</td>\n",
       "      <td>8.964618e+08</td>\n",
       "      <td>53762.265625</td>\n",
       "      <td>1207.0</td>\n",
       "    </tr>\n",
       "    <tr>\n",
       "      <th>391758</th>\n",
       "      <td>391758</td>\n",
       "      <td>CRU</td>\n",
       "      <td>391758</td>\n",
       "      <td>0.000100</td>\n",
       "      <td>2.606850e-05</td>\n",
       "      <td>18.0</td>\n",
       "      <td>0.000032</td>\n",
       "      <td>7.152529</td>\n",
       "      <td>167.700623</td>\n",
       "      <td>8.964618e+08</td>\n",
       "      <td>53762.265625</td>\n",
       "      <td>1206.0</td>\n",
       "    </tr>\n",
       "  </tbody>\n",
       "</table>\n",
       "<p>275 rows × 12 columns</p>\n",
       "</div>"
      ],
      "text/plain": [
       "                             key_0 fault_system  Rupture Index  rate_max  \\\n",
       "fault_system Rupture Index                                                 \n",
       "CRU          209026         209026          CRU         209026  0.000023   \n",
       "             209026         209026          CRU         209026  0.000023   \n",
       "             209026         209026          CRU         209026  0.000023   \n",
       "             209026         209026          CRU         209026  0.000023   \n",
       "             209026         209026          CRU         209026  0.000023   \n",
       "...                            ...          ...            ...       ...   \n",
       "             391758         391758          CRU         391758  0.000100   \n",
       "             391758         391758          CRU         391758  0.000100   \n",
       "             391758         391758          CRU         391758  0.000100   \n",
       "             391758         391758          CRU         391758  0.000100   \n",
       "             391758         391758          CRU         391758  0.000100   \n",
       "\n",
       "                                rate_min  rate_count  rate_weighted_mean  \\\n",
       "fault_system Rupture Index                                                 \n",
       "CRU          209026         3.083809e-07        12.0            0.000003   \n",
       "             209026         3.083809e-07        12.0            0.000003   \n",
       "             209026         3.083809e-07        12.0            0.000003   \n",
       "             209026         3.083809e-07        12.0            0.000003   \n",
       "             209026         3.083809e-07        12.0            0.000003   \n",
       "...                                  ...         ...                 ...   \n",
       "             391758         2.606850e-05        18.0            0.000032   \n",
       "             391758         2.606850e-05        18.0            0.000032   \n",
       "             391758         2.606850e-05        18.0            0.000032   \n",
       "             391758         2.606850e-05        18.0            0.000032   \n",
       "             391758         2.606850e-05        18.0            0.000032   \n",
       "\n",
       "                            Magnitude  Average Rake (degrees)    Area (m^2)  \\\n",
       "fault_system Rupture Index                                                    \n",
       "CRU          209026          7.998682              156.755585  6.290518e+09   \n",
       "             209026          7.998682              156.755585  6.290518e+09   \n",
       "             209026          7.998682              156.755585  6.290518e+09   \n",
       "             209026          7.998682              156.755585  6.290518e+09   \n",
       "             209026          7.998682              156.755585  6.290518e+09   \n",
       "...                               ...                     ...           ...   \n",
       "             391758          7.152529              167.700623  8.964618e+08   \n",
       "             391758          7.152529              167.700623  8.964618e+08   \n",
       "             391758          7.152529              167.700623  8.964618e+08   \n",
       "             391758          7.152529              167.700623  8.964618e+08   \n",
       "             391758          7.152529              167.700623  8.964618e+08   \n",
       "\n",
       "                               Length (m)  section  \n",
       "fault_system Rupture Index                          \n",
       "CRU          209026         292585.343750    725.0  \n",
       "             209026         292585.343750    724.0  \n",
       "             209026         292585.343750    723.0  \n",
       "             209026         292585.343750    722.0  \n",
       "             209026         292585.343750    721.0  \n",
       "...                                   ...      ...  \n",
       "             391758          53762.265625   2106.0  \n",
       "             391758          53762.265625   2107.0  \n",
       "             391758          53762.265625   1127.0  \n",
       "             391758          53762.265625   1207.0  \n",
       "             391758          53762.265625   1206.0  \n",
       "\n",
       "[275 rows x 12 columns]"
      ]
     },
     "execution_count": 14,
     "metadata": {},
     "output_type": "execute_result"
    }
   ],
   "source": [
    "df0 = fss.rs_with_rupture_rates\n",
    "mro_df = df0[df0[\"Rupture Index\"].isin(mro_ruptures)]\n",
    "mro_df"
   ]
  },
  {
   "cell_type": "code",
   "execution_count": 15,
   "id": "e81622dd-fe97-4dab-8e76-a6b617c10db4",
   "metadata": {
    "editable": true,
    "slideshow": {
     "slide_type": ""
    },
    "tags": []
   },
   "outputs": [
    {
     "name": "stdout",
     "output_type": "stream",
     "text": [
      "the `Masterton` fault has 19 unique ruptures...\n",
      "\n",
      "[209026, 219862, 273732, 273733, 273738, 287882, 287883, 287884, 287886, 287925, 287931, 287935, 287979, 288084, 288088, 288181, 391515, 391580, 391758]\n"
     ]
    }
   ],
   "source": [
    "print(f'the `Masterton` fault has {len(mro_df[\"Rupture Index\"].unique())} unique ruptures...')\n",
    "print()\n",
    "mro_ids = list(mro_df[\"Rupture Index\"].unique())\n",
    "print(mro_ids)\n"
   ]
  },
  {
   "cell_type": "code",
   "execution_count": 16,
   "id": "3098cbcf-321c-4650-aff1-b7620ac725ee",
   "metadata": {},
   "outputs": [],
   "source": [
    "### display a single rupture"
   ]
  },
  {
   "cell_type": "code",
   "execution_count": 17,
   "id": "8edeb5dc-cf56-4e34-9fb2-2d6d2b0b6d68",
   "metadata": {},
   "outputs": [
    {
     "data": {
      "application/geo+json": {
       "features": [
        {
         "geometry": {
          "coordinates": [
           [
            [
             171.825,
             -42.7433
            ],
            [
             171.90772945730257,
             -42.721229747678166
            ],
            [
             171.88255107188795,
             -42.672235775637695
            ],
            [
             171.79981266855575,
             -42.69430602582774
            ],
            [
             171.825,
             -42.7433
            ]
           ]
          ],
          "type": "Polygon"
         },
         "id": "('CRU', 219862)",
         "properties": {
          "Area (m^2)": 8462251008,
          "AseismicSlipFactor": 0,
          "Average Rake (degrees)": 161.31869506835938,
          "CouplingCoeff": 1,
          "DipDeg": 70,
          "DipDir": 339.3,
          "FaultID": 742,
          "FaultName": "Hope: Hurunui, Subsection 0",
          "Length (m)": 389564.84375,
          "LowDepth": 16,
          "Magnitude": 8.127481460571289,
          "ParentID": 161,
          "ParentName": "Hope: Hurunui",
          "Rake": 160,
          "Rupture Index": 219862,
          "Target Slip Rate": 0.0125549999999999,
          "Target Slip Rate StdDev": 0.00083962,
          "UpDepth": 0,
          "fault_system": "CRU",
          "key_0": 219862,
          "rate_count": 6,
          "rate_max": 5.6200893595814705e-05,
          "rate_min": 2.0206483895890415e-05,
          "rate_weighted_mean": 8.177291419997346e-06,
          "section": 742
         },
         "type": "Feature"
        },
        {
         "geometry": {
          "coordinates": [
           [
            [
             171.90772945730257,
             -42.721229747678166
            ],
            [
             171.9904,
             -42.6991
            ],
            [
             171.96523057460436,
             -42.65010603009553
            ],
            [
             171.88255107188795,
             -42.672235775637695
            ],
            [
             171.90772945730257,
             -42.721229747678166
            ]
           ]
          ],
          "type": "Polygon"
         },
         "id": "('CRU', 219862)",
         "properties": {
          "Area (m^2)": 8462251008,
          "AseismicSlipFactor": 0,
          "Average Rake (degrees)": 161.31869506835938,
          "CouplingCoeff": 1,
          "DipDeg": 70,
          "DipDir": 339.3,
          "FaultID": 743,
          "FaultName": "Hope: Hurunui, Subsection 1",
          "Length (m)": 389564.84375,
          "LowDepth": 16,
          "Magnitude": 8.127481460571289,
          "ParentID": 161,
          "ParentName": "Hope: Hurunui",
          "Rake": 160,
          "Rupture Index": 219862,
          "Target Slip Rate": 0.0125549999999999,
          "Target Slip Rate StdDev": 0.00083962,
          "UpDepth": 0,
          "fault_system": "CRU",
          "key_0": 219862,
          "rate_count": 6,
          "rate_max": 5.6200893595814705e-05,
          "rate_min": 2.0206483895890415e-05,
          "rate_weighted_mean": 8.177291419997346e-06,
          "section": 743
         },
         "type": "Feature"
        },
        {
         "geometry": {
          "coordinates": [
           [
            [
             172.10424765013053,
             -42.66853151239354
            ],
            [
             171.99040000000002,
             -42.699099999999994
            ],
            [
             171.96508821123885,
             -42.63007752138853
            ],
            [
             172.07894828265714,
             -42.599509036763564
            ],
            [
             172.10424765013053,
             -42.66853151239354
            ]
           ]
          ],
          "type": "Polygon"
         },
         "id": "('CRU', 219862)",
         "properties": {
          "Area (m^2)": 8462251008,
          "AseismicSlipFactor": 0,
          "Average Rake (degrees)": 161.31869506835938,
          "CouplingCoeff": 1,
          "DipDeg": 70,
          "DipDir": 344.9,
          "FaultID": 741,
          "FaultName": "Hope: Hope River, Subsection 4",
          "Length (m)": 389564.84375,
          "LowDepth": 21.840000000000003,
          "Magnitude": 8.127481460571289,
          "ParentID": 160,
          "ParentName": "Hope: Hope River",
          "Rake": 160,
          "Rupture Index": 219862,
          "Target Slip Rate": 0.002205,
          "Target Slip Rate StdDev": 0.0010513,
          "UpDepth": 0,
          "fault_system": "CRU",
          "key_0": 219862,
          "rate_count": 6,
          "rate_max": 5.6200893595814705e-05,
          "rate_min": 2.0206483895890415e-05,
          "rate_weighted_mean": 8.177291419997346e-06,
          "section": 741
         },
         "type": "Feature"
        },
        {
         "geometry": {
          "coordinates": [
           [
            [
             172.2179831740896,
             -42.63785040154985
            ],
            [
             172.10424765013053,
             -42.66853151239354
            ],
            [
             172.07894828265714,
             -42.599509036763564
            ],
            [
             172.19269625418113,
             -42.56882792890938
            ],
            [
             172.2179831740896,
             -42.63785040154985
            ]
           ]
          ],
          "type": "Polygon"
         },
         "id": "('CRU', 219862)",
         "properties": {
          "Area (m^2)": 8462251008,
          "AseismicSlipFactor": 0,
          "Average Rake (degrees)": 161.31869506835938,
          "CouplingCoeff": 1,
          "DipDeg": 70,
          "DipDir": 344.9,
          "FaultID": 740,
          "FaultName": "Hope: Hope River, Subsection 3",
          "Length (m)": 389564.84375,
          "LowDepth": 21.840000000000003,
          "Magnitude": 8.127481460571289,
          "ParentID": 160,
          "ParentName": "Hope: Hope River",
          "Rake": 160,
          "Rupture Index": 219862,
          "Target Slip Rate": 0.002385,
          "Target Slip Rate StdDev": 0.00095491,
          "UpDepth": 0,
          "fault_system": "CRU",
          "key_0": 219862,
          "rate_count": 6,
          "rate_max": 5.6200893595814705e-05,
          "rate_min": 2.0206483895890415e-05,
          "rate_weighted_mean": 8.177291419997346e-06,
          "section": 740
         },
         "type": "Feature"
        },
        {
         "geometry": {
          "coordinates": [
           [
            [
             172.3336910959108,
             -42.611743110149916
            ],
            [
             172.247,
             -42.63
            ],
            [
             172.2179831740896,
             -42.63785040154985
            ],
            [
             172.19269625418113,
             -42.56882792890938
            ],
            [
             172.2217162619281,
             -42.560977528123985
            ],
            [
             172.30841475258623,
             -42.542720640050995
            ],
            [
             172.3336910959108,
             -42.611743110149916
            ]
           ]
          ],
          "type": "Polygon"
         },
         "id": "('CRU', 219862)",
         "properties": {
          "Area (m^2)": 8462251008,
          "AseismicSlipFactor": 0,
          "Average Rake (degrees)": 161.31869506835938,
          "CouplingCoeff": 1,
          "DipDeg": 70,
          "DipDir": 344.9,
          "FaultID": 739,
          "FaultName": "Hope: Hope River, Subsection 2",
          "Length (m)": 389564.84375,
          "LowDepth": 21.840000000000003,
          "Magnitude": 8.127481460571289,
          "ParentID": 160,
          "ParentName": "Hope: Hope River",
          "Rake": 160,
          "Rupture Index": 219862,
          "Target Slip Rate": 0.001755,
          "Target Slip Rate StdDev": 0.0008750400000000001,
          "UpDepth": 0,
          "fault_system": "CRU",
          "key_0": 219862,
          "rate_count": 6,
          "rate_max": 5.6200893595814705e-05,
          "rate_min": 2.0206483895890415e-05,
          "rate_weighted_mean": 8.177291419997346e-06,
          "section": 739
         },
         "type": "Feature"
        },
        {
         "geometry": {
          "coordinates": [
           [
            [
             172.45334667760775,
             -42.59920000966335
            ],
            [
             172.35,
             -42.6083
            ],
            [
             172.3336910959108,
             -42.611743110149916
            ],
            [
             172.30841475258623,
             -42.542720640050995
            ],
            [
             172.324725050496,
             -42.5392775302361
            ],
            [
             172.42807541073176,
             -42.530177540784734
            ],
            [
             172.45334667760775,
             -42.59920000966335
            ]
           ]
          ],
          "type": "Polygon"
         },
         "id": "('CRU', 219862)",
         "properties": {
          "Area (m^2)": 8462251008,
          "AseismicSlipFactor": 0,
          "Average Rake (degrees)": 161.31869506835938,
          "CouplingCoeff": 1,
          "DipDeg": 70,
          "DipDir": 344.9,
          "FaultID": 738,
          "FaultName": "Hope: Hope River, Subsection 1",
          "Length (m)": 389564.84375,
          "LowDepth": 21.840000000000003,
          "Magnitude": 8.127481460571289,
          "ParentID": 160,
          "ParentName": "Hope: Hope River",
          "Rake": 160,
          "Rupture Index": 219862,
          "Target Slip Rate": 0.001125,
          "Target Slip Rate StdDev": 0.0007951700000000001,
          "UpDepth": 0,
          "fault_system": "CRU",
          "key_0": 219862,
          "rate_count": 6,
          "rate_max": 5.6200893595814705e-05,
          "rate_min": 2.0206483895890415e-05,
          "rate_weighted_mean": 8.177291419997346e-06,
          "section": 738
         },
         "type": "Feature"
        },
        {
         "geometry": {
          "coordinates": [
           [
            [
             172.5735,
             -42.5885
            ],
            [
             172.45334667760775,
             -42.59920000966335
            ],
            [
             172.42807541073176,
             -42.530177540784734
            ],
            [
             172.54823306106778,
             -42.519477532162
            ],
            [
             172.5735,
             -42.5885
            ]
           ]
          ],
          "type": "Polygon"
         },
         "id": "('CRU', 219862)",
         "properties": {
          "Area (m^2)": 8462251008,
          "AseismicSlipFactor": 0,
          "Average Rake (degrees)": 161.31869506835938,
          "CouplingCoeff": 1,
          "DipDeg": 70,
          "DipDir": 344.9,
          "FaultID": 737,
          "FaultName": "Hope: Hope River, Subsection 0",
          "Length (m)": 389564.84375,
          "LowDepth": 21.840000000000003,
          "Magnitude": 8.127481460571289,
          "ParentID": 160,
          "ParentName": "Hope: Hope River",
          "Rake": 160,
          "Rupture Index": 219862,
          "Target Slip Rate": 0.002205,
          "Target Slip Rate StdDev": 0.00089813,
          "UpDepth": 0,
          "fault_system": "CRU",
          "key_0": 219862,
          "rate_count": 6,
          "rate_max": 5.6200893595814705e-05,
          "rate_min": 2.0206483895890415e-05,
          "rate_weighted_mean": 8.177291419997346e-06,
          "section": 737
         },
         "type": "Feature"
        },
        {
         "geometry": {
          "coordinates": [
           [
            [
             172.61179866333455,
             -42.58461200120111
            ],
            [
             172.5735,
             -42.5885
            ],
            [
             172.55052638949573,
             -42.51796643812206
            ],
            [
             172.5888264821043,
             -42.51407843963568
            ],
            [
             172.61179866333455,
             -42.58461200120111
            ]
           ]
          ],
          "type": "Polygon"
         },
         "id": "('CRU', 219862)",
         "properties": {
          "Area (m^2)": 8462251008,
          "AseismicSlipFactor": 0,
          "Average Rake (degrees)": 161.31869506835938,
          "CouplingCoeff": 1,
          "DipDeg": 70,
          "DipDir": 346.5,
          "FaultID": 745,
          "FaultName": "Hope: Kakapo-2-Hamner, Subsection 1",
          "Length (m)": 389564.84375,
          "LowDepth": 22.16,
          "Magnitude": 8.127481460571289,
          "ParentID": 162,
          "ParentName": "Hope: Kakapo-2-Hamner",
          "Rake": 160,
          "Rupture Index": 219862,
          "Target Slip Rate": 0.005445,
          "Target Slip Rate StdDev": 0.00097804,
          "UpDepth": 0,
          "fault_system": "CRU",
          "key_0": 219862,
          "rate_count": 6,
          "rate_max": 5.6200893595814705e-05,
          "rate_min": 2.0206483895890415e-05,
          "rate_weighted_mean": 8.177291419997346e-06,
          "section": 745
         },
         "type": "Feature"
        },
        {
         "geometry": {
          "coordinates": [
           [
            [
             172.6484,
             -42.5755
            ],
            [
             172.6129,
             -42.5845
            ],
            [
             172.61179866333455,
             -42.58461200120111
            ],
            [
             172.5888264821043,
             -42.51407843963568
            ],
            [
             172.58992785993848,
             -42.51396643844357
            ],
            [
             172.62543116733738,
             -42.50496643916685
            ],
            [
             172.6484,
             -42.5755
            ]
           ]
          ],
          "type": "Polygon"
         },
         "id": "('CRU', 219862)",
         "properties": {
          "Area (m^2)": 8462251008,
          "AseismicSlipFactor": 0,
          "Average Rake (degrees)": 161.31869506835938,
          "CouplingCoeff": 1,
          "DipDeg": 70,
          "DipDir": 346.5,
          "FaultID": 744,
          "FaultName": "Hope: Kakapo-2-Hamner, Subsection 0",
          "Length (m)": 389564.84375,
          "LowDepth": 22.16,
          "Magnitude": 8.127481460571289,
          "ParentID": 162,
          "ParentName": "Hope: Kakapo-2-Hamner",
          "Rake": 160,
          "Rupture Index": 219862,
          "Target Slip Rate": 0.005445,
          "Target Slip Rate StdDev": 0.00097804,
          "UpDepth": 0,
          "fault_system": "CRU",
          "key_0": 219862,
          "rate_count": 6,
          "rate_max": 5.6200893595814705e-05,
          "rate_min": 2.0206483895890415e-05,
          "rate_weighted_mean": 8.177291419997346e-06,
          "section": 744
         },
         "type": "Feature"
        },
        {
         "geometry": {
          "coordinates": [
           [
            [
             172.71361381861632,
             -42.571861936496816
            ],
            [
             172.6828,
             -42.5688
            ],
            [
             172.64840000000004,
             -42.57549999999998
            ],
            [
             172.65315421832938,
             -42.50383571821386
            ],
            [
             172.68755370891887,
             -42.49713571823695
            ],
            [
             172.71836776031694,
             -42.50019765472324
            ],
            [
             172.71361381861632,
             -42.571861936496816
            ]
           ]
          ],
          "type": "Polygon"
         },
         "id": "('CRU', 219862)",
         "properties": {
          "Area (m^2)": 8462251008,
          "AseismicSlipFactor": 0,
          "Average Rake (degrees)": 161.31869506835938,
          "CouplingCoeff": 1,
          "DipDeg": 70,
          "DipDir": 2.8,
          "FaultID": 736,
          "FaultName": "Hope: Hanmer SW, Subsection 1",
          "Length (m)": 389564.84375,
          "LowDepth": 21.92,
          "Magnitude": 8.127481460571289,
          "ParentID": 159,
          "ParentName": "Hope: Hanmer SW",
          "Rake": -110,
          "Rupture Index": 219862,
          "Target Slip Rate": 0.000855,
          "Target Slip Rate StdDev": 0.0006546400000000001,
          "UpDepth": 0,
          "fault_system": "CRU",
          "key_0": 219862,
          "rate_count": 6,
          "rate_max": 5.6200893595814705e-05,
          "rate_min": 2.0206483895890415e-05,
          "rate_weighted_mean": 8.177291419997346e-06,
          "section": 736
         },
         "type": "Feature"
        },
        {
         "geometry": {
          "coordinates": [
           [
            [
             172.7797,
             -42.5784
            ],
            [
             172.71361381861632,
             -42.571861936496816
            ],
            [
             172.71836776031694,
             -42.50019765472324
            ],
            [
             172.78445443887446,
             -42.50673571820389
            ],
            [
             172.7797,
             -42.5784
            ]
           ]
          ],
          "type": "Polygon"
         },
         "id": "('CRU', 219862)",
         "properties": {
          "Area (m^2)": 8462251008,
          "AseismicSlipFactor": 0,
          "Average Rake (degrees)": 161.31869506835938,
          "CouplingCoeff": 1,
          "DipDeg": 70,
          "DipDir": 2.8,
          "FaultID": 735,
          "FaultName": "Hope: Hanmer SW, Subsection 0",
          "Length (m)": 389564.84375,
          "LowDepth": 21.92,
          "Magnitude": 8.127481460571289,
          "ParentID": 159,
          "ParentName": "Hope: Hanmer SW",
          "Rake": -110,
          "Rupture Index": 219862,
          "Target Slip Rate": 0.000855,
          "Target Slip Rate StdDev": 0.0006546400000000001,
          "UpDepth": 0,
          "fault_system": "CRU",
          "key_0": 219862,
          "rate_count": 6,
          "rate_max": 5.6200893595814705e-05,
          "rate_min": 2.0206483895890415e-05,
          "rate_weighted_mean": 8.177291419997346e-06,
          "section": 735
         },
         "type": "Feature"
        },
        {
         "geometry": {
          "coordinates": [
           [
            [
             172.7797,
             -42.5784
            ],
            [
             172.8671,
             -42.5635
            ],
            [
             172.87364446719326,
             -42.56200044209184
            ],
            [
             172.84712136258614,
             -42.49242021773078
            ],
            [
             172.84057625944914,
             -42.49391977547827
            ],
            [
             172.75316993790096,
             -42.50881977388134
            ],
            [
             172.7797,
             -42.5784
            ]
           ]
          ],
          "type": "Polygon"
         },
         "id": "('CRU', 219862)",
         "properties": {
          "Area (m^2)": 8462251008,
          "AseismicSlipFactor": 0,
          "Average Rake (degrees)": 161.31869506835938,
          "CouplingCoeff": 1,
          "DipDeg": 70,
          "DipDir": 344.3,
          "FaultID": 733,
          "FaultName": "Hope: Hanmer SE, Subsection 0",
          "Length (m)": 389564.84375,
          "LowDepth": 22.080000000000002,
          "Magnitude": 8.127481460571289,
          "ParentID": 158,
          "ParentName": "Hope: Hanmer SE",
          "Rake": -160,
          "Rupture Index": 219862,
          "Target Slip Rate": 0.005535,
          "Target Slip Rate StdDev": 0.0008404199999999999,
          "UpDepth": 0,
          "fault_system": "CRU",
          "key_0": 219862,
          "rate_count": 6,
          "rate_max": 5.6200893595814705e-05,
          "rate_min": 2.0206483895890415e-05,
          "rate_weighted_mean": 8.177291419997346e-06,
          "section": 733
         },
         "type": "Feature"
        },
        {
         "geometry": {
          "coordinates": [
           [
            [
             172.87364446719326,
             -42.56200044209184
            ],
            [
             172.9564,
             -42.543
            ],
            [
             172.9652,
             -42.5405
            ],
            [
             172.9656,
             -42.5404
            ],
            [
             172.93908605047298,
             -42.47081977795253
            ],
            [
             172.93868600811246,
             -42.47091977794182
            ],
            [
             172.92988494902923,
             -42.473419777674124
            ],
            [
             172.84712136258614,
             -42.49242021773078
            ],
            [
             172.87364446719326,
             -42.56200044209184
            ]
           ]
          ],
          "type": "Polygon"
         },
         "id": "('CRU', 219862)",
         "properties": {
          "Area (m^2)": 8462251008,
          "AseismicSlipFactor": 0,
          "Average Rake (degrees)": 161.31869506835938,
          "CouplingCoeff": 1,
          "DipDeg": 70,
          "DipDir": 344.3,
          "FaultID": 734,
          "FaultName": "Hope: Hanmer SE, Subsection 1",
          "Length (m)": 389564.84375,
          "LowDepth": 22.080000000000002,
          "Magnitude": 8.127481460571289,
          "ParentID": 158,
          "ParentName": "Hope: Hanmer SE",
          "Rake": -160,
          "Rupture Index": 219862,
          "Target Slip Rate": 0.0052875,
          "Target Slip Rate StdDev": 0.00076923,
          "UpDepth": 0,
          "fault_system": "CRU",
          "key_0": 219862,
          "rate_count": 6,
          "rate_max": 5.6200893595814705e-05,
          "rate_min": 2.0206483895890415e-05,
          "rate_weighted_mean": 8.177291419997346e-06,
          "section": 734
         },
         "type": "Feature"
        },
        {
         "geometry": {
          "coordinates": [
           [
            [
             173.06638699853946,
             -42.51005115412379
            ],
            [
             173.0427,
             -42.5189
            ],
            [
             172.96560000000002,
             -42.54039999999999
            ],
            [
             172.94879767240846,
             -42.51078947358903
            ],
            [
             173.02590344889379,
             -42.48928947451322
            ],
            [
             173.04959282304534,
             -42.4804406290172
            ],
            [
             173.06638699853946,
             -42.51005115412379
            ]
           ]
          ],
          "type": "Polygon"
         },
         "id": "('CRU', 219862)",
         "properties": {
          "Area (m^2)": 8462251008,
          "AseismicSlipFactor": 0,
          "Average Rake (degrees)": 161.31869506835938,
          "CouplingCoeff": 1,
          "DipDeg": 80,
          "DipDir": 337.3,
          "FaultID": 725,
          "FaultName": "Hope: Conway, Subsection 6",
          "Length (m)": 389564.84375,
          "LowDepth": 20.240000000000002,
          "Magnitude": 8.127481460571289,
          "ParentID": 156,
          "ParentName": "Hope: Conway",
          "Rake": 180,
          "Rupture Index": 219862,
          "Target Slip Rate": 0.0107549999999999,
          "Target Slip Rate StdDev": 0.0008255900000000001,
          "UpDepth": 0,
          "fault_system": "CRU",
          "key_0": 219862,
          "rate_count": 6,
          "rate_max": 5.6200893595814705e-05,
          "rate_min": 2.0206483895890415e-05,
          "rate_weighted_mean": 8.177291419997346e-06,
          "section": 725
         },
         "type": "Feature"
        },
        {
         "geometry": {
          "coordinates": [
           [
            [
             173.16351697568373,
             -42.47368865545638
            ],
            [
             173.06638699853946,
             -42.51005115412379
            ],
            [
             173.04959282304534,
             -42.4804406290172
            ],
            [
             173.1467325510243,
             -42.44407813191093
            ],
            [
             173.16351697568373,
             -42.47368865545638
            ]
           ]
          ],
          "type": "Polygon"
         },
         "id": "('CRU', 219862)",
         "properties": {
          "Area (m^2)": 8462251008,
          "AseismicSlipFactor": 0,
          "Average Rake (degrees)": 161.31869506835938,
          "CouplingCoeff": 1,
          "DipDeg": 80,
          "DipDir": 337.3,
          "FaultID": 724,
          "FaultName": "Hope: Conway, Subsection 5",
          "Length (m)": 389564.84375,
          "LowDepth": 20.240000000000002,
          "Magnitude": 8.127481460571289,
          "ParentID": 156,
          "ParentName": "Hope: Conway",
          "Rake": 180,
          "Rupture Index": 219862,
          "Target Slip Rate": 0.010485,
          "Target Slip Rate StdDev": 0.0008717200000000001,
          "UpDepth": 0,
          "fault_system": "CRU",
          "key_0": 219862,
          "rate_count": 6,
          "rate_max": 5.6200893595814705e-05,
          "rate_min": 2.0206483895890415e-05,
          "rate_weighted_mean": 8.177291419997346e-06,
          "section": 724
         },
         "type": "Feature"
        },
        {
         "geometry": {
          "coordinates": [
           [
            [
             173.260534024572,
             -42.43724424280603
            ],
            [
             173.16351697568373,
             -42.47368865545638
            ],
            [
             173.1467325510243,
             -42.44407813191093
            ],
            [
             173.2437593545831,
             -42.40763372082341
            ],
            [
             173.260534024572,
             -42.43724424280603
            ]
           ]
          ],
          "type": "Polygon"
         },
         "id": "('CRU', 219862)",
         "properties": {
          "Area (m^2)": 8462251008,
          "AseismicSlipFactor": 0,
          "Average Rake (degrees)": 161.31869506835938,
          "CouplingCoeff": 1,
          "DipDeg": 80,
          "DipDir": 337.3,
          "FaultID": 723,
          "FaultName": "Hope: Conway, Subsection 4",
          "Length (m)": 389564.84375,
          "LowDepth": 20.240000000000002,
          "Magnitude": 8.127481460571289,
          "ParentID": 156,
          "ParentName": "Hope: Conway",
          "Rake": 180,
          "Rupture Index": 219862,
          "Target Slip Rate": 0.0099225,
          "Target Slip Rate StdDev": 0.00075862,
          "UpDepth": 0,
          "fault_system": "CRU",
          "key_0": 219862,
          "rate_count": 6,
          "rate_max": 5.6200893595814705e-05,
          "rate_min": 2.0206483895890415e-05,
          "rate_weighted_mean": 8.177291419997346e-06,
          "section": 723
         },
         "type": "Feature"
        },
        {
         "geometry": {
          "coordinates": [
           [
            [
             173.35963037161366,
             -42.40455760197486
            ],
            [
             173.3233,
             -42.4136
            ],
            [
             173.260534024572,
             -42.43724424280603
            ],
            [
             173.2437593545831,
             -42.40763372082341
            ],
            [
             173.3065316489137,
             -42.383989479030355
            ],
            [
             173.34286443508722,
             -42.3749470813924
            ],
            [
             173.35963037161366,
             -42.40455760197486
            ]
           ]
          ],
          "type": "Polygon"
         },
         "id": "('CRU', 219862)",
         "properties": {
          "Area (m^2)": 8462251008,
          "AseismicSlipFactor": 0,
          "Average Rake (degrees)": 161.31869506835938,
          "CouplingCoeff": 1,
          "DipDeg": 80,
          "DipDir": 337.3,
          "FaultID": 722,
          "FaultName": "Hope: Conway, Subsection 3",
          "Length (m)": 389564.84375,
          "LowDepth": 20.240000000000002,
          "Magnitude": 8.127481460571289,
          "ParentID": 156,
          "ParentName": "Hope: Conway",
          "Rake": 180,
          "Rupture Index": 219862,
          "Target Slip Rate": 0.0098325,
          "Target Slip Rate StdDev": 0.00077721,
          "UpDepth": 0,
          "fault_system": "CRU",
          "key_0": 219862,
          "rate_count": 6,
          "rate_max": 5.6200893595814705e-05,
          "rate_min": 2.0206483895890415e-05,
          "rate_weighted_mean": 8.177291419997346e-06,
          "section": 722
         },
         "type": "Feature"
        },
        {
         "geometry": {
          "coordinates": [
           [
            [
             173.4626613050019,
             -42.378837241856935
            ],
            [
             173.35963037161366,
             -42.40455760197486
            ],
            [
             173.34286443508722,
             -42.3749470813924
            ],
            [
             173.4459022304112,
             -42.349226722375214
            ],
            [
             173.4626613050019,
             -42.378837241856935
            ]
           ]
          ],
          "type": "Polygon"
         },
         "id": "('CRU', 219862)",
         "properties": {
          "Area (m^2)": 8462251008,
          "AseismicSlipFactor": 0,
          "Average Rake (degrees)": 161.31869506835938,
          "CouplingCoeff": 1,
          "DipDeg": 80,
          "DipDir": 337.3,
          "FaultID": 721,
          "FaultName": "Hope: Conway, Subsection 2",
          "Length (m)": 389564.84375,
          "LowDepth": 20.240000000000002,
          "Magnitude": 8.127481460571289,
          "ParentID": 156,
          "ParentName": "Hope: Conway",
          "Rake": 180,
          "Rupture Index": 219862,
          "Target Slip Rate": 0.0097425,
          "Target Slip Rate StdDev": 0.0007957999999999999,
          "UpDepth": 0,
          "fault_system": "CRU",
          "key_0": 219862,
          "rate_count": 6,
          "rate_max": 5.6200893595814705e-05,
          "rate_min": 2.0206483895890415e-05,
          "rate_weighted_mean": 8.177291419997346e-06,
          "section": 721
         },
         "type": "Feature"
        },
        {
         "geometry": {
          "coordinates": [
           [
            [
             173.56253732740367,
             -42.35047958791495
            ],
            [
             173.5079,
             -42.3591
            ],
            [
             173.4732,
             -42.3762
            ],
            [
             173.4626613050019,
             -42.378837241856935
            ],
            [
             173.4459022304112,
             -42.349226722375214
            ],
            [
             173.45644162849084,
             -42.34658948063109
            ],
            [
             173.49114618501235,
             -42.32948948136234
            ],
            [
             173.54578580793412,
             -42.320869069645774
            ],
            [
             173.56253732740367,
             -42.35047958791495
            ]
           ]
          ],
          "type": "Polygon"
         },
         "id": "('CRU', 219862)",
         "properties": {
          "Area (m^2)": 8462251008,
          "AseismicSlipFactor": 0,
          "Average Rake (degrees)": 161.31869506835938,
          "CouplingCoeff": 1,
          "DipDeg": 80,
          "DipDir": 337.3,
          "FaultID": 720,
          "FaultName": "Hope: Conway, Subsection 1",
          "Length (m)": 389564.84375,
          "LowDepth": 20.240000000000002,
          "Magnitude": 8.127481460571289,
          "ParentID": 156,
          "ParentName": "Hope: Conway",
          "Rake": 180,
          "Rupture Index": 219862,
          "Target Slip Rate": 0.00842247,
          "Target Slip Rate StdDev": 0.00081643,
          "UpDepth": 0,
          "fault_system": "CRU",
          "key_0": 219862,
          "rate_count": 6,
          "rate_max": 5.6200893595814705e-05,
          "rate_min": 2.0206483895890415e-05,
          "rate_weighted_mean": 8.177291419997346e-06,
          "section": 720
         },
         "type": "Feature"
        },
        {
         "geometry": {
          "coordinates": [
           [
            [
             173.6641,
             -42.324
            ],
            [
             173.618,
             -42.3417
            ],
            [
             173.56253732740367,
             -42.35047958791495
            ],
            [
             173.54578580793412,
             -42.320869069645774
            ],
            [
             173.60125081739918,
             -42.31208948210602
            ],
            [
             173.64735552544317,
             -42.29438948286208
            ],
            [
             173.6641,
             -42.324
            ]
           ]
          ],
          "type": "Polygon"
         },
         "id": "('CRU', 219862)",
         "properties": {
          "Area (m^2)": 8462251008,
          "AseismicSlipFactor": 0,
          "Average Rake (degrees)": 161.31869506835938,
          "CouplingCoeff": 1,
          "DipDeg": 80,
          "DipDir": 337.3,
          "FaultID": 719,
          "FaultName": "Hope: Conway, Subsection 0",
          "Length (m)": 389564.84375,
          "LowDepth": 20.240000000000002,
          "Magnitude": 8.127481460571289,
          "ParentID": 156,
          "ParentName": "Hope: Conway",
          "Rake": 180,
          "Rupture Index": 219862,
          "Target Slip Rate": 0.00788625,
          "Target Slip Rate StdDev": 0.00079475,
          "UpDepth": 0,
          "fault_system": "CRU",
          "key_0": 219862,
          "rate_count": 6,
          "rate_max": 5.6200893595814705e-05,
          "rate_min": 2.0206483895890415e-05,
          "rate_weighted_mean": 8.177291419997346e-06,
          "section": 719
         },
         "type": "Feature"
        },
        {
         "geometry": {
          "coordinates": [
           [
            [
             173.6641,
             -42.324
            ],
            [
             173.6715,
             -42.2897
            ],
            [
             173.7023,
             -42.2748
            ],
            [
             173.7154,
             -42.2599
            ],
            [
             173.72417627128502,
             -42.20831525613892
            ],
            [
             173.3977763755856,
             -42.08813667274501
            ],
            [
             173.3887343398869,
             -42.139720578887264
            ],
            [
             173.37555744524553,
             -42.15462033666224
            ],
            [
             173.34468049228826,
             -42.16952009432314
            ],
            [
             173.3371031236285,
             -42.20381953602108
            ],
            [
             173.6641,
             -42.324
            ]
           ]
          ],
          "type": "Polygon"
         },
         "id": "('CRU', 219862)",
         "properties": {
          "Area (m^2)": 8462251008,
          "AseismicSlipFactor": 0,
          "Average Rake (degrees)": 161.31869506835938,
          "CouplingCoeff": 1,
          "DipDeg": 37,
          "DipDir": 296.3,
          "FaultID": 834,
          "FaultName": "Jordan, Subsection 0",
          "Length (m)": 389564.84375,
          "LowDepth": 22.64,
          "Magnitude": 8.127481460571289,
          "ParentID": 183,
          "ParentName": "Jordan",
          "Rake": 110,
          "Rupture Index": 219862,
          "Target Slip Rate": 0.002655,
          "Target Slip Rate StdDev": 0.0010590999999999,
          "UpDepth": 0,
          "fault_system": "CRU",
          "key_0": 219862,
          "rate_count": 6,
          "rate_max": 5.6200893595814705e-05,
          "rate_min": 2.0206483895890415e-05,
          "rate_weighted_mean": 8.177291419997346e-06,
          "section": 834
         },
         "type": "Feature"
        },
        {
         "geometry": {
          "coordinates": [
           [
            [
             173.72417627128502,
             -42.20831525613892
            ],
            [
             173.727,
             -42.1917
            ],
            [
             173.8165,
             -42.0978
            ],
            [
             173.49066713765657,
             -41.97762320676023
            ],
            [
             173.40068555769844,
             -42.07152168614218
            ],
            [
             173.3977763755856,
             -42.08813667274501
            ],
            [
             173.72417627128502,
             -42.20831525613892
            ]
           ]
          ],
          "type": "Polygon"
         },
         "id": "('CRU', 219862)",
         "properties": {
          "Area (m^2)": 8462251008,
          "AseismicSlipFactor": 0,
          "Average Rake (degrees)": 161.31869506835938,
          "CouplingCoeff": 1,
          "DipDeg": 37,
          "DipDir": 296.3,
          "FaultID": 835,
          "FaultName": "Jordan, Subsection 1",
          "Length (m)": 389564.84375,
          "LowDepth": 22.64,
          "Magnitude": 8.127481460571289,
          "ParentID": 183,
          "ParentName": "Jordan",
          "Rake": 110,
          "Rupture Index": 219862,
          "Target Slip Rate": 0.00324,
          "Target Slip Rate StdDev": 0.0009045,
          "UpDepth": 0,
          "fault_system": "CRU",
          "key_0": 219862,
          "rate_count": 6,
          "rate_max": 5.6200893595814705e-05,
          "rate_min": 2.0206483895890415e-05,
          "rate_weighted_mean": 8.177291419997346e-06,
          "section": 835
         },
         "type": "Feature"
        },
        {
         "geometry": {
          "coordinates": [
           [
            [
             173.89477602475546,
             -42.03878510436782
            ],
            [
             173.8165,
             -42.09779999999999
            ],
            [
             173.73200857262492,
             -42.01040260157397
            ],
            [
             173.81036286759806,
             -41.95138777004933
            ],
            [
             173.89477602475546,
             -42.03878510436782
            ]
           ]
          ],
          "type": "Polygon"
         },
         "id": "('CRU', 219862)",
         "properties": {
          "Area (m^2)": 8462251008,
          "AseismicSlipFactor": 0,
          "Average Rake (degrees)": 161.31869506835938,
          "CouplingCoeff": 1,
          "DipDeg": 60,
          "DipDir": 324.3,
          "FaultID": 887,
          "FaultName": "Kekerengu 1, Subsection 2",
          "Length (m)": 389564.84375,
          "LowDepth": 20.72,
          "Magnitude": 8.127481460571289,
          "ParentID": 196,
          "ParentName": "Kekerengu 1",
          "Rake": 135,
          "Rupture Index": 219862,
          "Target Slip Rate": 0.006165,
          "Target Slip Rate StdDev": 0.00093767,
          "UpDepth": 0,
          "fault_system": "CRU",
          "key_0": 219862,
          "rate_count": 6,
          "rate_max": 5.6200893595814705e-05,
          "rate_min": 2.0206483895890415e-05,
          "rate_weighted_mean": 8.177291419997346e-06,
          "section": 887
         },
         "type": "Feature"
        },
        {
         "geometry": {
          "coordinates": [
           [
            [
             173.9813701060891,
             -41.986986544801084
            ],
            [
             173.917,
             -42.022
            ],
            [
             173.89477602475546,
             -42.03878510436782
            ],
            [
             173.81036286759806,
             -41.95138777004933
            ],
            [
             173.83260906174755,
             -41.93460268389339
            ],
            [
             173.89702545519623,
             -41.89958926665332
            ],
            [
             173.9813701060891,
             -41.986986544801084
            ]
           ]
          ],
          "type": "Polygon"
         },
         "id": "('CRU', 219862)",
         "properties": {
          "Area (m^2)": 8462251008,
          "AseismicSlipFactor": 0,
          "Average Rake (degrees)": 161.31869506835938,
          "CouplingCoeff": 1,
          "DipDeg": 60,
          "DipDir": 324.3,
          "FaultID": 886,
          "FaultName": "Kekerengu 1, Subsection 1",
          "Length (m)": 389564.84375,
          "LowDepth": 20.72,
          "Magnitude": 8.127481460571289,
          "ParentID": 196,
          "ParentName": "Kekerengu 1",
          "Rake": 135,
          "Rupture Index": 219862,
          "Target Slip Rate": 0.005355,
          "Target Slip Rate StdDev": 0.0009385,
          "UpDepth": 0,
          "fault_system": "CRU",
          "key_0": 219862,
          "rate_count": 6,
          "rate_max": 5.6200893595814705e-05,
          "rate_min": 2.0206483895890415e-05,
          "rate_weighted_mean": 8.177291419997346e-06,
          "section": 886
         },
         "type": "Feature"
        },
        {
         "geometry": {
          "coordinates": [
           [
            [
             174.0822,
             -41.9519
            ],
            [
             173.9841,
             -41.9855
            ],
            [
             173.9813701060891,
             -41.986986544801084
            ],
            [
             173.89702545519623,
             -41.89958926665332
            ],
            [
             173.8997573124807,
             -41.898102723462905
            ],
            [
             173.99790165062123,
             -41.86450275984858
            ],
            [
             174.0822,
             -41.9519
            ]
           ]
          ],
          "type": "Polygon"
         },
         "id": "('CRU', 219862)",
         "properties": {
          "Area (m^2)": 8462251008,
          "AseismicSlipFactor": 0,
          "Average Rake (degrees)": 161.31869506835938,
          "CouplingCoeff": 1,
          "DipDeg": 60,
          "DipDir": 324.3,
          "FaultID": 885,
          "FaultName": "Kekerengu 1, Subsection 0",
          "Length (m)": 389564.84375,
          "LowDepth": 20.72,
          "Magnitude": 8.127481460571289,
          "ParentID": 196,
          "ParentName": "Kekerengu 1",
          "Rake": 135,
          "Rupture Index": 219862,
          "Target Slip Rate": 0.00430875,
          "Target Slip Rate StdDev": 0.00083348,
          "UpDepth": 0,
          "fault_system": "CRU",
          "key_0": 219862,
          "rate_count": 6,
          "rate_max": 5.6200893595814705e-05,
          "rate_min": 2.0206483895890415e-05,
          "rate_weighted_mean": 8.177291419997346e-06,
          "section": 885
         },
         "type": "Feature"
        },
        {
         "geometry": {
          "coordinates": [
           [
            [
             174.15370249190488,
             -41.89707920586256
            ],
            [
             174.08220000000003,
             -41.95189999999999
            ],
            [
             174.05451017959567,
             -41.92965039314116
            ],
            [
             174.12603643461932,
             -41.874829605400166
            ],
            [
             174.15370249190488,
             -41.89707920586256
            ]
           ]
          ],
          "type": "Polygon"
         },
         "id": "('CRU', 219862)",
         "properties": {
          "Area (m^2)": 8462251008,
          "AseismicSlipFactor": 0,
          "Average Rake (degrees)": 161.31869506835938,
          "CouplingCoeff": 1,
          "DipDeg": 80,
          "DipDir": 317.2,
          "FaultID": 1299,
          "FaultName": "Needles, Subsection 4",
          "Length (m)": 389564.84375,
          "LowDepth": 19.12,
          "Magnitude": 8.127481460571289,
          "ParentID": 293,
          "ParentName": "Needles",
          "Rake": 160,
          "Rupture Index": 219862,
          "Target Slip Rate": 0.002835,
          "Target Slip Rate StdDev": 0.0013407,
          "UpDepth": 0,
          "fault_system": "CRU",
          "key_0": 219862,
          "rate_count": 6,
          "rate_max": 5.6200893595814705e-05,
          "rate_min": 2.0206483895890415e-05,
          "rate_weighted_mean": 8.177291419997346e-06,
          "section": 1299
         },
         "type": "Feature"
        },
        {
         "geometry": {
          "coordinates": [
           [
            [
             174.22508228376049,
             -41.84221413337335
            ],
            [
             174.15370249190488,
             -41.89707920586256
            ],
            [
             174.12603643461932,
             -41.874829605400166
            ],
            [
             174.19743994267137,
             -41.81996453930155
            ],
            [
             174.22508228376049,
             -41.84221413337335
            ]
           ]
          ],
          "type": "Polygon"
         },
         "id": "('CRU', 219862)",
         "properties": {
          "Area (m^2)": 8462251008,
          "AseismicSlipFactor": 0,
          "Average Rake (degrees)": 161.31869506835938,
          "CouplingCoeff": 1,
          "DipDeg": 80,
          "DipDir": 317.2,
          "FaultID": 1298,
          "FaultName": "Needles, Subsection 3",
          "Length (m)": 389564.84375,
          "LowDepth": 19.12,
          "Magnitude": 8.127481460571289,
          "ParentID": 293,
          "ParentName": "Needles",
          "Rake": 160,
          "Rupture Index": 219862,
          "Target Slip Rate": 0.002565,
          "Target Slip Rate StdDev": 0.00094117,
          "UpDepth": 0,
          "fault_system": "CRU",
          "key_0": 219862,
          "rate_count": 6,
          "rate_max": 5.6200893595814705e-05,
          "rate_min": 2.0206483895890415e-05,
          "rate_weighted_mean": 8.177291419997346e-06,
          "section": 1298
         },
         "type": "Feature"
        },
        {
         "geometry": {
          "coordinates": [
           [
            [
             174.2953191471069,
             -41.786589654376066
            ],
            [
             174.2612,
             -41.8144
            ],
            [
             174.22508228376049,
             -41.84221413337335
            ],
            [
             174.19743994267137,
             -41.81996453930155
            ],
            [
             174.23356965676297,
             -41.79215040916379
            ],
            [
             174.26770078317523,
             -41.76434006677217
            ],
            [
             174.2953191471069,
             -41.786589654376066
            ]
           ]
          ],
          "type": "Polygon"
         },
         "id": "('CRU', 219862)",
         "properties": {
          "Area (m^2)": 8462251008,
          "AseismicSlipFactor": 0,
          "Average Rake (degrees)": 161.31869506835938,
          "CouplingCoeff": 1,
          "DipDeg": 80,
          "DipDir": 317.2,
          "FaultID": 1297,
          "FaultName": "Needles, Subsection 2",
          "Length (m)": 389564.84375,
          "LowDepth": 19.12,
          "Magnitude": 8.127481460571289,
          "ParentID": 293,
          "ParentName": "Needles",
          "Rake": 160,
          "Rupture Index": 219862,
          "Target Slip Rate": 0.00261,
          "Target Slip Rate StdDev": 0.00099867,
          "UpDepth": 0,
          "fault_system": "CRU",
          "key_0": 219862,
          "rate_count": 6,
          "rate_max": 5.6200893595814705e-05,
          "rate_min": 2.0206483895890415e-05,
          "rate_weighted_mean": 8.177291419997346e-06,
          "section": 1297
         },
         "type": "Feature"
        },
        {
         "geometry": {
          "coordinates": [
           [
            [
             174.37199165727813,
             -41.73638524195454
            ],
            [
             174.3219,
             -41.7649
            ],
            [
             174.2953191471069,
             -41.786589654376066
            ],
            [
             174.26770078317523,
             -41.76434006677217
            ],
            [
             174.29429096716572,
             -41.742650414915104
            ],
            [
             174.34439487616245,
             -41.71413566017869
            ],
            [
             174.37199165727813,
             -41.73638524195454
            ]
           ]
          ],
          "type": "Polygon"
         },
         "id": "('CRU', 219862)",
         "properties": {
          "Area (m^2)": 8462251008,
          "AseismicSlipFactor": 0,
          "Average Rake (degrees)": 161.31869506835938,
          "CouplingCoeff": 1,
          "DipDeg": 80,
          "DipDir": 317.2,
          "FaultID": 1296,
          "FaultName": "Needles, Subsection 1",
          "Length (m)": 389564.84375,
          "LowDepth": 19.12,
          "Magnitude": 8.127481460571289,
          "ParentID": 293,
          "ParentName": "Needles",
          "Rake": 160,
          "Rupture Index": 219862,
          "Target Slip Rate": 0.002115,
          "Target Slip Rate StdDev": 0.0009683,
          "UpDepth": 0,
          "fault_system": "CRU",
          "key_0": 219862,
          "rate_count": 6,
          "rate_max": 5.6200893595814705e-05,
          "rate_min": 2.0206483895890415e-05,
          "rate_weighted_mean": 8.177291419997346e-06,
          "section": 1296
         },
         "type": "Feature"
        },
        {
         "geometry": {
          "coordinates": [
           [
            [
             174.4533,
             -41.69
            ],
            [
             174.37199165727813,
             -41.73638524195454
            ],
            [
             174.34439487616245,
             -41.71413566017869
            ],
            [
             174.42572311107992,
             -41.66775042360076
            ],
            [
             174.4533,
             -41.69
            ]
           ]
          ],
          "type": "Polygon"
         },
         "id": "('CRU', 219862)",
         "properties": {
          "Area (m^2)": 8462251008,
          "AseismicSlipFactor": 0,
          "Average Rake (degrees)": 161.31869506835938,
          "CouplingCoeff": 1,
          "DipDeg": 80,
          "DipDir": 317.2,
          "FaultID": 1295,
          "FaultName": "Needles, Subsection 0",
          "Length (m)": 389564.84375,
          "LowDepth": 19.12,
          "Magnitude": 8.127481460571289,
          "ParentID": 293,
          "ParentName": "Needles",
          "Rake": 160,
          "Rupture Index": 219862,
          "Target Slip Rate": 0.001575,
          "Target Slip Rate StdDev": 0.0008804300000000001,
          "UpDepth": 0,
          "fault_system": "CRU",
          "key_0": 219862,
          "rate_count": 6,
          "rate_max": 5.6200893595814705e-05,
          "rate_min": 2.0206483895890415e-05,
          "rate_weighted_mean": 8.177291419997346e-06,
          "section": 1295
         },
         "type": "Feature"
        },
        {
         "geometry": {
          "coordinates": [
           [
            [
             174.50672457898114,
             -41.628966773664125
            ],
            [
             174.3983,
             -41.6617
            ],
            [
             174.36781833620643,
             -41.60200589122194
            ],
            [
             174.47625836456476,
             -41.56927266951597
            ],
            [
             174.50672457898114,
             -41.628966773664125
            ]
           ]
          ],
          "type": "Polygon"
         },
         "id": "('CRU', 219862)",
         "properties": {
          "Area (m^2)": 8462251008,
          "AseismicSlipFactor": 0,
          "Average Rake (degrees)": 161.31869506835938,
          "CouplingCoeff": 1,
          "DipDeg": 70,
          "DipDir": 339.1,
          "FaultID": 2115,
          "FaultName": "Wairarapa: Needles, Subsection 2",
          "Length (m)": 389564.84375,
          "LowDepth": 19.52,
          "Magnitude": 8.127481460571289,
          "ParentID": 509,
          "ParentName": "Wairarapa: Needles",
          "Rake": 180,
          "Rupture Index": 219862,
          "Target Slip Rate": 0.0045675,
          "Target Slip Rate StdDev": 0.0007834900000000001,
          "UpDepth": 0,
          "fault_system": "CRU",
          "key_0": 219862,
          "rate_count": 6,
          "rate_max": 5.6200893595814705e-05,
          "rate_min": 2.0206483895890415e-05,
          "rate_weighted_mean": 8.177291419997346e-06,
          "section": 2115
         },
         "type": "Feature"
        },
        {
         "geometry": {
          "coordinates": [
           [
            [
             174.61505784963953,
             -41.596166629808806
            ],
            [
             174.5611,
             -41.6125
            ],
            [
             174.50672457898114,
             -41.628966773664125
            ],
            [
             174.47625836456476,
             -41.56927266951597
            ],
            [
             174.53064154786944,
             -41.55280589817918
            ],
            [
             174.58460709051903,
             -41.53647253029529
            ],
            [
             174.61505784963953,
             -41.596166629808806
            ]
           ]
          ],
          "type": "Polygon"
         },
         "id": "('CRU', 219862)",
         "properties": {
          "Area (m^2)": 8462251008,
          "AseismicSlipFactor": 0,
          "Average Rake (degrees)": 161.31869506835938,
          "CouplingCoeff": 1,
          "DipDeg": 70,
          "DipDir": 339.1,
          "FaultID": 2114,
          "FaultName": "Wairarapa: Needles, Subsection 1",
          "Length (m)": 389564.84375,
          "LowDepth": 19.52,
          "Magnitude": 8.127481460571289,
          "ParentID": 509,
          "ParentName": "Wairarapa: Needles",
          "Rake": 180,
          "Rupture Index": 219862,
          "Target Slip Rate": 0.00482625,
          "Target Slip Rate StdDev": 0.00082081,
          "UpDepth": 0,
          "fault_system": "CRU",
          "key_0": 219862,
          "rate_count": 6,
          "rate_max": 5.6200893595814705e-05,
          "rate_min": 2.0206483895890415e-05,
          "rate_weighted_mean": 8.177291419997346e-06,
          "section": 2114
         },
         "type": "Feature"
        },
        {
         "geometry": {
          "coordinates": [
           [
            [
             174.7233,
             -41.5633
            ],
            [
             174.61505784963953,
             -41.596166629808806
            ],
            [
             174.58460709051903,
             -41.53647253029529
            ],
            [
             174.6928647017832,
             -41.50360590512582
            ],
            [
             174.7233,
             -41.5633
            ]
           ]
          ],
          "type": "Polygon"
         },
         "id": "('CRU', 219862)",
         "properties": {
          "Area (m^2)": 8462251008,
          "AseismicSlipFactor": 0,
          "Average Rake (degrees)": 161.31869506835938,
          "CouplingCoeff": 1,
          "DipDeg": 70,
          "DipDir": 339.1,
          "FaultID": 2113,
          "FaultName": "Wairarapa: Needles, Subsection 0",
          "Length (m)": 389564.84375,
          "LowDepth": 19.52,
          "Magnitude": 8.127481460571289,
          "ParentID": 509,
          "ParentName": "Wairarapa: Needles",
          "Rake": 180,
          "Rupture Index": 219862,
          "Target Slip Rate": 0.005085,
          "Target Slip Rate StdDev": 0.0008581400000000001,
          "UpDepth": 0,
          "fault_system": "CRU",
          "key_0": 219862,
          "rate_count": 6,
          "rate_max": 5.6200893595814705e-05,
          "rate_min": 2.0206483895890415e-05,
          "rate_weighted_mean": 8.177291419997346e-06,
          "section": 2113
         },
         "type": "Feature"
        },
        {
         "geometry": {
          "coordinates": [
           [
            [
             174.7233,
             -41.5633
            ],
            [
             174.79835815962704,
             -41.515264875192734
            ],
            [
             174.74160127042717,
             -41.474470765321755
            ],
            [
             174.66650099924735,
             -41.522505866543646
            ],
            [
             174.7233,
             -41.5633
            ]
           ]
          ],
          "type": "Polygon"
         },
         "id": "('CRU', 219862)",
         "properties": {
          "Area (m^2)": 8462251008,
          "AseismicSlipFactor": 0,
          "Average Rake (degrees)": 161.31869506835938,
          "CouplingCoeff": 1,
          "DipDeg": 70,
          "DipDir": 313.8,
          "FaultID": 2098,
          "FaultName": "Wairarapa: 1, Subsection 0",
          "Length (m)": 389564.84375,
          "LowDepth": 18,
          "Magnitude": 8.127481460571289,
          "ParentID": 506,
          "ParentName": "Wairarapa: 1",
          "Rake": 160,
          "Rupture Index": 219862,
          "Target Slip Rate": 0.0064125,
          "Target Slip Rate StdDev": 0.00064254,
          "UpDepth": 0,
          "fault_system": "CRU",
          "key_0": 219862,
          "rate_count": 6,
          "rate_max": 5.6200893595814705e-05,
          "rate_min": 2.0206483895890415e-05,
          "rate_weighted_mean": 8.177291419997346e-06,
          "section": 2098
         },
         "type": "Feature"
        },
        {
         "geometry": {
          "coordinates": [
           [
            [
             174.79835815962704,
             -41.515264875192734
            ],
            [
             174.8733049401744,
             -41.467181022515476
            ],
            [
             174.81659010285935,
             -41.426386936218826
            ],
            [
             174.74160127042717,
             -41.474470765321755
            ],
            [
             174.79835815962704,
             -41.515264875192734
            ]
           ]
          ],
          "type": "Polygon"
         },
         "id": "('CRU', 219862)",
         "properties": {
          "Area (m^2)": 8462251008,
          "AseismicSlipFactor": 0,
          "Average Rake (degrees)": 161.31869506835938,
          "CouplingCoeff": 1,
          "DipDeg": 70,
          "DipDir": 313.8,
          "FaultID": 2099,
          "FaultName": "Wairarapa: 1, Subsection 1",
          "Length (m)": 389564.84375,
          "LowDepth": 18,
          "Magnitude": 8.127481460571289,
          "ParentID": 506,
          "ParentName": "Wairarapa: 1",
          "Rake": 160,
          "Rupture Index": 219862,
          "Target Slip Rate": 0.0054675,
          "Target Slip Rate StdDev": 0.00064213,
          "UpDepth": 0,
          "fault_system": "CRU",
          "key_0": 219862,
          "rate_count": 6,
          "rate_max": 5.6200893595814705e-05,
          "rate_min": 2.0206483895890415e-05,
          "rate_weighted_mean": 8.177291419997346e-06,
          "section": 2099
         },
         "type": "Feature"
        },
        {
         "geometry": {
          "coordinates": [
           [
            [
             174.8733049401744,
             -41.467181022515476
            ],
            [
             174.8767,
             -41.465
            ],
            [
             174.9372838842802,
             -41.41099323807189
            ],
            [
             174.88061805676182,
             -41.370199179278515
            ],
            [
             174.81998706768107,
             -41.42420591477181
            ],
            [
             174.81659010285935,
             -41.426386936218826
            ],
            [
             174.8733049401744,
             -41.467181022515476
            ]
           ]
          ],
          "type": "Polygon"
         },
         "id": "('CRU', 219862)",
         "properties": {
          "Area (m^2)": 8462251008,
          "AseismicSlipFactor": 0,
          "Average Rake (degrees)": 161.31869506835938,
          "CouplingCoeff": 1,
          "DipDeg": 70,
          "DipDir": 313.8,
          "FaultID": 2100,
          "FaultName": "Wairarapa: 1, Subsection 2",
          "Length (m)": 389564.84375,
          "LowDepth": 18,
          "Magnitude": 8.127481460571289,
          "ParentID": 506,
          "ParentName": "Wairarapa: 1",
          "Rake": 160,
          "Rupture Index": 219862,
          "Target Slip Rate": 0.00522,
          "Target Slip Rate StdDev": 0.00059712,
          "UpDepth": 0,
          "fault_system": "CRU",
          "key_0": 219862,
          "rate_count": 6,
          "rate_max": 5.6200893595814705e-05,
          "rate_min": 2.0206483895890415e-05,
          "rate_weighted_mean": 8.177291419997346e-06,
          "section": 2100
         },
         "type": "Feature"
        },
        {
         "geometry": {
          "coordinates": [
           [
            [
             174.9372838842802,
             -41.41099323807189
            ],
            [
             175.00063679620996,
             -41.354387803810454
            ],
            [
             174.9440202021992,
             -41.3135937726768
            ],
            [
             174.88061805676182,
             -41.370199179278515
            ],
            [
             174.9372838842802,
             -41.41099323807189
            ]
           ]
          ],
          "type": "Polygon"
         },
         "id": "('CRU', 219862)",
         "properties": {
          "Area (m^2)": 8462251008,
          "AseismicSlipFactor": 0,
          "Average Rake (degrees)": 161.31869506835938,
          "CouplingCoeff": 1,
          "DipDeg": 70,
          "DipDir": 313.8,
          "FaultID": 2101,
          "FaultName": "Wairarapa: 1, Subsection 3",
          "Length (m)": 389564.84375,
          "LowDepth": 18,
          "Magnitude": 8.127481460571289,
          "ParentID": 506,
          "ParentName": "Wairarapa: 1",
          "Rake": 160,
          "Rupture Index": 219862,
          "Target Slip Rate": 0.0043425,
          "Target Slip Rate StdDev": 0.00051415,
          "UpDepth": 0,
          "fault_system": "CRU",
          "key_0": 219862,
          "rate_count": 6,
          "rate_max": 5.6200893595814705e-05,
          "rate_min": 2.0206483895890415e-05,
          "rate_weighted_mean": 8.177291419997346e-06,
          "section": 2101
         },
         "type": "Feature"
        },
        {
         "geometry": {
          "coordinates": [
           [
            [
             175.00063679620996,
             -41.354387803810454
            ],
            [
             175.0501,
             -41.3101
            ],
            [
             175.06171830865475,
             -41.29655173940322
            ],
            [
             175.00515187325385,
             -41.255757736481044
            ],
            [
             174.99352182794632,
             -41.26930599047368
            ],
            [
             174.9440202021992,
             -41.3135937726768
            ],
            [
             175.00063679620996,
             -41.354387803810454
            ]
           ]
          ],
          "type": "Polygon"
         },
         "id": "('CRU', 219862)",
         "properties": {
          "Area (m^2)": 8462251008,
          "AseismicSlipFactor": 0,
          "Average Rake (degrees)": 161.31869506835938,
          "CouplingCoeff": 1,
          "DipDeg": 70,
          "DipDir": 313.8,
          "FaultID": 2102,
          "FaultName": "Wairarapa: 1, Subsection 4",
          "Length (m)": 389564.84375,
          "LowDepth": 18,
          "Magnitude": 8.127481460571289,
          "ParentID": 506,
          "ParentName": "Wairarapa: 1",
          "Rake": 160,
          "Rupture Index": 219862,
          "Target Slip Rate": 0.0045225,
          "Target Slip Rate StdDev": 0.00053318,
          "UpDepth": 0,
          "fault_system": "CRU",
          "key_0": 219862,
          "rate_count": 6,
          "rate_max": 5.6200893595814705e-05,
          "rate_min": 2.0206483895890415e-05,
          "rate_weighted_mean": 8.177291419997346e-06,
          "section": 2102
         },
         "type": "Feature"
        },
        {
         "geometry": {
          "coordinates": [
           [
            [
             175.06171830865475,
             -41.29655173940322
            ],
            [
             175.0837,
             -41.2709
            ],
            [
             175.12689999999998,
             -41.24210000000002
            ],
            [
             175.07038065438925,
             -41.20130602359289
            ],
            [
             175.0271557643227,
             -41.23010600957433
            ],
            [
             175.00515187325385,
             -41.255757736481044
            ],
            [
             175.06171830865475,
             -41.29655173940322
            ]
           ]
          ],
          "type": "Polygon"
         },
         "id": "('CRU', 219862)",
         "properties": {
          "Area (m^2)": 8462251008,
          "AseismicSlipFactor": 0,
          "Average Rake (degrees)": 161.31869506835938,
          "CouplingCoeff": 1,
          "DipDeg": 70,
          "DipDir": 313.8,
          "FaultID": 2103,
          "FaultName": "Wairarapa: 1, Subsection 5",
          "Length (m)": 389564.84375,
          "LowDepth": 18,
          "Magnitude": 8.127481460571289,
          "ParentID": 506,
          "ParentName": "Wairarapa: 1",
          "Rake": 160,
          "Rupture Index": 219862,
          "Target Slip Rate": 0.0048825,
          "Target Slip Rate StdDev": 0.00055985,
          "UpDepth": 0,
          "fault_system": "CRU",
          "key_0": 219862,
          "rate_count": 6,
          "rate_max": 5.6200893595814705e-05,
          "rate_min": 2.0206483895890415e-05,
          "rate_weighted_mean": 8.177291419997346e-06,
          "section": 2103
         },
         "type": "Feature"
        },
        {
         "geometry": {
          "coordinates": [
           [
            [
             175.1269,
             -41.2421
            ],
            [
             175.1448,
             -41.2406
            ],
            [
             175.1999,
             -41.2081
            ],
            [
             175.21088076595865,
             -41.19834065328985
            ],
            [
             175.16177143779927,
             -41.15797984525554
            ],
            [
             175.1507833579302,
             -41.167739188380295
            ],
            [
             175.09565897557923,
             -41.20023917643268
            ],
            [
             175.0777578492737,
             -41.20173917588098
            ],
            [
             175.1269,
             -41.2421
            ]
           ]
          ],
          "type": "Polygon"
         },
         "id": "('CRU', 219862)",
         "properties": {
          "Area (m^2)": 8462251008,
          "AseismicSlipFactor": 0,
          "Average Rake (degrees)": 161.31869506835938,
          "CouplingCoeff": 1,
          "DipDeg": 70,
          "DipDir": 317.5,
          "FaultID": 2104,
          "FaultName": "Wairarapa: 2, Subsection 0",
          "Length (m)": 389564.84375,
          "LowDepth": 16.72,
          "Magnitude": 8.127481460571289,
          "ParentID": 507,
          "ParentName": "Wairarapa: 2",
          "Rake": 160,
          "Rupture Index": 219862,
          "Target Slip Rate": 0.0049725,
          "Target Slip Rate StdDev": 0.0005151099999999999,
          "UpDepth": 0,
          "fault_system": "CRU",
          "key_0": 219862,
          "rate_count": 6,
          "rate_max": 5.6200893595814705e-05,
          "rate_min": 2.0206483895890415e-05,
          "rate_weighted_mean": 8.177291419997346e-06,
          "section": 2104
         },
         "type": "Feature"
        },
        {
         "geometry": {
          "coordinates": [
           [
            [
             175.21088076595865,
             -41.19834065328985
            ],
            [
             175.2551,
             -41.159
            ],
            [
             175.28060121506388,
             -41.139362472373996
            ],
            [
             175.23153601010893,
             -41.09900168598449
            ],
            [
             175.20602011825065,
             -41.118639206407906
            ],
            [
             175.16177143779927,
             -41.15797984525554
            ],
            [
             175.21088076595865,
             -41.19834065328985
            ]
           ]
          ],
          "type": "Polygon"
         },
         "id": "('CRU', 219862)",
         "properties": {
          "Area (m^2)": 8462251008,
          "AseismicSlipFactor": 0,
          "Average Rake (degrees)": 161.31869506835938,
          "CouplingCoeff": 1,
          "DipDeg": 70,
          "DipDir": 317.5,
          "FaultID": 2105,
          "FaultName": "Wairarapa: 2, Subsection 1",
          "Length (m)": 389564.84375,
          "LowDepth": 16.72,
          "Magnitude": 8.127481460571289,
          "ParentID": 507,
          "ParentName": "Wairarapa: 2",
          "Rake": 160,
          "Rupture Index": 219862,
          "Target Slip Rate": 0.0051525,
          "Target Slip Rate StdDev": 0.0004950999999999999,
          "UpDepth": 0,
          "fault_system": "CRU",
          "key_0": 219862,
          "rate_count": 6,
          "rate_max": 5.6200893595814705e-05,
          "rate_min": 2.0206483895890415e-05,
          "rate_weighted_mean": 8.177291419997346e-06,
          "section": 2105
         },
         "type": "Feature"
        },
        {
         "geometry": {
          "coordinates": [
           [
            [
             175.28060121506388,
             -41.139362472373996
            ],
            [
             175.3538620781445,
             -41.082850233333595
            ],
            [
             175.30483902854604,
             -41.04248946764746
            ],
            [
             175.23153601010893,
             -41.09900168598449
            ],
            [
             175.28060121506388,
             -41.139362472373996
            ]
           ]
          ],
          "type": "Polygon"
         },
         "id": "('CRU', 219862)",
         "properties": {
          "Area (m^2)": 8462251008,
          "AseismicSlipFactor": 0,
          "Average Rake (degrees)": 161.31869506835938,
          "CouplingCoeff": 1,
          "DipDeg": 70,
          "DipDir": 317.5,
          "FaultID": 2106,
          "FaultName": "Wairarapa: 2, Subsection 2",
          "Length (m)": 389564.84375,
          "LowDepth": 16.72,
          "Magnitude": 8.127481460571289,
          "ParentID": 507,
          "ParentName": "Wairarapa: 2",
          "Rake": 160,
          "Rupture Index": 219862,
          "Target Slip Rate": 0.0053325,
          "Target Slip Rate StdDev": 0.0005425100000000001,
          "UpDepth": 0,
          "fault_system": "CRU",
          "key_0": 219862,
          "rate_count": 6,
          "rate_max": 5.6200893595814705e-05,
          "rate_min": 2.0206483895890415e-05,
          "rate_weighted_mean": 8.177291419997346e-06,
          "section": 2106
         },
         "type": "Feature"
        },
        {
         "geometry": {
          "coordinates": [
           [
            [
             175.3538620781445,
             -41.082850233333595
            ],
            [
             175.3604,
             -41.0778
            ],
            [
             175.3734,
             -41.0708
            ],
            [
             175.4313,
             -41.0298
            ],
            [
             175.38231641408032,
             -40.9894392537166
            ],
            [
             175.3243859237509,
             -41.030439238723886
            ],
            [
             175.31138071178165,
             -41.03743923616231
            ],
            [
             175.30483902854604,
             -41.04248946764746
            ],
            [
             175.3538620781445,
             -41.082850233333595
            ]
           ]
          ],
          "type": "Polygon"
         },
         "id": "('CRU', 219862)",
         "properties": {
          "Area (m^2)": 8462251008,
          "AseismicSlipFactor": 0,
          "Average Rake (degrees)": 161.31869506835938,
          "CouplingCoeff": 1,
          "DipDeg": 70,
          "DipDir": 317.5,
          "FaultID": 2107,
          "FaultName": "Wairarapa: 2, Subsection 3",
          "Length (m)": 389564.84375,
          "LowDepth": 16.72,
          "Magnitude": 8.127481460571289,
          "ParentID": 507,
          "ParentName": "Wairarapa: 2",
          "Rake": 160,
          "Rupture Index": 219862,
          "Target Slip Rate": 0.0055125,
          "Target Slip Rate StdDev": 0.0005561300000000001,
          "UpDepth": 0,
          "fault_system": "CRU",
          "key_0": 219862,
          "rate_count": 6,
          "rate_max": 5.6200893595814705e-05,
          "rate_min": 2.0206483895890415e-05,
          "rate_weighted_mean": 8.177291419997346e-06,
          "section": 2107
         },
         "type": "Feature"
        },
        {
         "geometry": {
          "coordinates": [
           [
            [
             175.60881796773072,
             -40.96057042440613
            ],
            [
             175.5877,
             -40.9682
            ],
            [
             175.54348275532178,
             -40.9708403543804
            ],
            [
             175.5632165738695,
             -41.02275985636053
            ],
            [
             175.6074330274443,
             -41.02011950213672
            ],
            [
             175.62854870979223,
             -41.012489926995286
            ],
            [
             175.60881796773072,
             -40.96057042440613
            ]
           ]
          ],
          "type": "Polygon"
         },
         "id": "('CRU', 219862)",
         "properties": {
          "Area (m^2)": 8462251008,
          "AseismicSlipFactor": 0,
          "Average Rake (degrees)": 161.31869506835938,
          "CouplingCoeff": 1,
          "DipDeg": 65,
          "DipDir": 164,
          "FaultID": 1127,
          "FaultName": "Masterton, Subsection 2",
          "Length (m)": 389564.84375,
          "LowDepth": 12.880000000000003,
          "Magnitude": 8.127481460571289,
          "ParentID": 257,
          "ParentName": "Masterton",
          "Rake": -160,
          "Rupture Index": 219862,
          "Target Slip Rate": 0.0006525,
          "Target Slip Rate StdDev": 0.00053003,
          "UpDepth": 0,
          "fault_system": "CRU",
          "key_0": 219862,
          "rate_count": 6,
          "rate_max": 5.6200893595814705e-05,
          "rate_min": 2.0206483895890415e-05,
          "rate_weighted_mean": 8.177291419997346e-06,
          "section": 1127
         },
         "type": "Feature"
        },
        {
         "geometry": {
          "coordinates": [
           [
            [
             175.66991683704686,
             -40.93846475498719
            ],
            [
             175.60881796773072,
             -40.96057042440613
            ],
            [
             175.62854870979223,
             -41.012489926995286
            ],
            [
             175.6896409624809,
             -40.99038425888664
            ],
            [
             175.66991683704686,
             -40.93846475498719
            ]
           ]
          ],
          "type": "Polygon"
         },
         "id": "('CRU', 219862)",
         "properties": {
          "Area (m^2)": 8462251008,
          "AseismicSlipFactor": 0,
          "Average Rake (degrees)": 161.31869506835938,
          "CouplingCoeff": 1,
          "DipDeg": 65,
          "DipDir": 164,
          "FaultID": 1126,
          "FaultName": "Masterton, Subsection 1",
          "Length (m)": 389564.84375,
          "LowDepth": 12.880000000000003,
          "Magnitude": 8.127481460571289,
          "ParentID": 257,
          "ParentName": "Masterton",
          "Rake": -160,
          "Rupture Index": 219862,
          "Target Slip Rate": 0.0007875,
          "Target Slip Rate StdDev": 0.00059197,
          "UpDepth": 0,
          "fault_system": "CRU",
          "key_0": 219862,
          "rate_count": 6,
          "rate_max": 5.6200893595814705e-05,
          "rate_min": 2.0206483895890415e-05,
          "rate_weighted_mean": 8.177291419997346e-06,
          "section": 1126
         },
         "type": "Feature"
        },
        {
         "geometry": {
          "coordinates": [
           [
            [
             175.7331,
             -40.9283
            ],
            [
             175.7213,
             -40.9359
            ],
            [
             175.7074,
             -40.9392
            ],
            [
             175.6712,
             -40.938
            ],
            [
             175.66991683704686,
             -40.93846475498719
            ],
            [
             175.6896409624809,
             -40.99038425888664
            ],
            [
             175.6909239864036,
             -40.989919503927
            ],
            [
             175.72712434538764,
             -40.99111950385589
            ],
            [
             175.74102335823375,
             -40.98781950405143
            ],
            [
             175.75282108541293,
             -40.98021950450167
            ],
            [
             175.7331,
             -40.9283
            ]
           ]
          ],
          "type": "Polygon"
         },
         "id": "('CRU', 219862)",
         "properties": {
          "Area (m^2)": 8462251008,
          "AseismicSlipFactor": 0,
          "Average Rake (degrees)": 161.31869506835938,
          "CouplingCoeff": 1,
          "DipDeg": 65,
          "DipDir": 164,
          "FaultID": 1125,
          "FaultName": "Masterton, Subsection 0",
          "Length (m)": 389564.84375,
          "LowDepth": 12.880000000000003,
          "Magnitude": 8.127481460571289,
          "ParentID": 257,
          "ParentName": "Masterton",
          "Rake": -160,
          "Rupture Index": 219862,
          "Target Slip Rate": 0.0006525,
          "Target Slip Rate StdDev": 0.00057737,
          "UpDepth": 0,
          "fault_system": "CRU",
          "key_0": 219862,
          "rate_count": 6,
          "rate_max": 5.6200893595814705e-05,
          "rate_min": 2.0206483895890415e-05,
          "rate_weighted_mean": 8.177291419997346e-06,
          "section": 1125
         },
         "type": "Feature"
        }
       ],
       "type": "FeatureCollection"
      },
      "text/plain": [
       "<IPython.display.GeoJSON object>"
      ]
     },
     "metadata": {
      "application/geo+json": {
       "expanded": false,
       "root": "root"
      }
     },
     "output_type": "display_data"
    }
   ],
   "source": [
    "# let's pick one rupture and display it\n",
    "surface = fss.rupture_surface(mro_ids[1])\n",
    "GeoJSON(json.loads(surface.to_json()))"
   ]
  },
  {
   "cell_type": "code",
   "execution_count": null,
   "id": "07fbf192-c04d-4cd9-8f33-5e847281fc90",
   "metadata": {
    "editable": true,
    "slideshow": {
     "slide_type": ""
    },
    "tags": []
   },
   "outputs": [],
   "source": []
  }
 ],
 "metadata": {
  "kernelspec": {
   "display_name": "Python 3 (ipykernel)",
   "language": "python",
   "name": "python3"
  },
  "language_info": {
   "codemirror_mode": {
    "name": "ipython",
    "version": 3
   },
   "file_extension": ".py",
   "mimetype": "text/x-python",
   "name": "python",
   "nbconvert_exporter": "python",
   "pygments_lexer": "ipython3",
   "version": "3.11.6"
  }
 },
 "nbformat": 4,
 "nbformat_minor": 5
}
