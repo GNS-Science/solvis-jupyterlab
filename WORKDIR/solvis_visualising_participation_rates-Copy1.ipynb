{
 "cells": [
  {
   "cell_type": "markdown",
   "id": "82c2af9b-c9fe-48db-8c91-0387125ce672",
   "metadata": {
    "editable": true,
    "slideshow": {
     "slide_type": ""
    },
    "tags": []
   },
   "source": [
    "# Visualising rupture participation rates within fault systems.\n",
    "\n",
    "We want to show how different parts of a fault system contribute to seismicity rate, with differnt levels of aggregation. This is known as Partipation rate (for sections/faults/etc)\n",
    "\n",
    "We also want to do this for an entire aggregated set of compatible solutions OR for individual solutions.\n",
    "\n",
    "### Definitions:\n",
    " - **participation rate** is the sum of rates for all ruptures involving a the given level of aggregation.\n",
    " - level of aggregation include **Named Fault**, **Parent Fault** (or *Fault*) or **Subsection** (or *Fault section*)\n",
    " - where a **Named Fault** has one or more **Parent Fault**s that each have at least two **Subsection**  \n",
    "\n",
    "Steps:\n",
    " - select a suitable InversionSolution or Composite Solution as the data source"
   ]
  },
  {
   "cell_type": "markdown",
   "id": "5bf90f20-a41b-4ae2-a137-37af986903c0",
   "metadata": {},
   "source": [
    "  "
   ]
  },
  {
   "cell_type": "code",
   "execution_count": 1,
   "id": "8ed96b93-fadf-42a5-a8df-7b0afc563b50",
   "metadata": {},
   "outputs": [
    {
     "name": "stderr",
     "output_type": "stream",
     "text": [
      "warning openquake module dependency not available, maybe you want to install\n",
      "                with nzshm-model[openquake]\n"
     ]
    },
    {
     "name": "stdout",
     "output_type": "stream",
     "text": [
      "WARNING: optional `toshi` dependencies are not installed.\n",
      "Running without `toshi` options\n",
      "WARNING: geometry.section_distance() uses the optional dependency pyvista.\n"
     ]
    }
   ],
   "source": [
    "#import pathlib\n",
    "import json\n",
    "import nzshm_model as nm\n",
    "import geopandas as gpd\n",
    "import solvis\n",
    "\n",
    "# from solvis.fault_system_solution_helper import FaultSystemSolutionHelper\n",
    "from solvis_graphql_api.color_scale import ColourScaleNormaliseEnum, get_colour_values, get_colour_scale\n",
    "from ipyleaflet import Map, GeoJSON, LegendControl, FullScreenControl, Popup, ScaleControl, WidgetControl\n",
    "from ipywidgets import HTML\n",
    "\n",
    "from solvis.filter import FilterRuptureIds, FilterSubsectionIds, FilterParentFaultIds\n"
   ]
  },
  {
   "cell_type": "code",
   "execution_count": 2,
   "id": "7ae29bed-3458-428f-875d-551c848387a7",
   "metadata": {},
   "outputs": [],
   "source": [
    "# OPTIONS\n",
    "SINGLE_SOLUTION = False\n",
    "SECTION_RATE = True # otherwise ParentFault rates\n",
    "COLOUR_SCALE = 'inferno'\n",
    "SHOW_INVOLVED_SUBSECTIONS = False # useful SECTION_RATE=False\n",
    "\n",
    "if SINGLE_SOLUTION:\n",
    "    solution = solvis.InversionSolution.from_archive(\"NZSHM22_ScaledInversionSolution-QXV0b21hdGlvblRhc2s6MTEzMTM0.zip\") # CRUSTAL\n",
    "    #solution = solvis.InversionSolution.from_archive(\"NZSHM22_ScaledInversionSolution-QXV0b21hdGlvblRhc2s6MTA3NzEy.zip\") # HIKURANGI\n",
    "else:\n",
    "    current_model = nm.get_model_version(\"NSHM_v1.0.4\")\n",
    "    slt = current_model.source_logic_tree\n",
    "    csol = solvis.CompositeSolution.from_archive(\"NSHM_v1.0.4_CompositeSolution.zip\", slt)\n",
    "    solution = csol._solutions['CRU']"
   ]
  },
  {
   "cell_type": "markdown",
   "id": "e0712d4e-ee44-4d25-9fbc-c589ffeb58b7",
   "metadata": {},
   "source": [
    "## Choose some faults and get their unique rupture IDs"
   ]
  },
  {
   "cell_type": "code",
   "execution_count": 10,
   "id": "848518de-d6e8-4732-9943-0800cb97cbd4",
   "metadata": {},
   "outputs": [
    {
     "name": "stdout",
     "output_type": "stream",
     "text": [
      " 406 unique ruptures...\n",
      " 595 unique fault_sections...\n",
      "\n"
     ]
    }
   ],
   "source": [
    "# ['Opotiki 3', 'Calypso 2'] # 'Wellington Hutt Valley: 1', 'Wellington Hutt Valley: 2', 'Wairarapa: 1'] #, 'Awatere: Southwest', 'Wairarapa 1', 'Awatere: Southwest', 'Pokeno', 'BooBoo', \"Masterton\n",
    "\n",
    "TARGET_FAULTS = ['Wellington Hutt Valley: 2', 'Awatere: Southwest', 'Wairarapa: 1']\n",
    "parent_fault_ids = FilterParentFaultIds(solution).for_parent_fault_names(TARGET_FAULTS)\n",
    "#rupture_ids = FilterRuptureIds(solution).for_parent_fault_names(TARGET_FAULTS)\n",
    "rupture_ids = FilterRuptureIds(solution)\\\n",
    "    .for_parent_fault_ids(parent_fault_ids)\\\n",
    "    .for_magnitude(6.5, 9.95)\n",
    "#.for_rupture_rate(min_rate=5e-7)\\\n",
    "    \n",
    "subsections = FilterSubsectionIds(solution).for_rupture_ids(rupture_ids)\n",
    "        \n",
    "print(f' {len(rupture_ids)} unique ruptures...')\n",
    "print(f' {len(subsections)} unique fault_sections...')\n",
    "print()"
   ]
  },
  {
   "cell_type": "markdown",
   "id": "a91b7a78-5a7e-4b1c-bb23-ef7453e30caa",
   "metadata": {},
   "source": [
    "### calculate participation rate series"
   ]
  },
  {
   "cell_type": "code",
   "execution_count": 4,
   "id": "07fbf192-c04d-4cd9-8f33-5e847281fc90",
   "metadata": {
    "editable": true,
    "slideshow": {
     "slide_type": ""
    },
    "tags": []
   },
   "outputs": [
    {
     "name": "stdout",
     "output_type": "stream",
     "text": [
      "CPU times: user 235 ms, sys: 64.9 ms, total: 300 ms\n",
      "Wall time: 299 ms\n"
     ]
    }
   ],
   "source": [
    "# get the participation rate for each subsection in the selected ruptures\n",
    "if SECTION_RATE:\n",
    "    %time section_rates = solution.section_participation_rates(subsections, rupture_ids)"
   ]
  },
  {
   "cell_type": "code",
   "execution_count": 5,
   "id": "ece4836d-f5ed-44bd-9f2a-ce3bf926b78e",
   "metadata": {},
   "outputs": [],
   "source": [
    "if not SECTION_RATE:\n",
    "    if SHOW_INVOLVED_SUBSECTIONS:\n",
    "        involved_fault_ids = FilterParentFaultIds(solution).for_subsection_ids(subsections)\n",
    "        parent_rates = solution.fault_participation_rates(parent_fault_ids) # only get rates for selected parents\n",
    "        #parent_rates = solution.fault_participation_rates(involved_fault_ids) #get all the involved_parents\n",
    "    else:\n",
    "        subsections = FilterSubsectionIds(solution).for_parent_fault_ids(parent_fault_ids)\n"
   ]
  },
  {
   "cell_type": "markdown",
   "id": "e8124826-9672-480c-b5b8-11fa6b7d03dc",
   "metadata": {},
   "source": [
    "### Style the geojson using a color scale"
   ]
  },
  {
   "cell_type": "code",
   "execution_count": 6,
   "id": "0e7c5b93-bdd2-45ac-9860-01e5f40ae2c3",
   "metadata": {},
   "outputs": [],
   "source": [
    "surfaces = solution.fault_surfaces()\n",
    "surfaces = surfaces[surfaces[\"FaultID\"].isin(subsections)]\n",
    "\n",
    "if SECTION_RATE:\n",
    "    rate_series = section_rates.participation_rate\n",
    "    surfaces = surfaces.join(rate_series, on='FaultID', how='outer')\n",
    "else:\n",
    "    rate_series = parent_rates.participation_rate\n",
    "    surfaces = surfaces.join(rate_series, on='ParentID', how='outer')\n",
    "\n",
    "surfaces.rename(columns={rate_series.name: \"annual_rate\"}, inplace=True)\n",
    "\n",
    "fault_sections_gdf = gpd.GeoDataFrame(surfaces)\n",
    "\n",
    "# create the colour scale from our rate series\n",
    "color_values = get_colour_values(\n",
    "                color_scale=COLOUR_SCALE,\n",
    "                color_scale_vmax=rate_series.max(),\n",
    "                color_scale_vmin=max(rate_series.min(), 1e-20),\n",
    "                color_scale_normalise=ColourScaleNormaliseEnum.LOG.value,\n",
    "                values=tuple(rate_series.tolist()),\n",
    "            )\n",
    "\n",
    "rate_ids = rate_series.index.tolist()\n",
    "data = json.loads(fault_sections_gdf.to_json())\n",
    "\n",
    "# merge the styling with the geojson\n",
    "for feature in data[\"features\"]:\n",
    "    try:\n",
    "        if SECTION_RATE:\n",
    "            color = color_values[rate_ids.index(feature['properties']['FaultID'])]\n",
    "        else:\n",
    "            color = color_values[rate_ids.index(feature['properties']['ParentID'])]\n",
    "    except (ValueError):\n",
    "        if SECTION_RATE:\n",
    "            print(f\"warning no rate found for index: {feature['properties']['FaultID']} faultname: `{feature['properties']['FaultName']}`\")\n",
    "        else:\n",
    "            print(f\"warning no rate found for index: {feature['properties']['ParentID']} faultname: `{feature['properties']['ParentName']}`\")\n",
    "        color = 'lightgray' \n",
    "        \n",
    "    if feature['properties']['DipDeg'] == 90: \n",
    "        # these vertical sections are much harder to see, so color the line and make it heavier \n",
    "        line_color = color\n",
    "        weight = 3\n",
    "    else:\n",
    "        line_color = \"black\"\n",
    "        weight = 1\n",
    "        \n",
    "    feature[\"properties\"][\"style\"] = {\n",
    "        \"color\": line_color,\n",
    "        \"weight\": weight,\n",
    "        \"fillColor\": color,\n",
    "        \"fillOpacity\": 1,\n",
    "    }"
   ]
  },
  {
   "cell_type": "markdown",
   "id": "2bab4d09-6b25-4d64-9fc2-50322ccdbc43",
   "metadata": {},
   "source": [
    "## Display with ipyleaflet"
   ]
  },
  {
   "cell_type": "code",
   "execution_count": 7,
   "id": "119bdd66-6ac9-4d5b-9290-bf9ed3364677",
   "metadata": {},
   "outputs": [],
   "source": [
    "# build a legend\n",
    "cs = get_colour_scale(\n",
    "        color_scale=COLOUR_SCALE,\n",
    "        color_scale_normalise=ColourScaleNormaliseEnum.LOG.value, \n",
    "        vmax=rate_series.max(),\n",
    "        vmin=max(rate_series.min(), 1e-20))\n",
    "\n",
    "color_map = dict(zip(reversed(cs.color_map.levels), reversed(cs.color_map.hexrgbs)))"
   ]
  },
  {
   "cell_type": "code",
   "execution_count": 8,
   "id": "349718cc-3bde-4e69-b56f-da3e8aafb7b9",
   "metadata": {
    "scrolled": true
   },
   "outputs": [
    {
     "data": {
      "application/vnd.jupyter.widget-view+json": {
       "model_id": "41109ed676e344b980d291752b271fff",
       "version_major": 2,
       "version_minor": 0
      },
      "text/plain": [
       "Map(center=[-41.5, 175], controls=(ZoomControl(options=['position', 'zoom_in_text', 'zoom_in_title', 'zoom_out…"
      ]
     },
     "execution_count": 8,
     "metadata": {},
     "output_type": "execute_result"
    }
   ],
   "source": [
    "center = [-41.5, 175]\n",
    "zoom = 7\n",
    "map = Map(center=center, zoom=zoom)\n",
    "\n",
    "section_info = HTML()\n",
    "section_info.value = \"<b>Section Detail</b><br/><p>hover over fault sections for more details.</p>\"\n",
    "widget_control = WidgetControl(widget=section_info, position='topright')\n",
    "legend = LegendControl(color_map, title=\"Rupture Rate/yr\", position=\"topright\")\n",
    "\n",
    "def on_hover_callback(event, feature, properties, id):\n",
    "    section_info.value = f\"<b>{properties['FaultName']}</b>\"\n",
    "    section_info.value += \"<br />\"\n",
    "    section_info.value += f\"Dip: {properties['DipDeg']}</br>\"\n",
    "    section_info.value += f\"Rake: {properties['Rake']}</br>\"\n",
    "    section_info.value += f\"Lower depth: {round(properties['LowDepth'],3)}</br>\"    \n",
    "    section_info.value += f\"Participation rate: {properties['annual_rate']:.2E}</br>\" \n",
    "    \n",
    "g = GeoJSON(data=data, \n",
    "            hover_style={'color': 'white', 'dashArray': '0', 'fillOpacity': 0.1})\n",
    "g.on_hover(on_hover_callback)\n",
    "\n",
    "map.add(g)\n",
    "map.add(FullScreenControl())\n",
    "map.add(widget_control)\n",
    "map.add(legend)\n",
    "map.add(ScaleControl(position='bottomleft', max_width=250))\n",
    "\n",
    "#render the map ...\n",
    "map"
   ]
  },
  {
   "cell_type": "markdown",
   "id": "abeb06a7-a42d-4e33-8d18-4a1ad600a7bc",
   "metadata": {
    "jupyter": {
     "source_hidden": true
    }
   },
   "source": [
    "# Display in 3D using Cesium"
   ]
  },
  {
   "cell_type": "markdown",
   "id": "68e38085-3858-48db-ab36-336ba6b4fc0c",
   "metadata": {
    "jupyter": {
     "source_hidden": true
    }
   },
   "source": [
    "using Oakleys' map_3d_widget juptyer notebook extension..."
   ]
  },
  {
   "cell_type": "code",
   "execution_count": 9,
   "id": "0478a030-7d93-4aed-9078-247bd2ae7fef",
   "metadata": {},
   "outputs": [
    {
     "data": {
      "application/vnd.jupyter.widget-view+json": {
       "model_id": "62b517a34483407ab7b295c7441063fb",
       "version_major": 2,
       "version_minor": 1
      },
      "text/plain": [
       "Map3DWidget(data=[{'type': 'FeatureCollection', 'features': [{'id': '5', 'type': 'Feature', 'properties': {'Fa…"
      ]
     },
     "execution_count": 9,
     "metadata": {},
     "output_type": "execute_result"
    }
   ],
   "source": [
    "from map_3d_widget import show_3d\n",
    "show_3d(data)"
   ]
  }
 ],
 "metadata": {
  "kernelspec": {
   "display_name": "Python 3 (ipykernel)",
   "language": "python",
   "name": "python3"
  },
  "language_info": {
   "codemirror_mode": {
    "name": "ipython",
    "version": 3
   },
   "file_extension": ".py",
   "mimetype": "text/x-python",
   "name": "python",
   "nbconvert_exporter": "python",
   "pygments_lexer": "ipython3",
   "version": "3.11.9"
  }
 },
 "nbformat": 4,
 "nbformat_minor": 5
}
