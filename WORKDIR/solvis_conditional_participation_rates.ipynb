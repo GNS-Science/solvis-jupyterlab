{
 "cells": [
  {
   "cell_type": "markdown",
   "id": "82c2af9b-c9fe-48db-8c91-0387125ce672",
   "metadata": {
    "editable": true,
    "slideshow": {
     "slide_type": ""
    },
    "tags": []
   },
   "source": [
    "### `Participation Rate` vs `Conditional Participation Rate`.\n",
    "\n",
    "to help understand the different summing of rates"
   ]
  },
  {
   "cell_type": "markdown",
   "id": "5bf90f20-a41b-4ae2-a137-37af986903c0",
   "metadata": {},
   "source": [
    "  "
   ]
  },
  {
   "cell_type": "code",
   "execution_count": 1,
   "id": "8ed96b93-fadf-42a5-a8df-7b0afc563b50",
   "metadata": {},
   "outputs": [
    {
     "name": "stderr",
     "output_type": "stream",
     "text": [
      "warning openquake module dependency not available, maybe you want to install\n",
      "                with nzshm-model[openquake]\n"
     ]
    },
    {
     "name": "stdout",
     "output_type": "stream",
     "text": [
      "WARNING: optional `toshi` dependencies are not installed.\n",
      "Running without `toshi` options\n",
      "WARNING: geometry.section_distance() uses the optional dependency pyvista.\n"
     ]
    }
   ],
   "source": [
    "#import pathlib\n",
    "import json\n",
    "import nzshm_model as nm\n",
    "import solvis\n",
    "\n",
    "from solvis.filter import FilterRuptureIds, FilterParentFaultIds, FilterSubsectionIds\n"
   ]
  },
  {
   "cell_type": "code",
   "execution_count": 2,
   "id": "7ae29bed-3458-428f-875d-551c848387a7",
   "metadata": {},
   "outputs": [],
   "source": [
    "# OPTIONS\n",
    "SINGLE_SOLUTION = True\n",
    "SECTION_RATE = False # otherwise Parent rates\n",
    "\n",
    "if SINGLE_SOLUTION:\n",
    "    solution = solvis.InversionSolution.from_archive(\"NZSHM22_ScaledInversionSolution-QXV0b21hdGlvblRhc2s6MTEzMTM0.zip\")\n",
    "else:\n",
    "    current_model = nm.get_model_version(\"NSHM_v1.0.4\")\n",
    "    slt = current_model.source_logic_tree\n",
    "    csol = solvis.CompositeSolution.from_archive(\"NSHM_v1.0.4_CompositeSolution.zip\", slt)\n",
    "    solution = csol._solutions['CRU']\n",
    "\n",
    "# # helper = FaultSystemSolutionHelper(solution)  \n",
    "rate_column = \"Annual Rate\" if isinstance(solution, solvis.InversionSolution) else \"rate_weighted_mean\"\n"
   ]
  },
  {
   "cell_type": "code",
   "execution_count": 3,
   "id": "a378b6f1-8f5d-4378-bbeb-e758bf054aa3",
   "metadata": {},
   "outputs": [],
   "source": [
    "# get ruptures passing through a named parent fault\n",
    "TARGET_FAULTS = ['Opotiki 3', 'Calypso 2']\n",
    "# TARGET_FAULTS = ['Opotiki 3'] \n",
    "\n",
    "# ruptures = helper.ruptures_for_parent_fault_names(TARGET_FAULTS) # \n",
    "ruptures = FilterRuptureIds(solution)\\\n",
    "    .for_parent_fault_names(TARGET_FAULTS)\n"
   ]
  },
  {
   "cell_type": "code",
   "execution_count": null,
   "id": "235356e3-d4a8-4c53-a767-22ecb850d5ea",
   "metadata": {},
   "outputs": [],
   "source": []
  },
  {
   "cell_type": "markdown",
   "id": "a91b7a78-5a7e-4b1c-bb23-ef7453e30caa",
   "metadata": {},
   "source": [
    "### calculate participation rate series"
   ]
  },
  {
   "cell_type": "code",
   "execution_count": 4,
   "id": "d43a5da8-80d2-4092-bbcc-bf66537ee599",
   "metadata": {},
   "outputs": [
    {
     "name": "stdout",
     "output_type": "stream",
     "text": [
      "summing the subsection rate\n",
      "===========================\n",
      "new sum() filtering by section ID: `Participation Rate` (all ruptures in the system)\n",
      "Opotiki rate: 0.0001605307770660147\n",
      "Calypso rate: 0.0002327073598280549\n",
      "\n"
     ]
    }
   ],
   "source": [
    "# for comparison\n",
    "opo_section = 1426 # Opotiki 3, Subsection 2\n",
    "cal_section = 217  # Calypso 2, Subsection 1\n",
    "df0 = solution.rs_with_rupture_rates.copy()\n",
    "\n",
    "print(\"summing the subsection rate\")\n",
    "print(\"===========================\")\n",
    "\n",
    "print(\"new sum() filtering by section ID: `Participation Rate` (all ruptures in the system)\")\n",
    "print(f'Opotiki rate: {df0[df0.section==opo_section][rate_column].sum()}')\n",
    "print(f'Calypso rate: {df0[df0.section==cal_section][rate_column].sum()}')\n",
    "print()"
   ]
  },
  {
   "cell_type": "code",
   "execution_count": 5,
   "id": "7e584d3c-6e85-4526-a09c-483b001036b1",
   "metadata": {},
   "outputs": [
    {
     "data": {
      "text/html": [
       "<div>\n",
       "<style scoped>\n",
       "    .dataframe tbody tr th:only-of-type {\n",
       "        vertical-align: middle;\n",
       "    }\n",
       "\n",
       "    .dataframe tbody tr th {\n",
       "        vertical-align: top;\n",
       "    }\n",
       "\n",
       "    .dataframe thead th {\n",
       "        text-align: right;\n",
       "    }\n",
       "</style>\n",
       "<table border=\"1\" class=\"dataframe\">\n",
       "  <thead>\n",
       "    <tr style=\"text-align: right;\">\n",
       "      <th></th>\n",
       "      <th>Rupture Index</th>\n",
       "      <th>participation_rate</th>\n",
       "    </tr>\n",
       "    <tr>\n",
       "      <th>section</th>\n",
       "      <th></th>\n",
       "      <th></th>\n",
       "    </tr>\n",
       "  </thead>\n",
       "  <tbody>\n",
       "    <tr>\n",
       "      <th>217</th>\n",
       "      <td>401175184</td>\n",
       "      <td>0.000233</td>\n",
       "    </tr>\n",
       "    <tr>\n",
       "      <th>1426</th>\n",
       "      <td>451122703</td>\n",
       "      <td>0.000161</td>\n",
       "    </tr>\n",
       "  </tbody>\n",
       "</table>\n",
       "</div>"
      ],
      "text/plain": [
       "         Rupture Index  participation_rate\n",
       "section                                   \n",
       "217          401175184            0.000233\n",
       "1426         451122703            0.000161"
      ]
     },
     "execution_count": 5,
     "metadata": {},
     "output_type": "execute_result"
    }
   ],
   "source": [
    "opsr = solution.section_participation_rates([opo_section, cal_section])\n",
    "opsr"
   ]
  },
  {
   "cell_type": "code",
   "execution_count": 6,
   "id": "8bd979d2-473b-4350-aa00-b2f36227ed31",
   "metadata": {},
   "outputs": [
    {
     "name": "stdout",
     "output_type": "stream",
     "text": [
      "[113538, 113540, 113194, 265419, 312490, 357323, 367099, 275100, 113533, 322207]\n"
     ]
    }
   ],
   "source": [
    "TARGET_FAULTS = ['Opotiki 2', 'Opotiki 3', 'Calypso 2']\n",
    "ruptures = FilterRuptureIds(solution)\\\n",
    "    .for_parent_fault_names(TARGET_FAULTS)\n",
    "    # .for_magnitude(min_mag=5.1, max_mag=9.4)\n",
    "\n",
    "print(list(ruptures))"
   ]
  },
  {
   "cell_type": "code",
   "execution_count": 7,
   "id": "3d9c30a3-a6a9-4df8-898d-c49f341d0880",
   "metadata": {},
   "outputs": [
    {
     "data": {
      "text/html": [
       "<div>\n",
       "<style scoped>\n",
       "    .dataframe tbody tr th:only-of-type {\n",
       "        vertical-align: middle;\n",
       "    }\n",
       "\n",
       "    .dataframe tbody tr th {\n",
       "        vertical-align: top;\n",
       "    }\n",
       "\n",
       "    .dataframe thead th {\n",
       "        text-align: right;\n",
       "    }\n",
       "</style>\n",
       "<table border=\"1\" class=\"dataframe\">\n",
       "  <thead>\n",
       "    <tr style=\"text-align: right;\">\n",
       "      <th></th>\n",
       "      <th>participation_rate</th>\n",
       "    </tr>\n",
       "    <tr>\n",
       "      <th>ParentID</th>\n",
       "      <th></th>\n",
       "    </tr>\n",
       "  </thead>\n",
       "  <tbody>\n",
       "    <tr>\n",
       "      <th>52</th>\n",
       "      <td>0.000233</td>\n",
       "    </tr>\n",
       "    <tr>\n",
       "      <th>329</th>\n",
       "      <td>0.000064</td>\n",
       "    </tr>\n",
       "    <tr>\n",
       "      <th>330</th>\n",
       "      <td>0.000161</td>\n",
       "    </tr>\n",
       "  </tbody>\n",
       "</table>\n",
       "</div>"
      ],
      "text/plain": [
       "          participation_rate\n",
       "ParentID                    \n",
       "52                  0.000233\n",
       "329                 0.000064\n",
       "330                 0.000161"
      ]
     },
     "execution_count": 7,
     "metadata": {},
     "output_type": "execute_result"
    }
   ],
   "source": [
    "fault_ids = FilterParentFaultIds(solution).for_parent_fault_names(TARGET_FAULTS)\n",
    "opsr = solution.fault_participation_rates(fault_ids, ruptures)\n",
    "opsr"
   ]
  }
 ],
 "metadata": {
  "kernelspec": {
   "display_name": "Python 3 (ipykernel)",
   "language": "python",
   "name": "python3"
  },
  "language_info": {
   "codemirror_mode": {
    "name": "ipython",
    "version": 3
   },
   "file_extension": ".py",
   "mimetype": "text/x-python",
   "name": "python",
   "nbconvert_exporter": "python",
   "pygments_lexer": "ipython3",
   "version": "3.11.9"
  }
 },
 "nbformat": 4,
 "nbformat_minor": 5
}
