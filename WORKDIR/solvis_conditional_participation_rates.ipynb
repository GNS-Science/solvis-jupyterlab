{
 "cells": [
  {
   "cell_type": "markdown",
   "id": "82c2af9b-c9fe-48db-8c91-0387125ce672",
   "metadata": {
    "editable": true,
    "slideshow": {
     "slide_type": ""
    },
    "tags": []
   },
   "source": [
    "### `Participation Rate` vs `Conditional Participation Rate`.\n",
    "\n",
    "to help understand the different summing of rates"
   ]
  },
  {
   "cell_type": "markdown",
   "id": "5bf90f20-a41b-4ae2-a137-37af986903c0",
   "metadata": {},
   "source": [
    "  "
   ]
  },
  {
   "cell_type": "code",
   "execution_count": 25,
   "id": "8ed96b93-fadf-42a5-a8df-7b0afc563b50",
   "metadata": {},
   "outputs": [],
   "source": [
    "#import pathlib\n",
    "import json\n",
    "import nzshm_model as nm\n",
    "import solvis\n",
    "from solvis.fault_system_solution_helper import FaultSystemSolutionHelper\n"
   ]
  },
  {
   "cell_type": "code",
   "execution_count": 26,
   "id": "7ae29bed-3458-428f-875d-551c848387a7",
   "metadata": {},
   "outputs": [],
   "source": [
    "# OPTIONS\n",
    "SINGLE_SOLUTION = False\n",
    "SECTION_RATE = False # otherwise Parent rates\n",
    "\n",
    "if SINGLE_SOLUTION:\n",
    "    solution = solvis.InversionSolution.from_archive(\"NZSHM22_ScaledInversionSolution-QXV0b21hdGlvblRhc2s6MTEzMTM0.zip\")\n",
    "else:\n",
    "    current_model = nm.get_model_version(\"NSHM_v1.0.4\")\n",
    "    slt = current_model.source_logic_tree\n",
    "    csol = solvis.CompositeSolution.from_archive(\"NSHM_v1.0.4_CompositeSolution.zip\", slt)\n",
    "    solution = csol._solutions['CRU']\n",
    "\n",
    "helper = FaultSystemSolutionHelper(solution)  \n",
    "rate_column = \"Annual Rate\" if isinstance(solution, solvis.InversionSolution) else \"rate_weighted_mean\"\n"
   ]
  },
  {
   "cell_type": "code",
   "execution_count": 27,
   "id": "a378b6f1-8f5d-4378-bbeb-e758bf054aa3",
   "metadata": {},
   "outputs": [],
   "source": [
    "# get ruptures passing through a named parent fault\n",
    "TARGET_FAULTS = ['Opotiki 3', 'Calypso 2']\n",
    "TARGET_FAULTS = ['Opotiki 3'] \n",
    "\n",
    "ruptures = helper.ruptures_for_parent_fault_names(TARGET_FAULTS) # \n",
    "\n",
    "# # get rupture fault sections (rs) with rates for those ruptures\n",
    "# df0 = solution.rs_with_rupture_rates\n",
    "# rupture_sections_df = df0[df0[\"Rupture Index\"].isin(ruptures)]"
   ]
  },
  {
   "cell_type": "code",
   "execution_count": null,
   "id": "235356e3-d4a8-4c53-a767-22ecb850d5ea",
   "metadata": {},
   "outputs": [],
   "source": []
  },
  {
   "cell_type": "markdown",
   "id": "a91b7a78-5a7e-4b1c-bb23-ef7453e30caa",
   "metadata": {},
   "source": [
    "### calculate participation rate series"
   ]
  },
  {
   "cell_type": "code",
   "execution_count": 28,
   "id": "d43a5da8-80d2-4092-bbcc-bf66537ee599",
   "metadata": {},
   "outputs": [
    {
     "name": "stdout",
     "output_type": "stream",
     "text": [
      "summing the subsection rate\n",
      "===========================\n",
      "new sum() filtering by section ID: `Participation Rate` (all ruptures in the system)\n",
      "Opotiki rate: 0.00017244191258214414\n",
      "Calypso rate: 0.00041707666241563857\n",
      "\n",
      "API sum() filtering by rupture ID: `Conditional Participation Rate` (filtered by rupture id or attribute)\n",
      "Opotiki rate: 0.00017244191258214414\n",
      "Calypso rate: 1.67943744600052e-05\n"
     ]
    }
   ],
   "source": [
    "# for comparison\n",
    "opo_section = 1426 # Opotiki 3, Subsection 2\n",
    "cal_section = 217  # Calypso 2, Subsection 1\n",
    "df0 = solution.rs_with_rupture_rates\n",
    "\n",
    "print(\"summing the subsection rate\")\n",
    "print(\"===========================\")\n",
    "\n",
    "print(\"new sum() filtering by section ID: `Participation Rate` (all ruptures in the system)\")\n",
    "print(f'Opotiki rate: {df0[df0.section==opo_section][rate_column].sum()}')\n",
    "print(f'Calypso rate: {df0[df0.section==cal_section][rate_column].sum()}')\n",
    "print()\n",
    "print(\"API sum() filtering by rupture ID: `Conditional Participation Rate` (filtered by rupture id or attribute)\")\n",
    "df0 = df0[df0[\"Rupture Index\"].isin(ruptures)]\n",
    "print(f'Opotiki rate: {df0[df0.section==opo_section][rate_column].sum()}')\n",
    "print(f'Calypso rate: {df0[df0.section==cal_section][rate_column].sum()}')\n"
   ]
  },
  {
   "cell_type": "code",
   "execution_count": 29,
   "id": "76c71e82-1ca0-4d89-9757-e51addf5261e",
   "metadata": {},
   "outputs": [
    {
     "name": "stdout",
     "output_type": "stream",
     "text": [
      "summing the parent fault rate\n",
      "========================--===\n",
      "new sum() filtering by section ID: `Participation Rate` (all ruptures in the system)\n",
      "Opotiki rate: 0.0005705734947696328\n",
      "Calypso rate: 0.0008173590758815408\n",
      "\n",
      "API sum() filtering by rupture ID: `Conditional Participation Rate` (filtered by rupture id or attribute)\n",
      "Opotiki rate: 0.0005705734947696328\n",
      "Calypso rate: 1.67943744600052e-05\n"
     ]
    }
   ],
   "source": [
    "## same for parent fault summation\n",
    "\n",
    "opo_fault = 330 # Opotiki 3\n",
    "cal_fault = 52  # Calypso 2, Subsection 1\n",
    "\n",
    "df0 = solution.rs_with_rupture_rates\n",
    "df1 = df0.join(solution.fault_sections[['ParentID']], on='section')\n",
    "# df1[df1.ParentID==cal_fault]\n",
    "# assert 0\n",
    "\n",
    "df2 = df1[[\"Rupture Index\", \"ParentID\", \"section\", rate_column]]\n",
    "# parent_rates = fault_rates.groupby(\"ParentID\").agg('sum')[rate_column]\n",
    "\n",
    "print(\"summing the parent fault rate\")\n",
    "print(\"========================--===\")\n",
    "\n",
    "print(\"new sum() filtering by section ID: `Participation Rate` (all ruptures in the system)\")\n",
    "print(f'Opotiki rate: {df2[df2.ParentID==opo_fault][rate_column].sum()}')\n",
    "print(f'Calypso rate: {df2[df2.ParentID==cal_fault][rate_column].sum()}')\n",
    "print()\n",
    "print(\"API sum() filtering by rupture ID: `Conditional Participation Rate` (filtered by rupture id or attribute)\")\n",
    "df3 = df2[df2[\"Rupture Index\"].isin(ruptures)]\n",
    "print(f'Opotiki rate: {df3[df3.ParentID==opo_fault][rate_column].sum()}')\n",
    "print(f'Calypso rate: {df3[df3.ParentID==cal_fault][rate_column].sum()}')\n"
   ]
  }
 ],
 "metadata": {
  "kernelspec": {
   "display_name": "Python 3 (ipykernel)",
   "language": "python",
   "name": "python3"
  },
  "language_info": {
   "codemirror_mode": {
    "name": "ipython",
    "version": 3
   },
   "file_extension": ".py",
   "mimetype": "text/x-python",
   "name": "python",
   "nbconvert_exporter": "python",
   "pygments_lexer": "ipython3",
   "version": "3.11.6"
  }
 },
 "nbformat": 4,
 "nbformat_minor": 5
}
