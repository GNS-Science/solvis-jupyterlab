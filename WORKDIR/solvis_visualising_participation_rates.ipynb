{
 "cells": [
  {
   "cell_type": "markdown",
   "id": "82c2af9b-c9fe-48db-8c91-0387125ce672",
   "metadata": {
    "editable": true,
    "slideshow": {
     "slide_type": ""
    },
    "tags": []
   },
   "source": [
    "# Visualising rupture participation rates within fault systems.\n",
    "\n",
    "We want to show how different parts of a fault system contribute to seismicity rate, with differnt levels of aggregation. This is known as Partipation rate (for sections/faults/etc)\n",
    "\n",
    "We also want to do this for an entire aggregated set of compatible solutions OR for individual solutions.\n",
    "\n",
    "### Definitions:\n",
    " - **participation rate** is the sum of rates for all ruptures involving a the given level of aggregation.\n",
    " - level of aggregation include **Named Fault**, **Parent Fault** (or *Fault*) or **Subsection** (or *Fault section*)\n",
    " - where a **Named Fault** has one or more **Parent Fault**s that each have at least two **Subsection**  \n",
    "\n",
    "Steps:\n",
    " - select a suitable InversionSolution or Composite Solution as the data source"
   ]
  },
  {
   "cell_type": "markdown",
   "id": "5bf90f20-a41b-4ae2-a137-37af986903c0",
   "metadata": {},
   "source": [
    "  "
   ]
  },
  {
   "cell_type": "code",
   "execution_count": 1,
   "id": "8ed96b93-fadf-42a5-a8df-7b0afc563b50",
   "metadata": {},
   "outputs": [
    {
     "name": "stderr",
     "output_type": "stream",
     "text": [
      "warning openquake module dependency not available, maybe you want to install\n",
      "                with nzshm-model[openquake]\n"
     ]
    },
    {
     "name": "stdout",
     "output_type": "stream",
     "text": [
      "WARNING: optional `toshi` dependencies are not installed.\n",
      "Running without `toshi` options\n",
      "WARNING: geometry.section_distance() uses the optional dependency pyvista.\n"
     ]
    }
   ],
   "source": [
    "#import pathlib\n",
    "import json\n",
    "import nzshm_model as nm\n",
    "import geopandas as gpd\n",
    "import solvis\n",
    "\n",
    "# from solvis.fault_system_solution_helper import FaultSystemSolutionHelper\n",
    "from solvis_graphql_api.color_scale import ColourScaleNormaliseEnum, get_colour_values, get_colour_scale\n",
    "from ipyleaflet import Map, GeoJSON, LegendControl, FullScreenControl, Popup, ScaleControl, WidgetControl\n",
    "from ipywidgets import HTML\n",
    "\n",
    "from solvis.filter import FilterRuptureIds, FilterSubsectionIds"
   ]
  },
  {
   "cell_type": "code",
   "execution_count": 2,
   "id": "7ae29bed-3458-428f-875d-551c848387a7",
   "metadata": {},
   "outputs": [],
   "source": [
    "# OPTIONS\n",
    "SINGLE_SOLUTION = False\n",
    "SECTION_RATE = False # otherwise Parent rates\n",
    "\n",
    "if SINGLE_SOLUTION:\n",
    "    solution = solvis.InversionSolution.from_archive(\"NZSHM22_ScaledInversionSolution-QXV0b21hdGlvblRhc2s6MTEzMTM0.zip\")\n",
    "else:\n",
    "    current_model = nm.get_model_version(\"NSHM_v1.0.4\")\n",
    "    slt = current_model.source_logic_tree\n",
    "    csol = solvis.CompositeSolution.from_archive(\"NSHM_v1.0.4_CompositeSolution.zip\", slt)\n",
    "    solution = csol._solutions['CRU']"
   ]
  },
  {
   "cell_type": "markdown",
   "id": "e0712d4e-ee44-4d25-9fbc-c589ffeb58b7",
   "metadata": {},
   "source": [
    "## Choose some faults and get their unique rupture IDs"
   ]
  },
  {
   "cell_type": "code",
   "execution_count": 3,
   "id": "848518de-d6e8-4732-9943-0800cb97cbd4",
   "metadata": {},
   "outputs": [
    {
     "name": "stdout",
     "output_type": "stream",
     "text": [
      " 337 unique ruptures...\n"
     ]
    }
   ],
   "source": [
    "TARGET_FAULTS = ['Opotiki 3', 'Calypso 2','Wellington Hutt Valley: 1', 'Wellington Hutt Valley: 2', 'Wairarapa: 1'] #, 'Awatere: Southwest', 'Wairarapa 1', 'Awatere: Southwest', 'Pokeno', 'BooBoo', \"Masterton\n",
    "ruptures = FilterRuptureIds(solution)\\\n",
    "    .for_parent_fault_names(TARGET_FAULTS)\\\n",
    "    .for_magnitude(5, 8.2)\n",
    "\n",
    "# get rupture fault sections (rs) with rates for those ruptures\n",
    "df0 = solution.rs_with_rupture_rates\n",
    "rupture_sections_df = df0[df0[\"Rupture Index\"].isin(ruptures)]\n",
    "print(f' {len(ruptures)} unique ruptures...')"
   ]
  },
  {
   "cell_type": "code",
   "execution_count": 4,
   "id": "e81622dd-fe97-4dab-8e76-a6b617c10db4",
   "metadata": {
    "editable": true,
    "slideshow": {
     "slide_type": ""
    },
    "tags": []
   },
   "outputs": [
    {
     "name": "stdout",
     "output_type": "stream",
     "text": [
      " 492 unique fault_sections...\n",
      "\n"
     ]
    }
   ],
   "source": [
    "section_count = len(rupture_sections_df['section'].unique())\n",
    "# print(f'the faults in {TARGET_FAULTS} have:')\n",
    "print(f' {section_count} unique fault_sections...')\n",
    "print()\n",
    "rupture_ids = list(rupture_sections_df[\"Rupture Index\"].unique())"
   ]
  },
  {
   "cell_type": "markdown",
   "id": "a91b7a78-5a7e-4b1c-bb23-ef7453e30caa",
   "metadata": {},
   "source": [
    "### calculate participation rate series"
   ]
  },
  {
   "cell_type": "code",
   "execution_count": 5,
   "id": "07fbf192-c04d-4cd9-8f33-5e847281fc90",
   "metadata": {
    "editable": true,
    "slideshow": {
     "slide_type": ""
    },
    "tags": []
   },
   "outputs": [
    {
     "data": {
      "text/plain": [
       "ParentID\n",
       "2     0.000229\n",
       "6     0.000426\n",
       "7     0.000743\n",
       "27    0.000096\n",
       "29    0.000189\n",
       "Name: rate_weighted_mean, dtype: float64"
      ]
     },
     "execution_count": 5,
     "metadata": {},
     "output_type": "execute_result"
    }
   ],
   "source": [
    "# get the participation rate for each subsection in the selected ruptures\n",
    "subsections = FilterSubsectionIds(solution).for_rupture_ids(rupture_ids)\n",
    "rate_column = \"Annual Rate\" if isinstance(solution, solvis.InversionSolution) else \"rate_weighted_mean\"\n",
    "\n",
    "#parent fault participation\n",
    "rs_df = solution.rs_with_rupture_rates [solution.rs_with_rupture_rates.section.isin(subsections)]\n",
    "pf_df = rs_df.join(solution.fault_sections[['ParentID']], on='section')\n",
    "fault_rates = pf_df[[\"Rupture Index\", \"ParentID\", rate_column]]\n",
    "parent_rates = fault_rates.groupby(\"ParentID\").agg('sum')[rate_column]\n",
    "parent_rates.head()"
   ]
  },
  {
   "cell_type": "code",
   "execution_count": 7,
   "id": "29b062cf-b619-4641-a8b5-6dd4c48de0d7",
   "metadata": {},
   "outputs": [],
   "source": [
    "# let's get the participation rate for each subsection in the selected ruptures\n",
    "section_rates = rs_df[[\"Rupture Index\", \"section\", rate_column]].groupby(\"section\").agg('sum')[rate_column]"
   ]
  },
  {
   "cell_type": "code",
   "execution_count": null,
   "id": "740cf8fb-b91d-4780-bdf4-bb48b0d73a42",
   "metadata": {},
   "outputs": [],
   "source": [
    "# check sum of rates matches\n",
    "if not parent_rates.sum() == section_rates.sum():\n",
    "    print(parent_rates.sum())\n",
    "    print(section_rates.sum())"
   ]
  },
  {
   "cell_type": "markdown",
   "id": "e8124826-9672-480c-b5b8-11fa6b7d03dc",
   "metadata": {},
   "source": [
    "### Style the geojson using a color scale"
   ]
  },
  {
   "cell_type": "code",
   "execution_count": 6,
   "id": "0e7c5b93-bdd2-45ac-9860-01e5f40ae2c3",
   "metadata": {},
   "outputs": [],
   "source": [
    "surfaces = solution.fault_surfaces()\n",
    "surfaces = surfaces[surfaces[\"FaultID\"].isin(subsections)]\n",
    "\n",
    "#join the rate series from earlier\n",
    "if SECTION_RATE:\n",
    "    rate_series = section_rates\n",
    "    surfaces = surfaces.join(rate_series, on='FaultID', how='outer')\n",
    "else:\n",
    "    rate_series = parent_rates \n",
    "    surfaces = surfaces.join(rate_series, on='ParentID', how='outer')\n",
    "surfaces.rename(columns={rate_series.name: \"annual_rate\"}, inplace=True)\n",
    "\n",
    "fault_sections_gdf = gpd.GeoDataFrame(surfaces)\n",
    "\n",
    "# create the colour scale from our rate series\n",
    "color_values = get_colour_values(\n",
    "                color_scale=\"inferno\",\n",
    "                color_scale_vmax=rate_series.max(),\n",
    "                color_scale_vmin=rate_series.min(),\n",
    "                color_scale_normalise=ColourScaleNormaliseEnum.LOG.value,\n",
    "                values=tuple(rate_series.tolist()),\n",
    "            )\n",
    "\n",
    "rate_ids = rate_series.index.tolist()\n",
    "data = json.loads(fault_sections_gdf.to_json())\n",
    "\n",
    "# merge the styling with the geojson\n",
    "\n",
    "for feature in data[\"features\"]:\n",
    "    try:\n",
    "        if SECTION_RATE:\n",
    "            color = color_values[rate_ids.index(feature['properties']['FaultID'])]\n",
    "        else:\n",
    "            color = color_values[rate_ids.index(feature['properties']['ParentID'])]\n",
    "    except (ValueError):\n",
    "        print(f\"warning no rate found for index: {feature['properties']['FaultID']} faultname: `{feature['properties']['FaultName']}`\")\n",
    "        color = 'cyan' \n",
    "        \n",
    "    if feature['properties']['DipDeg'] == 90: \n",
    "        # these vertical sections are much harder to see, so color the line and make it heavier \n",
    "        line_color = color\n",
    "        weight = 3\n",
    "    else:\n",
    "        line_color = \"black\"\n",
    "        weight = 1\n",
    "        \n",
    "    feature[\"properties\"][\"style\"] = {\n",
    "        \"color\": line_color,\n",
    "        \"weight\": weight,\n",
    "        \"fillColor\": color,\n",
    "        \"fillOpacity\": 1,\n",
    "    }"
   ]
  },
  {
   "cell_type": "markdown",
   "id": "827b48d2-8041-42d9-8216-5268be18ec7c",
   "metadata": {},
   "source": [
    "### build a legend"
   ]
  },
  {
   "cell_type": "code",
   "execution_count": 7,
   "id": "119bdd66-6ac9-4d5b-9290-bf9ed3364677",
   "metadata": {},
   "outputs": [],
   "source": [
    "# from SGI\n",
    "cs = get_colour_scale(\n",
    "        color_scale=\"inferno\",\n",
    "        color_scale_normalise=ColourScaleNormaliseEnum.LOG.value, \n",
    "        vmax=rate_series.max(),\n",
    "        vmin= rate_series.min())\n",
    "\n",
    "color_map = dict(zip(reversed(cs.color_map.levels), reversed(cs.color_map.hexrgbs)))\n"
   ]
  },
  {
   "cell_type": "markdown",
   "id": "2bab4d09-6b25-4d64-9fc2-50322ccdbc43",
   "metadata": {},
   "source": [
    "### Display with ipyleaflet"
   ]
  },
  {
   "cell_type": "code",
   "execution_count": 8,
   "id": "349718cc-3bde-4e69-b56f-da3e8aafb7b9",
   "metadata": {},
   "outputs": [
    {
     "data": {
      "application/vnd.jupyter.widget-view+json": {
       "model_id": "c89062a774ed4faf8a2eb3fc3e36ac49",
       "version_major": 2,
       "version_minor": 0
      },
      "text/plain": [
       "Map(center=[-41.5, 175], controls=(ZoomControl(options=['position', 'zoom_in_text', 'zoom_in_title', 'zoom_out…"
      ]
     },
     "execution_count": 8,
     "metadata": {},
     "output_type": "execute_result"
    }
   ],
   "source": [
    "center = [-41.5, 175]\n",
    "zoom = 7\n",
    "map = Map(center=center, zoom=zoom)\n",
    "\n",
    "section_info = HTML()\n",
    "section_info.value = \"<b>Section Detail</b><br/><p>hover over fault sections for more details.</p>\"\n",
    "widget_control = WidgetControl(widget=section_info, position='topright')\n",
    "legend = LegendControl(color_map, title=\"Rupture Rate/yr\", position=\"topright\")\n",
    "\n",
    "def on_hover_callback(event, feature, properties, id):\n",
    "    section_info.value = f\"<b>{properties['FaultName']}</b>\"\n",
    "    section_info.value += \"<br />\"\n",
    "    section_info.value += f\"Dip: {properties['DipDeg']}</br>\"\n",
    "    section_info.value += f\"Rake: {properties['Rake']}</br>\"\n",
    "    section_info.value += f\"Lower depth: {round(properties['LowDepth'],3)}</br>\"    \n",
    "    section_info.value += f\"Participation rate: {properties['annual_rate']:.2E}</br>\" \n",
    "    \n",
    "g = GeoJSON(data=data, \n",
    "            hover_style={'color': 'white', 'dashArray': '0', 'fillOpacity': 0.1})\n",
    "g.on_hover(on_hover_callback)\n",
    "\n",
    "map.add(g)\n",
    "map.add(FullScreenControl())\n",
    "map.add(widget_control)\n",
    "map.add(legend)\n",
    "map.add(ScaleControl(position='bottomleft', max_width=250))\n",
    "\n",
    "#render the map ...\n",
    "map"
   ]
  }
 ],
 "metadata": {
  "kernelspec": {
   "display_name": "Python 3 (ipykernel)",
   "language": "python",
   "name": "python3"
  },
  "language_info": {
   "codemirror_mode": {
    "name": "ipython",
    "version": 3
   },
   "file_extension": ".py",
   "mimetype": "text/x-python",
   "name": "python",
   "nbconvert_exporter": "python",
   "pygments_lexer": "ipython3",
   "version": "3.11.9"
  }
 },
 "nbformat": 4,
 "nbformat_minor": 5
}
