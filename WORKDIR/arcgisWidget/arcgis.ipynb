{
 "cells": [
  {
   "cell_type": "code",
   "execution_count": 1,
   "id": "228c2706-5009-44ab-ba6e-87905afa14f7",
   "metadata": {},
   "outputs": [],
   "source": [
    "import anywidget\n",
    "import traitlets"
   ]
  },
  {
   "cell_type": "code",
   "execution_count": 3,
   "id": "88fbaab3-eb79-4cf6-b3ea-1cc537f3aac5",
   "metadata": {},
   "outputs": [],
   "source": [
    "import json\n",
    "\n",
    "with open('rupture.geojson') as json_file:\n",
    "    rupture = json.load(json_file)\n",
    "    json_file.close()\n",
    "\n",
    "with open('rupture2.geojson') as json_file:\n",
    "    rupture2 = json.load(json_file)\n",
    "    json_file.close()"
   ]
  },
  {
   "cell_type": "code",
   "execution_count": 85,
   "id": "3181eaba-cd4c-4c28-a70c-ee6c9eb6e2ff",
   "metadata": {},
   "outputs": [],
   "source": [
    "class ArcGisWidget(anywidget.AnyWidget):\n",
    "    _esm = 'arcgis.js'\n",
    "    _css = 'arcgis.css'\n",
    "    geojson = traitlets.Dict().tag(sync=True)\n",
    "    width = traitlets.Unicode('100%').tag(sync=True, o=True)\n",
    "    height = traitlets.Unicode('600px').tag(sync=True, o=True)\n",
    "\n",
    "    def addGeoJson(self, data):\n",
    "        self.send({\"geojson\":data})"
   ]
  },
  {
   "cell_type": "code",
   "execution_count": 69,
   "id": "ff624305-e865-4e41-804a-dbbeabfc09e7",
   "metadata": {},
   "outputs": [],
   "source": [
    "map = ArcGisWidget(width=\"300px\", height=\"300px\")"
   ]
  },
  {
   "cell_type": "code",
   "execution_count": 70,
   "id": "5bbdce3c-6270-421e-8c94-15d632d36c93",
   "metadata": {},
   "outputs": [
    {
     "data": {
      "application/vnd.jupyter.widget-view+json": {
       "model_id": "0c1987d6dd2f4360a71e3b023ce8969c",
       "version_major": 2,
       "version_minor": 1
      },
      "text/plain": [
       "ArcGisWidget(height='300px', width='300px')"
      ]
     },
     "execution_count": 70,
     "metadata": {},
     "output_type": "execute_result"
    }
   ],
   "source": [
    "map"
   ]
  },
  {
   "cell_type": "code",
   "execution_count": 72,
   "id": "1445f7bd-ec00-4957-bc99-74d647d98e07",
   "metadata": {},
   "outputs": [],
   "source": [
    "map.addGeoJson(rupture2)"
   ]
  },
  {
   "cell_type": "code",
   "execution_count": 71,
   "id": "e52fcbae-313d-49b6-b585-0d200ad004a7",
   "metadata": {},
   "outputs": [],
   "source": [
    "map.addGeoJson(rupture)"
   ]
  },
  {
   "cell_type": "code",
   "execution_count": 86,
   "id": "3580144a-ad81-4d19-b7d3-fb7fa814fa50",
   "metadata": {},
   "outputs": [],
   "source": [
    "import json\n",
    "from IPython.display import GeoJSON\n",
    "\n",
    "# NSHM libraries ..\n",
    "import nzshm_model as nm\n",
    "import solvis\n",
    "\n",
    "# we need a matching source_logic_tree (CBC do we really ???)\n",
    "slt = nm.get_model_version(\"NSHM_v1.0.4\").source_logic_tree\n",
    "\n",
    "# load the composite_solution using the source logic tree\n",
    "csol = solvis.CompositeSolution.from_archive(\"../NSHM_v1.0.4_CompositeSolution.zip\", slt)\n",
    "\n",
    "# get the the Crustal FaultSystemSolution\n",
    "fss = csol._solutions['CRU']"
   ]
  },
  {
   "cell_type": "code",
   "execution_count": 87,
   "id": "7da9cfe7-b776-41da-bbb5-4761a644fdd8",
   "metadata": {},
   "outputs": [],
   "source": [
    "fss = csol._solutions['CRU']\n",
    "gj = json.loads(fss.fault_surfaces().to_json())"
   ]
  },
  {
   "cell_type": "code",
   "execution_count": 88,
   "id": "c2078819-3dc8-42a2-a912-ec503a4f7b7a",
   "metadata": {},
   "outputs": [
    {
     "data": {
      "application/vnd.jupyter.widget-view+json": {
       "model_id": "a25b581007ac497eb3d619cddc1e6903",
       "version_major": 2,
       "version_minor": 1
      },
      "text/plain": [
       "ArcGisWidget()"
      ]
     },
     "execution_count": 88,
     "metadata": {},
     "output_type": "execute_result"
    }
   ],
   "source": [
    "faults = ArcGisWidget()\n",
    "\n",
    "faults"
   ]
  },
  {
   "cell_type": "code",
   "execution_count": 89,
   "id": "c571c09c-7b93-49b6-bc79-595b23b426cf",
   "metadata": {},
   "outputs": [],
   "source": [
    "faults.addGeoJson(gj)"
   ]
  },
  {
   "cell_type": "code",
   "execution_count": null,
   "id": "631e240f-a54b-4d6c-b7a8-e3958dcd0d63",
   "metadata": {},
   "outputs": [],
   "source": []
  }
 ],
 "metadata": {
  "kernelspec": {
   "display_name": "Python 3 (ipykernel)",
   "language": "python",
   "name": "python3"
  },
  "language_info": {
   "codemirror_mode": {
    "name": "ipython",
    "version": 3
   },
   "file_extension": ".py",
   "mimetype": "text/x-python",
   "name": "python",
   "nbconvert_exporter": "python",
   "pygments_lexer": "ipython3",
   "version": "3.11.9"
  }
 },
 "nbformat": 4,
 "nbformat_minor": 5
}
