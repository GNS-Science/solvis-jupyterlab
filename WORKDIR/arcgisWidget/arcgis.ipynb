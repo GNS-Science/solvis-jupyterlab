{
 "cells": [
  {
   "cell_type": "code",
   "execution_count": 351,
   "id": "228c2706-5009-44ab-ba6e-87905afa14f7",
   "metadata": {},
   "outputs": [],
   "source": [
    "import anywidget\n",
    "import traitlets"
   ]
  },
  {
   "cell_type": "code",
   "execution_count": 352,
   "id": "88fbaab3-eb79-4cf6-b3ea-1cc537f3aac5",
   "metadata": {},
   "outputs": [],
   "source": [
    "import json\n",
    "\n",
    "with open('rupture.geojson') as json_file:\n",
    "    rupture = json.load(json_file)\n",
    "    json_file.close()\n",
    "\n",
    "with open('rupture2.geojson') as json_file:\n",
    "    rupture2 = json.load(json_file)\n",
    "    json_file.close()"
   ]
  },
  {
   "cell_type": "code",
   "execution_count": 353,
   "id": "3181eaba-cd4c-4c28-a70c-ee6c9eb6e2ff",
   "metadata": {},
   "outputs": [],
   "source": [
    "class ArcGisWidget(anywidget.AnyWidget):\n",
    "    _esm = 'arcgis.js'\n",
    "    _css = 'arcgis.css'\n",
    "    geojson = traitlets.Dict().tag(sync=True)\n",
    "    width = traitlets.Unicode('100%').tag(sync=True, o=True)\n",
    "    height = traitlets.Unicode('600px').tag(sync=True, o=True)\n",
    "\n",
    "    def addGeoJson(self, data):\n",
    "        self.send({\"geojson\":data})"
   ]
  },
  {
   "cell_type": "code",
   "execution_count": 354,
   "id": "ff624305-e865-4e41-804a-dbbeabfc09e7",
   "metadata": {},
   "outputs": [],
   "source": [
    "map = ArcGisWidget()"
   ]
  },
  {
   "cell_type": "code",
   "execution_count": 355,
   "id": "5bbdce3c-6270-421e-8c94-15d632d36c93",
   "metadata": {},
   "outputs": [
    {
     "data": {
      "application/vnd.jupyter.widget-view+json": {
       "model_id": "9acb8c0de1374cbfb22db9c3fdc2ff77",
       "version_major": 2,
       "version_minor": 1
      },
      "text/plain": [
       "ArcGisWidget()"
      ]
     },
     "execution_count": 355,
     "metadata": {},
     "output_type": "execute_result"
    }
   ],
   "source": [
    "map"
   ]
  },
  {
   "cell_type": "code",
   "execution_count": 128,
   "id": "961a491e-c283-4f86-a9e0-000e7990d08b",
   "metadata": {},
   "outputs": [],
   "source": [
    "map.width=\"300px\"\n"
   ]
  },
  {
   "cell_type": "code",
   "execution_count": 338,
   "id": "1445f7bd-ec00-4957-bc99-74d647d98e07",
   "metadata": {},
   "outputs": [],
   "source": [
    "map.addGeoJson(rupture2)"
   ]
  },
  {
   "cell_type": "code",
   "execution_count": 356,
   "id": "e52fcbae-313d-49b6-b585-0d200ad004a7",
   "metadata": {},
   "outputs": [],
   "source": [
    "map.addGeoJson(rupture)"
   ]
  },
  {
   "cell_type": "code",
   "execution_count": 129,
   "id": "3580144a-ad81-4d19-b7d3-fb7fa814fa50",
   "metadata": {},
   "outputs": [],
   "source": [
    "import json\n",
    "from IPython.display import GeoJSON\n",
    "\n",
    "# NSHM libraries ..\n",
    "import nzshm_model as nm\n",
    "import solvis\n",
    "\n",
    "# we need a matching source_logic_tree (CBC do we really ???)\n",
    "slt = nm.get_model_version(\"NSHM_v1.0.4\").source_logic_tree\n",
    "\n",
    "# load the composite_solution using the source logic tree\n",
    "csol = solvis.CompositeSolution.from_archive(\"../NSHM_v1.0.4_CompositeSolution.zip\", slt)\n",
    "\n",
    "# get the the Crustal FaultSystemSolution\n",
    "fss = csol._solutions['CRU']"
   ]
  },
  {
   "cell_type": "code",
   "execution_count": 153,
   "id": "7da9cfe7-b776-41da-bbb5-4761a644fdd8",
   "metadata": {},
   "outputs": [],
   "source": [
    "fss = csol._solutions['CRU']\n",
    "gj = json.loads(fss.fault_surfaces().to_json())"
   ]
  },
  {
   "cell_type": "code",
   "execution_count": 357,
   "id": "c2078819-3dc8-42a2-a912-ec503a4f7b7a",
   "metadata": {},
   "outputs": [
    {
     "data": {
      "application/vnd.jupyter.widget-view+json": {
       "model_id": "dd4af511b322487ab14979f9c3ebfee9",
       "version_major": 2,
       "version_minor": 1
      },
      "text/plain": [
       "ArcGisWidget()"
      ]
     },
     "execution_count": 357,
     "metadata": {},
     "output_type": "execute_result"
    }
   ],
   "source": [
    "faults = ArcGisWidget()\n",
    "\n",
    "faults"
   ]
  },
  {
   "cell_type": "code",
   "execution_count": 155,
   "id": "f1084e5d-012d-426d-8f9e-738710c44e17",
   "metadata": {},
   "outputs": [],
   "source": [
    "faults.addGeoJson(gj)"
   ]
  },
  {
   "cell_type": "code",
   "execution_count": 133,
   "id": "d4a346f1-215f-4850-8add-ff0a547547fb",
   "metadata": {},
   "outputs": [],
   "source": [
    "fss = csol._solutions['PUY']\n",
    "gj = json.loads(fss.fault_surfaces().to_json())"
   ]
  },
  {
   "cell_type": "code",
   "execution_count": 134,
   "id": "fd641f5a-399e-43b6-8b3a-561224d7c8c1",
   "metadata": {},
   "outputs": [],
   "source": [
    "faults.addGeoJson(gj)"
   ]
  },
  {
   "cell_type": "code",
   "execution_count": null,
   "id": "09130446-1508-4af7-908f-f9e643533a8a",
   "metadata": {},
   "outputs": [],
   "source": []
  }
 ],
 "metadata": {
  "kernelspec": {
   "display_name": "Python 3 (ipykernel)",
   "language": "python",
   "name": "python3"
  },
  "language_info": {
   "codemirror_mode": {
    "name": "ipython",
    "version": 3
   },
   "file_extension": ".py",
   "mimetype": "text/x-python",
   "name": "python",
   "nbconvert_exporter": "python",
   "pygments_lexer": "ipython3",
   "version": "3.11.9"
  }
 },
 "nbformat": 4,
 "nbformat_minor": 5
}
