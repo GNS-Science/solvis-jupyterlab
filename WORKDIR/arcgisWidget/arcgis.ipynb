{
 "cells": [
  {
   "cell_type": "code",
   "execution_count": 1,
   "id": "228c2706-5009-44ab-ba6e-87905afa14f7",
   "metadata": {},
   "outputs": [],
   "source": [
    "import anywidget\n",
    "import traitlets"
   ]
  },
  {
   "cell_type": "code",
   "execution_count": 3,
   "id": "88fbaab3-eb79-4cf6-b3ea-1cc537f3aac5",
   "metadata": {},
   "outputs": [],
   "source": [
    "import json\n",
    "\n",
    "with open('rupture.geojson') as json_file:\n",
    "    rupture = json.load(json_file)\n",
    "    json_file.close()\n",
    "\n",
    "with open('rupture2.geojson') as json_file:\n",
    "    rupture2 = json.load(json_file)\n",
    "    json_file.close()"
   ]
  },
  {
   "cell_type": "code",
   "execution_count": 49,
   "id": "3181eaba-cd4c-4c28-a70c-ee6c9eb6e2ff",
   "metadata": {},
   "outputs": [],
   "source": [
    "class ArcGisWidget(anywidget.AnyWidget):\n",
    "    _esm = 'arcgis.js'\n",
    "    _css = 'arcgis.css'\n",
    "    geojson = traitlets.Dict().tag(sync=True)\n",
    "    width = traitlets.Unicode('100%').tag(sync=True, o=True)\n",
    "    height = traitlets.Unicode('600px').tag(sync=True, o=True)\n",
    "\n",
    "    def addGeoJson(self, data):\n",
    "        self.send({\"geojson\":data})"
   ]
  },
  {
   "cell_type": "code",
   "execution_count": 54,
   "id": "ff624305-e865-4e41-804a-dbbeabfc09e7",
   "metadata": {},
   "outputs": [
    {
     "data": {
      "application/vnd.jupyter.widget-view+json": {
       "model_id": "1b29479df88d47ee8d0494e68a9e386e",
       "version_major": 2,
       "version_minor": 1
      },
      "text/plain": [
       "ArcGisWidget(geojson={'type': 'FeatureCollection', 'features': [{'type': 'Feature', 'properties': {'FaultID': …"
      ]
     },
     "execution_count": 54,
     "metadata": {},
     "output_type": "execute_result"
    }
   ],
   "source": [
    "ArcGisWidget(geojson=rupture)"
   ]
  },
  {
   "cell_type": "code",
   "execution_count": null,
   "id": "5bbdce3c-6270-421e-8c94-15d632d36c93",
   "metadata": {},
   "outputs": [],
   "source": []
  }
 ],
 "metadata": {
  "kernelspec": {
   "display_name": "Python 3 (ipykernel)",
   "language": "python",
   "name": "python3"
  },
  "language_info": {
   "codemirror_mode": {
    "name": "ipython",
    "version": 3
   },
   "file_extension": ".py",
   "mimetype": "text/x-python",
   "name": "python",
   "nbconvert_exporter": "python",
   "pygments_lexer": "ipython3",
   "version": "3.11.9"
  }
 },
 "nbformat": 4,
 "nbformat_minor": 5
}
