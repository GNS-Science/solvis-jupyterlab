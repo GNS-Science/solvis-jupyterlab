{
 "cells": [
  {
   "cell_type": "markdown",
   "id": "82c2af9b-c9fe-48db-8c91-0387125ce672",
   "metadata": {
    "editable": true,
    "slideshow": {
     "slide_type": ""
    },
    "tags": []
   },
   "source": [
    "# More examples"
   ]
  },
  {
   "cell_type": "code",
   "execution_count": 1,
   "id": "d76b6867-bedf-415f-9d3b-e21635482da2",
   "metadata": {},
   "outputs": [],
   "source": [
    "# showing entire fault system participation rates"
   ]
  },
  {
   "cell_type": "markdown",
   "id": "5bf90f20-a41b-4ae2-a137-37af986903c0",
   "metadata": {},
   "source": [
    "  "
   ]
  },
  {
   "cell_type": "code",
   "execution_count": 2,
   "id": "8ed96b93-fadf-42a5-a8df-7b0afc563b50",
   "metadata": {},
   "outputs": [
    {
     "name": "stderr",
     "output_type": "stream",
     "text": [
      "warning openquake module dependency not available, maybe you want to install\n",
      "                with nzshm-model[openquake]\n"
     ]
    },
    {
     "name": "stdout",
     "output_type": "stream",
     "text": [
      "WARNING: optional `toshi` dependencies are not installed.\n",
      "Running without `toshi` options\n",
      "WARNING: geometry.section_distance() uses the optional dependency pyvista.\n"
     ]
    }
   ],
   "source": [
    "#import pathlib\n",
    "import json\n",
    "import nzshm_model as nm\n",
    "import geopandas as gpd\n",
    "import solvis\n",
    "\n",
    "# from solvis.fault_system_solution_helper import FaultSystemSolutionHelper\n",
    "from solvis_graphql_api.color_scale import ColourScaleNormaliseEnum, get_colour_values, get_colour_scale\n",
    "from ipyleaflet import Map, GeoJSON, LegendControl, FullScreenControl, Popup, ScaleControl, WidgetControl\n",
    "from ipywidgets import HTML"
   ]
  },
  {
   "cell_type": "code",
   "execution_count": 3,
   "id": "7ae29bed-3458-428f-875d-551c848387a7",
   "metadata": {},
   "outputs": [],
   "source": [
    "# OPTIONS\n",
    "SINGLE_SOLUTION = False\n",
    "SECTION_RATE = False # otherwise Parent rates\n",
    "\n",
    "if SINGLE_SOLUTION:\n",
    "    solution = solvis.InversionSolution.from_archive(\"NZSHM22_ScaledInversionSolution-QXV0b21hdGlvblRhc2s6MTEzMTM0.zip\")\n",
    "else:\n",
    "    current_model = nm.get_model_version(\"NSHM_v1.0.4\")\n",
    "    slt = current_model.source_logic_tree\n",
    "    csol = solvis.CompositeSolution.from_archive(\"NSHM_v1.0.4_CompositeSolution.zip\", slt)\n",
    "    solution = csol._solutions['CRU']\n",
    "# \n",
    "# helper = FaultSystemSolutionHelper(solution)  "
   ]
  },
  {
   "cell_type": "markdown",
   "id": "e0712d4e-ee44-4d25-9fbc-c589ffeb58b7",
   "metadata": {},
   "source": [
    "## Choose some faults and get their unique rupture IDs"
   ]
  },
  {
   "cell_type": "markdown",
   "id": "a91b7a78-5a7e-4b1c-bb23-ef7453e30caa",
   "metadata": {},
   "source": [
    "### A) Calculate participation rates"
   ]
  },
  {
   "cell_type": "code",
   "execution_count": 4,
   "id": "07fbf192-c04d-4cd9-8f33-5e847281fc90",
   "metadata": {
    "editable": true,
    "slideshow": {
     "slide_type": ""
    },
    "tags": []
   },
   "outputs": [],
   "source": [
    "rate_column = \"Annual Rate\" if isinstance(solution, solvis.InversionSolution) else \"rate_weighted_mean\"\n",
    "\n",
    "rs_df = solution.rs_with_rupture_rates\n",
    "if not SECTION_RATE:\n",
    "    pf_df = rs_df.join(solution.fault_sections[['ParentID']], on='section')\n",
    "    fault_rates = pf_df[[\"Rupture Index\", \"ParentID\", rate_column]]\n",
    "    parent_rates = fault_rates.groupby(\"ParentID\").agg('sum')[rate_column]\n",
    "    parent_rates.head()"
   ]
  },
  {
   "cell_type": "code",
   "execution_count": 5,
   "id": "29b062cf-b619-4641-a8b5-6dd4c48de0d7",
   "metadata": {},
   "outputs": [],
   "source": [
    "# let's get the participation rate for each subsection in the rupture\n",
    "if SECTION_RATE:\n",
    "    section_rates = rs_df[[\"Rupture Index\", \"section\", rate_column]].groupby(\"section\").agg('sum')[rate_column]\n",
    "    section_rates.head()"
   ]
  },
  {
   "cell_type": "code",
   "execution_count": 6,
   "id": "740cf8fb-b91d-4780-bdf4-bb48b0d73a42",
   "metadata": {},
   "outputs": [],
   "source": [
    "# # check sum of rates matches\n",
    "# if not parent_rates.sum() == section_rates.sum():\n",
    "#     print(parent_rates.sum())\n",
    "#     print(section_rates.sum())"
   ]
  },
  {
   "cell_type": "markdown",
   "id": "e8124826-9672-480c-b5b8-11fa6b7d03dc",
   "metadata": {},
   "source": [
    "### Style the geojson using a color scale"
   ]
  },
  {
   "cell_type": "code",
   "execution_count": 7,
   "id": "0e7c5b93-bdd2-45ac-9860-01e5f40ae2c3",
   "metadata": {},
   "outputs": [
    {
     "name": "stdout",
     "output_type": "stream",
     "text": [
      "min 6.19915589404e-07\n",
      "warning no rate found for index: 105 faultname: `Ararata, Subsection 0`\n",
      "warning no rate found for index: 106 faultname: `Ararata, Subsection 1`\n",
      "warning no rate found for index: 170 faultname: `Bidwill, Subsection 0`\n",
      "warning no rate found for index: 171 faultname: `Bidwill, Subsection 1`\n",
      "warning no rate found for index: 405 faultname: `Central Balleny, Subsection 0`\n",
      "warning no rate found for index: 406 faultname: `Central Balleny, Subsection 1`\n",
      "warning no rate found for index: 407 faultname: `Central Balleny, Subsection 2`\n",
      "warning no rate found for index: 408 faultname: `Central Balleny, Subsection 3`\n",
      "warning no rate found for index: 409 faultname: `Central Balleny, Subsection 4`\n",
      "warning no rate found for index: 410 faultname: `Central Balleny, Subsection 5`\n",
      "warning no rate found for index: 501 faultname: `Dry River - Huangarua: 2, Subsection 0`\n",
      "warning no rate found for index: 502 faultname: `Dry River - Huangarua: 2, Subsection 1`\n",
      "warning no rate found for index: 524 faultname: `Edith, Subsection 0`\n",
      "warning no rate found for index: 525 faultname: `Edith, Subsection 1`\n",
      "warning no rate found for index: 1076 faultname: `Mahia 2, Subsection 0`\n",
      "warning no rate found for index: 1077 faultname: `Mahia 2, Subsection 1`\n",
      "warning no rate found for index: 1078 faultname: `Mahia 2, Subsection 2`\n",
      "warning no rate found for index: 1312 faultname: `Norfolk, Subsection 0`\n",
      "warning no rate found for index: 1313 faultname: `Norfolk, Subsection 1`\n",
      "warning no rate found for index: 1465 faultname: `Otaheke South, Subsection 0`\n",
      "warning no rate found for index: 1466 faultname: `Otaheke South, Subsection 1`\n",
      "warning no rate found for index: 1467 faultname: `Otaheke South, Subsection 2`\n",
      "warning no rate found for index: 1468 faultname: `Otaheke South, Subsection 3`\n",
      "warning no rate found for index: 1599 faultname: `Pukekohe, Subsection 0`\n",
      "warning no rate found for index: 1600 faultname: `Pukekohe, Subsection 1`\n",
      "warning no rate found for index: 1663 faultname: `Raurimu: South, Subsection 0`\n",
      "warning no rate found for index: 1664 faultname: `Raurimu: South, Subsection 1`\n",
      "warning no rate found for index: 1667 faultname: `Repongaere, Subsection 0`\n",
      "warning no rate found for index: 1668 faultname: `Repongaere, Subsection 1`\n",
      "warning no rate found for index: 1743 faultname: `Snares, Subsection 0`\n",
      "warning no rate found for index: 1744 faultname: `Snares, Subsection 1`\n",
      "warning no rate found for index: 1745 faultname: `Snares, Subsection 2`\n",
      "warning no rate found for index: 1746 faultname: `Snares, Subsection 3`\n",
      "warning no rate found for index: 1747 faultname: `Snares, Subsection 4`\n",
      "warning no rate found for index: 1748 faultname: `Snares, Subsection 5`\n",
      "warning no rate found for index: 1749 faultname: `Snares, Subsection 6`\n",
      "warning no rate found for index: 1750 faultname: `Snares, Subsection 7`\n",
      "warning no rate found for index: 1751 faultname: `Snares, Subsection 8`\n",
      "warning no rate found for index: 1752 faultname: `Snares, Subsection 9`\n",
      "warning no rate found for index: 1753 faultname: `Snares, Subsection 10`\n",
      "warning no rate found for index: 1754 faultname: `Snares, Subsection 11`\n",
      "warning no rate found for index: 1755 faultname: `Snares, Subsection 12`\n",
      "warning no rate found for index: 1756 faultname: `Snares, Subsection 13`\n",
      "warning no rate found for index: 1790 faultname: `Spey - Mica Burn, Subsection 0`\n",
      "warning no rate found for index: 1791 faultname: `Spey - Mica Burn, Subsection 1`\n",
      "warning no rate found for index: 1792 faultname: `Spey - Mica Burn, Subsection 2`\n",
      "warning no rate found for index: 1793 faultname: `Spey - Mica Burn, Subsection 3`\n",
      "warning no rate found for index: 2226 faultname: `West Balleny, Subsection 0`\n",
      "warning no rate found for index: 2227 faultname: `West Balleny, Subsection 1`\n",
      "warning no rate found for index: 2228 faultname: `West Balleny, Subsection 2`\n",
      "warning no rate found for index: 2229 faultname: `West Balleny, Subsection 3`\n",
      "warning no rate found for index: 2230 faultname: `West Balleny, Subsection 4`\n",
      "warning no rate found for index: 2231 faultname: `West Balleny, Subsection 5`\n",
      "warning no rate found for index: 2232 faultname: `West Balleny, Subsection 6`\n",
      "warning no rate found for index: 2233 faultname: `West Balleny, Subsection 7`\n",
      "warning no rate found for index: 2234 faultname: `West Balleny, Subsection 8`\n",
      "warning no rate found for index: 2235 faultname: `West Balleny, Subsection 9`\n"
     ]
    }
   ],
   "source": [
    "surfaces = solution.fault_surfaces()\n",
    "# surfaces = surfaces[surfaces[\"FaultID\"].isin(subsections)]\n",
    "if SECTION_RATE:\n",
    "    rate_series = section_rates\n",
    "    surfaces = surfaces.join(rate_series, on='FaultID', how='outer')\n",
    "else:\n",
    "    rate_series = parent_rates \n",
    "    surfaces = surfaces.join(rate_series, on='ParentID', how='outer')\n",
    "surfaces.rename(columns={rate_series.name: \"annual_rate\"}, inplace=True)\n",
    "\n",
    "fault_sections_gdf = gpd.GeoDataFrame(surfaces)\n",
    "\n",
    "rate_series = section_rates if SECTION_RATE else parent_rates\n",
    "print('min', rate_series.min())\n",
    "# create the colour scale from our list of parent_fault_rates\n",
    "color_values = get_colour_values(\n",
    "                color_scale=\"inferno\",\n",
    "                color_scale_vmax=rate_series.max(),\n",
    "                color_scale_vmin=max(rate_series.min(), 1e-20),\n",
    "                color_scale_normalise= ColourScaleNormaliseEnum.LOG.value,\n",
    "                values=tuple(rate_series.tolist()),\n",
    "            )\n",
    "\n",
    "rate_ids = rate_series.index.tolist()\n",
    "data = json.loads(fault_sections_gdf.to_json())\n",
    "\n",
    "# # merge the styling with the geojson\n",
    "for feature in data[\"features\"]:\n",
    "    try:\n",
    "        if SECTION_RATE:\n",
    "            color = color_values[rate_ids.index(feature['properties']['FaultID'])]\n",
    "        else:\n",
    "            color = color_values[rate_ids.index(feature['properties']['ParentID'])]\n",
    "    except (ValueError):\n",
    "        print(f\"warning no rate found for index: {feature['properties']['FaultID']} faultname: `{feature['properties']['FaultName']}`\")\n",
    "        color = 'cyan'\n",
    "    feature[\"properties\"][\"style\"] = {\n",
    "        \"color\": \"#000000\",\n",
    "        \"weight\": 1,\n",
    "        \"fillColor\": color,\n",
    "        \"fillOpacity\": 1,\n",
    "    }"
   ]
  },
  {
   "cell_type": "code",
   "execution_count": 8,
   "id": "9a2c52d8-d7b2-4903-bd48-d8de221fc1e1",
   "metadata": {},
   "outputs": [],
   "source": [
    "# from SGI\n",
    "cs = get_colour_scale(\n",
    "        color_scale=\"inferno\",\n",
    "        color_scale_normalise=ColourScaleNormaliseEnum.LOG.value, \n",
    "        vmax=rate_series.max(),\n",
    "        vmin=max(rate_series.min(), 1e-20))\n",
    "\n",
    "color_map = dict(zip(reversed(cs.color_map.levels), reversed(cs.color_map.hexrgbs)))\n"
   ]
  },
  {
   "cell_type": "markdown",
   "id": "2bab4d09-6b25-4d64-9fc2-50322ccdbc43",
   "metadata": {},
   "source": [
    "### Display with ipyleaflet"
   ]
  },
  {
   "cell_type": "code",
   "execution_count": 9,
   "id": "349718cc-3bde-4e69-b56f-da3e8aafb7b9",
   "metadata": {},
   "outputs": [
    {
     "data": {
      "application/vnd.jupyter.widget-view+json": {
       "model_id": "836607f81e4d469aa516b5de4dd5c514",
       "version_major": 2,
       "version_minor": 0
      },
      "text/plain": [
       "Map(center=[-41.5, 175], controls=(ZoomControl(options=['position', 'zoom_in_text', 'zoom_in_title', 'zoom_out…"
      ]
     },
     "execution_count": 9,
     "metadata": {},
     "output_type": "execute_result"
    }
   ],
   "source": [
    "center = [-41.5, 175]\n",
    "zoom = 7\n",
    "map = Map(center=center, zoom=zoom)\n",
    "\n",
    "section_info = HTML()\n",
    "section_info.value = \"<b>Section Detail</b><br/><p>hover over fault sections for more details.</p>\"\n",
    "widget_control = WidgetControl(widget=section_info, position='topright')\n",
    "legend = LegendControl(color_map, title=\"Rupture Rate/yr\", position=\"topright\")\n",
    "\n",
    "def on_hover_callback(event, feature, properties, id):\n",
    "    section_info.value = f\"<b>{properties['FaultName']}</b>\"\n",
    "    section_info.value += \"<br />\"\n",
    "    section_info.value += f\"Dip: {properties['DipDeg']}</br>\"\n",
    "    section_info.value += f\"Rake: {properties['Rake']}</br>\"\n",
    "    section_info.value += f\"Lower depth: {round(properties['LowDepth'],3)}</br>\"    \n",
    "    section_info.value += f\"Participation rate: {properties['annual_rate']:.2E}</br>\" \n",
    "    \n",
    "g = GeoJSON(data=data, \n",
    "            hover_style={'color': 'white', 'dashArray': '0', 'fillOpacity': 0.1})\n",
    "g.on_hover(on_hover_callback)\n",
    "\n",
    "map.add(g)\n",
    "map.add(FullScreenControl())\n",
    "map.add(widget_control)\n",
    "map.add(legend)\n",
    "map.add(ScaleControl(position='bottomleft', max_width=250))\n",
    "\n",
    "#display time ... note the fullscreen option \n",
    "map"
   ]
  },
  {
   "cell_type": "code",
   "execution_count": 10,
   "id": "bfaa7ea8-facf-4a49-b91f-721609ae4175",
   "metadata": {},
   "outputs": [],
   "source": [
    "# section_aggregates_detail[['section_participation_rate']]"
   ]
  }
 ],
 "metadata": {
  "kernelspec": {
   "display_name": "Python 3 (ipykernel)",
   "language": "python",
   "name": "python3"
  },
  "language_info": {
   "codemirror_mode": {
    "name": "ipython",
    "version": 3
   },
   "file_extension": ".py",
   "mimetype": "text/x-python",
   "name": "python",
   "nbconvert_exporter": "python",
   "pygments_lexer": "ipython3",
   "version": "3.11.9"
  }
 },
 "nbformat": 4,
 "nbformat_minor": 5
}
