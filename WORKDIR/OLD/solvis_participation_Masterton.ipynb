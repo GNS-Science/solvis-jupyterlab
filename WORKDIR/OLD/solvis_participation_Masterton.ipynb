{
 "cells": [
  {
   "cell_type": "markdown",
   "id": "07ae1573-3d45-4088-8855-cd5139b14f27",
   "metadata": {},
   "source": [
    "## Participation fault/subsections = Masterton example"
   ]
  },
  {
   "cell_type": "code",
   "execution_count": 1,
   "id": "a4b0ab75-1999-4b96-a351-bf8f3fc168bf",
   "metadata": {},
   "outputs": [
    {
     "name": "stderr",
     "output_type": "stream",
     "text": [
      "warning openquake module dependency not available, maybe you want to install\n",
      "                with nzshm-model[openquake]\n"
     ]
    },
    {
     "name": "stdout",
     "output_type": "stream",
     "text": [
      "Running without `toshi` options\n",
      "WARNING: geometry.section_distance() uses the optional dependency pyvista.\n"
     ]
    }
   ],
   "source": [
    "import os\n",
    "import pathlib\n",
    "import json\n",
    "from IPython.display import GeoJSON\n",
    "\n",
    "import nzshm_model as nm\n",
    "import solvis\n",
    "\n",
    "from solvis.fault_system_solution_helper import (\n",
    "    FaultSystemSolutionHelper,\n",
    "    fault_participation_rate,\n",
    "    section_participation_rate,\n",
    ")"
   ]
  },
  {
   "cell_type": "code",
   "execution_count": 2,
   "id": "7a83da3c-db0c-4313-90cf-874598b51d73",
   "metadata": {},
   "outputs": [],
   "source": [
    "# load a single crustal Inversion solution from NSHM_v1.0.4\n",
    "# sol = solvis.InversionSolution.from_archive(\"NZSHM22_ScaledInversionSolution-QXV0b21hdGlvblRhc2s6MTA3NzEy.zip\") # Hikurangi\n",
    "sol = solvis.InversionSolution.from_archive(\"NZSHM22_ScaledInversionSolution-QXV0b21hdGlvblRhc2s6MTEzMTM0.zip\")  # Crustal "
   ]
  },
  {
   "cell_type": "code",
   "execution_count": 3,
   "id": "e1f43f47-e674-47f3-9c2b-82ac19663f53",
   "metadata": {},
   "outputs": [],
   "source": [
    "hlpr = FaultSystemSolutionHelper(sol)"
   ]
  },
  {
   "cell_type": "code",
   "execution_count": 4,
   "id": "c235f57d-0f27-41c5-a66f-22eb826e9b19",
   "metadata": {},
   "outputs": [
    {
     "data": {
      "text/html": [
       "<div>\n",
       "<style scoped>\n",
       "    .dataframe tbody tr th:only-of-type {\n",
       "        vertical-align: middle;\n",
       "    }\n",
       "\n",
       "    .dataframe tbody tr th {\n",
       "        vertical-align: top;\n",
       "    }\n",
       "\n",
       "    .dataframe thead th {\n",
       "        text-align: right;\n",
       "    }\n",
       "</style>\n",
       "<table border=\"1\" class=\"dataframe\">\n",
       "  <thead>\n",
       "    <tr style=\"text-align: right;\">\n",
       "      <th></th>\n",
       "      <th>FaultID</th>\n",
       "      <th>FaultName</th>\n",
       "      <th>DipDeg</th>\n",
       "      <th>Rake</th>\n",
       "      <th>LowDepth</th>\n",
       "      <th>UpDepth</th>\n",
       "      <th>DipDir</th>\n",
       "      <th>AseismicSlipFactor</th>\n",
       "      <th>CouplingCoeff</th>\n",
       "      <th>ParentID</th>\n",
       "      <th>ParentName</th>\n",
       "      <th>geometry</th>\n",
       "      <th>Target Slip Rate</th>\n",
       "      <th>Target Slip Rate StdDev</th>\n",
       "    </tr>\n",
       "  </thead>\n",
       "  <tbody>\n",
       "    <tr>\n",
       "      <th>1125</th>\n",
       "      <td>1125</td>\n",
       "      <td>Masterton, Subsection 0</td>\n",
       "      <td>65.0</td>\n",
       "      <td>-160.0</td>\n",
       "      <td>12.88</td>\n",
       "      <td>0.0</td>\n",
       "      <td>164.0</td>\n",
       "      <td>0.0</td>\n",
       "      <td>1.0</td>\n",
       "      <td>257</td>\n",
       "      <td>Masterton</td>\n",
       "      <td>POLYGON ((175.73310 -40.92830, 175.72130 -40.9...</td>\n",
       "      <td>0.000652</td>\n",
       "      <td>0.000577</td>\n",
       "    </tr>\n",
       "    <tr>\n",
       "      <th>1126</th>\n",
       "      <td>1126</td>\n",
       "      <td>Masterton, Subsection 1</td>\n",
       "      <td>65.0</td>\n",
       "      <td>-160.0</td>\n",
       "      <td>12.88</td>\n",
       "      <td>0.0</td>\n",
       "      <td>164.0</td>\n",
       "      <td>0.0</td>\n",
       "      <td>1.0</td>\n",
       "      <td>257</td>\n",
       "      <td>Masterton</td>\n",
       "      <td>POLYGON ((175.66992 -40.93846, 175.60882 -40.9...</td>\n",
       "      <td>0.000788</td>\n",
       "      <td>0.000592</td>\n",
       "    </tr>\n",
       "    <tr>\n",
       "      <th>1127</th>\n",
       "      <td>1127</td>\n",
       "      <td>Masterton, Subsection 2</td>\n",
       "      <td>65.0</td>\n",
       "      <td>-160.0</td>\n",
       "      <td>12.88</td>\n",
       "      <td>0.0</td>\n",
       "      <td>164.0</td>\n",
       "      <td>0.0</td>\n",
       "      <td>1.0</td>\n",
       "      <td>257</td>\n",
       "      <td>Masterton</td>\n",
       "      <td>POLYGON ((175.60882 -40.96057, 175.58770 -40.9...</td>\n",
       "      <td>0.000652</td>\n",
       "      <td>0.000530</td>\n",
       "    </tr>\n",
       "    <tr>\n",
       "      <th>1128</th>\n",
       "      <td>1128</td>\n",
       "      <td>Masterton, Subsection 3</td>\n",
       "      <td>65.0</td>\n",
       "      <td>-160.0</td>\n",
       "      <td>12.88</td>\n",
       "      <td>0.0</td>\n",
       "      <td>164.0</td>\n",
       "      <td>0.0</td>\n",
       "      <td>1.0</td>\n",
       "      <td>257</td>\n",
       "      <td>Masterton</td>\n",
       "      <td>POLYGON ((175.54348 -40.97084, 175.54080 -40.9...</td>\n",
       "      <td>0.000518</td>\n",
       "      <td>0.000468</td>\n",
       "    </tr>\n",
       "  </tbody>\n",
       "</table>\n",
       "</div>"
      ],
      "text/plain": [
       "      FaultID                FaultName  DipDeg   Rake  LowDepth  UpDepth  \\\n",
       "1125     1125  Masterton, Subsection 0    65.0 -160.0     12.88      0.0   \n",
       "1126     1126  Masterton, Subsection 1    65.0 -160.0     12.88      0.0   \n",
       "1127     1127  Masterton, Subsection 2    65.0 -160.0     12.88      0.0   \n",
       "1128     1128  Masterton, Subsection 3    65.0 -160.0     12.88      0.0   \n",
       "\n",
       "      DipDir  AseismicSlipFactor  CouplingCoeff  ParentID ParentName  \\\n",
       "1125   164.0                 0.0            1.0       257  Masterton   \n",
       "1126   164.0                 0.0            1.0       257  Masterton   \n",
       "1127   164.0                 0.0            1.0       257  Masterton   \n",
       "1128   164.0                 0.0            1.0       257  Masterton   \n",
       "\n",
       "                                               geometry  Target Slip Rate  \\\n",
       "1125  POLYGON ((175.73310 -40.92830, 175.72130 -40.9...          0.000652   \n",
       "1126  POLYGON ((175.66992 -40.93846, 175.60882 -40.9...          0.000788   \n",
       "1127  POLYGON ((175.60882 -40.96057, 175.58770 -40.9...          0.000652   \n",
       "1128  POLYGON ((175.54348 -40.97084, 175.54080 -40.9...          0.000518   \n",
       "\n",
       "      Target Slip Rate StdDev  \n",
       "1125                 0.000577  \n",
       "1126                 0.000592  \n",
       "1127                 0.000530  \n",
       "1128                 0.000468  "
      ]
     },
     "execution_count": 4,
     "metadata": {},
     "output_type": "execute_result"
    }
   ],
   "source": [
    "surfaces = sol.fault_surfaces()\n",
    "FAULT_NAME = \"Masterton\"\n",
    "aka_surface = surfaces[surfaces.ParentName==FAULT_NAME]\n",
    "\n",
    "# A fault near Tuakau having 2 subsections\n",
    "aka_surface # display the dataframe"
   ]
  },
  {
   "cell_type": "code",
   "execution_count": 5,
   "id": "f784713e-4063-4ced-9567-ac00231c8a8d",
   "metadata": {},
   "outputs": [
    {
     "data": {
      "application/geo+json": {
       "features": [
        {
         "geometry": {
          "coordinates": [
           [
            [
             175.7331,
             -40.9283
            ],
            [
             175.7213,
             -40.9359
            ],
            [
             175.7074,
             -40.9392
            ],
            [
             175.6712,
             -40.938
            ],
            [
             175.66991683704686,
             -40.93846475498719
            ],
            [
             175.6896409624809,
             -40.99038425888664
            ],
            [
             175.6909239864036,
             -40.989919503927
            ],
            [
             175.72712434538764,
             -40.99111950385589
            ],
            [
             175.74102335823375,
             -40.98781950405143
            ],
            [
             175.75282108541293,
             -40.98021950450167
            ],
            [
             175.7331,
             -40.9283
            ]
           ]
          ],
          "type": "Polygon"
         },
         "id": "1125",
         "properties": {
          "AseismicSlipFactor": 0,
          "CouplingCoeff": 1,
          "DipDeg": 65,
          "DipDir": 164,
          "FaultID": 1125,
          "FaultName": "Masterton, Subsection 0",
          "LowDepth": 12.880000000000003,
          "ParentID": 257,
          "ParentName": "Masterton",
          "Rake": -160,
          "Target Slip Rate": 0.0006525,
          "Target Slip Rate StdDev": 0.00057737,
          "UpDepth": 0
         },
         "type": "Feature"
        },
        {
         "geometry": {
          "coordinates": [
           [
            [
             175.66991683704686,
             -40.93846475498719
            ],
            [
             175.60881796773072,
             -40.96057042440613
            ],
            [
             175.62854870979223,
             -41.012489926995286
            ],
            [
             175.6896409624809,
             -40.99038425888664
            ],
            [
             175.66991683704686,
             -40.93846475498719
            ]
           ]
          ],
          "type": "Polygon"
         },
         "id": "1126",
         "properties": {
          "AseismicSlipFactor": 0,
          "CouplingCoeff": 1,
          "DipDeg": 65,
          "DipDir": 164,
          "FaultID": 1126,
          "FaultName": "Masterton, Subsection 1",
          "LowDepth": 12.880000000000003,
          "ParentID": 257,
          "ParentName": "Masterton",
          "Rake": -160,
          "Target Slip Rate": 0.0007875,
          "Target Slip Rate StdDev": 0.00059197,
          "UpDepth": 0
         },
         "type": "Feature"
        },
        {
         "geometry": {
          "coordinates": [
           [
            [
             175.60881796773072,
             -40.96057042440613
            ],
            [
             175.5877,
             -40.9682
            ],
            [
             175.54348275532178,
             -40.9708403543804
            ],
            [
             175.5632165738695,
             -41.02275985636053
            ],
            [
             175.6074330274443,
             -41.02011950213672
            ],
            [
             175.62854870979223,
             -41.012489926995286
            ],
            [
             175.60881796773072,
             -40.96057042440613
            ]
           ]
          ],
          "type": "Polygon"
         },
         "id": "1127",
         "properties": {
          "AseismicSlipFactor": 0,
          "CouplingCoeff": 1,
          "DipDeg": 65,
          "DipDir": 164,
          "FaultID": 1127,
          "FaultName": "Masterton, Subsection 2",
          "LowDepth": 12.880000000000003,
          "ParentID": 257,
          "ParentName": "Masterton",
          "Rake": -160,
          "Target Slip Rate": 0.0006525,
          "Target Slip Rate StdDev": 0.00053003,
          "UpDepth": 0
         },
         "type": "Feature"
        },
        {
         "geometry": {
          "coordinates": [
           [
            [
             175.54348275532178,
             -40.9708403543804
            ],
            [
             175.5408,
             -40.971
            ],
            [
             175.48280000000005,
             -40.99329999999999
            ],
            [
             175.5025405521713,
             -41.04521950064752
            ],
            [
             175.56053386638416,
             -41.02291950197065
            ],
            [
             175.5632165738695,
             -41.02275985636053
            ],
            [
             175.54348275532178,
             -40.9708403543804
            ]
           ]
          ],
          "type": "Polygon"
         },
         "id": "1128",
         "properties": {
          "AseismicSlipFactor": 0,
          "CouplingCoeff": 1,
          "DipDeg": 65,
          "DipDir": 164,
          "FaultID": 1128,
          "FaultName": "Masterton, Subsection 3",
          "LowDepth": 12.880000000000003,
          "ParentID": 257,
          "ParentName": "Masterton",
          "Rake": -160,
          "Target Slip Rate": 0.0005175000000000001,
          "Target Slip Rate StdDev": 0.0004681000000000001,
          "UpDepth": 0
         },
         "type": "Feature"
        }
       ],
       "type": "FeatureCollection"
      },
      "text/plain": [
       "<IPython.display.GeoJSON object>"
      ]
     },
     "metadata": {
      "application/geo+json": {
       "expanded": false,
       "root": "root"
      }
     },
     "output_type": "display_data"
    }
   ],
   "source": [
    "# dispaly to the two fault sections for \"Aka Aka\" parent fablt\n",
    "GeoJSON(json.loads(aka_surface.to_json()))"
   ]
  },
  {
   "cell_type": "code",
   "execution_count": 6,
   "id": "5511bc94-6f02-47de-8521-babaf148a806",
   "metadata": {},
   "outputs": [],
   "source": [
    "section_id = aka_surface.FaultID.unique().tolist()[-1]"
   ]
  },
  {
   "cell_type": "code",
   "execution_count": 7,
   "id": "05657f72-f05f-41f1-86ab-e4e163f3345e",
   "metadata": {},
   "outputs": [
    {
     "name": "stdout",
     "output_type": "stream",
     "text": [
      "participation rate for section 1128: 2.1576297513092868e-05 /yr\n"
     ]
    }
   ],
   "source": [
    "# get the participation rate for a single (sub)section\n",
    "\n",
    "# sec_id = 3 # the western Aka Aka \n",
    "rate = section_participation_rate(sol, section_id)\n",
    "print(f\"participation rate for section {section_id}: {rate} /yr\")\n"
   ]
  },
  {
   "cell_type": "code",
   "execution_count": 8,
   "id": "ec1400b6-e4ee-4ad6-8761-7d3015b90385",
   "metadata": {},
   "outputs": [],
   "source": [
    "## Ruptures involving subsection 3"
   ]
  },
  {
   "cell_type": "code",
   "execution_count": 9,
   "id": "fae8a8a5-b0a0-44fe-a89d-d341a73a7219",
   "metadata": {},
   "outputs": [
    {
     "data": {
      "text/plain": [
       "{273738, 287882, 287883, 287886, 287935}"
      ]
     },
     "execution_count": 9,
     "metadata": {},
     "output_type": "execute_result"
    }
   ],
   "source": [
    "fids = hlpr.fault_names_as_ids([FAULT_NAME])\n",
    "fids\n",
    "# hlpr.ruptures_for_parent_fault_names([FAULT_NAME])\n",
    "# len(hlpr.ruptures_for_faults(list(fids), True))\n",
    "subsection_ids = hlpr.subsections_for_faults(list(fids))\n",
    "\n",
    "df0 = sol.rupture_sections\n",
    "df0 = df0.join(sol.rupture_rates.set_index(\"Rupture Index\"), on='rupture', how='inner')[[\"Annual Rate\", \"rupture\", \"section\"]]\n",
    "df0 = df0[df0['Annual Rate'] >0]\n",
    "\n",
    "ids = df0[df0['section'].isin(list(subsection_ids))]['rupture'].tolist()\n",
    "set([int(id) for id in ids])\n",
    "\n",
    "### code from ruptures_for_faults"
   ]
  },
  {
   "cell_type": "code",
   "execution_count": 10,
   "id": "75fb6d51-90ed-4603-861e-a1cf5170054b",
   "metadata": {},
   "outputs": [
    {
     "data": {
      "text/html": [
       "<div>\n",
       "<style scoped>\n",
       "    .dataframe tbody tr th:only-of-type {\n",
       "        vertical-align: middle;\n",
       "    }\n",
       "\n",
       "    .dataframe tbody tr th {\n",
       "        vertical-align: top;\n",
       "    }\n",
       "\n",
       "    .dataframe thead th {\n",
       "        text-align: right;\n",
       "    }\n",
       "</style>\n",
       "<table border=\"1\" class=\"dataframe\">\n",
       "  <thead>\n",
       "    <tr style=\"text-align: right;\">\n",
       "      <th></th>\n",
       "      <th>key_0</th>\n",
       "      <th>Rupture Index</th>\n",
       "      <th>Annual Rate</th>\n",
       "      <th>Magnitude</th>\n",
       "      <th>Average Rake (degrees)</th>\n",
       "      <th>Area (m^2)</th>\n",
       "      <th>Length (m)</th>\n",
       "      <th>section</th>\n",
       "    </tr>\n",
       "  </thead>\n",
       "  <tbody>\n",
       "    <tr>\n",
       "      <th>0</th>\n",
       "      <td>0</td>\n",
       "      <td>0</td>\n",
       "      <td>0.0</td>\n",
       "      <td>7.061465</td>\n",
       "      <td>110.000000</td>\n",
       "      <td>7.268884e+08</td>\n",
       "      <td>23211.794922</td>\n",
       "      <td>0.0</td>\n",
       "    </tr>\n",
       "    <tr>\n",
       "      <th>0</th>\n",
       "      <td>0</td>\n",
       "      <td>0</td>\n",
       "      <td>0.0</td>\n",
       "      <td>7.061465</td>\n",
       "      <td>110.000000</td>\n",
       "      <td>7.268884e+08</td>\n",
       "      <td>23211.794922</td>\n",
       "      <td>1.0</td>\n",
       "    </tr>\n",
       "    <tr>\n",
       "      <th>1</th>\n",
       "      <td>1</td>\n",
       "      <td>1</td>\n",
       "      <td>0.0</td>\n",
       "      <td>7.467223</td>\n",
       "      <td>110.000000</td>\n",
       "      <td>1.850232e+09</td>\n",
       "      <td>55766.039062</td>\n",
       "      <td>0.0</td>\n",
       "    </tr>\n",
       "    <tr>\n",
       "      <th>1</th>\n",
       "      <td>1</td>\n",
       "      <td>1</td>\n",
       "      <td>0.0</td>\n",
       "      <td>7.467223</td>\n",
       "      <td>110.000000</td>\n",
       "      <td>1.850232e+09</td>\n",
       "      <td>55766.039062</td>\n",
       "      <td>1.0</td>\n",
       "    </tr>\n",
       "    <tr>\n",
       "      <th>1</th>\n",
       "      <td>1</td>\n",
       "      <td>1</td>\n",
       "      <td>0.0</td>\n",
       "      <td>7.467223</td>\n",
       "      <td>110.000000</td>\n",
       "      <td>1.850232e+09</td>\n",
       "      <td>55766.039062</td>\n",
       "      <td>1302.0</td>\n",
       "    </tr>\n",
       "    <tr>\n",
       "      <th>...</th>\n",
       "      <td>...</td>\n",
       "      <td>...</td>\n",
       "      <td>...</td>\n",
       "      <td>...</td>\n",
       "      <td>...</td>\n",
       "      <td>...</td>\n",
       "      <td>...</td>\n",
       "      <td>...</td>\n",
       "    </tr>\n",
       "    <tr>\n",
       "      <th>411269</th>\n",
       "      <td>411269</td>\n",
       "      <td>411269</td>\n",
       "      <td>0.0</td>\n",
       "      <td>7.742744</td>\n",
       "      <td>161.768158</td>\n",
       "      <td>3.489376e+09</td>\n",
       "      <td>169210.187500</td>\n",
       "      <td>2206.0</td>\n",
       "    </tr>\n",
       "    <tr>\n",
       "      <th>411269</th>\n",
       "      <td>411269</td>\n",
       "      <td>411269</td>\n",
       "      <td>0.0</td>\n",
       "      <td>7.742744</td>\n",
       "      <td>161.768158</td>\n",
       "      <td>3.489376e+09</td>\n",
       "      <td>169210.187500</td>\n",
       "      <td>2207.0</td>\n",
       "    </tr>\n",
       "    <tr>\n",
       "      <th>411269</th>\n",
       "      <td>411269</td>\n",
       "      <td>411269</td>\n",
       "      <td>0.0</td>\n",
       "      <td>7.742744</td>\n",
       "      <td>161.768158</td>\n",
       "      <td>3.489376e+09</td>\n",
       "      <td>169210.187500</td>\n",
       "      <td>2202.0</td>\n",
       "    </tr>\n",
       "    <tr>\n",
       "      <th>411269</th>\n",
       "      <td>411269</td>\n",
       "      <td>411269</td>\n",
       "      <td>0.0</td>\n",
       "      <td>7.742744</td>\n",
       "      <td>161.768158</td>\n",
       "      <td>3.489376e+09</td>\n",
       "      <td>169210.187500</td>\n",
       "      <td>2204.0</td>\n",
       "    </tr>\n",
       "    <tr>\n",
       "      <th>411269</th>\n",
       "      <td>411269</td>\n",
       "      <td>411269</td>\n",
       "      <td>0.0</td>\n",
       "      <td>7.742744</td>\n",
       "      <td>161.768158</td>\n",
       "      <td>3.489376e+09</td>\n",
       "      <td>169210.187500</td>\n",
       "      <td>2203.0</td>\n",
       "    </tr>\n",
       "  </tbody>\n",
       "</table>\n",
       "<p>19773517 rows × 8 columns</p>\n",
       "</div>"
      ],
      "text/plain": [
       "         key_0  Rupture Index  Annual Rate  Magnitude  Average Rake (degrees)  \\\n",
       "0            0              0          0.0   7.061465              110.000000   \n",
       "0            0              0          0.0   7.061465              110.000000   \n",
       "1            1              1          0.0   7.467223              110.000000   \n",
       "1            1              1          0.0   7.467223              110.000000   \n",
       "1            1              1          0.0   7.467223              110.000000   \n",
       "...        ...            ...          ...        ...                     ...   \n",
       "411269  411269         411269          0.0   7.742744              161.768158   \n",
       "411269  411269         411269          0.0   7.742744              161.768158   \n",
       "411269  411269         411269          0.0   7.742744              161.768158   \n",
       "411269  411269         411269          0.0   7.742744              161.768158   \n",
       "411269  411269         411269          0.0   7.742744              161.768158   \n",
       "\n",
       "          Area (m^2)     Length (m)  section  \n",
       "0       7.268884e+08   23211.794922      0.0  \n",
       "0       7.268884e+08   23211.794922      1.0  \n",
       "1       1.850232e+09   55766.039062      0.0  \n",
       "1       1.850232e+09   55766.039062      1.0  \n",
       "1       1.850232e+09   55766.039062   1302.0  \n",
       "...              ...            ...      ...  \n",
       "411269  3.489376e+09  169210.187500   2206.0  \n",
       "411269  3.489376e+09  169210.187500   2207.0  \n",
       "411269  3.489376e+09  169210.187500   2202.0  \n",
       "411269  3.489376e+09  169210.187500   2204.0  \n",
       "411269  3.489376e+09  169210.187500   2203.0  \n",
       "\n",
       "[19773517 rows x 8 columns]"
      ]
     },
     "execution_count": 10,
     "metadata": {},
     "output_type": "execute_result"
    }
   ],
   "source": [
    "sol.rs_with_rupture_rates # this is returning a list of fault sections, joined to ruptures , including ruptures with 0 rates"
   ]
  },
  {
   "cell_type": "code",
   "execution_count": 11,
   "id": "6348d7fb-50a2-4e44-9db7-d8403bacfda0",
   "metadata": {},
   "outputs": [
    {
     "name": "stdout",
     "output_type": "stream",
     "text": [
      "        Rupture Index  Annual Rate\n",
      "0                   0          0.0\n",
      "1                   1          0.0\n",
      "2                   2          0.0\n",
      "3                   3          0.0\n",
      "4                   4          0.0\n",
      "...               ...          ...\n",
      "411265         411265          0.0\n",
      "411266         411266          0.0\n",
      "411267         411267          0.0\n",
      "411268         411268          0.0\n",
      "411269         411269          0.0\n",
      "\n",
      "[411270 rows x 2 columns]\n"
     ]
    },
    {
     "data": {
      "text/plain": [
       "{273738, 287882, 287883, 287886, 287935}"
      ]
     },
     "execution_count": 11,
     "metadata": {},
     "output_type": "execute_result"
    }
   ],
   "source": [
    "\n",
    "aka_ruptures = hlpr.ruptures_for_parent_fault_names([FAULT_NAME])\n",
    "aka_ruptures"
   ]
  },
  {
   "cell_type": "code",
   "execution_count": 12,
   "id": "d13a1355-4e57-43db-9b99-9da434a9fc8a",
   "metadata": {},
   "outputs": [
    {
     "data": {
      "text/html": [
       "<div>\n",
       "<style scoped>\n",
       "    .dataframe tbody tr th:only-of-type {\n",
       "        vertical-align: middle;\n",
       "    }\n",
       "\n",
       "    .dataframe tbody tr th {\n",
       "        vertical-align: top;\n",
       "    }\n",
       "\n",
       "    .dataframe thead th {\n",
       "        text-align: right;\n",
       "    }\n",
       "</style>\n",
       "<table border=\"1\" class=\"dataframe\">\n",
       "  <thead>\n",
       "    <tr style=\"text-align: right;\">\n",
       "      <th></th>\n",
       "      <th>Rupture Index</th>\n",
       "      <th>Annual Rate</th>\n",
       "    </tr>\n",
       "  </thead>\n",
       "  <tbody>\n",
       "    <tr>\n",
       "      <th>273738</th>\n",
       "      <td>273738</td>\n",
       "      <td>0.000022</td>\n",
       "    </tr>\n",
       "    <tr>\n",
       "      <th>287882</th>\n",
       "      <td>287882</td>\n",
       "      <td>0.000062</td>\n",
       "    </tr>\n",
       "    <tr>\n",
       "      <th>287883</th>\n",
       "      <td>287883</td>\n",
       "      <td>0.000062</td>\n",
       "    </tr>\n",
       "    <tr>\n",
       "      <th>287886</th>\n",
       "      <td>287886</td>\n",
       "      <td>0.000008</td>\n",
       "    </tr>\n",
       "    <tr>\n",
       "      <th>287935</th>\n",
       "      <td>287935</td>\n",
       "      <td>0.000002</td>\n",
       "    </tr>\n",
       "  </tbody>\n",
       "</table>\n",
       "</div>"
      ],
      "text/plain": [
       "        Rupture Index  Annual Rate\n",
       "273738         273738     0.000022\n",
       "287882         287882     0.000062\n",
       "287883         287883     0.000062\n",
       "287886         287886     0.000008\n",
       "287935         287935     0.000002"
      ]
     },
     "execution_count": 12,
     "metadata": {},
     "output_type": "execute_result"
    }
   ],
   "source": [
    "# rates for the Aka Ruptures\n",
    "df = sol.ruptures_with_rupture_rates[[\"Rupture Index\", \"Annual Rate\"]]\n",
    "df1 = df[df[\"Rupture Index\"].isin(list(aka_ruptures))]\n",
    "df1\n",
    "# df1[df1[\"Annual Rate\"] > 0]"
   ]
  },
  {
   "cell_type": "code",
   "execution_count": 13,
   "id": "6095c062-00e2-4250-8113-0a5a3864066a",
   "metadata": {},
   "outputs": [
    {
     "name": "stdout",
     "output_type": "stream",
     "text": [
      "        Rupture Index  Annual Rate\n",
      "0                   0          0.0\n",
      "1                   1          0.0\n",
      "2                   2          0.0\n",
      "3                   3          0.0\n",
      "4                   4          0.0\n",
      "...               ...          ...\n",
      "411265         411265          0.0\n",
      "411266         411266          0.0\n",
      "411267         411267          0.0\n",
      "411268         411268          0.0\n",
      "411269         411269          0.0\n",
      "\n",
      "[411270 rows x 2 columns]\n"
     ]
    },
    {
     "data": {
      "text/plain": [
       "{273738, 287882, 287883, 287886, 287935}"
      ]
     },
     "execution_count": 13,
     "metadata": {},
     "output_type": "execute_result"
    }
   ],
   "source": [
    "hlpr.ruptures_for_parent_fault_names([FAULT_NAME])"
   ]
  },
  {
   "cell_type": "markdown",
   "id": "22dc9ec0-9113-49c3-843f-a4b61361832a",
   "metadata": {},
   "source": [
    "Note that only one of the 5 ruptures has annual Rate. And this rate equals the ***participation rate for fault Aka Aka:*** **0.000049**"
   ]
  },
  {
   "cell_type": "code",
   "execution_count": 14,
   "id": "d484d7df-dc7f-4663-8f64-99901aa44512",
   "metadata": {},
   "outputs": [],
   "source": [
    "# let's inspect that rupture"
   ]
  },
  {
   "cell_type": "code",
   "execution_count": 15,
   "id": "6a4d30e1-f0fb-4650-a2c3-b97f9210998a",
   "metadata": {},
   "outputs": [
    {
     "data": {
      "text/html": [
       "<div>\n",
       "<style scoped>\n",
       "    .dataframe tbody tr th:only-of-type {\n",
       "        vertical-align: middle;\n",
       "    }\n",
       "\n",
       "    .dataframe tbody tr th {\n",
       "        vertical-align: top;\n",
       "    }\n",
       "\n",
       "    .dataframe thead th {\n",
       "        text-align: right;\n",
       "    }\n",
       "</style>\n",
       "<table border=\"1\" class=\"dataframe\">\n",
       "  <thead>\n",
       "    <tr style=\"text-align: right;\">\n",
       "      <th></th>\n",
       "      <th>FaultID</th>\n",
       "      <th>FaultName</th>\n",
       "      <th>DipDeg</th>\n",
       "      <th>Rake</th>\n",
       "      <th>LowDepth</th>\n",
       "      <th>UpDepth</th>\n",
       "      <th>DipDir</th>\n",
       "      <th>AseismicSlipFactor</th>\n",
       "      <th>CouplingCoeff</th>\n",
       "      <th>ParentID</th>\n",
       "      <th>ParentName</th>\n",
       "      <th>geometry</th>\n",
       "      <th>Target Slip Rate</th>\n",
       "      <th>Target Slip Rate StdDev</th>\n",
       "    </tr>\n",
       "  </thead>\n",
       "  <tbody>\n",
       "    <tr>\n",
       "      <th>3</th>\n",
       "      <td>3</td>\n",
       "      <td>Aka Aka, Subsection 0</td>\n",
       "      <td>65.0</td>\n",
       "      <td>-90.0</td>\n",
       "      <td>18.56</td>\n",
       "      <td>0.0</td>\n",
       "      <td>160.7</td>\n",
       "      <td>0.0</td>\n",
       "      <td>1.0</td>\n",
       "      <td>1</td>\n",
       "      <td>Aka Aka</td>\n",
       "      <td>POLYGON ((174.82840 -37.26050, 174.84940 -37.2...</td>\n",
       "      <td>0.000266</td>\n",
       "      <td>0.000065</td>\n",
       "    </tr>\n",
       "    <tr>\n",
       "      <th>4</th>\n",
       "      <td>4</td>\n",
       "      <td>Aka Aka, Subsection 1</td>\n",
       "      <td>65.0</td>\n",
       "      <td>-90.0</td>\n",
       "      <td>18.56</td>\n",
       "      <td>0.0</td>\n",
       "      <td>160.7</td>\n",
       "      <td>0.0</td>\n",
       "      <td>1.0</td>\n",
       "      <td>1</td>\n",
       "      <td>Aka Aka</td>\n",
       "      <td>POLYGON ((174.87485 -37.25035, 174.88430 -37.2...</td>\n",
       "      <td>0.000266</td>\n",
       "      <td>0.000065</td>\n",
       "    </tr>\n",
       "    <tr>\n",
       "      <th>920</th>\n",
       "      <td>920</td>\n",
       "      <td>Kerepehi Offshore, Subsection 0</td>\n",
       "      <td>60.0</td>\n",
       "      <td>-110.0</td>\n",
       "      <td>17.84</td>\n",
       "      <td>0.0</td>\n",
       "      <td>259.9</td>\n",
       "      <td>0.0</td>\n",
       "      <td>1.0</td>\n",
       "      <td>201</td>\n",
       "      <td>Kerepehi Offshore</td>\n",
       "      <td>POLYGON ((175.45010 -37.21200, 175.43309 -37.1...</td>\n",
       "      <td>0.000567</td>\n",
       "      <td>0.000210</td>\n",
       "    </tr>\n",
       "    <tr>\n",
       "      <th>921</th>\n",
       "      <td>921</td>\n",
       "      <td>Kerepehi Offshore, Subsection 1</td>\n",
       "      <td>60.0</td>\n",
       "      <td>-110.0</td>\n",
       "      <td>17.84</td>\n",
       "      <td>0.0</td>\n",
       "      <td>259.9</td>\n",
       "      <td>0.0</td>\n",
       "      <td>1.0</td>\n",
       "      <td>201</td>\n",
       "      <td>Kerepehi Offshore</td>\n",
       "      <td>POLYGON ((175.43309 -37.14560, 175.41610 -37.0...</td>\n",
       "      <td>0.000693</td>\n",
       "      <td>0.000210</td>\n",
       "    </tr>\n",
       "    <tr>\n",
       "      <th>1102</th>\n",
       "      <td>1102</td>\n",
       "      <td>Mangatangi, Subsection 0</td>\n",
       "      <td>65.0</td>\n",
       "      <td>-90.0</td>\n",
       "      <td>17.84</td>\n",
       "      <td>0.0</td>\n",
       "      <td>130.0</td>\n",
       "      <td>0.0</td>\n",
       "      <td>1.0</td>\n",
       "      <td>249</td>\n",
       "      <td>Mangatangi</td>\n",
       "      <td>POLYGON ((175.14500 -37.21930, 175.16290 -37.2...</td>\n",
       "      <td>0.000986</td>\n",
       "      <td>0.000284</td>\n",
       "    </tr>\n",
       "    <tr>\n",
       "      <th>1103</th>\n",
       "      <td>1103</td>\n",
       "      <td>Mangatangi, Subsection 1</td>\n",
       "      <td>65.0</td>\n",
       "      <td>-90.0</td>\n",
       "      <td>17.84</td>\n",
       "      <td>0.0</td>\n",
       "      <td>130.0</td>\n",
       "      <td>0.0</td>\n",
       "      <td>1.0</td>\n",
       "      <td>249</td>\n",
       "      <td>Mangatangi</td>\n",
       "      <td>POLYGON ((175.19411 -37.15446, 175.20100 -37.1...</td>\n",
       "      <td>0.000418</td>\n",
       "      <td>0.000226</td>\n",
       "    </tr>\n",
       "    <tr>\n",
       "      <th>1574</th>\n",
       "      <td>1574</td>\n",
       "      <td>Pokeno, Subsection 0</td>\n",
       "      <td>65.0</td>\n",
       "      <td>-90.0</td>\n",
       "      <td>18.08</td>\n",
       "      <td>0.0</td>\n",
       "      <td>157.5</td>\n",
       "      <td>0.0</td>\n",
       "      <td>1.0</td>\n",
       "      <td>365</td>\n",
       "      <td>Pokeno</td>\n",
       "      <td>POLYGON ((175.13130 -37.19540, 175.11120 -37.1...</td>\n",
       "      <td>0.000423</td>\n",
       "      <td>0.000181</td>\n",
       "    </tr>\n",
       "    <tr>\n",
       "      <th>1575</th>\n",
       "      <td>1575</td>\n",
       "      <td>Pokeno, Subsection 1</td>\n",
       "      <td>65.0</td>\n",
       "      <td>-90.0</td>\n",
       "      <td>18.08</td>\n",
       "      <td>0.0</td>\n",
       "      <td>157.5</td>\n",
       "      <td>0.0</td>\n",
       "      <td>1.0</td>\n",
       "      <td>365</td>\n",
       "      <td>Pokeno</td>\n",
       "      <td>POLYGON ((175.02669 -37.22123, 175.01350 -37.2...</td>\n",
       "      <td>0.000441</td>\n",
       "      <td>0.000257</td>\n",
       "    </tr>\n",
       "  </tbody>\n",
       "</table>\n",
       "</div>"
      ],
      "text/plain": [
       "      FaultID                        FaultName  DipDeg   Rake  LowDepth  \\\n",
       "3           3            Aka Aka, Subsection 0    65.0  -90.0     18.56   \n",
       "4           4            Aka Aka, Subsection 1    65.0  -90.0     18.56   \n",
       "920       920  Kerepehi Offshore, Subsection 0    60.0 -110.0     17.84   \n",
       "921       921  Kerepehi Offshore, Subsection 1    60.0 -110.0     17.84   \n",
       "1102     1102         Mangatangi, Subsection 0    65.0  -90.0     17.84   \n",
       "1103     1103         Mangatangi, Subsection 1    65.0  -90.0     17.84   \n",
       "1574     1574             Pokeno, Subsection 0    65.0  -90.0     18.08   \n",
       "1575     1575             Pokeno, Subsection 1    65.0  -90.0     18.08   \n",
       "\n",
       "      UpDepth  DipDir  AseismicSlipFactor  CouplingCoeff  ParentID  \\\n",
       "3         0.0   160.7                 0.0            1.0         1   \n",
       "4         0.0   160.7                 0.0            1.0         1   \n",
       "920       0.0   259.9                 0.0            1.0       201   \n",
       "921       0.0   259.9                 0.0            1.0       201   \n",
       "1102      0.0   130.0                 0.0            1.0       249   \n",
       "1103      0.0   130.0                 0.0            1.0       249   \n",
       "1574      0.0   157.5                 0.0            1.0       365   \n",
       "1575      0.0   157.5                 0.0            1.0       365   \n",
       "\n",
       "             ParentName                                           geometry  \\\n",
       "3               Aka Aka  POLYGON ((174.82840 -37.26050, 174.84940 -37.2...   \n",
       "4               Aka Aka  POLYGON ((174.87485 -37.25035, 174.88430 -37.2...   \n",
       "920   Kerepehi Offshore  POLYGON ((175.45010 -37.21200, 175.43309 -37.1...   \n",
       "921   Kerepehi Offshore  POLYGON ((175.43309 -37.14560, 175.41610 -37.0...   \n",
       "1102         Mangatangi  POLYGON ((175.14500 -37.21930, 175.16290 -37.2...   \n",
       "1103         Mangatangi  POLYGON ((175.19411 -37.15446, 175.20100 -37.1...   \n",
       "1574             Pokeno  POLYGON ((175.13130 -37.19540, 175.11120 -37.1...   \n",
       "1575             Pokeno  POLYGON ((175.02669 -37.22123, 175.01350 -37.2...   \n",
       "\n",
       "      Target Slip Rate  Target Slip Rate StdDev  \n",
       "3             0.000266                 0.000065  \n",
       "4             0.000266                 0.000065  \n",
       "920           0.000567                 0.000210  \n",
       "921           0.000693                 0.000210  \n",
       "1102          0.000986                 0.000284  \n",
       "1103          0.000418                 0.000226  \n",
       "1574          0.000423                 0.000181  \n",
       "1575          0.000441                 0.000257  "
      ]
     },
     "execution_count": 15,
     "metadata": {},
     "output_type": "execute_result"
    }
   ],
   "source": [
    "sects = hlpr.subsections_for_ruptures([9])\n",
    "rupt9_surface = surfaces[surfaces.FaultID.isin(sects)]\n",
    "rupt9_surface"
   ]
  },
  {
   "cell_type": "code",
   "execution_count": 16,
   "id": "56187de3-1d9e-41a1-96bd-af01df726d1f",
   "metadata": {},
   "outputs": [
    {
     "data": {
      "application/geo+json": {
       "features": [
        {
         "geometry": {
          "coordinates": [
           [
            [
             174.8284,
             -37.2605
            ],
            [
             174.8494,
             -37.2555
            ],
            [
             174.8688,
             -37.2523
            ],
            [
             174.8748529786847,
             -37.25034774563085
            ],
            [
             174.90720244482776,
             -37.32380242434063
            ],
            [
             174.90115030659854,
             -37.3257546783986
            ],
            [
             174.88175168439054,
             -37.328954677888504
            ],
            [
             174.8607538376275,
             -37.333954677091405
            ],
            [
             174.8284,
             -37.2605
            ]
           ]
          ],
          "type": "Polygon"
         },
         "id": "3",
         "properties": {
          "AseismicSlipFactor": 0,
          "CouplingCoeff": 1,
          "DipDeg": 65,
          "DipDir": 160.7,
          "FaultID": 3,
          "FaultName": "Aka Aka, Subsection 0",
          "LowDepth": 18.56,
          "ParentID": 1,
          "ParentName": "Aka Aka",
          "Rake": -90,
          "Target Slip Rate": 0.0002655,
          "Target Slip Rate StdDev": 6.518000000000001e-05,
          "UpDepth": 0
         },
         "type": "Feature"
        },
        {
         "geometry": {
          "coordinates": [
           [
            [
             174.8748529786847,
             -37.25034774563085
            ],
            [
             174.8843,
             -37.2473
            ],
            [
             174.8938,
             -37.239
            ],
            [
             174.9173,
             -37.2353
            ],
            [
             174.9496429907373,
             -37.30875468110776
            ],
            [
             174.92614458248883,
             -37.31245468051821
            ],
            [
             174.91664815423547,
             -37.320754679195545
            ],
            [
             174.90720244482776,
             -37.32380242434063
            ],
            [
             174.8748529786847,
             -37.25034774563085
            ]
           ]
          ],
          "type": "Polygon"
         },
         "id": "4",
         "properties": {
          "AseismicSlipFactor": 0,
          "CouplingCoeff": 1,
          "DipDeg": 65,
          "DipDir": 160.7,
          "FaultID": 4,
          "FaultName": "Aka Aka, Subsection 1",
          "LowDepth": 18.56,
          "ParentID": 1,
          "ParentName": "Aka Aka",
          "Rake": -90,
          "Target Slip Rate": 0.0002655,
          "Target Slip Rate StdDev": 6.518000000000001e-05,
          "UpDepth": 0
         },
         "type": "Feature"
        },
        {
         "geometry": {
          "coordinates": [
           [
            [
             175.4501,
             -37.212
            ],
            [
             175.43308507537145,
             -37.14560121390134
            ],
            [
             175.31865394062166,
             -37.16179032855175
            ],
            [
             175.33556818157942,
             -37.228188982107966
            ],
            [
             175.4501,
             -37.212
            ]
           ]
          ],
          "type": "Polygon"
         },
         "id": "920",
         "properties": {
          "AseismicSlipFactor": 0,
          "CouplingCoeff": 1,
          "DipDeg": 60,
          "DipDir": 259.9,
          "FaultID": 920,
          "FaultName": "Kerepehi Offshore, Subsection 0",
          "LowDepth": 17.84,
          "ParentID": 201,
          "ParentName": "Kerepehi Offshore",
          "Rake": -110,
          "Target Slip Rate": 0.000567,
          "Target Slip Rate StdDev": 0.00020987,
          "UpDepth": 0
         },
         "type": "Feature"
        },
        {
         "geometry": {
          "coordinates": [
           [
            [
             175.43308507537145,
             -37.14560121390134
            ],
            [
             175.4161,
             -37.07920000000001
            ],
            [
             175.30176922230962,
             -37.095389246965055
            ],
            [
             175.31865394062166,
             -37.16179032855175
            ],
            [
             175.43308507537145,
             -37.14560121390134
            ]
           ]
          ],
          "type": "Polygon"
         },
         "id": "921",
         "properties": {
          "AseismicSlipFactor": 0,
          "CouplingCoeff": 1,
          "DipDeg": 60,
          "DipDir": 259.9,
          "FaultID": 921,
          "FaultName": "Kerepehi Offshore, Subsection 1",
          "LowDepth": 17.84,
          "ParentID": 201,
          "ParentName": "Kerepehi Offshore",
          "Rake": -110,
          "Target Slip Rate": 0.000693,
          "Target Slip Rate StdDev": 0.00021023,
          "UpDepth": 0
         },
         "type": "Feature"
        },
        {
         "geometry": {
          "coordinates": [
           [
            [
             175.145,
             -37.2193
            ],
            [
             175.1629,
             -37.2092
            ],
            [
             175.1804,
             -37.1843
            ],
            [
             175.1901,
             -37.1595
            ],
            [
             175.1941117608825,
             -37.15445838844542
            ],
            [
             175.2660646659674,
             -37.20252605425871
            ],
            [
             175.26205771186574,
             -37.20756766183753
            ],
            [
             175.25238137418725,
             -37.23236764227283
            ],
            [
             175.23490516115936,
             -37.25726762261625
            ],
            [
             175.21701481805073,
             -37.26736761463938
            ],
            [
             175.145,
             -37.2193
            ]
           ]
          ],
          "type": "Polygon"
         },
         "id": "1102",
         "properties": {
          "AseismicSlipFactor": 0,
          "CouplingCoeff": 1,
          "DipDeg": 65,
          "DipDir": 130,
          "FaultID": 1102,
          "FaultName": "Mangatangi, Subsection 0",
          "LowDepth": 17.84,
          "ParentID": 249,
          "ParentName": "Mangatangi",
          "Rake": -90,
          "Target Slip Rate": 0.0009855,
          "Target Slip Rate StdDev": 0.00028412,
          "UpDepth": 0
         },
         "type": "Feature"
        },
        {
         "geometry": {
          "coordinates": [
           [
            [
             175.1941117608825,
             -37.15445838844542
            ],
            [
             175.201,
             -37.1458
            ],
            [
             175.2347,
             -37.1227
            ],
            [
             175.2469,
             -37.1171
            ],
            [
             175.272,
             -37.1106
            ],
            [
             175.3439111401118,
             -37.15866770037713
            ],
            [
             175.31881732413865,
             -37.16516769525716
            ],
            [
             175.30662265351086,
             -37.17076769084539
            ],
            [
             175.2729446527892,
             -37.19386767263995
            ],
            [
             175.2660646659674,
             -37.20252605425871
            ],
            [
             175.1941117608825,
             -37.15445838844542
            ]
           ]
          ],
          "type": "Polygon"
         },
         "id": "1103",
         "properties": {
          "AseismicSlipFactor": 0,
          "CouplingCoeff": 1,
          "DipDeg": 65,
          "DipDir": 130,
          "FaultID": 1103,
          "FaultName": "Mangatangi, Subsection 1",
          "LowDepth": 17.84,
          "ParentID": 249,
          "ParentName": "Mangatangi",
          "Rake": -90,
          "Target Slip Rate": 0.0004185,
          "Target Slip Rate StdDev": 0.00022648,
          "UpDepth": 0
         },
         "type": "Feature"
        },
        {
         "geometry": {
          "coordinates": [
           [
            [
             175.1313,
             -37.1954
            ],
            [
             175.1112,
             -37.196
            ],
            [
             175.0721,
             -37.2118
            ],
            [
             175.0336,
             -37.2191
            ],
            [
             175.02668777454195,
             -37.22123262742281
            ],
            [
             175.06315888610467,
             -37.29127586369586
            ],
            [
             175.07007007780248,
             -37.28914323670508
            ],
            [
             175.1085665400593,
             -37.28184323818378
            ],
            [
             175.14765888740234,
             -37.266043241383265
            ],
            [
             175.16775859691307,
             -37.26544324150474
            ],
            [
             175.1313,
             -37.1954
            ]
           ]
          ],
          "type": "Polygon"
         },
         "id": "1574",
         "properties": {
          "AseismicSlipFactor": 0,
          "CouplingCoeff": 1,
          "DipDeg": 65,
          "DipDir": 157.5,
          "FaultID": 1574,
          "FaultName": "Pokeno, Subsection 0",
          "LowDepth": 18.080000000000002,
          "ParentID": 365,
          "ParentName": "Pokeno",
          "Rake": -90,
          "Target Slip Rate": 0.000423,
          "Target Slip Rate StdDev": 0.00018133,
          "UpDepth": 0
         },
         "type": "Feature"
        },
        {
         "geometry": {
          "coordinates": [
           [
            [
             175.02668777454195,
             -37.22123262742281
            ],
            [
             175.0135,
             -37.2253
            ],
            [
             174.9986,
             -37.2319
            ],
            [
             174.9812,
             -37.2429
            ],
            [
             174.9562,
             -37.253
            ],
            [
             174.932,
             -37.2665
            ],
            [
             174.96849308002888,
             -37.336543227096705
            ],
            [
             174.99268652326379,
             -37.32304322983451
            ],
            [
             175.01768162069686,
             -37.31294323188214
            ],
            [
             175.03507628405546,
             -37.30194323411162
            ],
            [
             175.04997308346518,
             -37.29534323544898
            ],
            [
             175.06315888610467,
             -37.29127586369586
            ],
            [
             175.02668777454195,
             -37.22123262742281
            ]
           ]
          ],
          "type": "Polygon"
         },
         "id": "1575",
         "properties": {
          "AseismicSlipFactor": 0,
          "CouplingCoeff": 1,
          "DipDeg": 65,
          "DipDir": 157.5,
          "FaultID": 1575,
          "FaultName": "Pokeno, Subsection 1",
          "LowDepth": 18.080000000000002,
          "ParentID": 365,
          "ParentName": "Pokeno",
          "Rake": -90,
          "Target Slip Rate": 0.000441,
          "Target Slip Rate StdDev": 0.0002573,
          "UpDepth": 0
         },
         "type": "Feature"
        }
       ],
       "type": "FeatureCollection"
      },
      "text/plain": [
       "<IPython.display.GeoJSON object>"
      ]
     },
     "metadata": {
      "application/geo+json": {
       "expanded": false,
       "root": "root"
      }
     },
     "output_type": "display_data"
    }
   ],
   "source": [
    "GeoJSON(json.loads(rupt9_surface.to_json()))"
   ]
  },
  {
   "cell_type": "code",
   "execution_count": 21,
   "id": "dc6e40d2-aa67-4585-8d07-57cf3ca1be56",
   "metadata": {},
   "outputs": [
    {
     "name": "stdout",
     "output_type": "stream",
     "text": [
      "        Rupture Index  Annual Rate\n",
      "0                   0          0.0\n",
      "1                   1          0.0\n",
      "2                   2          0.0\n",
      "3                   3          0.0\n",
      "4                   4          0.0\n",
      "...               ...          ...\n",
      "411265         411265          0.0\n",
      "411266         411266          0.0\n",
      "411267         411267          0.0\n",
      "411268         411268          0.0\n",
      "411269         411269          0.0\n",
      "\n",
      "[411270 rows x 2 columns]\n",
      "\n",
      "participation rate for fault 'Masterton': 0.00015440158313140273 /yr\n"
     ]
    }
   ],
   "source": [
    "rate = fault_participation_rate(sol, FAULT_NAME)\n",
    "print()\n",
    "print(f\"participation rate for fault '{FAULT_NAME}' = {rate} events/yr\")\n"
   ]
  },
  {
   "cell_type": "code",
   "execution_count": 18,
   "id": "9e329836-538d-4425-8bba-68b5e4a6575b",
   "metadata": {},
   "outputs": [],
   "source": [
    "## Participation demos"
   ]
  },
  {
   "cell_type": "code",
   "execution_count": 19,
   "id": "a6f9b696-c629-4611-aaac-29673d0a10a5",
   "metadata": {},
   "outputs": [
    {
     "name": "stdout",
     "output_type": "stream",
     "text": [
      "section participation rates\n",
      "section\n",
      "0.0       0.000000\n",
      "1.0       0.000000\n",
      "2.0       0.000000\n",
      "3.0       0.000049\n",
      "4.0       0.000049\n",
      "            ...   \n",
      "2320.0    0.000000\n",
      "2321.0    0.000007\n",
      "2322.0    0.000007\n",
      "2323.0    0.000000\n",
      "2324.0    0.000000\n",
      "Name: Annual Rate, Length: 2325, dtype: float32\n"
     ]
    }
   ],
   "source": [
    "# All the subections in the solution\n",
    "section_rates = sol.rs_with_rupture_rates.groupby(\"section\").agg('sum')[\"Annual Rate\"]\n",
    "print(\"section participation rates\")\n",
    "print(section_rates)"
   ]
  },
  {
   "cell_type": "code",
   "execution_count": 20,
   "id": "71a61794-7bc9-46c2-b030-15faf25380d1",
   "metadata": {},
   "outputs": [
    {
     "data": {
      "text/plain": [
       "ParentName\n",
       "Masterton    0.000176\n",
       "Name: Annual Rate, dtype: float32"
      ]
     },
     "execution_count": 20,
     "metadata": {},
     "output_type": "execute_result"
    }
   ],
   "source": [
    "df0 = sol.fault_sections_with_rupture_rates[[\"Annual Rate\", \"ParentName\"]]\n",
    "df1 = df0.groupby(\"ParentName\").agg(\"sum\")[\"Annual Rate\"]\n",
    "df1.filter(like=FAULT_NAME)"
   ]
  }
 ],
 "metadata": {
  "kernelspec": {
   "display_name": "Python 3 (ipykernel)",
   "language": "python",
   "name": "python3"
  },
  "language_info": {
   "codemirror_mode": {
    "name": "ipython",
    "version": 3
   },
   "file_extension": ".py",
   "mimetype": "text/x-python",
   "name": "python",
   "nbconvert_exporter": "python",
   "pygments_lexer": "ipython3",
   "version": "3.11.6"
  }
 },
 "nbformat": 4,
 "nbformat_minor": 5
}
