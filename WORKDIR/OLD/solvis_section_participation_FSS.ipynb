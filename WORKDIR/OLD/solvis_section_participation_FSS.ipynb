{
 "cells": [
  {
   "cell_type": "markdown",
   "id": "82c2af9b-c9fe-48db-8c91-0387125ce672",
   "metadata": {
    "editable": true,
    "slideshow": {
     "slide_type": ""
    },
    "tags": []
   },
   "source": [
    "# Sub-section participation using a NSHM Composite Solution \n",
    "\n",
    "exactly what Weka/Kororaa do in current Rupture Explorer"
   ]
  },
  {
   "cell_type": "markdown",
   "id": "5bf90f20-a41b-4ae2-a137-37af986903c0",
   "metadata": {},
   "source": [
    "  "
   ]
  },
  {
   "cell_type": "code",
   "execution_count": 247,
   "id": "8ed96b93-fadf-42a5-a8df-7b0afc563b50",
   "metadata": {},
   "outputs": [],
   "source": [
    "#import pathlib\n",
    "import json\n",
    "import nzshm_model as nm\n",
    "import geopandas as gpd\n",
    "import solvis\n",
    "\n",
    "from solvis.fault_system_solution_helper import FaultSystemSolutionHelper\n",
    "from solvis_graphql_api.color_scale import ColourScaleNormaliseEnum, get_colour_values\n",
    "from ipyleaflet import Map, GeoJSON"
   ]
  },
  {
   "cell_type": "code",
   "execution_count": null,
   "id": "d6eec080-f7b9-441f-a3bc-50991f675b7b",
   "metadata": {},
   "outputs": [],
   "source": []
  },
  {
   "cell_type": "code",
   "execution_count": 258,
   "id": "7ae29bed-3458-428f-875d-551c848387a7",
   "metadata": {},
   "outputs": [],
   "source": [
    "# load the composite_solution and shoose the Cruslal FaultSystemSolution\n",
    "current_model = nm.get_model_version(\"NSHM_v1.0.4\")\n",
    "slt = current_model.source_logic_tree\n",
    "csol = solvis.CompositeSolution.from_archive(\"NSHM_v1.0.4_CompositeSolution.zip\", slt)\n",
    "fss = csol._solutions['CRU']\n",
    "\n",
    "helper = FaultSystemSolutionHelper(fss)"
   ]
  },
  {
   "cell_type": "markdown",
   "id": "e0712d4e-ee44-4d25-9fbc-c589ffeb58b7",
   "metadata": {},
   "source": [
    "## Choose some faults and get their unique rupture IDs"
   ]
  },
  {
   "cell_type": "code",
   "execution_count": 273,
   "id": "848518de-d6e8-4732-9943-0800cb97cbd4",
   "metadata": {},
   "outputs": [],
   "source": [
    "# get ruptures passing through named parent fault(s)\n",
    "TARGET_FAULTS = ['Wellington Hutt Valley: 1', 'Wellington Hutt Valley: 2', 'Wairarapa: 1'] #, 'Pokeno', 'BooBoo', 'Masterton'\n",
    "\n",
    "ruptures = helper.ruptures_for_parent_fault_names(TARGET_FAULTS) # \n",
    "df0 = fss.rs_with_rupture_rates\n",
    "rupture_sections_df = df0[df0[\"Rupture Index\"].isin(ruptures)]"
   ]
  },
  {
   "cell_type": "code",
   "execution_count": 274,
   "id": "e81622dd-fe97-4dab-8e76-a6b617c10db4",
   "metadata": {
    "editable": true,
    "slideshow": {
     "slide_type": ""
    },
    "tags": []
   },
   "outputs": [],
   "source": [
    "## post-helper approach\n",
    "subsections = helper.subsections_for_ruptures(ruptures)\n",
    "section_rates = fss.rs_with_rupture_rates[[\"Rupture Index\", \"section\", \"rate_weighted_mean\"]]\\\n",
    "    .groupby(\"section\").agg('sum')[\"rate_weighted_mean\"]\n",
    "mro_sections_rates = section_rates[section_rates.index.isin(subsections)]"
   ]
  },
  {
   "cell_type": "code",
   "execution_count": 275,
   "id": "23372496-05f8-4423-a6e9-a59eb4262b29",
   "metadata": {},
   "outputs": [
    {
     "name": "stdout",
     "output_type": "stream",
     "text": [
      "the faults in ['Wellington Hutt Valley: 1', 'Wellington Hutt Valley: 2', 'Wairarapa: 1'] have:\n",
      " 301 unique ruptures...\n",
      " 443 unique fault sections...\n",
      "\n"
     ]
    }
   ],
   "source": [
    "\n",
    "# get some stats\n",
    "section_count = len(rupture_sections_df['section'].unique())\n",
    "print(f'the faults in {TARGET_FAULTS} have:')\n",
    "print(f' {len(ruptures)} unique ruptures...')\n",
    "print(f' {section_count} unique fault sections...')\n",
    "print()"
   ]
  },
  {
   "cell_type": "markdown",
   "id": "a91b7a78-5a7e-4b1c-bb23-ef7453e30caa",
   "metadata": {},
   "source": [
    "### A) Calculate sub-section participation rate (solvis)"
   ]
  },
  {
   "cell_type": "code",
   "execution_count": 276,
   "id": "07fbf192-c04d-4cd9-8f33-5e847281fc90",
   "metadata": {
    "editable": true,
    "slideshow": {
     "slide_type": ""
    },
    "tags": []
   },
   "outputs": [],
   "source": [
    "#compare old-new\n",
    "assert set(subsections) == set(rupture_sections_df['section'].unique())\n",
    "\n",
    "section_rates = fss.rs_with_rupture_rates[[\"Rupture Index\", \"section\", \"rate_weighted_mean\"]]\\\n",
    "    .groupby(\"section\").agg('sum')[\"rate_weighted_mean\"]\n",
    "mro_sections_rates = section_rates[section_rates.index.isin(subsections)]"
   ]
  },
  {
   "cell_type": "markdown",
   "id": "b2f8f225-9763-4f54-9386-6e33bd03937d",
   "metadata": {},
   "source": [
    "### B) Calculate sub-section participation rate (solvis-graphql-api)"
   ]
  },
  {
   "cell_type": "code",
   "execution_count": 277,
   "id": "a9e5c994-99f3-4ece-ae69-0195cdae2527",
   "metadata": {},
   "outputs": [
    {
     "data": {
      "text/html": [
       "<div>\n",
       "<style scoped>\n",
       "    .dataframe tbody tr th:only-of-type {\n",
       "        vertical-align: middle;\n",
       "    }\n",
       "\n",
       "    .dataframe tbody tr th {\n",
       "        vertical-align: top;\n",
       "    }\n",
       "\n",
       "    .dataframe thead th {\n",
       "        text-align: right;\n",
       "    }\n",
       "</style>\n",
       "<table border=\"1\" class=\"dataframe\">\n",
       "  <thead>\n",
       "    <tr style=\"text-align: right;\">\n",
       "      <th></th>\n",
       "      <th>rate_weighted_mean.max</th>\n",
       "      <th>rate_weighted_mean.mean</th>\n",
       "      <th>rate_weighted_mean.min</th>\n",
       "      <th>rate_weighted_mean.sum</th>\n",
       "      <th>section_participation_rate</th>\n",
       "    </tr>\n",
       "    <tr>\n",
       "      <th>section</th>\n",
       "      <th></th>\n",
       "      <th></th>\n",
       "      <th></th>\n",
       "      <th></th>\n",
       "      <th></th>\n",
       "    </tr>\n",
       "  </thead>\n",
       "  <tbody>\n",
       "    <tr>\n",
       "      <th>1426.0</th>\n",
       "      <td>0.000041</td>\n",
       "      <td>0.000005</td>\n",
       "      <td>1.385813e-15</td>\n",
       "      <td>0.000172</td>\n",
       "      <td>0.000172</td>\n",
       "    </tr>\n",
       "  </tbody>\n",
       "</table>\n",
       "</div>"
      ],
      "text/plain": [
       "         rate_weighted_mean.max  rate_weighted_mean.mean  \\\n",
       "section                                                    \n",
       "1426.0                 0.000041                 0.000005   \n",
       "\n",
       "         rate_weighted_mean.min  rate_weighted_mean.sum  \\\n",
       "section                                                   \n",
       "1426.0             1.385813e-15                0.000172   \n",
       "\n",
       "         section_participation_rate  \n",
       "section                              \n",
       "1426.0                     0.000172  "
      ]
     },
     "execution_count": 277,
     "metadata": {},
     "output_type": "execute_result"
    }
   ],
   "source": [
    "# the following comes from SGI.cached.fault_section_aggregates_gdf\n",
    "fsr = fss.fault_sections_with_rupture_rates\n",
    "fsr = fsr[fsr.section.isin(subsections)]\n",
    "section_aggregates = fsr.pivot_table(\n",
    "        index=['section'],\n",
    "        aggfunc=dict(rate_weighted_mean=['sum', 'min', 'max', 'mean'], Magnitude=['count', 'min', 'max', 'mean']),\n",
    "    )\n",
    "\n",
    "section_aggregates.columns = [\".\".join(a) for a in section_aggregates.columns.to_flat_index()]\n",
    "\n",
    "# this is for illustration - showing the  resulting rates fir FSS are the same\n",
    "section_aggregates['section_participation_rate'] = mro_sections_rates\n",
    "\n",
    "### here'we can see that we have the participation rate two ways\n",
    "sa_df = section_aggregates.drop(columns=['Magnitude.max', 'Magnitude.min', 'Magnitude.count', 'Magnitude.mean'])\n",
    "sa_df[sa_df.index==1426]"
   ]
  },
  {
   "cell_type": "code",
   "execution_count": 262,
   "id": "6693e2de-7e74-4c57-b79a-4e6200d339b7",
   "metadata": {},
   "outputs": [],
   "source": [
    "# join the fault sufaces (with geometry) and aggregated rates \n",
    "section_aggregates_detail = section_aggregates.join(fss.fault_surfaces(), 'section', how='inner', rsuffix='_R')\n",
    "# section_aggregates_detail.head()"
   ]
  },
  {
   "cell_type": "markdown",
   "id": "e8124826-9672-480c-b5b8-11fa6b7d03dc",
   "metadata": {},
   "source": [
    "### Style the geojson using a color scale"
   ]
  },
  {
   "cell_type": "code",
   "execution_count": 263,
   "id": "0e7c5b93-bdd2-45ac-9860-01e5f40ae2c3",
   "metadata": {},
   "outputs": [],
   "source": [
    "# code from SGI.composite_solution.composite_rupture_sections.py \n",
    "fault_sections_gdf = gpd.GeoDataFrame(section_aggregates_detail)\n",
    "color_values = get_colour_values(\n",
    "                color_scale=\"inferno\",\n",
    "                color_scale_vmax=fault_sections_gdf['rate_weighted_mean.sum'].max(),\n",
    "                color_scale_vmin=fault_sections_gdf['rate_weighted_mean.sum'].min(),\n",
    "                color_scale_normalise= ColourScaleNormaliseEnum.LOG.value,\n",
    "                values=tuple(fault_sections_gdf['rate_weighted_mean.sum'].tolist()),\n",
    "            )\n",
    "# print(color_values)\n",
    "data = json.loads(fault_sections_gdf.to_json())\n",
    "\n",
    "# merge the styling with the geojson\n",
    "for feature, color in zip(data[\"features\"], color_values):\n",
    "    feature[\"properties\"][\"style\"] = {\n",
    "        \"color\": \"black\",\n",
    "        \"weight\": 1,\n",
    "        \"fillColor\": color,\n",
    "        \"fillOpacity\": 1,\n",
    "    }"
   ]
  },
  {
   "cell_type": "markdown",
   "id": "2bab4d09-6b25-4d64-9fc2-50322ccdbc43",
   "metadata": {},
   "source": [
    "### Display with ipyleaflet"
   ]
  },
  {
   "cell_type": "code",
   "execution_count": 264,
   "id": "349718cc-3bde-4e69-b56f-da3e8aafb7b9",
   "metadata": {},
   "outputs": [
    {
     "data": {
      "application/vnd.jupyter.widget-view+json": {
       "model_id": "07be820bdf434d579a54a998d7c0330b",
       "version_major": 2,
       "version_minor": 0
      },
      "text/plain": [
       "Map(center=[-41.5, 175], controls=(ZoomControl(options=['position', 'zoom_in_text', 'zoom_in_title', 'zoom_out…"
      ]
     },
     "execution_count": 264,
     "metadata": {},
     "output_type": "execute_result"
    }
   ],
   "source": [
    "center = [-41.5, 175]\n",
    "zoom = 7\n",
    "map = Map(center=center, zoom=zoom)\n",
    "g = GeoJSON(data=data)\n",
    "map.add(g)\n",
    "map"
   ]
  },
  {
   "cell_type": "code",
   "execution_count": 257,
   "id": "bfaa7ea8-facf-4a49-b91f-721609ae4175",
   "metadata": {},
   "outputs": [],
   "source": [
    "# section_aggregates_detail[['section_participation_rate']]"
   ]
  }
 ],
 "metadata": {
  "kernelspec": {
   "display_name": "Python 3 (ipykernel)",
   "language": "python",
   "name": "python3"
  },
  "language_info": {
   "codemirror_mode": {
    "name": "ipython",
    "version": 3
   },
   "file_extension": ".py",
   "mimetype": "text/x-python",
   "name": "python",
   "nbconvert_exporter": "python",
   "pygments_lexer": "ipython3",
   "version": "3.11.6"
  }
 },
 "nbformat": 4,
 "nbformat_minor": 5
}
