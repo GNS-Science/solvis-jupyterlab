{
 "cells": [
  {
   "cell_type": "markdown",
   "id": "82c2af9b-c9fe-48db-8c91-0387125ce672",
   "metadata": {
    "editable": true,
    "slideshow": {
     "slide_type": ""
    },
    "tags": []
   },
   "source": [
    "# Sub-section participation on a single Inversion Solution => NEW"
   ]
  },
  {
   "cell_type": "markdown",
   "id": "5bf90f20-a41b-4ae2-a137-37af986903c0",
   "metadata": {},
   "source": [
    "  "
   ]
  },
  {
   "cell_type": "code",
   "execution_count": 11,
   "id": "8ed96b93-fadf-42a5-a8df-7b0afc563b50",
   "metadata": {},
   "outputs": [],
   "source": [
    "#import pathlib\n",
    "import json\n",
    "import nzshm_model as nm\n",
    "import geopandas as gpd\n",
    "import solvis\n",
    "\n",
    "from solvis.fault_system_solution_helper import FaultSystemSolutionHelper\n",
    "from solvis_graphql_api.color_scale import ColourScaleNormaliseEnum, get_colour_values\n",
    "from ipyleaflet import Map, GeoJSON"
   ]
  },
  {
   "cell_type": "code",
   "execution_count": null,
   "id": "d6eec080-f7b9-441f-a3bc-50991f675b7b",
   "metadata": {},
   "outputs": [],
   "source": []
  },
  {
   "cell_type": "code",
   "execution_count": 12,
   "id": "7ae29bed-3458-428f-875d-551c848387a7",
   "metadata": {},
   "outputs": [],
   "source": [
    "# load the composite_solution and shoose the Cruslal FaultSystemSolution\n",
    "solution = solvis.InversionSolution.from_archive(\"NZSHM22_ScaledInversionSolution-QXV0b21hdGlvblRhc2s6MTEzMTM0.zip\")  # Crustal \n",
    "helper = FaultSystemSolutionHelper(solution)"
   ]
  },
  {
   "cell_type": "code",
   "execution_count": null,
   "id": "b632cea2-3d67-4c54-8a2f-e1f8713e0f0c",
   "metadata": {},
   "outputs": [],
   "source": []
  },
  {
   "cell_type": "markdown",
   "id": "e0712d4e-ee44-4d25-9fbc-c589ffeb58b7",
   "metadata": {},
   "source": [
    "## Choose some faults and get their unique rupture IDs"
   ]
  },
  {
   "cell_type": "code",
   "execution_count": 13,
   "id": "848518de-d6e8-4732-9943-0800cb97cbd4",
   "metadata": {},
   "outputs": [],
   "source": [
    "# get ruptures passing through a named parent fault\n",
    "TARGET_FAULTS = ['Awatere: Southwest', 'Pokeno'] #, 'Pokeno', 'BooBoo', \"Masterton\n",
    "ruptures = helper.ruptures_for_parent_fault_names(TARGET_FAULTS) # \n",
    "\n",
    "# get rupture fault sections (rs) with rates for those ruptures\n",
    "df0 = solution.rs_with_rupture_rates\n",
    "rupture_sections_df = df0[df0[\"Rupture Index\"].isin(ruptures)]"
   ]
  },
  {
   "cell_type": "code",
   "execution_count": 14,
   "id": "e81622dd-fe97-4dab-8e76-a6b617c10db4",
   "metadata": {
    "editable": true,
    "slideshow": {
     "slide_type": ""
    },
    "tags": []
   },
   "outputs": [
    {
     "name": "stdout",
     "output_type": "stream",
     "text": [
      "the faults in ['Awatere: Southwest', 'Pokeno'] have:\n",
      " 8 unique ruptures...\n",
      " 123 unique fault_sections...\n",
      "\n"
     ]
    }
   ],
   "source": [
    "section_count = len(rupture_sections_df['section'].unique())\n",
    "print(f'the faults in {TARGET_FAULTS} have:')\n",
    "print(f' {len(ruptures)} unique ruptures...')\n",
    "print(f' {section_count} unique fault_sections...')\n",
    "print()\n",
    "section_ids = list(rupture_sections_df[\"Rupture Index\"].unique())"
   ]
  },
  {
   "cell_type": "markdown",
   "id": "a91b7a78-5a7e-4b1c-bb23-ef7453e30caa",
   "metadata": {},
   "source": [
    "### A) Calculate sub-section participation rate (solvis)"
   ]
  },
  {
   "cell_type": "code",
   "execution_count": 23,
   "id": "07fbf192-c04d-4cd9-8f33-5e847281fc90",
   "metadata": {
    "editable": true,
    "slideshow": {
     "slide_type": ""
    },
    "tags": []
   },
   "outputs": [
    {
     "data": {
      "text/plain": [
       "section\n",
       "3.0       0.000049\n",
       "4.0       0.000049\n",
       "19.0      0.001365\n",
       "20.0      0.001365\n",
       "21.0      0.001365\n",
       "            ...   \n",
       "2106.0    0.000485\n",
       "2107.0    0.000485\n",
       "2113.0    0.000302\n",
       "2114.0    0.000302\n",
       "2115.0    0.000302\n",
       "Name: Annual Rate, Length: 123, dtype: float32"
      ]
     },
     "execution_count": 23,
     "metadata": {},
     "output_type": "execute_result"
    }
   ],
   "source": [
    "# let's get the participation rate for each subsection in the rupture\n",
    "subsections = [float(n) for n in helper.subsections_for_ruptures(section_ids)]\n",
    "rate_column = \"Annual Rate\"\n",
    "section_rates = solution.rs_with_rupture_rates[[\"Rupture Index\", \"section\", rate_column]].groupby(\"section\").agg('sum')[rate_column]\n",
    "mro_sections_rates = section_rates[section_rates.index.isin(subsections)]\n",
    "mro_sections_rates"
   ]
  },
  {
   "cell_type": "markdown",
   "id": "b2f8f225-9763-4f54-9386-6e33bd03937d",
   "metadata": {},
   "source": [
    "### B) Calculate sub-section participation rate (solvis-graphql-api)"
   ]
  },
  {
   "cell_type": "code",
   "execution_count": 16,
   "id": "a9e5c994-99f3-4ece-ae69-0195cdae2527",
   "metadata": {},
   "outputs": [
    {
     "data": {
      "text/html": [
       "<div>\n",
       "<style scoped>\n",
       "    .dataframe tbody tr th:only-of-type {\n",
       "        vertical-align: middle;\n",
       "    }\n",
       "\n",
       "    .dataframe tbody tr th {\n",
       "        vertical-align: top;\n",
       "    }\n",
       "\n",
       "    .dataframe thead th {\n",
       "        text-align: right;\n",
       "    }\n",
       "</style>\n",
       "<table border=\"1\" class=\"dataframe\">\n",
       "  <thead>\n",
       "    <tr style=\"text-align: right;\">\n",
       "      <th></th>\n",
       "      <th>annual_rate.max</th>\n",
       "      <th>annual_rate.mean</th>\n",
       "      <th>annual_rate.min</th>\n",
       "      <th>annual_rate.sum</th>\n",
       "      <th>section_participation_rate</th>\n",
       "    </tr>\n",
       "    <tr>\n",
       "      <th>section</th>\n",
       "      <th></th>\n",
       "      <th></th>\n",
       "      <th></th>\n",
       "      <th></th>\n",
       "      <th></th>\n",
       "    </tr>\n",
       "  </thead>\n",
       "  <tbody>\n",
       "    <tr>\n",
       "      <th>3.0</th>\n",
       "      <td>0.000049</td>\n",
       "      <td>9.748369e-06</td>\n",
       "      <td>0.0</td>\n",
       "      <td>0.000049</td>\n",
       "      <td>0.000049</td>\n",
       "    </tr>\n",
       "    <tr>\n",
       "      <th>4.0</th>\n",
       "      <td>0.000049</td>\n",
       "      <td>9.748369e-06</td>\n",
       "      <td>0.0</td>\n",
       "      <td>0.000049</td>\n",
       "      <td>0.000049</td>\n",
       "    </tr>\n",
       "    <tr>\n",
       "      <th>19.0</th>\n",
       "      <td>0.000110</td>\n",
       "      <td>1.228274e-08</td>\n",
       "      <td>0.0</td>\n",
       "      <td>0.001365</td>\n",
       "      <td>0.001365</td>\n",
       "    </tr>\n",
       "    <tr>\n",
       "      <th>20.0</th>\n",
       "      <td>0.000110</td>\n",
       "      <td>1.207001e-08</td>\n",
       "      <td>0.0</td>\n",
       "      <td>0.001365</td>\n",
       "      <td>0.001365</td>\n",
       "    </tr>\n",
       "    <tr>\n",
       "      <th>21.0</th>\n",
       "      <td>0.000110</td>\n",
       "      <td>1.209537e-08</td>\n",
       "      <td>0.0</td>\n",
       "      <td>0.001365</td>\n",
       "      <td>0.001365</td>\n",
       "    </tr>\n",
       "  </tbody>\n",
       "</table>\n",
       "</div>"
      ],
      "text/plain": [
       "         annual_rate.max  annual_rate.mean  annual_rate.min  annual_rate.sum  \\\n",
       "section                                                                        \n",
       "3.0             0.000049      9.748369e-06              0.0         0.000049   \n",
       "4.0             0.000049      9.748369e-06              0.0         0.000049   \n",
       "19.0            0.000110      1.228274e-08              0.0         0.001365   \n",
       "20.0            0.000110      1.207001e-08              0.0         0.001365   \n",
       "21.0            0.000110      1.209537e-08              0.0         0.001365   \n",
       "\n",
       "         section_participation_rate  \n",
       "section                              \n",
       "3.0                        0.000049  \n",
       "4.0                        0.000049  \n",
       "19.0                       0.001365  \n",
       "20.0                       0.001365  \n",
       "21.0                       0.001365  "
      ]
     },
     "execution_count": 16,
     "metadata": {},
     "output_type": "execute_result"
    }
   ],
   "source": [
    "# the following comes from SGI.cached.fault_section_aggregates_gdf, but is doctored slightly for IS column naming\n",
    "fsr = solution.fault_sections_with_rupture_rates\n",
    "fsr = fsr[fsr.section.isin(subsections)]\n",
    "fsr = fsr.rename(columns={rate_column: \"annual_rate\"}) # the doctoring\n",
    "section_aggregates = fsr.pivot_table(\n",
    "        index=['section'],\n",
    "        aggfunc=dict(annual_rate=['sum', 'min', 'max', 'mean'], Magnitude=['count', 'min', 'max', 'mean']),\n",
    "    )\n",
    "section_aggregates.columns = [\".\".join(a) for a in section_aggregates.columns.to_flat_index()]\n",
    "\n",
    "# this is for illustration - showing the resulting rates are the same\n",
    "section_aggregates['section_participation_rate'] = mro_sections_rates\n",
    "\n",
    "### so we have the participation rate two ways\n",
    "section_aggregates.drop(columns=['Magnitude.max', 'Magnitude.min', 'Magnitude.count', 'Magnitude.mean']).head()"
   ]
  },
  {
   "cell_type": "code",
   "execution_count": 17,
   "id": "6693e2de-7e74-4c57-b79a-4e6200d339b7",
   "metadata": {},
   "outputs": [],
   "source": [
    "# join the fault sufaces (with geometry) and aggregated rates \n",
    "section_aggregates_detail = section_aggregates.join(solution.fault_surfaces(), 'section', how='inner', rsuffix='_R')\n",
    "# section_aggregates_detail.head()"
   ]
  },
  {
   "cell_type": "markdown",
   "id": "e8124826-9672-480c-b5b8-11fa6b7d03dc",
   "metadata": {},
   "source": [
    "### Style the geojson using a color scale"
   ]
  },
  {
   "cell_type": "code",
   "execution_count": 18,
   "id": "0e7c5b93-bdd2-45ac-9860-01e5f40ae2c3",
   "metadata": {},
   "outputs": [],
   "source": [
    "# code from SGI.composite_solution.composite_rupture_sections.py \n",
    "fault_sections_gdf = gpd.GeoDataFrame(section_aggregates_detail)\n",
    "color_values = get_colour_values(\n",
    "                color_scale=\"inferno\",\n",
    "                color_scale_vmax=fault_sections_gdf['annual_rate.sum'].max(),\n",
    "                color_scale_vmin=fault_sections_gdf['annual_rate.sum'].min(),\n",
    "                color_scale_normalise= ColourScaleNormaliseEnum.LOG.value,\n",
    "                values=tuple(fault_sections_gdf['annual_rate.sum'].tolist()),\n",
    "            )\n",
    "# print(color_values)\n",
    "data = json.loads(fault_sections_gdf.to_json())\n",
    "\n",
    "# merge the styling with the geojson\n",
    "for feature, color in zip(data[\"features\"], color_values):\n",
    "    feature[\"properties\"][\"style\"] = {\n",
    "        \"color\": \"#000000\",\n",
    "        \"weight\": 1,\n",
    "        \"fillColor\": color,\n",
    "        \"fillOpacity\": 1,\n",
    "    }"
   ]
  },
  {
   "cell_type": "markdown",
   "id": "2bab4d09-6b25-4d64-9fc2-50322ccdbc43",
   "metadata": {},
   "source": [
    "### Display with ipyleaflet"
   ]
  },
  {
   "cell_type": "code",
   "execution_count": 19,
   "id": "349718cc-3bde-4e69-b56f-da3e8aafb7b9",
   "metadata": {},
   "outputs": [
    {
     "data": {
      "application/vnd.jupyter.widget-view+json": {
       "model_id": "808fc89a4ccb448ba0c4b974422294b3",
       "version_major": 2,
       "version_minor": 0
      },
      "text/plain": [
       "Map(center=[-41.5, 175], controls=(ZoomControl(options=['position', 'zoom_in_text', 'zoom_in_title', 'zoom_out…"
      ]
     },
     "execution_count": 19,
     "metadata": {},
     "output_type": "execute_result"
    }
   ],
   "source": [
    "center = [-41.5, 175]\n",
    "zoom = 7\n",
    "map = Map(center=center, zoom=zoom)\n",
    "g = GeoJSON(data=data)\n",
    "map.add(g)\n",
    "map"
   ]
  },
  {
   "cell_type": "code",
   "execution_count": 20,
   "id": "bfaa7ea8-facf-4a49-b91f-721609ae4175",
   "metadata": {},
   "outputs": [],
   "source": [
    "# section_aggregates_detail[['section_participation_rate']]"
   ]
  }
 ],
 "metadata": {
  "kernelspec": {
   "display_name": "Python 3 (ipykernel)",
   "language": "python",
   "name": "python3"
  },
  "language_info": {
   "codemirror_mode": {
    "name": "ipython",
    "version": 3
   },
   "file_extension": ".py",
   "mimetype": "text/x-python",
   "name": "python",
   "nbconvert_exporter": "python",
   "pygments_lexer": "ipython3",
   "version": "3.11.6"
  }
 },
 "nbformat": 4,
 "nbformat_minor": 5
}
